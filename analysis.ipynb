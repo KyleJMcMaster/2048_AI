{
 "cells": [
  {
   "cell_type": "markdown",
   "metadata": {},
   "source": [
    "## Set up trial"
   ]
  },
  {
   "cell_type": "code",
   "execution_count": 19,
   "metadata": {},
   "outputs": [],
   "source": [
    "from Reporter import LightConcurrentReporter\n",
    "from MarkovDPAI import *\n",
    "import numpy as np\n",
    "import pandas as pd\n",
    "\n",
    "def perform_trial(parameters):\n",
    "    path_penalty = parameters.get('path_penalty')\n",
    "    loss_penalty = parameters.get('loss_penalty')\n",
    "    score_factor = parameters.get('score_factor')\n",
    "\n",
    "    ai_input=ExpectiMax7(depth = 5, path_pen=path_penalty, loss_penalty=loss_penalty, score_factor=score_factor)\n",
    "    r = LightConcurrentReporter(ai_input, 50)\n",
    "    report = pd.DataFrame(r.generate_report(), columns=['score','max_tile'])\n",
    "    print(np.mean(report['score']), len(report[report['max_tile']>=4096])/50.0)\n",
    "    return np.mean(report['score'])\n",
    "   # return len(report[report['max_tile']>=4096])/50.0"
   ]
  },
  {
   "cell_type": "markdown",
   "metadata": {},
   "source": [
    "### Begin optimization"
   ]
  },
  {
   "cell_type": "code",
   "execution_count": 20,
   "metadata": {},
   "outputs": [
    {
     "name": "stderr",
     "output_type": "stream",
     "text": [
      "[INFO 10-25 20:07:32] ax.service.ax_client: Starting optimization with verbose logging. To disable logging, set the `verbose_logging` argument to `False`. Note that float values in the logs are rounded to 6 decimal points.\n",
      "[INFO 10-25 20:07:32] ax.service.utils.instantiation: Inferred value type of ParameterType.FLOAT for parameter path_penalty. If that is not the expected value type, you can explicitly specify 'value_type' ('int', 'float', 'bool' or 'str') in parameter dict.\n",
      "[INFO 10-25 20:07:32] ax.service.utils.instantiation: Inferred value type of ParameterType.FLOAT for parameter loss_penalty. If that is not the expected value type, you can explicitly specify 'value_type' ('int', 'float', 'bool' or 'str') in parameter dict.\n",
      "[INFO 10-25 20:07:32] ax.service.utils.instantiation: Inferred value type of ParameterType.FLOAT for parameter score_factor. If that is not the expected value type, you can explicitly specify 'value_type' ('int', 'float', 'bool' or 'str') in parameter dict.\n",
      "[INFO 10-25 20:07:32] ax.service.utils.instantiation: Created search space: SearchSpace(parameters=[RangeParameter(name='path_penalty', parameter_type=FLOAT, range=[0.0, 10.0]), RangeParameter(name='loss_penalty', parameter_type=FLOAT, range=[0.0, 10.0]), RangeParameter(name='score_factor', parameter_type=FLOAT, range=[0.0, 5.0])], parameter_constraints=[]).\n",
      "/home/kylemcmaster/.local/lib/python3.10/site-packages/ax/modelbridge/cross_validation.py:463: UserWarning: Encountered exception in computing model fit quality: RandomModelBridge does not support prediction.\n",
      "  warn(\"Encountered exception in computing model fit quality: \" + str(e))\n",
      "[INFO 10-25 20:07:32] ax.service.ax_client: Generated new trial 0 with parameters {'path_penalty': 3.077975, 'loss_penalty': 9.490362, 'score_factor': 0.176588} using model Sobol.\n",
      "[INFO 10-25 20:07:38] ax.service.ax_client: Completed trial 0 with data: {'objective': (3022.16, None)}.\n",
      "/home/kylemcmaster/.local/lib/python3.10/site-packages/ax/modelbridge/cross_validation.py:463: UserWarning: Encountered exception in computing model fit quality: RandomModelBridge does not support prediction.\n",
      "  warn(\"Encountered exception in computing model fit quality: \" + str(e))\n",
      "[INFO 10-25 20:07:38] ax.service.ax_client: Generated new trial 1 with parameters {'path_penalty': 8.152679, 'loss_penalty': 0.520621, 'score_factor': 4.929769} using model Sobol.\n"
     ]
    },
    {
     "name": "stdout",
     "output_type": "stream",
     "text": [
      "3022.16 0.0\n"
     ]
    },
    {
     "name": "stderr",
     "output_type": "stream",
     "text": [
      "[INFO 10-25 20:08:23] ax.service.ax_client: Completed trial 1 with data: {'objective': (45635.2, None)}.\n",
      "/home/kylemcmaster/.local/lib/python3.10/site-packages/ax/modelbridge/cross_validation.py:463: UserWarning: Encountered exception in computing model fit quality: RandomModelBridge does not support prediction.\n",
      "  warn(\"Encountered exception in computing model fit quality: \" + str(e))\n",
      "[INFO 10-25 20:08:23] ax.service.ax_client: Generated new trial 2 with parameters {'path_penalty': 6.818342, 'loss_penalty': 6.78875, 'score_factor': 2.227781} using model Sobol.\n"
     ]
    },
    {
     "name": "stdout",
     "output_type": "stream",
     "text": [
      "45635.2 0.5\n"
     ]
    },
    {
     "name": "stderr",
     "output_type": "stream",
     "text": [
      "[INFO 10-25 20:09:09] ax.service.ax_client: Completed trial 2 with data: {'objective': (48165.12, None)}.\n",
      "/home/kylemcmaster/.local/lib/python3.10/site-packages/ax/modelbridge/cross_validation.py:463: UserWarning: Encountered exception in computing model fit quality: RandomModelBridge does not support prediction.\n",
      "  warn(\"Encountered exception in computing model fit quality: \" + str(e))\n",
      "[INFO 10-25 20:09:09] ax.service.ax_client: Generated new trial 3 with parameters {'path_penalty': 1.911929, 'loss_penalty': 3.219792, 'score_factor': 2.644202} using model Sobol.\n"
     ]
    },
    {
     "name": "stdout",
     "output_type": "stream",
     "text": [
      "48165.12 0.54\n"
     ]
    },
    {
     "name": "stderr",
     "output_type": "stream",
     "text": [
      "[INFO 10-25 20:09:42] ax.service.ax_client: Completed trial 3 with data: {'objective': (25169.84, None)}.\n",
      "/home/kylemcmaster/.local/lib/python3.10/site-packages/ax/modelbridge/cross_validation.py:463: UserWarning: Encountered exception in computing model fit quality: RandomModelBridge does not support prediction.\n",
      "  warn(\"Encountered exception in computing model fit quality: \" + str(e))\n",
      "[INFO 10-25 20:09:42] ax.service.ax_client: Generated new trial 4 with parameters {'path_penalty': 0.258347, 'loss_penalty': 6.079765, 'score_factor': 4.2732} using model Sobol.\n"
     ]
    },
    {
     "name": "stdout",
     "output_type": "stream",
     "text": [
      "25169.84 0.06\n"
     ]
    },
    {
     "name": "stderr",
     "output_type": "stream",
     "text": [
      "[INFO 10-25 20:10:05] ax.service.ax_client: Completed trial 4 with data: {'objective': (18877.68, None)}.\n",
      "/home/kylemcmaster/.local/lib/python3.10/site-packages/ax/modelbridge/cross_validation.py:463: UserWarning: Encountered exception in computing model fit quality: RandomModelBridge does not support prediction.\n",
      "  warn(\"Encountered exception in computing model fit quality: \" + str(e))\n",
      "[INFO 10-25 20:10:05] ax.service.ax_client: Generated new trial 5 with parameters {'path_penalty': 5.97224, 'loss_penalty': 3.906803, 'score_factor': 0.930509} using model Sobol.\n"
     ]
    },
    {
     "name": "stdout",
     "output_type": "stream",
     "text": [
      "18877.68 0.0\n"
     ]
    },
    {
     "name": "stderr",
     "output_type": "stream",
     "text": [
      "[INFO 10-25 20:10:36] ax.service.ax_client: Completed trial 5 with data: {'objective': (31559.2, None)}.\n",
      "/home/kylemcmaster/.local/lib/python3.10/site-packages/ax/modelbridge/cross_validation.py:463: UserWarning: Encountered exception in computing model fit quality: RandomModelBridge does not support prediction.\n",
      "  warn(\"Encountered exception in computing model fit quality: \" + str(e))\n",
      "[INFO 10-25 20:10:36] ax.service.ax_client: Generated new trial 6 with parameters {'path_penalty': 9.017712, 'loss_penalty': 7.679835, 'score_factor': 3.160161} using model Sobol.\n"
     ]
    },
    {
     "name": "stdout",
     "output_type": "stream",
     "text": [
      "31559.2 0.22\n"
     ]
    },
    {
     "name": "stderr",
     "output_type": "stream",
     "text": [
      "[INFO 10-25 20:11:24] ax.service.ax_client: Completed trial 6 with data: {'objective': (44778.8, None)}.\n",
      "/home/kylemcmaster/.local/lib/python3.10/site-packages/ax/modelbridge/cross_validation.py:463: UserWarning: Encountered exception in computing model fit quality: RandomModelBridge does not support prediction.\n",
      "  warn(\"Encountered exception in computing model fit quality: \" + str(e))\n",
      "[INFO 10-25 20:11:24] ax.service.ax_client: Generated new trial 7 with parameters {'path_penalty': 4.712646, 'loss_penalty': 2.314057, 'score_factor': 1.652923} using model Sobol.\n"
     ]
    },
    {
     "name": "stdout",
     "output_type": "stream",
     "text": [
      "44778.8 0.38\n"
     ]
    },
    {
     "name": "stderr",
     "output_type": "stream",
     "text": [
      "[INFO 10-25 20:12:08] ax.service.ax_client: Completed trial 7 with data: {'objective': (44187.44, None)}.\n",
      "/home/kylemcmaster/.local/lib/python3.10/site-packages/ax/modelbridge/cross_validation.py:463: UserWarning: Encountered exception in computing model fit quality: RandomModelBridge does not support prediction.\n",
      "  warn(\"Encountered exception in computing model fit quality: \" + str(e))\n",
      "[INFO 10-25 20:12:08] ax.service.ax_client: Generated new trial 8 with parameters {'path_penalty': 3.775963, 'loss_penalty': 7.413659, 'score_factor': 3.559163} using model Sobol.\n"
     ]
    },
    {
     "name": "stdout",
     "output_type": "stream",
     "text": [
      "44187.44 0.38\n"
     ]
    },
    {
     "name": "stderr",
     "output_type": "stream",
     "text": [
      "[INFO 10-25 20:12:49] ax.service.ax_client: Completed trial 8 with data: {'objective': (37868.56, None)}.\n",
      "/home/kylemcmaster/.local/lib/python3.10/site-packages/ax/modelbridge/cross_validation.py:463: UserWarning: Encountered exception in computing model fit quality: RandomModelBridge does not support prediction.\n",
      "  warn(\"Encountered exception in computing model fit quality: \" + str(e))\n",
      "[INFO 10-25 20:12:49] ax.service.ax_client: Generated new trial 9 with parameters {'path_penalty': 9.954311, 'loss_penalty': 2.594882, 'score_factor': 1.315252} using model Sobol.\n"
     ]
    },
    {
     "name": "stdout",
     "output_type": "stream",
     "text": [
      "37868.56 0.34\n"
     ]
    },
    {
     "name": "stderr",
     "output_type": "stream",
     "text": [
      "[INFO 10-25 20:13:17] ax.service.ax_client: Completed trial 9 with data: {'objective': (26435.28, None)}.\n"
     ]
    },
    {
     "name": "stdout",
     "output_type": "stream",
     "text": [
      "26435.28 0.2\n"
     ]
    },
    {
     "name": "stderr",
     "output_type": "stream",
     "text": [
      "[INFO 10-25 20:13:18] ax.service.ax_client: Generated new trial 10 with parameters {'path_penalty': 6.402584, 'loss_penalty': 1.930587, 'score_factor': 2.994872} using model GPEI.\n",
      "[INFO 10-25 20:14:00] ax.service.ax_client: Completed trial 10 with data: {'objective': (40195.36, None)}.\n"
     ]
    },
    {
     "name": "stdout",
     "output_type": "stream",
     "text": [
      "40195.36 0.36\n"
     ]
    },
    {
     "name": "stderr",
     "output_type": "stream",
     "text": [
      "[INFO 10-25 20:14:00] ax.service.ax_client: Generated new trial 11 with parameters {'path_penalty': 6.509246, 'loss_penalty': 9.996936, 'score_factor': 2.966619} using model GPEI.\n",
      "[INFO 10-25 20:14:42] ax.service.ax_client: Completed trial 11 with data: {'objective': (41497.2, None)}.\n"
     ]
    },
    {
     "name": "stdout",
     "output_type": "stream",
     "text": [
      "41497.2 0.36\n"
     ]
    },
    {
     "name": "stderr",
     "output_type": "stream",
     "text": [
      "[INFO 10-25 20:14:43] ax.service.ax_client: Generated new trial 12 with parameters {'path_penalty': 7.849581, 'loss_penalty': 5.163642, 'score_factor': 4.430306} using model GPEI.\n",
      "[INFO 10-25 20:15:30] ax.service.ax_client: Completed trial 12 with data: {'objective': (49101.76, None)}.\n"
     ]
    },
    {
     "name": "stdout",
     "output_type": "stream",
     "text": [
      "49101.76 0.48\n"
     ]
    },
    {
     "name": "stderr",
     "output_type": "stream",
     "text": [
      "[INFO 10-25 20:15:30] ax.service.ax_client: Generated new trial 13 with parameters {'path_penalty': 10.0, 'loss_penalty': 10.0, 'score_factor': 4.224375} using model GPEI.\n",
      "[INFO 10-25 20:16:16] ax.service.ax_client: Completed trial 13 with data: {'objective': (45210.24, None)}.\n"
     ]
    },
    {
     "name": "stdout",
     "output_type": "stream",
     "text": [
      "45210.24 0.46\n"
     ]
    },
    {
     "name": "stderr",
     "output_type": "stream",
     "text": [
      "[INFO 10-25 20:16:17] ax.service.ax_client: Generated new trial 14 with parameters {'path_penalty': 6.068152, 'loss_penalty': 10.0, 'score_factor': 4.509449} using model GPEI.\n",
      "[INFO 10-25 20:17:02] ax.service.ax_client: Completed trial 14 with data: {'objective': (44786.8, None)}.\n"
     ]
    },
    {
     "name": "stdout",
     "output_type": "stream",
     "text": [
      "44786.8 0.42\n"
     ]
    },
    {
     "name": "stderr",
     "output_type": "stream",
     "text": [
      "[INFO 10-25 20:17:02] ax.service.ax_client: Generated new trial 15 with parameters {'path_penalty': 6.484677, 'loss_penalty': 10.0, 'score_factor': 1.86025} using model GPEI.\n",
      "[INFO 10-25 20:17:50] ax.service.ax_client: Completed trial 15 with data: {'objective': (51824.8, None)}.\n"
     ]
    },
    {
     "name": "stdout",
     "output_type": "stream",
     "text": [
      "51824.8 0.58\n"
     ]
    },
    {
     "name": "stderr",
     "output_type": "stream",
     "text": [
      "[INFO 10-25 20:17:50] ax.service.ax_client: Generated new trial 16 with parameters {'path_penalty': 7.821662, 'loss_penalty': 0.0, 'score_factor': 4.064132} using model GPEI.\n",
      "[INFO 10-25 20:18:33] ax.service.ax_client: Completed trial 16 with data: {'objective': (42043.84, None)}.\n"
     ]
    },
    {
     "name": "stdout",
     "output_type": "stream",
     "text": [
      "42043.84 0.42\n"
     ]
    },
    {
     "name": "stderr",
     "output_type": "stream",
     "text": [
      "[INFO 10-25 20:18:33] ax.service.ax_client: Generated new trial 17 with parameters {'path_penalty': 8.678009, 'loss_penalty': 10.0, 'score_factor': 4.938148} using model GPEI.\n",
      "[INFO 10-25 20:19:16] ax.service.ax_client: Completed trial 17 with data: {'objective': (41362.16, None)}.\n"
     ]
    },
    {
     "name": "stdout",
     "output_type": "stream",
     "text": [
      "41362.16 0.36\n"
     ]
    },
    {
     "name": "stderr",
     "output_type": "stream",
     "text": [
      "[INFO 10-25 20:19:17] ax.service.ax_client: Generated new trial 18 with parameters {'path_penalty': 5.486958, 'loss_penalty': 10.0, 'score_factor': 1.802329} using model GPEI.\n",
      "[INFO 10-25 20:20:00] ax.service.ax_client: Completed trial 18 with data: {'objective': (45729.2, None)}.\n"
     ]
    },
    {
     "name": "stdout",
     "output_type": "stream",
     "text": [
      "45729.2 0.48\n"
     ]
    },
    {
     "name": "stderr",
     "output_type": "stream",
     "text": [
      "[INFO 10-25 20:20:01] ax.service.ax_client: Generated new trial 19 with parameters {'path_penalty': 7.458204, 'loss_penalty': 10.0, 'score_factor': 1.89266} using model GPEI.\n",
      "[INFO 10-25 20:20:43] ax.service.ax_client: Completed trial 19 with data: {'objective': (45055.92, None)}.\n"
     ]
    },
    {
     "name": "stdout",
     "output_type": "stream",
     "text": [
      "45055.92 0.44\n"
     ]
    },
    {
     "name": "stderr",
     "output_type": "stream",
     "text": [
      "[INFO 10-25 20:20:43] ax.service.ax_client: Generated new trial 20 with parameters {'path_penalty': 6.252879, 'loss_penalty': 0.0, 'score_factor': 1.926475} using model GPEI.\n",
      "[INFO 10-25 20:21:29] ax.service.ax_client: Completed trial 20 with data: {'objective': (49200.16, None)}.\n"
     ]
    },
    {
     "name": "stdout",
     "output_type": "stream",
     "text": [
      "49200.16 0.5\n"
     ]
    },
    {
     "name": "stderr",
     "output_type": "stream",
     "text": [
      "[INFO 10-25 20:21:30] ax.service.ax_client: Generated new trial 21 with parameters {'path_penalty': 6.015425, 'loss_penalty': 10.0, 'score_factor': 2.067677} using model GPEI.\n",
      "[INFO 10-25 20:22:16] ax.service.ax_client: Completed trial 21 with data: {'objective': (47886.88, None)}.\n"
     ]
    },
    {
     "name": "stdout",
     "output_type": "stream",
     "text": [
      "47886.88 0.52\n"
     ]
    },
    {
     "name": "stderr",
     "output_type": "stream",
     "text": [
      "[INFO 10-25 20:22:17] ax.service.ax_client: Generated new trial 22 with parameters {'path_penalty': 5.930741, 'loss_penalty': 0.0, 'score_factor': 5.0} using model GPEI.\n",
      "[INFO 10-25 20:22:58] ax.service.ax_client: Completed trial 22 with data: {'objective': (36879.6, None)}.\n"
     ]
    },
    {
     "name": "stdout",
     "output_type": "stream",
     "text": [
      "36879.6 0.3\n"
     ]
    },
    {
     "name": "stderr",
     "output_type": "stream",
     "text": [
      "[INFO 10-25 20:22:59] ax.service.ax_client: Generated new trial 23 with parameters {'path_penalty': 7.968046, 'loss_penalty': 10.0, 'score_factor': 4.143103} using model GPEI.\n",
      "[INFO 10-25 20:23:43] ax.service.ax_client: Completed trial 23 with data: {'objective': (46360.0, None)}.\n"
     ]
    },
    {
     "name": "stdout",
     "output_type": "stream",
     "text": [
      "46360.0 0.46\n"
     ]
    },
    {
     "name": "stderr",
     "output_type": "stream",
     "text": [
      "[INFO 10-25 20:23:44] ax.service.ax_client: Generated new trial 24 with parameters {'path_penalty': 10.0, 'loss_penalty': 10.0, 'score_factor': 2.72723} using model GPEI.\n",
      "[INFO 10-25 20:24:30] ax.service.ax_client: Completed trial 24 with data: {'objective': (46329.92, None)}.\n"
     ]
    },
    {
     "name": "stdout",
     "output_type": "stream",
     "text": [
      "46329.92 0.42\n"
     ]
    },
    {
     "name": "stderr",
     "output_type": "stream",
     "text": [
      "[INFO 10-25 20:24:31] ax.service.ax_client: Generated new trial 25 with parameters {'path_penalty': 8.080884, 'loss_penalty': 0.0, 'score_factor': 2.36337} using model GPEI.\n",
      "[INFO 10-25 20:25:11] ax.service.ax_client: Completed trial 25 with data: {'objective': (42107.36, None)}.\n"
     ]
    },
    {
     "name": "stdout",
     "output_type": "stream",
     "text": [
      "42107.36 0.4\n"
     ]
    },
    {
     "name": "stderr",
     "output_type": "stream",
     "text": [
      "[INFO 10-25 20:25:12] ax.service.ax_client: Generated new trial 26 with parameters {'path_penalty': 10.0, 'loss_penalty': 10.0, 'score_factor': 3.413122} using model GPEI.\n",
      "[INFO 10-25 20:25:55] ax.service.ax_client: Completed trial 26 with data: {'objective': (45032.8, None)}.\n"
     ]
    },
    {
     "name": "stdout",
     "output_type": "stream",
     "text": [
      "45032.8 0.42\n"
     ]
    },
    {
     "name": "stderr",
     "output_type": "stream",
     "text": [
      "[INFO 10-25 20:25:56] ax.service.ax_client: Generated new trial 27 with parameters {'path_penalty': 6.108676, 'loss_penalty': 4.366415, 'score_factor': 1.950621} using model GPEI.\n",
      "[INFO 10-25 20:26:39] ax.service.ax_client: Completed trial 27 with data: {'objective': (43968.16, None)}.\n"
     ]
    },
    {
     "name": "stdout",
     "output_type": "stream",
     "text": [
      "43968.16 0.44\n"
     ]
    },
    {
     "name": "stderr",
     "output_type": "stream",
     "text": [
      "[INFO 10-25 20:26:39] ax.service.ax_client: Generated new trial 28 with parameters {'path_penalty': 10.0, 'loss_penalty': 0.0, 'score_factor': 4.588331} using model GPEI.\n",
      "[INFO 10-25 20:27:20] ax.service.ax_client: Completed trial 28 with data: {'objective': (40236.16, None)}.\n"
     ]
    },
    {
     "name": "stdout",
     "output_type": "stream",
     "text": [
      "40236.16 0.34\n"
     ]
    },
    {
     "name": "stderr",
     "output_type": "stream",
     "text": [
      "[INFO 10-25 20:27:21] ax.service.ax_client: Generated new trial 29 with parameters {'path_penalty': 7.621527, 'loss_penalty': 10.0, 'score_factor': 4.436163} using model GPEI.\n",
      "[INFO 10-25 20:28:04] ax.service.ax_client: Completed trial 29 with data: {'objective': (42850.32, None)}.\n"
     ]
    },
    {
     "name": "stdout",
     "output_type": "stream",
     "text": [
      "42850.32 0.38\n"
     ]
    },
    {
     "name": "stderr",
     "output_type": "stream",
     "text": [
      "[INFO 10-25 20:28:05] ax.service.ax_client: Generated new trial 30 with parameters {'path_penalty': 6.76964, 'loss_penalty': 10.0, 'score_factor': 2.063475} using model GPEI.\n",
      "[INFO 10-25 20:28:53] ax.service.ax_client: Completed trial 30 with data: {'objective': (51180.64, None)}.\n"
     ]
    },
    {
     "name": "stdout",
     "output_type": "stream",
     "text": [
      "51180.64 0.48\n"
     ]
    },
    {
     "name": "stderr",
     "output_type": "stream",
     "text": [
      "[INFO 10-25 20:28:54] ax.service.ax_client: Generated new trial 31 with parameters {'path_penalty': 7.48918, 'loss_penalty': 10.0, 'score_factor': 2.272131} using model GPEI.\n",
      "[INFO 10-25 20:29:37] ax.service.ax_client: Completed trial 31 with data: {'objective': (45198.56, None)}.\n"
     ]
    },
    {
     "name": "stdout",
     "output_type": "stream",
     "text": [
      "45198.56 0.46\n"
     ]
    },
    {
     "name": "stderr",
     "output_type": "stream",
     "text": [
      "[INFO 10-25 20:29:38] ax.service.ax_client: Generated new trial 32 with parameters {'path_penalty': 4.875004, 'loss_penalty': 0.0, 'score_factor': 2.185379} using model GPEI.\n",
      "[INFO 10-25 20:30:22] ax.service.ax_client: Completed trial 32 with data: {'objective': (43127.6, None)}.\n"
     ]
    },
    {
     "name": "stdout",
     "output_type": "stream",
     "text": [
      "43127.6 0.38\n"
     ]
    },
    {
     "name": "stderr",
     "output_type": "stream",
     "text": [
      "[INFO 10-25 20:30:23] ax.service.ax_client: Generated new trial 33 with parameters {'path_penalty': 6.261998, 'loss_penalty': 10.0, 'score_factor': 1.975315} using model GPEI.\n",
      "[INFO 10-25 20:31:05] ax.service.ax_client: Completed trial 33 with data: {'objective': (43565.36, None)}.\n"
     ]
    },
    {
     "name": "stdout",
     "output_type": "stream",
     "text": [
      "43565.36 0.44\n"
     ]
    },
    {
     "name": "stderr",
     "output_type": "stream",
     "text": [
      "[INFO 10-25 20:31:06] ax.service.ax_client: Generated new trial 34 with parameters {'path_penalty': 6.451708, 'loss_penalty': 0.0, 'score_factor': 1.799515} using model GPEI.\n",
      "[INFO 10-25 20:31:52] ax.service.ax_client: Completed trial 34 with data: {'objective': (46879.84, None)}.\n"
     ]
    },
    {
     "name": "stdout",
     "output_type": "stream",
     "text": [
      "46879.84 0.46\n"
     ]
    },
    {
     "name": "stderr",
     "output_type": "stream",
     "text": [
      "[INFO 10-25 20:31:52] ax.service.ax_client: Generated new trial 35 with parameters {'path_penalty': 6.543678, 'loss_penalty': 10.0, 'score_factor': 3.971613} using model GPEI.\n",
      "[INFO 10-25 20:32:33] ax.service.ax_client: Completed trial 35 with data: {'objective': (41052.48, None)}.\n"
     ]
    },
    {
     "name": "stdout",
     "output_type": "stream",
     "text": [
      "41052.48 0.38\n"
     ]
    },
    {
     "name": "stderr",
     "output_type": "stream",
     "text": [
      "[INFO 10-25 20:32:34] ax.service.ax_client: Generated new trial 36 with parameters {'path_penalty': 10.0, 'loss_penalty': 0.0, 'score_factor': 3.471023} using model GPEI.\n",
      "[INFO 10-25 20:33:22] ax.service.ax_client: Completed trial 36 with data: {'objective': (51864.72, None)}.\n"
     ]
    },
    {
     "name": "stdout",
     "output_type": "stream",
     "text": [
      "51864.72 0.5\n"
     ]
    },
    {
     "name": "stderr",
     "output_type": "stream",
     "text": [
      "[INFO 10-25 20:33:23] ax.service.ax_client: Generated new trial 37 with parameters {'path_penalty': 10.0, 'loss_penalty': 0.0, 'score_factor': 3.171364} using model GPEI.\n",
      "[INFO 10-25 20:34:03] ax.service.ax_client: Completed trial 37 with data: {'objective': (39393.84, None)}.\n"
     ]
    },
    {
     "name": "stdout",
     "output_type": "stream",
     "text": [
      "39393.84 0.36\n"
     ]
    },
    {
     "name": "stderr",
     "output_type": "stream",
     "text": [
      "[INFO 10-25 20:34:04] ax.service.ax_client: Generated new trial 38 with parameters {'path_penalty': 10.0, 'loss_penalty': 10.0, 'score_factor': 3.794982} using model GPEI.\n",
      "[INFO 10-25 20:34:54] ax.service.ax_client: Completed trial 38 with data: {'objective': (51160.16, None)}.\n"
     ]
    },
    {
     "name": "stdout",
     "output_type": "stream",
     "text": [
      "51160.16 0.54\n"
     ]
    },
    {
     "name": "stderr",
     "output_type": "stream",
     "text": [
      "[INFO 10-25 20:34:55] ax.service.ax_client: Generated new trial 39 with parameters {'path_penalty': 10.0, 'loss_penalty': 0.0, 'score_factor': 3.864062} using model GPEI.\n",
      "[INFO 10-25 20:35:40] ax.service.ax_client: Completed trial 39 with data: {'objective': (45161.04, None)}.\n"
     ]
    },
    {
     "name": "stdout",
     "output_type": "stream",
     "text": [
      "45161.04 0.44\n"
     ]
    },
    {
     "name": "stderr",
     "output_type": "stream",
     "text": [
      "[INFO 10-25 20:35:41] ax.service.ax_client: Generated new trial 40 with parameters {'path_penalty': 9.229013, 'loss_penalty': 10.0, 'score_factor': 3.795462} using model GPEI.\n",
      "[INFO 10-25 20:36:31] ax.service.ax_client: Completed trial 40 with data: {'objective': (54741.44, None)}.\n"
     ]
    },
    {
     "name": "stdout",
     "output_type": "stream",
     "text": [
      "54741.44 0.62\n"
     ]
    },
    {
     "name": "stderr",
     "output_type": "stream",
     "text": [
      "[INFO 10-25 20:36:32] ax.service.ax_client: Generated new trial 41 with parameters {'path_penalty': 9.216642, 'loss_penalty': 10.0, 'score_factor': 4.011181} using model GPEI.\n",
      "[INFO 10-25 20:37:17] ax.service.ax_client: Completed trial 41 with data: {'objective': (46551.52, None)}.\n"
     ]
    },
    {
     "name": "stdout",
     "output_type": "stream",
     "text": [
      "46551.52 0.42\n"
     ]
    },
    {
     "name": "stderr",
     "output_type": "stream",
     "text": [
      "[INFO 10-25 20:37:18] ax.service.ax_client: Generated new trial 42 with parameters {'path_penalty': 9.387226, 'loss_penalty': 10.0, 'score_factor': 3.564921} using model GPEI.\n",
      "[INFO 10-25 20:38:05] ax.service.ax_client: Completed trial 42 with data: {'objective': (49343.44, None)}.\n"
     ]
    },
    {
     "name": "stdout",
     "output_type": "stream",
     "text": [
      "49343.44 0.52\n"
     ]
    },
    {
     "name": "stderr",
     "output_type": "stream",
     "text": [
      "[INFO 10-25 20:38:06] ax.service.ax_client: Generated new trial 43 with parameters {'path_penalty': 10.0, 'loss_penalty': 10.0, 'score_factor': 3.615362} using model GPEI.\n",
      "[INFO 10-25 20:38:48] ax.service.ax_client: Completed trial 43 with data: {'objective': (42283.76, None)}.\n"
     ]
    },
    {
     "name": "stdout",
     "output_type": "stream",
     "text": [
      "42283.76 0.38\n"
     ]
    },
    {
     "name": "stderr",
     "output_type": "stream",
     "text": [
      "[INFO 10-25 20:38:49] ax.service.ax_client: Generated new trial 44 with parameters {'path_penalty': 8.975231, 'loss_penalty': 0.0, 'score_factor': 3.903743} using model GPEI.\n",
      "[INFO 10-25 20:39:39] ax.service.ax_client: Completed trial 44 with data: {'objective': (52416.4, None)}.\n"
     ]
    },
    {
     "name": "stdout",
     "output_type": "stream",
     "text": [
      "52416.4 0.54\n"
     ]
    },
    {
     "name": "stderr",
     "output_type": "stream",
     "text": [
      "[INFO 10-25 20:39:40] ax.service.ax_client: Generated new trial 45 with parameters {'path_penalty': 8.721047, 'loss_penalty': 10.0, 'score_factor': 3.502649} using model GPEI.\n",
      "[INFO 10-25 20:40:24] ax.service.ax_client: Completed trial 45 with data: {'objective': (43324.56, None)}.\n"
     ]
    },
    {
     "name": "stdout",
     "output_type": "stream",
     "text": [
      "43324.56 0.42\n"
     ]
    },
    {
     "name": "stderr",
     "output_type": "stream",
     "text": [
      "[INFO 10-25 20:40:25] ax.service.ax_client: Generated new trial 46 with parameters {'path_penalty': 8.915068, 'loss_penalty': 0.0, 'score_factor': 4.157901} using model GPEI.\n",
      "[INFO 10-25 20:41:09] ax.service.ax_client: Completed trial 46 with data: {'objective': (43612.48, None)}.\n"
     ]
    },
    {
     "name": "stdout",
     "output_type": "stream",
     "text": [
      "43612.48 0.4\n"
     ]
    },
    {
     "name": "stderr",
     "output_type": "stream",
     "text": [
      "[INFO 10-25 20:41:10] ax.service.ax_client: Generated new trial 47 with parameters {'path_penalty': 6.176931, 'loss_penalty': 0.0, 'score_factor': 2.075344} using model GPEI.\n",
      "[INFO 10-25 20:41:57] ax.service.ax_client: Completed trial 47 with data: {'objective': (49011.28, None)}.\n"
     ]
    },
    {
     "name": "stdout",
     "output_type": "stream",
     "text": [
      "49011.28 0.52\n"
     ]
    },
    {
     "name": "stderr",
     "output_type": "stream",
     "text": [
      "[INFO 10-25 20:41:58] ax.service.ax_client: Generated new trial 48 with parameters {'path_penalty': 8.778525, 'loss_penalty': 10.0, 'score_factor': 3.934912} using model GPEI.\n",
      "[INFO 10-25 20:42:46] ax.service.ax_client: Completed trial 48 with data: {'objective': (47479.36, None)}.\n"
     ]
    },
    {
     "name": "stdout",
     "output_type": "stream",
     "text": [
      "47479.36 0.46\n"
     ]
    },
    {
     "name": "stderr",
     "output_type": "stream",
     "text": [
      "[INFO 10-25 20:42:47] ax.service.ax_client: Generated new trial 49 with parameters {'path_penalty': 8.905077, 'loss_penalty': 0.0, 'score_factor': 3.666749} using model GPEI.\n",
      "[INFO 10-25 20:43:28] ax.service.ax_client: Completed trial 49 with data: {'objective': (39662.88, None)}.\n"
     ]
    },
    {
     "name": "stdout",
     "output_type": "stream",
     "text": [
      "39662.88 0.34\n"
     ]
    },
    {
     "name": "stderr",
     "output_type": "stream",
     "text": [
      "[INFO 10-25 20:43:30] ax.service.ax_client: Generated new trial 50 with parameters {'path_penalty': 5.844409, 'loss_penalty': 10.0, 'score_factor': 2.198756} using model GPEI.\n",
      "[INFO 10-25 20:44:16] ax.service.ax_client: Completed trial 50 with data: {'objective': (48433.52, None)}.\n"
     ]
    },
    {
     "name": "stdout",
     "output_type": "stream",
     "text": [
      "48433.52 0.44\n"
     ]
    },
    {
     "name": "stderr",
     "output_type": "stream",
     "text": [
      "[INFO 10-25 20:44:17] ax.service.ax_client: Generated new trial 51 with parameters {'path_penalty': 0.0, 'loss_penalty': 10.0, 'score_factor': 1.433904} using model GPEI.\n",
      "[INFO 10-25 20:44:41] ax.service.ax_client: Completed trial 51 with data: {'objective': (18830.96, None)}.\n"
     ]
    },
    {
     "name": "stdout",
     "output_type": "stream",
     "text": [
      "18830.96 0.0\n"
     ]
    },
    {
     "name": "stderr",
     "output_type": "stream",
     "text": [
      "[INFO 10-25 20:44:43] ax.service.ax_client: Generated new trial 52 with parameters {'path_penalty': 8.940618, 'loss_penalty': 10.0, 'score_factor': 4.261859} using model GPEI.\n",
      "[INFO 10-25 20:45:26] ax.service.ax_client: Completed trial 52 with data: {'objective': (43661.76, None)}.\n"
     ]
    },
    {
     "name": "stdout",
     "output_type": "stream",
     "text": [
      "43661.76 0.4\n"
     ]
    },
    {
     "name": "stderr",
     "output_type": "stream",
     "text": [
      "[INFO 10-25 20:45:27] ax.service.ax_client: Generated new trial 53 with parameters {'path_penalty': 6.816606, 'loss_penalty': 0.0, 'score_factor': 1.964308} using model GPEI.\n",
      "[INFO 10-25 20:46:11] ax.service.ax_client: Completed trial 53 with data: {'objective': (45402.16, None)}.\n"
     ]
    },
    {
     "name": "stdout",
     "output_type": "stream",
     "text": [
      "45402.16 0.46\n"
     ]
    },
    {
     "name": "stderr",
     "output_type": "stream",
     "text": [
      "[INFO 10-25 20:46:12] ax.service.ax_client: Generated new trial 54 with parameters {'path_penalty': 5.534593, 'loss_penalty': 0.0, 'score_factor': 2.023944} using model GPEI.\n",
      "[INFO 10-25 20:46:58] ax.service.ax_client: Completed trial 54 with data: {'objective': (45646.0, None)}.\n"
     ]
    },
    {
     "name": "stdout",
     "output_type": "stream",
     "text": [
      "45646.0 0.48\n"
     ]
    },
    {
     "name": "stderr",
     "output_type": "stream",
     "text": [
      "[INFO 10-25 20:46:59] ax.service.ax_client: Generated new trial 55 with parameters {'path_penalty': 6.41652, 'loss_penalty': 10.0, 'score_factor': 2.155039} using model GPEI.\n",
      "[INFO 10-25 20:47:41] ax.service.ax_client: Completed trial 55 with data: {'objective': (45191.76, None)}.\n"
     ]
    },
    {
     "name": "stdout",
     "output_type": "stream",
     "text": [
      "45191.76 0.42\n"
     ]
    },
    {
     "name": "stderr",
     "output_type": "stream",
     "text": [
      "[INFO 10-25 20:47:42] ax.service.ax_client: Generated new trial 56 with parameters {'path_penalty': 6.611828, 'loss_penalty': 0.0, 'score_factor': 2.225773} using model GPEI.\n",
      "[INFO 10-25 20:48:22] ax.service.ax_client: Completed trial 56 with data: {'objective': (41804.0, None)}.\n"
     ]
    },
    {
     "name": "stdout",
     "output_type": "stream",
     "text": [
      "41804.0 0.36\n"
     ]
    },
    {
     "name": "stderr",
     "output_type": "stream",
     "text": [
      "[INFO 10-25 20:48:24] ax.service.ax_client: Generated new trial 57 with parameters {'path_penalty': 6.073158, 'loss_penalty': 10.0, 'score_factor': 1.858923} using model GPEI.\n",
      "[INFO 10-25 20:49:03] ax.service.ax_client: Completed trial 57 with data: {'objective': (39747.68, None)}.\n"
     ]
    },
    {
     "name": "stdout",
     "output_type": "stream",
     "text": [
      "39747.68 0.36\n"
     ]
    },
    {
     "name": "stderr",
     "output_type": "stream",
     "text": [
      "[INFO 10-25 20:49:04] ax.service.ax_client: Generated new trial 58 with parameters {'path_penalty': 10.0, 'loss_penalty': 0.0, 'score_factor': 4.073551} using model GPEI.\n",
      "[INFO 10-25 20:49:49] ax.service.ax_client: Completed trial 58 with data: {'objective': (44835.84, None)}.\n"
     ]
    },
    {
     "name": "stdout",
     "output_type": "stream",
     "text": [
      "44835.84 0.48\n"
     ]
    },
    {
     "name": "stderr",
     "output_type": "stream",
     "text": [
      "[INFO 10-25 20:49:50] ax.service.ax_client: Generated new trial 59 with parameters {'path_penalty': 10.0, 'loss_penalty': 10.0, 'score_factor': 3.090815} using model GPEI.\n",
      "[INFO 10-25 20:50:33] ax.service.ax_client: Completed trial 59 with data: {'objective': (41950.72, None)}.\n"
     ]
    },
    {
     "name": "stdout",
     "output_type": "stream",
     "text": [
      "41950.72 0.38\n"
     ]
    },
    {
     "name": "stderr",
     "output_type": "stream",
     "text": [
      "[INFO 10-25 20:50:34] ax.service.ax_client: Generated new trial 60 with parameters {'path_penalty': 8.481665, 'loss_penalty': 0.0, 'score_factor': 4.4072} using model GPEI.\n",
      "[INFO 10-25 20:51:19] ax.service.ax_client: Completed trial 60 with data: {'objective': (46555.2, None)}.\n"
     ]
    },
    {
     "name": "stdout",
     "output_type": "stream",
     "text": [
      "46555.2 0.46\n"
     ]
    },
    {
     "name": "stderr",
     "output_type": "stream",
     "text": [
      "[INFO 10-25 20:51:20] ax.service.ax_client: Generated new trial 61 with parameters {'path_penalty': 9.579004, 'loss_penalty': 10.0, 'score_factor': 4.092184} using model GPEI.\n",
      "[INFO 10-25 20:52:06] ax.service.ax_client: Completed trial 61 with data: {'objective': (47536.48, None)}.\n"
     ]
    },
    {
     "name": "stdout",
     "output_type": "stream",
     "text": [
      "47536.48 0.46\n"
     ]
    },
    {
     "name": "stderr",
     "output_type": "stream",
     "text": [
      "[INFO 10-25 20:52:08] ax.service.ax_client: Generated new trial 62 with parameters {'path_penalty': 10.0, 'loss_penalty': 10.0, 'score_factor': 5.0} using model GPEI.\n",
      "[INFO 10-25 20:52:48] ax.service.ax_client: Completed trial 62 with data: {'objective': (38050.24, None)}.\n"
     ]
    },
    {
     "name": "stdout",
     "output_type": "stream",
     "text": [
      "38050.24 0.32\n"
     ]
    },
    {
     "name": "stderr",
     "output_type": "stream",
     "text": [
      "[INFO 10-25 20:52:49] ax.service.ax_client: Generated new trial 63 with parameters {'path_penalty': 9.748536, 'loss_penalty': 10.0, 'score_factor': 3.869719} using model GPEI.\n",
      "[INFO 10-25 20:53:36] ax.service.ax_client: Completed trial 63 with data: {'objective': (49501.36, None)}.\n"
     ]
    },
    {
     "name": "stdout",
     "output_type": "stream",
     "text": [
      "49501.36 0.5\n"
     ]
    },
    {
     "name": "stderr",
     "output_type": "stream",
     "text": [
      "[INFO 10-25 20:53:37] ax.service.ax_client: Generated new trial 64 with parameters {'path_penalty': 7.749026, 'loss_penalty': 10.0, 'score_factor': 5.0} using model GPEI.\n",
      "[INFO 10-25 20:54:17] ax.service.ax_client: Completed trial 64 with data: {'objective': (38563.76, None)}.\n"
     ]
    },
    {
     "name": "stdout",
     "output_type": "stream",
     "text": [
      "38563.76 0.34\n"
     ]
    },
    {
     "name": "stderr",
     "output_type": "stream",
     "text": [
      "[INFO 10-25 20:54:18] ax.service.ax_client: Generated new trial 65 with parameters {'path_penalty': 4.923351, 'loss_penalty': 0.0, 'score_factor': 4.21504} using model GPEI.\n",
      "[INFO 10-25 20:54:58] ax.service.ax_client: Completed trial 65 with data: {'objective': (37957.12, None)}.\n"
     ]
    },
    {
     "name": "stdout",
     "output_type": "stream",
     "text": [
      "37957.12 0.32\n"
     ]
    },
    {
     "name": "stderr",
     "output_type": "stream",
     "text": [
      "[INFO 10-25 20:55:00] ax.service.ax_client: Generated new trial 66 with parameters {'path_penalty': 10.0, 'loss_penalty': 10.0, 'score_factor': 3.992276} using model GPEI.\n",
      "[INFO 10-25 20:55:49] ax.service.ax_client: Completed trial 66 with data: {'objective': (47595.92, None)}.\n"
     ]
    },
    {
     "name": "stdout",
     "output_type": "stream",
     "text": [
      "47595.92 0.5\n"
     ]
    },
    {
     "name": "stderr",
     "output_type": "stream",
     "text": [
      "[INFO 10-25 20:55:50] ax.service.ax_client: Generated new trial 67 with parameters {'path_penalty': 8.94896, 'loss_penalty': 10.0, 'score_factor': 3.731436} using model GPEI.\n",
      "[INFO 10-25 20:56:39] ax.service.ax_client: Completed trial 67 with data: {'objective': (46408.48, None)}.\n"
     ]
    },
    {
     "name": "stdout",
     "output_type": "stream",
     "text": [
      "46408.48 0.44\n"
     ]
    },
    {
     "name": "stderr",
     "output_type": "stream",
     "text": [
      "[INFO 10-25 20:56:40] ax.service.ax_client: Generated new trial 68 with parameters {'path_penalty': 7.640023, 'loss_penalty': 0.0, 'score_factor': 4.304064} using model GPEI.\n",
      "[INFO 10-25 20:57:26] ax.service.ax_client: Completed trial 68 with data: {'objective': (46419.04, None)}.\n"
     ]
    },
    {
     "name": "stdout",
     "output_type": "stream",
     "text": [
      "46419.04 0.5\n"
     ]
    },
    {
     "name": "stderr",
     "output_type": "stream",
     "text": [
      "[INFO 10-25 20:57:27] ax.service.ax_client: Generated new trial 69 with parameters {'path_penalty': 5.74834, 'loss_penalty': 0.0, 'score_factor': 1.85658} using model GPEI.\n",
      "[INFO 10-25 20:58:10] ax.service.ax_client: Completed trial 69 with data: {'objective': (46224.72, None)}.\n"
     ]
    },
    {
     "name": "stdout",
     "output_type": "stream",
     "text": [
      "46224.72 0.46\n"
     ]
    },
    {
     "name": "stderr",
     "output_type": "stream",
     "text": [
      "[INFO 10-25 20:58:11] ax.service.ax_client: Generated new trial 70 with parameters {'path_penalty': 8.774777, 'loss_penalty': 10.0, 'score_factor': 4.098615} using model GPEI.\n",
      "[INFO 10-25 20:58:54] ax.service.ax_client: Completed trial 70 with data: {'objective': (41307.04, None)}.\n"
     ]
    },
    {
     "name": "stdout",
     "output_type": "stream",
     "text": [
      "41307.04 0.38\n"
     ]
    },
    {
     "name": "stderr",
     "output_type": "stream",
     "text": [
      "[INFO 10-25 20:58:55] ax.service.ax_client: Generated new trial 71 with parameters {'path_penalty': 10.0, 'loss_penalty': 0.0, 'score_factor': 3.730199} using model GPEI.\n",
      "[INFO 10-25 20:59:42] ax.service.ax_client: Completed trial 71 with data: {'objective': (49804.88, None)}.\n"
     ]
    },
    {
     "name": "stdout",
     "output_type": "stream",
     "text": [
      "49804.88 0.5\n"
     ]
    },
    {
     "name": "stderr",
     "output_type": "stream",
     "text": [
      "[INFO 10-25 20:59:44] ax.service.ax_client: Generated new trial 72 with parameters {'path_penalty': 5.251437, 'loss_penalty': 0.0, 'score_factor': 2.619693} using model GPEI.\n",
      "[INFO 10-25 21:00:28] ax.service.ax_client: Completed trial 72 with data: {'objective': (43576.4, None)}.\n"
     ]
    },
    {
     "name": "stdout",
     "output_type": "stream",
     "text": [
      "43576.4 0.42\n"
     ]
    },
    {
     "name": "stderr",
     "output_type": "stream",
     "text": [
      "[INFO 10-25 21:00:30] ax.service.ax_client: Generated new trial 73 with parameters {'path_penalty': 6.412696, 'loss_penalty': 10.0, 'score_factor': 2.328259} using model GPEI.\n",
      "[INFO 10-25 21:01:21] ax.service.ax_client: Completed trial 73 with data: {'objective': (55264.48, None)}.\n"
     ]
    },
    {
     "name": "stdout",
     "output_type": "stream",
     "text": [
      "55264.48 0.62\n"
     ]
    },
    {
     "name": "stderr",
     "output_type": "stream",
     "text": [
      "[INFO 10-25 21:01:23] ax.service.ax_client: Generated new trial 74 with parameters {'path_penalty': 7.683493, 'loss_penalty': 10.0, 'score_factor': 2.888971} using model GPEI.\n",
      "[INFO 10-25 21:02:12] ax.service.ax_client: Completed trial 74 with data: {'objective': (52278.56, None)}.\n"
     ]
    },
    {
     "name": "stdout",
     "output_type": "stream",
     "text": [
      "52278.56 0.56\n"
     ]
    },
    {
     "name": "stderr",
     "output_type": "stream",
     "text": [
      "[INFO 10-25 21:02:14] ax.service.ax_client: Generated new trial 75 with parameters {'path_penalty': 6.892571, 'loss_penalty': 10.0, 'score_factor': 2.383278} using model GPEI.\n",
      "[INFO 10-25 21:02:59] ax.service.ax_client: Completed trial 75 with data: {'objective': (45425.36, None)}.\n"
     ]
    },
    {
     "name": "stdout",
     "output_type": "stream",
     "text": [
      "45425.36 0.42\n"
     ]
    },
    {
     "name": "stderr",
     "output_type": "stream",
     "text": [
      "[INFO 10-25 21:03:00] ax.service.ax_client: Generated new trial 76 with parameters {'path_penalty': 6.205227, 'loss_penalty': 10.0, 'score_factor': 2.505056} using model GPEI.\n",
      "[INFO 10-25 21:03:44] ax.service.ax_client: Completed trial 76 with data: {'objective': (44091.68, None)}.\n"
     ]
    },
    {
     "name": "stdout",
     "output_type": "stream",
     "text": [
      "44091.68 0.38\n"
     ]
    },
    {
     "name": "stderr",
     "output_type": "stream",
     "text": [
      "[INFO 10-25 21:03:45] ax.service.ax_client: Generated new trial 77 with parameters {'path_penalty': 8.107139, 'loss_penalty': 10.0, 'score_factor': 3.738919} using model GPEI.\n",
      "[INFO 10-25 21:04:24] ax.service.ax_client: Completed trial 77 with data: {'objective': (37272.48, None)}.\n"
     ]
    },
    {
     "name": "stdout",
     "output_type": "stream",
     "text": [
      "37272.48 0.36\n"
     ]
    },
    {
     "name": "stderr",
     "output_type": "stream",
     "text": [
      "[INFO 10-25 21:04:25] ax.service.ax_client: Generated new trial 78 with parameters {'path_penalty': 6.216364, 'loss_penalty': 0.0, 'score_factor': 2.313391} using model GPEI.\n",
      "[INFO 10-25 21:05:14] ax.service.ax_client: Completed trial 78 with data: {'objective': (51976.08, None)}.\n"
     ]
    },
    {
     "name": "stdout",
     "output_type": "stream",
     "text": [
      "51976.08 0.52\n"
     ]
    },
    {
     "name": "stderr",
     "output_type": "stream",
     "text": [
      "[INFO 10-25 21:05:15] ax.service.ax_client: Generated new trial 79 with parameters {'path_penalty': 7.162644, 'loss_penalty': 0.0, 'score_factor': 2.376776} using model GPEI.\n",
      "[INFO 10-25 21:05:56] ax.service.ax_client: Completed trial 79 with data: {'objective': (41537.2, None)}.\n"
     ]
    },
    {
     "name": "stdout",
     "output_type": "stream",
     "text": [
      "41537.2 0.4\n"
     ]
    },
    {
     "name": "stderr",
     "output_type": "stream",
     "text": [
      "[INFO 10-25 21:05:58] ax.service.ax_client: Generated new trial 80 with parameters {'path_penalty': 3.960046, 'loss_penalty': 10.0, 'score_factor': 5.0} using model GPEI.\n",
      "[INFO 10-25 21:06:32] ax.service.ax_client: Completed trial 80 with data: {'objective': (28730.16, None)}.\n"
     ]
    },
    {
     "name": "stdout",
     "output_type": "stream",
     "text": [
      "28730.16 0.12\n"
     ]
    },
    {
     "name": "stderr",
     "output_type": "stream",
     "text": [
      "[INFO 10-25 21:06:33] ax.service.ax_client: Generated new trial 81 with parameters {'path_penalty': 5.477313, 'loss_penalty': 10.0, 'score_factor': 2.123336} using model GPEI.\n",
      "[INFO 10-25 21:07:20] ax.service.ax_client: Completed trial 81 with data: {'objective': (49929.36, None)}.\n"
     ]
    },
    {
     "name": "stdout",
     "output_type": "stream",
     "text": [
      "49929.36 0.56\n"
     ]
    },
    {
     "name": "stderr",
     "output_type": "stream",
     "text": [
      "[INFO 10-25 21:07:22] ax.service.ax_client: Generated new trial 82 with parameters {'path_penalty': 5.588064, 'loss_penalty': 10.0, 'score_factor': 2.345647} using model GPEI.\n",
      "[INFO 10-25 21:08:09] ax.service.ax_client: Completed trial 82 with data: {'objective': (49261.2, None)}.\n"
     ]
    },
    {
     "name": "stdout",
     "output_type": "stream",
     "text": [
      "49261.2 0.54\n"
     ]
    },
    {
     "name": "stderr",
     "output_type": "stream",
     "text": [
      "[INFO 10-25 21:08:10] ax.service.ax_client: Generated new trial 83 with parameters {'path_penalty': 10.0, 'loss_penalty': 10.0, 'score_factor': 0.0} using model GPEI.\n",
      "[INFO 10-25 21:08:13] ax.service.ax_client: Completed trial 83 with data: {'objective': (2830.8, None)}.\n"
     ]
    },
    {
     "name": "stdout",
     "output_type": "stream",
     "text": [
      "2830.8 0.0\n"
     ]
    },
    {
     "name": "stderr",
     "output_type": "stream",
     "text": [
      "[INFO 10-25 21:08:15] ax.service.ax_client: Generated new trial 84 with parameters {'path_penalty': 6.791955, 'loss_penalty': 10.0, 'score_factor': 2.208504} using model GPEI.\n",
      "[INFO 10-25 21:08:59] ax.service.ax_client: Completed trial 84 with data: {'objective': (47134.32, None)}.\n"
     ]
    },
    {
     "name": "stdout",
     "output_type": "stream",
     "text": [
      "47134.32 0.52\n"
     ]
    },
    {
     "name": "stderr",
     "output_type": "stream",
     "text": [
      "[INFO 10-25 21:09:01] ax.service.ax_client: Generated new trial 85 with parameters {'path_penalty': 6.136791, 'loss_penalty': 10.0, 'score_factor': 2.183305} using model GPEI.\n",
      "[INFO 10-25 21:09:46] ax.service.ax_client: Completed trial 85 with data: {'objective': (45339.52, None)}.\n"
     ]
    },
    {
     "name": "stdout",
     "output_type": "stream",
     "text": [
      "45339.52 0.4\n"
     ]
    },
    {
     "name": "stderr",
     "output_type": "stream",
     "text": [
      "/home/kylemcmaster/.local/lib/python3.10/site-packages/botorch/optim/optimize.py:568: RuntimeWarning: Optimization failed in `gen_candidates_scipy` with the following warning(s):\n",
      "[OptimizationWarning('Optimization failed within `scipy.optimize.minimize` with status 2 and message ABNORMAL_TERMINATION_IN_LNSRCH.')]\n",
      "Trying again with a new set of initial conditions.\n",
      "  return _optimize_acqf_batch(opt_inputs=opt_inputs)\n",
      "[INFO 10-25 21:09:49] ax.service.ax_client: Generated new trial 86 with parameters {'path_penalty': 5.631343, 'loss_penalty': 0.0, 'score_factor': 2.195566} using model GPEI.\n",
      "[INFO 10-25 21:10:33] ax.service.ax_client: Completed trial 86 with data: {'objective': (45701.28, None)}.\n"
     ]
    },
    {
     "name": "stdout",
     "output_type": "stream",
     "text": [
      "45701.28 0.48\n"
     ]
    },
    {
     "name": "stderr",
     "output_type": "stream",
     "text": [
      "[INFO 10-25 21:10:35] ax.service.ax_client: Generated new trial 87 with parameters {'path_penalty': 9.602283, 'loss_penalty': 0.0, 'score_factor': 4.026542} using model GPEI.\n",
      "[INFO 10-25 21:11:16] ax.service.ax_client: Completed trial 87 with data: {'objective': (40582.56, None)}.\n"
     ]
    },
    {
     "name": "stdout",
     "output_type": "stream",
     "text": [
      "40582.56 0.4\n"
     ]
    },
    {
     "name": "stderr",
     "output_type": "stream",
     "text": [
      "[INFO 10-25 21:11:17] ax.service.ax_client: Generated new trial 88 with parameters {'path_penalty': 7.446847, 'loss_penalty': 0.0, 'score_factor': 3.040855} using model GPEI.\n",
      "[INFO 10-25 21:12:05] ax.service.ax_client: Completed trial 88 with data: {'objective': (50405.36, None)}.\n"
     ]
    },
    {
     "name": "stdout",
     "output_type": "stream",
     "text": [
      "50405.36 0.52\n"
     ]
    },
    {
     "name": "stderr",
     "output_type": "stream",
     "text": [
      "[INFO 10-25 21:12:06] ax.service.ax_client: Generated new trial 89 with parameters {'path_penalty': 7.484571, 'loss_penalty': 10.0, 'score_factor': 2.498832} using model GPEI.\n",
      "[INFO 10-25 21:12:50] ax.service.ax_client: Completed trial 89 with data: {'objective': (47189.28, None)}.\n"
     ]
    },
    {
     "name": "stdout",
     "output_type": "stream",
     "text": [
      "47189.28 0.46\n"
     ]
    },
    {
     "name": "stderr",
     "output_type": "stream",
     "text": [
      "[INFO 10-25 21:12:52] ax.service.ax_client: Generated new trial 90 with parameters {'path_penalty': 7.022636, 'loss_penalty': 0.0, 'score_factor': 2.164099} using model GPEI.\n",
      "[INFO 10-25 21:13:39] ax.service.ax_client: Completed trial 90 with data: {'objective': (51165.28, None)}.\n"
     ]
    },
    {
     "name": "stdout",
     "output_type": "stream",
     "text": [
      "51165.28 0.56\n"
     ]
    },
    {
     "name": "stderr",
     "output_type": "stream",
     "text": [
      "/home/kylemcmaster/.local/lib/python3.10/site-packages/botorch/optim/optimize.py:568: RuntimeWarning: Optimization failed in `gen_candidates_scipy` with the following warning(s):\n",
      "[OptimizationWarning('Optimization failed within `scipy.optimize.minimize` with status 2 and message ABNORMAL_TERMINATION_IN_LNSRCH.')]\n",
      "Trying again with a new set of initial conditions.\n",
      "  return _optimize_acqf_batch(opt_inputs=opt_inputs)\n",
      "[INFO 10-25 21:13:42] ax.service.ax_client: Generated new trial 91 with parameters {'path_penalty': 6.602246, 'loss_penalty': 0.0, 'score_factor': 2.07212} using model GPEI.\n",
      "[INFO 10-25 21:14:28] ax.service.ax_client: Completed trial 91 with data: {'objective': (47392.72, None)}.\n"
     ]
    },
    {
     "name": "stdout",
     "output_type": "stream",
     "text": [
      "47392.72 0.44\n"
     ]
    },
    {
     "name": "stderr",
     "output_type": "stream",
     "text": [
      "[INFO 10-25 21:14:29] ax.service.ax_client: Generated new trial 92 with parameters {'path_penalty': 6.914372, 'loss_penalty': 10.0, 'score_factor': 2.662417} using model GPEI.\n",
      "[INFO 10-25 21:15:17] ax.service.ax_client: Completed trial 92 with data: {'objective': (47552.56, None)}.\n"
     ]
    },
    {
     "name": "stdout",
     "output_type": "stream",
     "text": [
      "47552.56 0.44\n"
     ]
    },
    {
     "name": "stderr",
     "output_type": "stream",
     "text": [
      "[INFO 10-25 21:15:19] ax.service.ax_client: Generated new trial 93 with parameters {'path_penalty': 6.713851, 'loss_penalty': 0.0, 'score_factor': 2.462837} using model GPEI.\n",
      "[INFO 10-25 21:16:04] ax.service.ax_client: Completed trial 93 with data: {'objective': (45230.0, None)}.\n"
     ]
    },
    {
     "name": "stdout",
     "output_type": "stream",
     "text": [
      "45230.0 0.46\n"
     ]
    },
    {
     "name": "stderr",
     "output_type": "stream",
     "text": [
      "[INFO 10-25 21:16:06] ax.service.ax_client: Generated new trial 94 with parameters {'path_penalty': 6.561649, 'loss_penalty': 10.0, 'score_factor': 2.243974} using model GPEI.\n",
      "[INFO 10-25 21:16:51] ax.service.ax_client: Completed trial 94 with data: {'objective': (45398.4, None)}.\n"
     ]
    },
    {
     "name": "stdout",
     "output_type": "stream",
     "text": [
      "45398.4 0.44\n"
     ]
    },
    {
     "name": "stderr",
     "output_type": "stream",
     "text": [
      "[INFO 10-25 21:16:52] ax.service.ax_client: Generated new trial 95 with parameters {'path_penalty': 8.65097, 'loss_penalty': 10.0, 'score_factor': 3.180345} using model GPEI.\n",
      "[INFO 10-25 21:17:34] ax.service.ax_client: Completed trial 95 with data: {'objective': (44301.76, None)}.\n"
     ]
    },
    {
     "name": "stdout",
     "output_type": "stream",
     "text": [
      "44301.76 0.48\n"
     ]
    },
    {
     "name": "stderr",
     "output_type": "stream",
     "text": [
      "[INFO 10-25 21:17:36] ax.service.ax_client: Generated new trial 96 with parameters {'path_penalty': 8.173498, 'loss_penalty': 0.0, 'score_factor': 3.61026} using model GPEI.\n",
      "[INFO 10-25 21:18:20] ax.service.ax_client: Completed trial 96 with data: {'objective': (47325.12, None)}.\n"
     ]
    },
    {
     "name": "stdout",
     "output_type": "stream",
     "text": [
      "47325.12 0.46\n"
     ]
    },
    {
     "name": "stderr",
     "output_type": "stream",
     "text": [
      "/home/kylemcmaster/.local/lib/python3.10/site-packages/botorch/optim/optimize.py:568: RuntimeWarning: Optimization failed in `gen_candidates_scipy` with the following warning(s):\n",
      "[OptimizationWarning('Optimization failed within `scipy.optimize.minimize` with status 2 and message ABNORMAL_TERMINATION_IN_LNSRCH.')]\n",
      "Trying again with a new set of initial conditions.\n",
      "  return _optimize_acqf_batch(opt_inputs=opt_inputs)\n",
      "/home/kylemcmaster/.local/lib/python3.10/site-packages/botorch/optim/optimize.py:568: RuntimeWarning: Optimization failed on the second try, after generating a new set of initial conditions.\n",
      "  return _optimize_acqf_batch(opt_inputs=opt_inputs)\n",
      "[INFO 10-25 21:18:23] ax.service.ax_client: Generated new trial 97 with parameters {'path_penalty': 8.290587, 'loss_penalty': 0.0, 'score_factor': 3.872655} using model GPEI.\n",
      "[INFO 10-25 21:19:07] ax.service.ax_client: Completed trial 97 with data: {'objective': (43838.48, None)}.\n"
     ]
    },
    {
     "name": "stdout",
     "output_type": "stream",
     "text": [
      "43838.48 0.36\n"
     ]
    },
    {
     "name": "stderr",
     "output_type": "stream",
     "text": [
      "/home/kylemcmaster/.local/lib/python3.10/site-packages/botorch/optim/optimize.py:568: RuntimeWarning: Optimization failed in `gen_candidates_scipy` with the following warning(s):\n",
      "[OptimizationWarning('Optimization failed within `scipy.optimize.minimize` with status 2 and message ABNORMAL_TERMINATION_IN_LNSRCH.')]\n",
      "Trying again with a new set of initial conditions.\n",
      "  return _optimize_acqf_batch(opt_inputs=opt_inputs)\n",
      "/home/kylemcmaster/.local/lib/python3.10/site-packages/botorch/optim/optimize.py:568: RuntimeWarning: Optimization failed on the second try, after generating a new set of initial conditions.\n",
      "  return _optimize_acqf_batch(opt_inputs=opt_inputs)\n",
      "[INFO 10-25 21:19:11] ax.service.ax_client: Generated new trial 98 with parameters {'path_penalty': 7.134329, 'loss_penalty': 10.0, 'score_factor': 2.233818} using model GPEI.\n",
      "[INFO 10-25 21:19:56] ax.service.ax_client: Completed trial 98 with data: {'objective': (49065.92, None)}.\n"
     ]
    },
    {
     "name": "stdout",
     "output_type": "stream",
     "text": [
      "49065.92 0.46\n"
     ]
    },
    {
     "name": "stderr",
     "output_type": "stream",
     "text": [
      "/home/kylemcmaster/.local/lib/python3.10/site-packages/botorch/optim/optimize.py:568: RuntimeWarning: Optimization failed in `gen_candidates_scipy` with the following warning(s):\n",
      "[OptimizationWarning('Optimization failed within `scipy.optimize.minimize` with status 2 and message ABNORMAL_TERMINATION_IN_LNSRCH.'), OptimizationWarning('Optimization failed within `scipy.optimize.minimize` with status 2 and message ABNORMAL_TERMINATION_IN_LNSRCH.'), OptimizationWarning('Optimization failed within `scipy.optimize.minimize` with status 2 and message ABNORMAL_TERMINATION_IN_LNSRCH.')]\n",
      "Trying again with a new set of initial conditions.\n",
      "  return _optimize_acqf_batch(opt_inputs=opt_inputs)\n",
      "/home/kylemcmaster/.local/lib/python3.10/site-packages/botorch/optim/optimize.py:568: RuntimeWarning: Optimization failed on the second try, after generating a new set of initial conditions.\n",
      "  return _optimize_acqf_batch(opt_inputs=opt_inputs)\n",
      "[INFO 10-25 21:19:59] ax.service.ax_client: Generated new trial 99 with parameters {'path_penalty': 6.690133, 'loss_penalty': 0.0, 'score_factor': 2.33818} using model GPEI.\n",
      "[INFO 10-25 21:20:42] ax.service.ax_client: Completed trial 99 with data: {'objective': (43146.96, None)}.\n"
     ]
    },
    {
     "name": "stdout",
     "output_type": "stream",
     "text": [
      "43146.96 0.38\n"
     ]
    },
    {
     "name": "stderr",
     "output_type": "stream",
     "text": [
      "/home/kylemcmaster/.local/lib/python3.10/site-packages/botorch/optim/optimize.py:568: RuntimeWarning: Optimization failed in `gen_candidates_scipy` with the following warning(s):\n",
      "[OptimizationWarning('Optimization failed within `scipy.optimize.minimize` with status 2 and message ABNORMAL_TERMINATION_IN_LNSRCH.'), OptimizationWarning('Optimization failed within `scipy.optimize.minimize` with status 2 and message ABNORMAL_TERMINATION_IN_LNSRCH.'), OptimizationWarning('Optimization failed within `scipy.optimize.minimize` with status 2 and message ABNORMAL_TERMINATION_IN_LNSRCH.')]\n",
      "Trying again with a new set of initial conditions.\n",
      "  return _optimize_acqf_batch(opt_inputs=opt_inputs)\n",
      "[INFO 10-25 21:20:46] ax.service.ax_client: Generated new trial 100 with parameters {'path_penalty': 9.257111, 'loss_penalty': 0.0, 'score_factor': 3.313047} using model GPEI.\n",
      "[INFO 10-25 21:21:32] ax.service.ax_client: Completed trial 100 with data: {'objective': (48734.4, None)}.\n"
     ]
    },
    {
     "name": "stdout",
     "output_type": "stream",
     "text": [
      "48734.4 0.5\n"
     ]
    },
    {
     "name": "stderr",
     "output_type": "stream",
     "text": [
      "/home/kylemcmaster/.local/lib/python3.10/site-packages/botorch/optim/optimize.py:568: RuntimeWarning: Optimization failed in `gen_candidates_scipy` with the following warning(s):\n",
      "[OptimizationWarning('Optimization failed within `scipy.optimize.minimize` with status 2 and message ABNORMAL_TERMINATION_IN_LNSRCH.'), OptimizationWarning('Optimization failed within `scipy.optimize.minimize` with status 2 and message ABNORMAL_TERMINATION_IN_LNSRCH.')]\n",
      "Trying again with a new set of initial conditions.\n",
      "  return _optimize_acqf_batch(opt_inputs=opt_inputs)\n",
      "/home/kylemcmaster/.local/lib/python3.10/site-packages/botorch/optim/optimize.py:568: RuntimeWarning: Optimization failed on the second try, after generating a new set of initial conditions.\n",
      "  return _optimize_acqf_batch(opt_inputs=opt_inputs)\n",
      "[INFO 10-25 21:21:36] ax.service.ax_client: Generated new trial 101 with parameters {'path_penalty': 8.537166, 'loss_penalty': 10.0, 'score_factor': 2.540384} using model GPEI.\n",
      "[INFO 10-25 21:22:19] ax.service.ax_client: Completed trial 101 with data: {'objective': (47471.84, None)}.\n"
     ]
    },
    {
     "name": "stdout",
     "output_type": "stream",
     "text": [
      "47471.84 0.46\n"
     ]
    },
    {
     "name": "stderr",
     "output_type": "stream",
     "text": [
      "/home/kylemcmaster/.local/lib/python3.10/site-packages/botorch/optim/optimize.py:568: RuntimeWarning: Optimization failed in `gen_candidates_scipy` with the following warning(s):\n",
      "[OptimizationWarning('Optimization failed within `scipy.optimize.minimize` with status 2 and message ABNORMAL_TERMINATION_IN_LNSRCH.')]\n",
      "Trying again with a new set of initial conditions.\n",
      "  return _optimize_acqf_batch(opt_inputs=opt_inputs)\n",
      "/home/kylemcmaster/.local/lib/python3.10/site-packages/botorch/optim/optimize.py:568: RuntimeWarning: Optimization failed on the second try, after generating a new set of initial conditions.\n",
      "  return _optimize_acqf_batch(opt_inputs=opt_inputs)\n",
      "[INFO 10-25 21:22:23] ax.service.ax_client: Generated new trial 102 with parameters {'path_penalty': 7.929402, 'loss_penalty': 0.0, 'score_factor': 2.644701} using model GPEI.\n",
      "[INFO 10-25 21:23:06] ax.service.ax_client: Completed trial 102 with data: {'objective': (43148.16, None)}.\n"
     ]
    },
    {
     "name": "stdout",
     "output_type": "stream",
     "text": [
      "43148.16 0.38\n"
     ]
    },
    {
     "name": "stderr",
     "output_type": "stream",
     "text": [
      "/home/kylemcmaster/.local/lib/python3.10/site-packages/botorch/optim/optimize.py:568: RuntimeWarning: Optimization failed in `gen_candidates_scipy` with the following warning(s):\n",
      "[OptimizationWarning('Optimization failed within `scipy.optimize.minimize` with status 2 and message ABNORMAL_TERMINATION_IN_LNSRCH.'), OptimizationWarning('Optimization failed within `scipy.optimize.minimize` with status 2 and message ABNORMAL_TERMINATION_IN_LNSRCH.')]\n",
      "Trying again with a new set of initial conditions.\n",
      "  return _optimize_acqf_batch(opt_inputs=opt_inputs)\n",
      "[INFO 10-25 21:23:10] ax.service.ax_client: Generated new trial 103 with parameters {'path_penalty': 6.211171, 'loss_penalty': 0.0, 'score_factor': 2.167793} using model GPEI.\n",
      "[INFO 10-25 21:23:49] ax.service.ax_client: Completed trial 103 with data: {'objective': (39854.16, None)}.\n"
     ]
    },
    {
     "name": "stdout",
     "output_type": "stream",
     "text": [
      "39854.16 0.38\n"
     ]
    },
    {
     "name": "stderr",
     "output_type": "stream",
     "text": [
      "/home/kylemcmaster/.local/lib/python3.10/site-packages/linear_operator/utils/cholesky.py:40: NumericalWarning: A not p.d., added jitter of 1.0e-08 to the diagonal\n",
      "  warnings.warn(\n",
      "/home/kylemcmaster/.local/lib/python3.10/site-packages/botorch/optim/optimize.py:568: RuntimeWarning: Optimization failed in `gen_candidates_scipy` with the following warning(s):\n",
      "[OptimizationWarning('Optimization failed within `scipy.optimize.minimize` with status 2 and message ABNORMAL_TERMINATION_IN_LNSRCH.'), OptimizationWarning('Optimization failed within `scipy.optimize.minimize` with status 2 and message ABNORMAL_TERMINATION_IN_LNSRCH.')]\n",
      "Trying again with a new set of initial conditions.\n",
      "  return _optimize_acqf_batch(opt_inputs=opt_inputs)\n",
      "[INFO 10-25 21:23:53] ax.service.ax_client: Generated new trial 104 with parameters {'path_penalty': 7.705942, 'loss_penalty': 10.0, 'score_factor': 3.492531} using model GPEI.\n",
      "[INFO 10-25 21:24:37] ax.service.ax_client: Completed trial 104 with data: {'objective': (43801.04, None)}.\n"
     ]
    },
    {
     "name": "stdout",
     "output_type": "stream",
     "text": [
      "43801.04 0.4\n"
     ]
    },
    {
     "name": "stderr",
     "output_type": "stream",
     "text": [
      "/home/kylemcmaster/.local/lib/python3.10/site-packages/botorch/optim/optimize.py:568: RuntimeWarning: Optimization failed in `gen_candidates_scipy` with the following warning(s):\n",
      "[OptimizationWarning('Optimization failed within `scipy.optimize.minimize` with status 2 and message ABNORMAL_TERMINATION_IN_LNSRCH.')]\n",
      "Trying again with a new set of initial conditions.\n",
      "  return _optimize_acqf_batch(opt_inputs=opt_inputs)\n",
      "/home/kylemcmaster/.local/lib/python3.10/site-packages/botorch/optim/optimize.py:568: RuntimeWarning: Optimization failed on the second try, after generating a new set of initial conditions.\n",
      "  return _optimize_acqf_batch(opt_inputs=opt_inputs)\n",
      "[INFO 10-25 21:24:41] ax.service.ax_client: Generated new trial 105 with parameters {'path_penalty': 9.487445, 'loss_penalty': 0.0, 'score_factor': 2.367035} using model GPEI.\n",
      "[INFO 10-25 21:25:24] ax.service.ax_client: Completed trial 105 with data: {'objective': (43683.92, None)}.\n"
     ]
    },
    {
     "name": "stdout",
     "output_type": "stream",
     "text": [
      "43683.92 0.4\n"
     ]
    },
    {
     "name": "stderr",
     "output_type": "stream",
     "text": [
      "/home/kylemcmaster/.local/lib/python3.10/site-packages/botorch/optim/optimize.py:568: RuntimeWarning: Optimization failed in `gen_candidates_scipy` with the following warning(s):\n",
      "[OptimizationWarning('Optimization failed within `scipy.optimize.minimize` with status 2 and message ABNORMAL_TERMINATION_IN_LNSRCH.'), OptimizationWarning('Optimization failed within `scipy.optimize.minimize` with status 2 and message ABNORMAL_TERMINATION_IN_LNSRCH.')]\n",
      "Trying again with a new set of initial conditions.\n",
      "  return _optimize_acqf_batch(opt_inputs=opt_inputs)\n",
      "/home/kylemcmaster/.local/lib/python3.10/site-packages/botorch/optim/optimize.py:568: RuntimeWarning: Optimization failed on the second try, after generating a new set of initial conditions.\n",
      "  return _optimize_acqf_batch(opt_inputs=opt_inputs)\n",
      "[INFO 10-25 21:25:28] ax.service.ax_client: Generated new trial 106 with parameters {'path_penalty': 7.255342, 'loss_penalty': 10.0, 'score_factor': 2.077385} using model GPEI.\n",
      "[INFO 10-25 21:26:09] ax.service.ax_client: Completed trial 106 with data: {'objective': (44004.88, None)}.\n"
     ]
    },
    {
     "name": "stdout",
     "output_type": "stream",
     "text": [
      "44004.88 0.44\n"
     ]
    },
    {
     "name": "stderr",
     "output_type": "stream",
     "text": [
      "/home/kylemcmaster/.local/lib/python3.10/site-packages/botorch/optim/optimize.py:568: RuntimeWarning: Optimization failed in `gen_candidates_scipy` with the following warning(s):\n",
      "[OptimizationWarning('Optimization failed within `scipy.optimize.minimize` with status 2 and message ABNORMAL_TERMINATION_IN_LNSRCH.')]\n",
      "Trying again with a new set of initial conditions.\n",
      "  return _optimize_acqf_batch(opt_inputs=opt_inputs)\n",
      "/home/kylemcmaster/.local/lib/python3.10/site-packages/botorch/optim/optimize.py:568: RuntimeWarning: Optimization failed on the second try, after generating a new set of initial conditions.\n",
      "  return _optimize_acqf_batch(opt_inputs=opt_inputs)\n",
      "[INFO 10-25 21:26:13] ax.service.ax_client: Generated new trial 107 with parameters {'path_penalty': 6.28941, 'loss_penalty': 10.0, 'score_factor': 2.068995} using model GPEI.\n",
      "[INFO 10-25 21:26:58] ax.service.ax_client: Completed trial 107 with data: {'objective': (46480.08, None)}.\n"
     ]
    },
    {
     "name": "stdout",
     "output_type": "stream",
     "text": [
      "46480.08 0.42\n"
     ]
    },
    {
     "name": "stderr",
     "output_type": "stream",
     "text": [
      "/home/kylemcmaster/.local/lib/python3.10/site-packages/linear_operator/utils/cholesky.py:40: NumericalWarning: A not p.d., added jitter of 1.0e-08 to the diagonal\n",
      "  warnings.warn(\n",
      "/home/kylemcmaster/.local/lib/python3.10/site-packages/botorch/optim/optimize.py:568: RuntimeWarning: Optimization failed in `gen_candidates_scipy` with the following warning(s):\n",
      "[OptimizationWarning('Optimization failed within `scipy.optimize.minimize` with status 2 and message ABNORMAL_TERMINATION_IN_LNSRCH.'), OptimizationWarning('Optimization failed within `scipy.optimize.minimize` with status 2 and message ABNORMAL_TERMINATION_IN_LNSRCH.'), OptimizationWarning('Optimization failed within `scipy.optimize.minimize` with status 2 and message ABNORMAL_TERMINATION_IN_LNSRCH.')]\n",
      "Trying again with a new set of initial conditions.\n",
      "  return _optimize_acqf_batch(opt_inputs=opt_inputs)\n",
      "/home/kylemcmaster/.local/lib/python3.10/site-packages/botorch/optim/optimize.py:568: RuntimeWarning: Optimization failed on the second try, after generating a new set of initial conditions.\n",
      "  return _optimize_acqf_batch(opt_inputs=opt_inputs)\n",
      "[INFO 10-25 21:27:01] ax.service.ax_client: Generated new trial 108 with parameters {'path_penalty': 6.695538, 'loss_penalty': 10.0, 'score_factor': 2.442504} using model GPEI.\n",
      "[INFO 10-25 21:27:47] ax.service.ax_client: Completed trial 108 with data: {'objective': (49550.64, None)}.\n"
     ]
    },
    {
     "name": "stdout",
     "output_type": "stream",
     "text": [
      "49550.64 0.54\n"
     ]
    },
    {
     "name": "stderr",
     "output_type": "stream",
     "text": [
      "/home/kylemcmaster/.local/lib/python3.10/site-packages/linear_operator/utils/cholesky.py:40: NumericalWarning: A not p.d., added jitter of 1.0e-08 to the diagonal\n",
      "  warnings.warn(\n",
      "/home/kylemcmaster/.local/lib/python3.10/site-packages/botorch/optim/optimize.py:568: RuntimeWarning: Optimization failed in `gen_candidates_scipy` with the following warning(s):\n",
      "[OptimizationWarning('Optimization failed within `scipy.optimize.minimize` with status 2 and message ABNORMAL_TERMINATION_IN_LNSRCH.'), OptimizationWarning('Optimization failed within `scipy.optimize.minimize` with status 2 and message ABNORMAL_TERMINATION_IN_LNSRCH.'), OptimizationWarning('Optimization failed within `scipy.optimize.minimize` with status 2 and message ABNORMAL_TERMINATION_IN_LNSRCH.'), OptimizationWarning('Optimization failed within `scipy.optimize.minimize` with status 2 and message ABNORMAL_TERMINATION_IN_LNSRCH.')]\n",
      "Trying again with a new set of initial conditions.\n",
      "  return _optimize_acqf_batch(opt_inputs=opt_inputs)\n",
      "/home/kylemcmaster/.local/lib/python3.10/site-packages/botorch/optim/optimize.py:568: RuntimeWarning: Optimization failed on the second try, after generating a new set of initial conditions.\n",
      "  return _optimize_acqf_batch(opt_inputs=opt_inputs)\n",
      "[INFO 10-25 21:27:52] ax.service.ax_client: Generated new trial 109 with parameters {'path_penalty': 6.313661, 'loss_penalty': 0.0, 'score_factor': 2.698032} using model GPEI.\n",
      "[INFO 10-25 21:28:34] ax.service.ax_client: Completed trial 109 with data: {'objective': (43105.04, None)}.\n"
     ]
    },
    {
     "name": "stdout",
     "output_type": "stream",
     "text": [
      "43105.04 0.4\n"
     ]
    },
    {
     "name": "stderr",
     "output_type": "stream",
     "text": [
      "/home/kylemcmaster/.local/lib/python3.10/site-packages/botorch/optim/optimize.py:568: RuntimeWarning: Optimization failed in `gen_candidates_scipy` with the following warning(s):\n",
      "[OptimizationWarning('Optimization failed within `scipy.optimize.minimize` with status 2 and message ABNORMAL_TERMINATION_IN_LNSRCH.'), OptimizationWarning('Optimization failed within `scipy.optimize.minimize` with status 2 and message ABNORMAL_TERMINATION_IN_LNSRCH.'), OptimizationWarning('Optimization failed within `scipy.optimize.minimize` with status 2 and message ABNORMAL_TERMINATION_IN_LNSRCH.')]\n",
      "Trying again with a new set of initial conditions.\n",
      "  return _optimize_acqf_batch(opt_inputs=opt_inputs)\n",
      "/home/kylemcmaster/.local/lib/python3.10/site-packages/botorch/optim/optimize.py:568: RuntimeWarning: Optimization failed on the second try, after generating a new set of initial conditions.\n",
      "  return _optimize_acqf_batch(opt_inputs=opt_inputs)\n",
      "[INFO 10-25 21:28:37] ax.service.ax_client: Generated new trial 110 with parameters {'path_penalty': 9.630098, 'loss_penalty': 10.0, 'score_factor': 3.266167} using model GPEI.\n",
      "[INFO 10-25 21:29:20] ax.service.ax_client: Completed trial 110 with data: {'objective': (46659.6, None)}.\n"
     ]
    },
    {
     "name": "stdout",
     "output_type": "stream",
     "text": [
      "46659.6 0.46\n"
     ]
    },
    {
     "name": "stderr",
     "output_type": "stream",
     "text": [
      "/home/kylemcmaster/.local/lib/python3.10/site-packages/linear_operator/utils/cholesky.py:40: NumericalWarning: A not p.d., added jitter of 1.0e-08 to the diagonal\n",
      "  warnings.warn(\n",
      "[INFO 10-25 21:29:22] ax.service.ax_client: Generated new trial 111 with parameters {'path_penalty': 9.259034, 'loss_penalty': 0.0, 'score_factor': 3.813353} using model GPEI.\n",
      "[INFO 10-25 21:30:09] ax.service.ax_client: Completed trial 111 with data: {'objective': (47912.24, None)}.\n"
     ]
    },
    {
     "name": "stdout",
     "output_type": "stream",
     "text": [
      "47912.24 0.46\n"
     ]
    },
    {
     "name": "stderr",
     "output_type": "stream",
     "text": [
      "/home/kylemcmaster/.local/lib/python3.10/site-packages/botorch/optim/optimize.py:568: RuntimeWarning: Optimization failed in `gen_candidates_scipy` with the following warning(s):\n",
      "[OptimizationWarning('Optimization failed within `scipy.optimize.minimize` with status 2 and message ABNORMAL_TERMINATION_IN_LNSRCH.'), NumericalWarning('A not p.d., added jitter of 1.0e-08 to the diagonal'), OptimizationWarning('Optimization failed within `scipy.optimize.minimize` with status 2 and message ABNORMAL_TERMINATION_IN_LNSRCH.'), NumericalWarning('A not p.d., added jitter of 1.0e-08 to the diagonal'), OptimizationWarning('Optimization failed within `scipy.optimize.minimize` with status 2 and message ABNORMAL_TERMINATION_IN_LNSRCH.'), OptimizationWarning('Optimization failed within `scipy.optimize.minimize` with status 2 and message ABNORMAL_TERMINATION_IN_LNSRCH.')]\n",
      "Trying again with a new set of initial conditions.\n",
      "  return _optimize_acqf_batch(opt_inputs=opt_inputs)\n",
      "/home/kylemcmaster/.local/lib/python3.10/site-packages/botorch/optim/optimize.py:568: RuntimeWarning: Optimization failed on the second try, after generating a new set of initial conditions.\n",
      "  return _optimize_acqf_batch(opt_inputs=opt_inputs)\n",
      "[INFO 10-25 21:30:13] ax.service.ax_client: Generated new trial 112 with parameters {'path_penalty': 6.900394, 'loss_penalty': 10.0, 'score_factor': 2.293796} using model GPEI.\n",
      "[INFO 10-25 21:31:00] ax.service.ax_client: Completed trial 112 with data: {'objective': (48018.64, None)}.\n"
     ]
    },
    {
     "name": "stdout",
     "output_type": "stream",
     "text": [
      "48018.64 0.44\n"
     ]
    },
    {
     "name": "stderr",
     "output_type": "stream",
     "text": [
      "/home/kylemcmaster/.local/lib/python3.10/site-packages/linear_operator/utils/cholesky.py:40: NumericalWarning: A not p.d., added jitter of 1.0e-08 to the diagonal\n",
      "  warnings.warn(\n",
      "/home/kylemcmaster/.local/lib/python3.10/site-packages/botorch/optim/optimize.py:568: RuntimeWarning: Optimization failed in `gen_candidates_scipy` with the following warning(s):\n",
      "[OptimizationWarning('Optimization failed within `scipy.optimize.minimize` with status 2 and message ABNORMAL_TERMINATION_IN_LNSRCH.'), NumericalWarning('A not p.d., added jitter of 1.0e-08 to the diagonal')]\n",
      "Trying again with a new set of initial conditions.\n",
      "  return _optimize_acqf_batch(opt_inputs=opt_inputs)\n",
      "/home/kylemcmaster/.local/lib/python3.10/site-packages/botorch/optim/optimize.py:568: RuntimeWarning: Optimization failed on the second try, after generating a new set of initial conditions.\n",
      "  return _optimize_acqf_batch(opt_inputs=opt_inputs)\n",
      "[INFO 10-25 21:31:05] ax.service.ax_client: Generated new trial 113 with parameters {'path_penalty': 8.399811, 'loss_penalty': 0.0, 'score_factor': 4.175869} using model GPEI.\n",
      "[INFO 10-25 21:31:50] ax.service.ax_client: Completed trial 113 with data: {'objective': (45729.68, None)}.\n"
     ]
    },
    {
     "name": "stdout",
     "output_type": "stream",
     "text": [
      "45729.68 0.46\n"
     ]
    },
    {
     "name": "stderr",
     "output_type": "stream",
     "text": [
      "/home/kylemcmaster/.local/lib/python3.10/site-packages/linear_operator/utils/cholesky.py:40: NumericalWarning: A not p.d., added jitter of 1.0e-08 to the diagonal\n",
      "  warnings.warn(\n",
      "/home/kylemcmaster/.local/lib/python3.10/site-packages/botorch/optim/optimize.py:568: RuntimeWarning: Optimization failed in `gen_candidates_scipy` with the following warning(s):\n",
      "[OptimizationWarning('Optimization failed within `scipy.optimize.minimize` with status 2 and message ABNORMAL_TERMINATION_IN_LNSRCH.'), OptimizationWarning('Optimization failed within `scipy.optimize.minimize` with status 2 and message ABNORMAL_TERMINATION_IN_LNSRCH.')]\n",
      "Trying again with a new set of initial conditions.\n",
      "  return _optimize_acqf_batch(opt_inputs=opt_inputs)\n",
      "/home/kylemcmaster/.local/lib/python3.10/site-packages/botorch/optim/optimize.py:568: RuntimeWarning: Optimization failed on the second try, after generating a new set of initial conditions.\n",
      "  return _optimize_acqf_batch(opt_inputs=opt_inputs)\n",
      "[INFO 10-25 21:31:53] ax.service.ax_client: Generated new trial 114 with parameters {'path_penalty': 6.213587, 'loss_penalty': 10.0, 'score_factor': 2.285078} using model GPEI.\n",
      "[INFO 10-25 21:32:37] ax.service.ax_client: Completed trial 114 with data: {'objective': (45083.28, None)}.\n"
     ]
    },
    {
     "name": "stdout",
     "output_type": "stream",
     "text": [
      "45083.28 0.44\n"
     ]
    },
    {
     "name": "stderr",
     "output_type": "stream",
     "text": [
      "/home/kylemcmaster/.local/lib/python3.10/site-packages/linear_operator/utils/cholesky.py:40: NumericalWarning: A not p.d., added jitter of 1.0e-08 to the diagonal\n",
      "  warnings.warn(\n",
      "[INFO 10-25 21:32:39] ax.service.ax_client: Generated new trial 115 with parameters {'path_penalty': 6.600484, 'loss_penalty': 10.0, 'score_factor': 2.113878} using model GPEI.\n",
      "[INFO 10-25 21:33:25] ax.service.ax_client: Completed trial 115 with data: {'objective': (50155.92, None)}.\n"
     ]
    },
    {
     "name": "stdout",
     "output_type": "stream",
     "text": [
      "50155.92 0.52\n"
     ]
    },
    {
     "name": "stderr",
     "output_type": "stream",
     "text": [
      "/home/kylemcmaster/.local/lib/python3.10/site-packages/linear_operator/utils/cholesky.py:40: NumericalWarning: A not p.d., added jitter of 1.0e-08 to the diagonal\n",
      "  warnings.warn(\n",
      "[INFO 10-25 21:33:28] ax.service.ax_client: Generated new trial 116 with parameters {'path_penalty': 9.153045, 'loss_penalty': 10.0, 'score_factor': 3.430484} using model GPEI.\n",
      "[INFO 10-25 21:34:11] ax.service.ax_client: Completed trial 116 with data: {'objective': (43119.52, None)}.\n"
     ]
    },
    {
     "name": "stdout",
     "output_type": "stream",
     "text": [
      "43119.52 0.4\n"
     ]
    },
    {
     "name": "stderr",
     "output_type": "stream",
     "text": [
      "/home/kylemcmaster/.local/lib/python3.10/site-packages/linear_operator/utils/cholesky.py:40: NumericalWarning: A not p.d., added jitter of 1.0e-08 to the diagonal\n",
      "  warnings.warn(\n",
      "[INFO 10-25 21:34:13] ax.service.ax_client: Generated new trial 117 with parameters {'path_penalty': 7.468879, 'loss_penalty': 3.204648, 'score_factor': 2.145743} using model GPEI.\n",
      "[INFO 10-25 21:34:51] ax.service.ax_client: Completed trial 117 with data: {'objective': (37512.0, None)}.\n"
     ]
    },
    {
     "name": "stdout",
     "output_type": "stream",
     "text": [
      "37512.0 0.36\n"
     ]
    },
    {
     "name": "stderr",
     "output_type": "stream",
     "text": [
      "/home/kylemcmaster/.local/lib/python3.10/site-packages/linear_operator/utils/cholesky.py:40: NumericalWarning: A not p.d., added jitter of 1.0e-08 to the diagonal\n",
      "  warnings.warn(\n",
      "[INFO 10-25 21:34:54] ax.service.ax_client: Generated new trial 118 with parameters {'path_penalty': 5.70931, 'loss_penalty': 10.0, 'score_factor': 2.046869} using model GPEI.\n",
      "[INFO 10-25 21:35:36] ax.service.ax_client: Completed trial 118 with data: {'objective': (45689.52, None)}.\n"
     ]
    },
    {
     "name": "stdout",
     "output_type": "stream",
     "text": [
      "45689.52 0.5\n"
     ]
    },
    {
     "name": "stderr",
     "output_type": "stream",
     "text": [
      "/home/kylemcmaster/.local/lib/python3.10/site-packages/linear_operator/utils/cholesky.py:40: NumericalWarning: A not p.d., added jitter of 1.0e-08 to the diagonal\n",
      "  warnings.warn(\n",
      "[INFO 10-25 21:35:38] ax.service.ax_client: Generated new trial 119 with parameters {'path_penalty': 9.656159, 'loss_penalty': 10.0, 'score_factor': 3.702807} using model GPEI.\n",
      "[INFO 10-25 21:36:20] ax.service.ax_client: Completed trial 119 with data: {'objective': (43998.8, None)}.\n"
     ]
    },
    {
     "name": "stdout",
     "output_type": "stream",
     "text": [
      "43998.8 0.46\n",
      "The best parameters are: {'path_penalty': 6.561649115294637, 'loss_penalty': 10.0, 'score_factor': 2.24397373076686}\n",
      "with score ({'objective': 47303.358379203746}, {'objective': {'objective': 366674.2043493566}})\n"
     ]
    }
   ],
   "source": [
    "from ax.service.ax_client import AxClient\n",
    "from ax.modelbridge.registry import Models\n",
    "from ax.modelbridge.generation_strategy import GenerationStrategy, GenerationStep\n",
    "\n",
    "generation_strategy = GenerationStrategy(\n",
    "    steps=[\n",
    "        GenerationStep(model=Models.SOBOL, num_trials=10),\n",
    "        GenerationStep(model=Models.GPEI, num_trials=-1),   # GPEI for the rest of the trials\n",
    "    ]\n",
    ")\n",
    "ax_client = AxClient(generation_strategy=generation_strategy)\n",
    "# ax_client = AxClient()\n",
    "ax_client.create_experiment(name='optimize Params',\n",
    "                            parameters=[\n",
    "                                {'name': 'path_penalty',\n",
    "                                    'type': 'range',\n",
    "                                    'bounds': [0.0, 10.0]},\n",
    "                                {'name': 'loss_penalty',\n",
    "                                    'type': 'range',\n",
    "                                    'bounds': [0.0, 10.0]},\n",
    "                                {'name': 'score_factor',\n",
    "                                    'type': 'range',\n",
    "                                    'bounds': [0.0, 5.0]},\n",
    "                            ],\n",
    ")\n",
    "\n",
    "for i in range(10):\n",
    "    parameters, trial_index = ax_client.get_next_trial()\n",
    "    ax_client.complete_trial(trial_index=trial_index, raw_data=perform_trial(parameters))\n",
    "\n",
    "\n",
    "for i in range(110):\n",
    "    parameters, trial_index = ax_client.get_next_trial()\n",
    "    ax_client.complete_trial(trial_index=trial_index, raw_data=perform_trial(parameters))\n",
    "\n",
    "best_parameters, metrics = ax_client.get_best_parameters()\n",
    "print(f'The best parameters are: {best_parameters}')\n",
    "print(f'with score {metrics}')"
   ]
  },
  {
   "cell_type": "code",
   "execution_count": 21,
   "metadata": {},
   "outputs": [
    {
     "name": "stderr",
     "output_type": "stream",
     "text": [
      "/home/kylemcmaster/.local/lib/python3.10/site-packages/linear_operator/utils/cholesky.py:40: NumericalWarning: A not p.d., added jitter of 1.0e-08 to the diagonal\n",
      "  warnings.warn(\n",
      "[INFO 10-26 09:02:45] ax.service.ax_client: Generated new trial 120 with parameters {'path_penalty': 6.500545, 'loss_penalty': 10.0, 'score_factor': 3.30883} using model GPEI.\n",
      "[INFO 10-26 09:03:28] ax.service.ax_client: Completed trial 120 with data: {'objective': (44177.2, None)}.\n"
     ]
    },
    {
     "name": "stdout",
     "output_type": "stream",
     "text": [
      "44177.2 0.38\n"
     ]
    },
    {
     "name": "stderr",
     "output_type": "stream",
     "text": [
      "/home/kylemcmaster/.local/lib/python3.10/site-packages/linear_operator/utils/cholesky.py:40: NumericalWarning: A not p.d., added jitter of 1.0e-08 to the diagonal\n",
      "  warnings.warn(\n",
      "[INFO 10-26 09:03:30] ax.service.ax_client: Generated new trial 121 with parameters {'path_penalty': 9.059648, 'loss_penalty': 0.0, 'score_factor': 3.537151} using model GPEI.\n",
      "[INFO 10-26 09:04:21] ax.service.ax_client: Completed trial 121 with data: {'objective': (53560.48, None)}.\n"
     ]
    },
    {
     "name": "stdout",
     "output_type": "stream",
     "text": [
      "53560.48 0.54\n"
     ]
    },
    {
     "name": "stderr",
     "output_type": "stream",
     "text": [
      "/home/kylemcmaster/.local/lib/python3.10/site-packages/linear_operator/utils/cholesky.py:40: NumericalWarning: A not p.d., added jitter of 1.0e-08 to the diagonal\n",
      "  warnings.warn(\n",
      "[INFO 10-26 09:04:23] ax.service.ax_client: Generated new trial 122 with parameters {'path_penalty': 8.848371, 'loss_penalty': 10.0, 'score_factor': 2.928657} using model GPEI.\n",
      "[INFO 10-26 09:05:08] ax.service.ax_client: Completed trial 122 with data: {'objective': (45900.48, None)}.\n"
     ]
    },
    {
     "name": "stdout",
     "output_type": "stream",
     "text": [
      "45900.48 0.42\n"
     ]
    },
    {
     "name": "stderr",
     "output_type": "stream",
     "text": [
      "/home/kylemcmaster/.local/lib/python3.10/site-packages/linear_operator/utils/cholesky.py:40: NumericalWarning: A not p.d., added jitter of 1.0e-08 to the diagonal\n",
      "  warnings.warn(\n",
      "[INFO 10-26 09:05:10] ax.service.ax_client: Generated new trial 123 with parameters {'path_penalty': 9.651676, 'loss_penalty': 0.0, 'score_factor': 3.671541} using model GPEI.\n",
      "[INFO 10-26 09:05:57] ax.service.ax_client: Completed trial 123 with data: {'objective': (49495.2, None)}.\n"
     ]
    },
    {
     "name": "stdout",
     "output_type": "stream",
     "text": [
      "49495.2 0.54\n"
     ]
    },
    {
     "name": "stderr",
     "output_type": "stream",
     "text": [
      "/home/kylemcmaster/.local/lib/python3.10/site-packages/linear_operator/utils/cholesky.py:40: NumericalWarning: A not p.d., added jitter of 1.0e-08 to the diagonal\n",
      "  warnings.warn(\n",
      "[INFO 10-26 09:05:59] ax.service.ax_client: Generated new trial 124 with parameters {'path_penalty': 8.623575, 'loss_penalty': 0.0, 'score_factor': 3.589884} using model GPEI.\n",
      "[INFO 10-26 09:06:43] ax.service.ax_client: Completed trial 124 with data: {'objective': (45751.36, None)}.\n"
     ]
    },
    {
     "name": "stdout",
     "output_type": "stream",
     "text": [
      "45751.36 0.38\n"
     ]
    },
    {
     "name": "stderr",
     "output_type": "stream",
     "text": [
      "/home/kylemcmaster/.local/lib/python3.10/site-packages/linear_operator/utils/cholesky.py:40: NumericalWarning: A not p.d., added jitter of 1.0e-08 to the diagonal\n",
      "  warnings.warn(\n",
      "[INFO 10-26 09:06:46] ax.service.ax_client: Generated new trial 125 with parameters {'path_penalty': 9.540957, 'loss_penalty': 0.0, 'score_factor': 4.275645} using model GPEI.\n",
      "[INFO 10-26 09:07:29] ax.service.ax_client: Completed trial 125 with data: {'objective': (45576.32, None)}.\n"
     ]
    },
    {
     "name": "stdout",
     "output_type": "stream",
     "text": [
      "45576.32 0.42\n"
     ]
    },
    {
     "name": "stderr",
     "output_type": "stream",
     "text": [
      "/home/kylemcmaster/.local/lib/python3.10/site-packages/linear_operator/utils/cholesky.py:40: NumericalWarning: A not p.d., added jitter of 1.0e-08 to the diagonal\n",
      "  warnings.warn(\n",
      "[INFO 10-26 09:07:31] ax.service.ax_client: Generated new trial 126 with parameters {'path_penalty': 10.0, 'loss_penalty': 10.0, 'score_factor': 2.582563} using model GPEI.\n",
      "[INFO 10-26 09:08:10] ax.service.ax_client: Completed trial 126 with data: {'objective': (39226.88, None)}.\n"
     ]
    },
    {
     "name": "stdout",
     "output_type": "stream",
     "text": [
      "39226.88 0.32\n"
     ]
    },
    {
     "name": "stderr",
     "output_type": "stream",
     "text": [
      "/home/kylemcmaster/.local/lib/python3.10/site-packages/linear_operator/utils/cholesky.py:40: NumericalWarning: A not p.d., added jitter of 1.0e-08 to the diagonal\n",
      "  warnings.warn(\n",
      "[INFO 10-26 09:08:12] ax.service.ax_client: Generated new trial 127 with parameters {'path_penalty': 8.731974, 'loss_penalty': 0.0, 'score_factor': 3.385742} using model GPEI.\n",
      "[INFO 10-26 09:09:00] ax.service.ax_client: Completed trial 127 with data: {'objective': (50100.72, None)}.\n"
     ]
    },
    {
     "name": "stdout",
     "output_type": "stream",
     "text": [
      "50100.72 0.54\n"
     ]
    },
    {
     "name": "stderr",
     "output_type": "stream",
     "text": [
      "/home/kylemcmaster/.local/lib/python3.10/site-packages/linear_operator/utils/cholesky.py:40: NumericalWarning: A not p.d., added jitter of 1.0e-08 to the diagonal\n",
      "  warnings.warn(\n",
      "[INFO 10-26 09:09:02] ax.service.ax_client: Generated new trial 128 with parameters {'path_penalty': 7.626985, 'loss_penalty': 10.0, 'score_factor': 2.714951} using model GPEI.\n",
      "[INFO 10-26 09:09:46] ax.service.ax_client: Completed trial 128 with data: {'objective': (45480.48, None)}.\n"
     ]
    },
    {
     "name": "stdout",
     "output_type": "stream",
     "text": [
      "45480.48 0.48\n"
     ]
    },
    {
     "name": "stderr",
     "output_type": "stream",
     "text": [
      "/home/kylemcmaster/.local/lib/python3.10/site-packages/linear_operator/utils/cholesky.py:40: NumericalWarning: A not p.d., added jitter of 1.0e-08 to the diagonal\n",
      "  warnings.warn(\n",
      "[INFO 10-26 09:09:49] ax.service.ax_client: Generated new trial 129 with parameters {'path_penalty': 9.233272, 'loss_penalty': 0.0, 'score_factor': 3.703024} using model GPEI.\n",
      "[INFO 10-26 09:10:31] ax.service.ax_client: Completed trial 129 with data: {'objective': (41102.72, None)}.\n"
     ]
    },
    {
     "name": "stdout",
     "output_type": "stream",
     "text": [
      "41102.72 0.36\n"
     ]
    },
    {
     "name": "stderr",
     "output_type": "stream",
     "text": [
      "/home/kylemcmaster/.local/lib/python3.10/site-packages/linear_operator/utils/cholesky.py:40: NumericalWarning: A not p.d., added jitter of 1.0e-08 to the diagonal\n",
      "  warnings.warn(\n",
      "[INFO 10-26 09:10:34] ax.service.ax_client: Generated new trial 130 with parameters {'path_penalty': 10.0, 'loss_penalty': 0.0, 'score_factor': 3.610882} using model GPEI.\n",
      "[INFO 10-26 09:11:21] ax.service.ax_client: Completed trial 130 with data: {'objective': (52155.28, None)}.\n"
     ]
    },
    {
     "name": "stdout",
     "output_type": "stream",
     "text": [
      "52155.28 0.6\n"
     ]
    },
    {
     "name": "stderr",
     "output_type": "stream",
     "text": [
      "/home/kylemcmaster/.local/lib/python3.10/site-packages/linear_operator/utils/cholesky.py:40: NumericalWarning: A not p.d., added jitter of 1.0e-08 to the diagonal\n",
      "  warnings.warn(\n",
      "[INFO 10-26 09:11:23] ax.service.ax_client: Generated new trial 131 with parameters {'path_penalty': 5.861276, 'loss_penalty': 10.0, 'score_factor': 1.951099} using model GPEI.\n",
      "[INFO 10-26 09:12:07] ax.service.ax_client: Completed trial 131 with data: {'objective': (43394.16, None)}.\n"
     ]
    },
    {
     "name": "stdout",
     "output_type": "stream",
     "text": [
      "43394.16 0.38\n"
     ]
    },
    {
     "name": "stderr",
     "output_type": "stream",
     "text": [
      "/home/kylemcmaster/.local/lib/python3.10/site-packages/linear_operator/utils/cholesky.py:40: NumericalWarning: A not p.d., added jitter of 1.0e-08 to the diagonal\n",
      "  warnings.warn(\n",
      "[INFO 10-26 09:12:09] ax.service.ax_client: Generated new trial 132 with parameters {'path_penalty': 8.39735, 'loss_penalty': 10.0, 'score_factor': 3.375306} using model GPEI.\n",
      "[INFO 10-26 09:12:52] ax.service.ax_client: Completed trial 132 with data: {'objective': (40433.04, None)}.\n"
     ]
    },
    {
     "name": "stdout",
     "output_type": "stream",
     "text": [
      "40433.04 0.34\n"
     ]
    },
    {
     "name": "stderr",
     "output_type": "stream",
     "text": [
      "/home/kylemcmaster/.local/lib/python3.10/site-packages/linear_operator/utils/cholesky.py:40: NumericalWarning: A not p.d., added jitter of 1.0e-08 to the diagonal\n",
      "  warnings.warn(\n",
      "[INFO 10-26 09:12:54] ax.service.ax_client: Generated new trial 133 with parameters {'path_penalty': 5.971124, 'loss_penalty': 0.0, 'score_factor': 2.499385} using model GPEI.\n",
      "[INFO 10-26 09:13:41] ax.service.ax_client: Completed trial 133 with data: {'objective': (47842.4, None)}.\n"
     ]
    },
    {
     "name": "stdout",
     "output_type": "stream",
     "text": [
      "47842.4 0.48\n"
     ]
    },
    {
     "name": "stderr",
     "output_type": "stream",
     "text": [
      "/home/kylemcmaster/.local/lib/python3.10/site-packages/linear_operator/utils/cholesky.py:40: NumericalWarning: A not p.d., added jitter of 1.0e-08 to the diagonal\n",
      "  warnings.warn(\n",
      "[INFO 10-26 09:13:44] ax.service.ax_client: Generated new trial 134 with parameters {'path_penalty': 10.0, 'loss_penalty': 0.0, 'score_factor': 2.701257} using model GPEI.\n",
      "[INFO 10-26 09:14:23] ax.service.ax_client: Completed trial 134 with data: {'objective': (38938.96, None)}.\n"
     ]
    },
    {
     "name": "stdout",
     "output_type": "stream",
     "text": [
      "38938.96 0.3\n"
     ]
    },
    {
     "name": "stderr",
     "output_type": "stream",
     "text": [
      "/home/kylemcmaster/.local/lib/python3.10/site-packages/linear_operator/utils/cholesky.py:40: NumericalWarning: A not p.d., added jitter of 1.0e-08 to the diagonal\n",
      "  warnings.warn(\n",
      "[INFO 10-26 09:14:26] ax.service.ax_client: Generated new trial 135 with parameters {'path_penalty': 7.342431, 'loss_penalty': 2.229311, 'score_factor': 3.752498} using model GPEI.\n",
      "[INFO 10-26 09:15:08] ax.service.ax_client: Completed trial 135 with data: {'objective': (42475.2, None)}.\n"
     ]
    },
    {
     "name": "stdout",
     "output_type": "stream",
     "text": [
      "42475.2 0.38\n"
     ]
    },
    {
     "name": "stderr",
     "output_type": "stream",
     "text": [
      "/home/kylemcmaster/.local/lib/python3.10/site-packages/linear_operator/utils/cholesky.py:40: NumericalWarning: A not p.d., added jitter of 1.0e-08 to the diagonal\n",
      "  warnings.warn(\n",
      "[INFO 10-26 09:15:10] ax.service.ax_client: Generated new trial 136 with parameters {'path_penalty': 6.024914, 'loss_penalty': 10.0, 'score_factor': 2.326866} using model GPEI.\n",
      "[INFO 10-26 09:15:58] ax.service.ax_client: Completed trial 136 with data: {'objective': (51340.24, None)}.\n"
     ]
    },
    {
     "name": "stdout",
     "output_type": "stream",
     "text": [
      "51340.24 0.56\n"
     ]
    },
    {
     "name": "stderr",
     "output_type": "stream",
     "text": [
      "/home/kylemcmaster/.local/lib/python3.10/site-packages/linear_operator/utils/cholesky.py:40: NumericalWarning: A not p.d., added jitter of 1.0e-08 to the diagonal\n",
      "  warnings.warn(\n",
      "/home/kylemcmaster/.local/lib/python3.10/site-packages/botorch/optim/optimize.py:568: RuntimeWarning: Optimization failed in `gen_candidates_scipy` with the following warning(s):\n",
      "[NumericalWarning('A not p.d., added jitter of 1.0e-08 to the diagonal'), OptimizationWarning('Optimization failed within `scipy.optimize.minimize` with status 2 and message ABNORMAL_TERMINATION_IN_LNSRCH.'), NumericalWarning('A not p.d., added jitter of 1.0e-08 to the diagonal'), OptimizationWarning('Optimization failed within `scipy.optimize.minimize` with status 2 and message ABNORMAL_TERMINATION_IN_LNSRCH.'), OptimizationWarning('Optimization failed within `scipy.optimize.minimize` with status 2 and message ABNORMAL_TERMINATION_IN_LNSRCH.')]\n",
      "Trying again with a new set of initial conditions.\n",
      "  return _optimize_acqf_batch(opt_inputs=opt_inputs)\n",
      "/home/kylemcmaster/.local/lib/python3.10/site-packages/botorch/optim/optimize.py:568: RuntimeWarning: Optimization failed on the second try, after generating a new set of initial conditions.\n",
      "  return _optimize_acqf_batch(opt_inputs=opt_inputs)\n",
      "[INFO 10-26 09:16:03] ax.service.ax_client: Generated new trial 137 with parameters {'path_penalty': 8.782287, 'loss_penalty': 0.0, 'score_factor': 3.830711} using model GPEI.\n",
      "[INFO 10-26 09:16:46] ax.service.ax_client: Completed trial 137 with data: {'objective': (42078.88, None)}.\n"
     ]
    },
    {
     "name": "stdout",
     "output_type": "stream",
     "text": [
      "42078.88 0.34\n"
     ]
    },
    {
     "name": "stderr",
     "output_type": "stream",
     "text": [
      "/home/kylemcmaster/.local/lib/python3.10/site-packages/linear_operator/utils/cholesky.py:40: NumericalWarning: A not p.d., added jitter of 1.0e-08 to the diagonal\n",
      "  warnings.warn(\n",
      "[INFO 10-26 09:16:49] ax.service.ax_client: Generated new trial 138 with parameters {'path_penalty': 9.377631, 'loss_penalty': 0.0, 'score_factor': 3.913517} using model GPEI.\n",
      "[INFO 10-26 09:17:33] ax.service.ax_client: Completed trial 138 with data: {'objective': (46634.32, None)}.\n"
     ]
    },
    {
     "name": "stdout",
     "output_type": "stream",
     "text": [
      "46634.32 0.46\n"
     ]
    },
    {
     "name": "stderr",
     "output_type": "stream",
     "text": [
      "/home/kylemcmaster/.local/lib/python3.10/site-packages/linear_operator/utils/cholesky.py:40: NumericalWarning: A not p.d., added jitter of 1.0e-08 to the diagonal\n",
      "  warnings.warn(\n",
      "[INFO 10-26 09:17:36] ax.service.ax_client: Generated new trial 139 with parameters {'path_penalty': 9.559277, 'loss_penalty': 10.0, 'score_factor': 4.550976} using model GPEI.\n",
      "[INFO 10-26 09:18:22] ax.service.ax_client: Completed trial 139 with data: {'objective': (47435.28, None)}.\n"
     ]
    },
    {
     "name": "stdout",
     "output_type": "stream",
     "text": [
      "47435.28 0.48\n"
     ]
    },
    {
     "name": "stderr",
     "output_type": "stream",
     "text": [
      "/home/kylemcmaster/.local/lib/python3.10/site-packages/linear_operator/utils/cholesky.py:40: NumericalWarning: A not p.d., added jitter of 1.0e-08 to the diagonal\n",
      "  warnings.warn(\n",
      "[INFO 10-26 09:18:25] ax.service.ax_client: Generated new trial 140 with parameters {'path_penalty': 10.0, 'loss_penalty': 0.0, 'score_factor': 4.250643} using model GPEI.\n",
      "[INFO 10-26 09:19:06] ax.service.ax_client: Completed trial 140 with data: {'objective': (41466.56, None)}.\n"
     ]
    },
    {
     "name": "stdout",
     "output_type": "stream",
     "text": [
      "41466.56 0.38\n"
     ]
    },
    {
     "name": "stderr",
     "output_type": "stream",
     "text": [
      "/home/kylemcmaster/.local/lib/python3.10/site-packages/linear_operator/utils/cholesky.py:40: NumericalWarning: A not p.d., added jitter of 1.0e-08 to the diagonal\n",
      "  warnings.warn(\n",
      "[INFO 10-26 09:19:09] ax.service.ax_client: Generated new trial 141 with parameters {'path_penalty': 9.118226, 'loss_penalty': 0.0, 'score_factor': 4.328796} using model GPEI.\n",
      "[INFO 10-26 09:19:56] ax.service.ax_client: Completed trial 141 with data: {'objective': (49134.96, None)}.\n"
     ]
    },
    {
     "name": "stdout",
     "output_type": "stream",
     "text": [
      "49134.96 0.5\n"
     ]
    },
    {
     "name": "stderr",
     "output_type": "stream",
     "text": [
      "/home/kylemcmaster/.local/lib/python3.10/site-packages/linear_operator/utils/cholesky.py:40: NumericalWarning: A not p.d., added jitter of 1.0e-08 to the diagonal\n",
      "  warnings.warn(\n",
      "[INFO 10-26 09:19:58] ax.service.ax_client: Generated new trial 142 with parameters {'path_penalty': 5.904778, 'loss_penalty': 0.0, 'score_factor': 2.330925} using model GPEI.\n",
      "[INFO 10-26 09:20:45] ax.service.ax_client: Completed trial 142 with data: {'objective': (46906.96, None)}.\n"
     ]
    },
    {
     "name": "stdout",
     "output_type": "stream",
     "text": [
      "46906.96 0.42\n"
     ]
    },
    {
     "name": "stderr",
     "output_type": "stream",
     "text": [
      "/home/kylemcmaster/.local/lib/python3.10/site-packages/linear_operator/utils/cholesky.py:40: NumericalWarning: A not p.d., added jitter of 1.0e-08 to the diagonal\n",
      "  warnings.warn(\n",
      "[INFO 10-26 09:20:48] ax.service.ax_client: Generated new trial 143 with parameters {'path_penalty': 6.467865, 'loss_penalty': 2.656618, 'score_factor': 2.376883} using model GPEI.\n",
      "[INFO 10-26 09:21:35] ax.service.ax_client: Completed trial 143 with data: {'objective': (50769.44, None)}.\n"
     ]
    },
    {
     "name": "stdout",
     "output_type": "stream",
     "text": [
      "50769.44 0.58\n"
     ]
    },
    {
     "name": "stderr",
     "output_type": "stream",
     "text": [
      "/home/kylemcmaster/.local/lib/python3.10/site-packages/linear_operator/utils/cholesky.py:40: NumericalWarning: A not p.d., added jitter of 1.0e-08 to the diagonal\n",
      "  warnings.warn(\n",
      "[INFO 10-26 09:21:38] ax.service.ax_client: Generated new trial 144 with parameters {'path_penalty': 10.0, 'loss_penalty': 10.0, 'score_factor': 3.079265} using model GPEI.\n",
      "[INFO 10-26 09:22:24] ax.service.ax_client: Completed trial 144 with data: {'objective': (52090.24, None)}.\n"
     ]
    },
    {
     "name": "stdout",
     "output_type": "stream",
     "text": [
      "52090.24 0.52\n"
     ]
    },
    {
     "name": "stderr",
     "output_type": "stream",
     "text": [
      "/home/kylemcmaster/.local/lib/python3.10/site-packages/linear_operator/utils/cholesky.py:40: NumericalWarning: A not p.d., added jitter of 1.0e-08 to the diagonal\n",
      "  warnings.warn(\n",
      "[INFO 10-26 09:22:27] ax.service.ax_client: Generated new trial 145 with parameters {'path_penalty': 9.545635, 'loss_penalty': 0.0, 'score_factor': 3.484747} using model GPEI.\n",
      "[INFO 10-26 09:23:14] ax.service.ax_client: Completed trial 145 with data: {'objective': (50336.08, None)}.\n"
     ]
    },
    {
     "name": "stdout",
     "output_type": "stream",
     "text": [
      "50336.08 0.6\n"
     ]
    },
    {
     "name": "stderr",
     "output_type": "stream",
     "text": [
      "/home/kylemcmaster/.local/lib/python3.10/site-packages/linear_operator/utils/cholesky.py:40: NumericalWarning: A not p.d., added jitter of 1.0e-08 to the diagonal\n",
      "  warnings.warn(\n",
      "[INFO 10-26 09:23:17] ax.service.ax_client: Generated new trial 146 with parameters {'path_penalty': 6.332173, 'loss_penalty': 10.0, 'score_factor': 2.236319} using model GPEI.\n",
      "[INFO 10-26 09:24:01] ax.service.ax_client: Completed trial 146 with data: {'objective': (46483.68, None)}.\n"
     ]
    },
    {
     "name": "stdout",
     "output_type": "stream",
     "text": [
      "46483.68 0.44\n"
     ]
    },
    {
     "name": "stderr",
     "output_type": "stream",
     "text": [
      "/home/kylemcmaster/.local/lib/python3.10/site-packages/linear_operator/utils/cholesky.py:40: NumericalWarning: A not p.d., added jitter of 1.0e-08 to the diagonal\n",
      "  warnings.warn(\n",
      "[INFO 10-26 09:24:04] ax.service.ax_client: Generated new trial 147 with parameters {'path_penalty': 9.445631, 'loss_penalty': 10.0, 'score_factor': 3.860069} using model GPEI.\n",
      "[INFO 10-26 09:24:49] ax.service.ax_client: Completed trial 147 with data: {'objective': (48209.84, None)}.\n"
     ]
    },
    {
     "name": "stdout",
     "output_type": "stream",
     "text": [
      "48209.84 0.54\n"
     ]
    },
    {
     "name": "stderr",
     "output_type": "stream",
     "text": [
      "/home/kylemcmaster/.local/lib/python3.10/site-packages/linear_operator/utils/cholesky.py:40: NumericalWarning: A not p.d., added jitter of 1.0e-08 to the diagonal\n",
      "  warnings.warn(\n",
      "[INFO 10-26 09:24:52] ax.service.ax_client: Generated new trial 148 with parameters {'path_penalty': 9.674729, 'loss_penalty': 10.0, 'score_factor': 3.508921} using model GPEI.\n",
      "[INFO 10-26 09:25:36] ax.service.ax_client: Completed trial 148 with data: {'objective': (45562.48, None)}.\n"
     ]
    },
    {
     "name": "stdout",
     "output_type": "stream",
     "text": [
      "45562.48 0.52\n"
     ]
    },
    {
     "name": "stderr",
     "output_type": "stream",
     "text": [
      "/home/kylemcmaster/.local/lib/python3.10/site-packages/linear_operator/utils/cholesky.py:40: NumericalWarning: A not p.d., added jitter of 1.0e-08 to the diagonal\n",
      "  warnings.warn(\n",
      "[INFO 10-26 09:25:39] ax.service.ax_client: Generated new trial 149 with parameters {'path_penalty': 4.930492, 'loss_penalty': 4.169745, 'score_factor': 2.257276} using model GPEI.\n",
      "[INFO 10-26 09:26:27] ax.service.ax_client: Completed trial 149 with data: {'objective': (49103.76, None)}.\n"
     ]
    },
    {
     "name": "stdout",
     "output_type": "stream",
     "text": [
      "49103.76 0.48\n"
     ]
    },
    {
     "name": "stderr",
     "output_type": "stream",
     "text": [
      "/home/kylemcmaster/.local/lib/python3.10/site-packages/linear_operator/utils/cholesky.py:40: NumericalWarning: A not p.d., added jitter of 1.0e-08 to the diagonal\n",
      "  warnings.warn(\n",
      "[INFO 10-26 09:26:29] ax.service.ax_client: Generated new trial 150 with parameters {'path_penalty': 5.583024, 'loss_penalty': 10.0, 'score_factor': 2.226887} using model GPEI.\n",
      "[INFO 10-26 09:27:17] ax.service.ax_client: Completed trial 150 with data: {'objective': (50134.48, None)}.\n"
     ]
    },
    {
     "name": "stdout",
     "output_type": "stream",
     "text": [
      "50134.48 0.58\n"
     ]
    },
    {
     "name": "stderr",
     "output_type": "stream",
     "text": [
      "/home/kylemcmaster/.local/lib/python3.10/site-packages/linear_operator/utils/cholesky.py:40: NumericalWarning: A not p.d., added jitter of 1.0e-08 to the diagonal\n",
      "  warnings.warn(\n",
      "/home/kylemcmaster/.local/lib/python3.10/site-packages/botorch/optim/optimize.py:568: RuntimeWarning: Optimization failed in `gen_candidates_scipy` with the following warning(s):\n",
      "[NumericalWarning('A not p.d., added jitter of 1.0e-08 to the diagonal'), NumericalWarning('A not p.d., added jitter of 1.0e-07 to the diagonal'), NumericalWarning('A not p.d., added jitter of 1.0e-06 to the diagonal'), OptimizationWarning('Optimization failed within `scipy.optimize.minimize` with status 2 and message ABNORMAL_TERMINATION_IN_LNSRCH.'), NumericalWarning('A not p.d., added jitter of 1.0e-08 to the diagonal'), NumericalWarning('A not p.d., added jitter of 1.0e-08 to the diagonal'), OptimizationWarning('Optimization failed within `scipy.optimize.minimize` with status 2 and message ABNORMAL_TERMINATION_IN_LNSRCH.'), NumericalWarning('A not p.d., added jitter of 1.0e-08 to the diagonal'), NumericalWarning('A not p.d., added jitter of 1.0e-07 to the diagonal'), NumericalWarning('A not p.d., added jitter of 1.0e-06 to the diagonal'), NumericalWarning('A not p.d., added jitter of 1.0e-05 to the diagonal'), OptimizationWarning('Optimization failed within `scipy.optimize.minimize` with status 2 and message ABNORMAL_TERMINATION_IN_LNSRCH.'), NumericalWarning('A not p.d., added jitter of 1.0e-08 to the diagonal'), NumericalWarning('A not p.d., added jitter of 1.0e-08 to the diagonal'), NumericalWarning('A not p.d., added jitter of 1.0e-07 to the diagonal'), NumericalWarning('A not p.d., added jitter of 1.0e-06 to the diagonal'), NumericalWarning('A not p.d., added jitter of 1.0e-05 to the diagonal'), OptimizationWarning('Optimization failed within `scipy.optimize.minimize` with status 2 and message ABNORMAL_TERMINATION_IN_LNSRCH.'), NumericalWarning('A not p.d., added jitter of 1.0e-08 to the diagonal')]\n",
      "Trying again with a new set of initial conditions.\n",
      "  return _optimize_acqf_batch(opt_inputs=opt_inputs)\n",
      "/home/kylemcmaster/.local/lib/python3.10/site-packages/botorch/optim/optimize.py:568: RuntimeWarning: Optimization failed on the second try, after generating a new set of initial conditions.\n",
      "  return _optimize_acqf_batch(opt_inputs=opt_inputs)\n",
      "/home/kylemcmaster/.local/lib/python3.10/site-packages/linear_operator/utils/cholesky.py:40: NumericalWarning: A not p.d., added jitter of 1.0e-08 to the diagonal\n",
      "  warnings.warn(\n",
      "[INFO 10-26 09:27:22] ax.service.ax_client: Generated new trial 151 with parameters {'path_penalty': 5.900838, 'loss_penalty': 0.0, 'score_factor': 2.196702} using model GPEI.\n",
      "[INFO 10-26 09:28:05] ax.service.ax_client: Completed trial 151 with data: {'objective': (42543.12, None)}.\n"
     ]
    },
    {
     "name": "stdout",
     "output_type": "stream",
     "text": [
      "42543.12 0.38\n"
     ]
    },
    {
     "name": "stderr",
     "output_type": "stream",
     "text": [
      "/home/kylemcmaster/.local/lib/python3.10/site-packages/linear_operator/utils/cholesky.py:40: NumericalWarning: A not p.d., added jitter of 1.0e-08 to the diagonal\n",
      "  warnings.warn(\n",
      "[INFO 10-26 09:28:07] ax.service.ax_client: Generated new trial 152 with parameters {'path_penalty': 9.594854, 'loss_penalty': 5.607364, 'score_factor': 3.643492} using model GPEI.\n",
      "[INFO 10-26 09:28:52] ax.service.ax_client: Completed trial 152 with data: {'objective': (47832.4, None)}.\n"
     ]
    },
    {
     "name": "stdout",
     "output_type": "stream",
     "text": [
      "47832.4 0.48\n"
     ]
    },
    {
     "name": "stderr",
     "output_type": "stream",
     "text": [
      "/home/kylemcmaster/.local/lib/python3.10/site-packages/linear_operator/utils/cholesky.py:40: NumericalWarning: A not p.d., added jitter of 1.0e-08 to the diagonal\n",
      "  warnings.warn(\n",
      "[INFO 10-26 09:28:55] ax.service.ax_client: Generated new trial 153 with parameters {'path_penalty': 5.845751, 'loss_penalty': 10.0, 'score_factor': 2.28941} using model GPEI.\n",
      "[INFO 10-26 09:29:40] ax.service.ax_client: Completed trial 153 with data: {'objective': (45195.04, None)}.\n"
     ]
    },
    {
     "name": "stdout",
     "output_type": "stream",
     "text": [
      "45195.04 0.38\n"
     ]
    },
    {
     "name": "stderr",
     "output_type": "stream",
     "text": [
      "/home/kylemcmaster/.local/lib/python3.10/site-packages/linear_operator/utils/cholesky.py:40: NumericalWarning: A not p.d., added jitter of 1.0e-08 to the diagonal\n",
      "  warnings.warn(\n",
      "[INFO 10-26 09:29:43] ax.service.ax_client: Generated new trial 154 with parameters {'path_penalty': 10.0, 'loss_penalty': 4.93371, 'score_factor': 3.591458} using model GPEI.\n",
      "[INFO 10-26 09:30:30] ax.service.ax_client: Completed trial 154 with data: {'objective': (51969.44, None)}.\n"
     ]
    },
    {
     "name": "stdout",
     "output_type": "stream",
     "text": [
      "51969.44 0.48\n"
     ]
    },
    {
     "name": "stderr",
     "output_type": "stream",
     "text": [
      "/home/kylemcmaster/.local/lib/python3.10/site-packages/linear_operator/utils/cholesky.py:40: NumericalWarning: A not p.d., added jitter of 1.0e-08 to the diagonal\n",
      "  warnings.warn(\n",
      "[INFO 10-26 09:30:33] ax.service.ax_client: Generated new trial 155 with parameters {'path_penalty': 5.762255, 'loss_penalty': 10.0, 'score_factor': 2.395129} using model GPEI.\n",
      "[INFO 10-26 09:31:19] ax.service.ax_client: Completed trial 155 with data: {'objective': (46936.72, None)}.\n"
     ]
    },
    {
     "name": "stdout",
     "output_type": "stream",
     "text": [
      "46936.72 0.48\n"
     ]
    },
    {
     "name": "stderr",
     "output_type": "stream",
     "text": [
      "/home/kylemcmaster/.local/lib/python3.10/site-packages/linear_operator/utils/cholesky.py:40: NumericalWarning: A not p.d., added jitter of 1.0e-08 to the diagonal\n",
      "  warnings.warn(\n",
      "[INFO 10-26 09:31:22] ax.service.ax_client: Generated new trial 156 with parameters {'path_penalty': 10.0, 'loss_penalty': 10.0, 'score_factor': 3.512397} using model GPEI.\n",
      "[INFO 10-26 09:32:07] ax.service.ax_client: Completed trial 156 with data: {'objective': (46972.88, None)}.\n"
     ]
    },
    {
     "name": "stdout",
     "output_type": "stream",
     "text": [
      "46972.88 0.42\n"
     ]
    },
    {
     "name": "stderr",
     "output_type": "stream",
     "text": [
      "/home/kylemcmaster/.local/lib/python3.10/site-packages/linear_operator/utils/cholesky.py:40: NumericalWarning: A not p.d., added jitter of 1.0e-08 to the diagonal\n",
      "  warnings.warn(\n",
      "[INFO 10-26 09:32:10] ax.service.ax_client: Generated new trial 157 with parameters {'path_penalty': 10.0, 'loss_penalty': 4.352771, 'score_factor': 3.384171} using model GPEI.\n",
      "[INFO 10-26 09:32:54] ax.service.ax_client: Completed trial 157 with data: {'objective': (46259.2, None)}.\n"
     ]
    },
    {
     "name": "stdout",
     "output_type": "stream",
     "text": [
      "46259.2 0.48\n"
     ]
    },
    {
     "name": "stderr",
     "output_type": "stream",
     "text": [
      "/home/kylemcmaster/.local/lib/python3.10/site-packages/linear_operator/utils/cholesky.py:40: NumericalWarning: A not p.d., added jitter of 1.0e-08 to the diagonal\n",
      "  warnings.warn(\n",
      "[INFO 10-26 09:32:57] ax.service.ax_client: Generated new trial 158 with parameters {'path_penalty': 10.0, 'loss_penalty': 0.0, 'score_factor': 3.333337} using model GPEI.\n",
      "[INFO 10-26 09:33:47] ax.service.ax_client: Completed trial 158 with data: {'objective': (51801.2, None)}.\n"
     ]
    },
    {
     "name": "stdout",
     "output_type": "stream",
     "text": [
      "51801.2 0.58\n"
     ]
    },
    {
     "name": "stderr",
     "output_type": "stream",
     "text": [
      "/home/kylemcmaster/.local/lib/python3.10/site-packages/linear_operator/utils/cholesky.py:40: NumericalWarning: A not p.d., added jitter of 1.0e-08 to the diagonal\n",
      "  warnings.warn(\n",
      "[INFO 10-26 09:33:51] ax.service.ax_client: Generated new trial 159 with parameters {'path_penalty': 10.0, 'loss_penalty': 4.824414, 'score_factor': 3.740689} using model GPEI.\n",
      "[INFO 10-26 09:34:34] ax.service.ax_client: Completed trial 159 with data: {'objective': (44353.92, None)}.\n"
     ]
    },
    {
     "name": "stdout",
     "output_type": "stream",
     "text": [
      "44353.92 0.4\n"
     ]
    },
    {
     "name": "stderr",
     "output_type": "stream",
     "text": [
      "/home/kylemcmaster/.local/lib/python3.10/site-packages/linear_operator/utils/cholesky.py:40: NumericalWarning: A not p.d., added jitter of 1.0e-08 to the diagonal\n",
      "  warnings.warn(\n",
      "[INFO 10-26 09:34:37] ax.service.ax_client: Generated new trial 160 with parameters {'path_penalty': 9.183991, 'loss_penalty': 0.0, 'score_factor': 2.961252} using model GPEI.\n",
      "[INFO 10-26 09:35:16] ax.service.ax_client: Completed trial 160 with data: {'objective': (41411.28, None)}.\n"
     ]
    },
    {
     "name": "stdout",
     "output_type": "stream",
     "text": [
      "41411.28 0.4\n"
     ]
    },
    {
     "name": "stderr",
     "output_type": "stream",
     "text": [
      "/home/kylemcmaster/.local/lib/python3.10/site-packages/linear_operator/utils/cholesky.py:40: NumericalWarning: A not p.d., added jitter of 1.0e-08 to the diagonal\n",
      "  warnings.warn(\n",
      "[INFO 10-26 09:35:19] ax.service.ax_client: Generated new trial 161 with parameters {'path_penalty': 9.720281, 'loss_penalty': 0.0, 'score_factor': 3.818968} using model GPEI.\n",
      "[INFO 10-26 09:36:05] ax.service.ax_client: Completed trial 161 with data: {'objective': (49403.84, None)}.\n"
     ]
    },
    {
     "name": "stdout",
     "output_type": "stream",
     "text": [
      "49403.84 0.54\n"
     ]
    },
    {
     "name": "stderr",
     "output_type": "stream",
     "text": [
      "/home/kylemcmaster/.local/lib/python3.10/site-packages/linear_operator/utils/cholesky.py:40: NumericalWarning: A not p.d., added jitter of 1.0e-08 to the diagonal\n",
      "  warnings.warn(\n",
      "/home/kylemcmaster/.local/lib/python3.10/site-packages/botorch/optim/optimize.py:568: RuntimeWarning: Optimization failed in `gen_candidates_scipy` with the following warning(s):\n",
      "[NumericalWarning('A not p.d., added jitter of 1.0e-08 to the diagonal'), NumericalWarning('A not p.d., added jitter of 1.0e-07 to the diagonal'), NumericalWarning('A not p.d., added jitter of 1.0e-06 to the diagonal'), NumericalWarning('A not p.d., added jitter of 1.0e-05 to the diagonal'), NumericalWarning('A not p.d., added jitter of 1.0e-04 to the diagonal'), OptimizationWarning('Optimization failed within `scipy.optimize.minimize` with status 2 and message ABNORMAL_TERMINATION_IN_LNSRCH.'), NumericalWarning('A not p.d., added jitter of 1.0e-08 to the diagonal'), OptimizationWarning('Optimization failed within `scipy.optimize.minimize` with status 2 and message ABNORMAL_TERMINATION_IN_LNSRCH.'), NumericalWarning('A not p.d., added jitter of 1.0e-08 to the diagonal'), NumericalWarning('A not p.d., added jitter of 1.0e-08 to the diagonal'), NumericalWarning('A not p.d., added jitter of 1.0e-07 to the diagonal'), NumericalWarning('A not p.d., added jitter of 1.0e-06 to the diagonal'), NumericalWarning('A not p.d., added jitter of 1.0e-05 to the diagonal'), NumericalWarning('A not p.d., added jitter of 1.0e-04 to the diagonal'), NumericalWarning('A not p.d., added jitter of 1.0e-03 to the diagonal'), BotorchWarning('Low-rank cholesky updates failed due NaNs or due to an ill-conditioned covariance matrix. Falling back to standard sampling.'), OptimizationWarning('Optimization failed within `scipy.optimize.minimize` with status 2 and message ABNORMAL_TERMINATION_IN_LNSRCH.'), NumericalWarning('A not p.d., added jitter of 1.0e-08 to the diagonal'), OptimizationWarning('Optimization failed within `scipy.optimize.minimize` with status 2 and message ABNORMAL_TERMINATION_IN_LNSRCH.'), NumericalWarning('A not p.d., added jitter of 1.0e-08 to the diagonal')]\n",
      "Trying again with a new set of initial conditions.\n",
      "  return _optimize_acqf_batch(opt_inputs=opt_inputs)\n",
      "/home/kylemcmaster/.local/lib/python3.10/site-packages/botorch/optim/optimize.py:568: RuntimeWarning: Optimization failed on the second try, after generating a new set of initial conditions.\n",
      "  return _optimize_acqf_batch(opt_inputs=opt_inputs)\n",
      "/home/kylemcmaster/.local/lib/python3.10/site-packages/linear_operator/utils/cholesky.py:40: NumericalWarning: A not p.d., added jitter of 1.0e-08 to the diagonal\n",
      "  warnings.warn(\n",
      "[INFO 10-26 09:36:11] ax.service.ax_client: Generated new trial 162 with parameters {'path_penalty': 6.335511, 'loss_penalty': 10.0, 'score_factor': 2.400581} using model GPEI.\n",
      "[INFO 10-26 09:36:53] ax.service.ax_client: Completed trial 162 with data: {'objective': (43738.56, None)}.\n"
     ]
    },
    {
     "name": "stdout",
     "output_type": "stream",
     "text": [
      "43738.56 0.4\n"
     ]
    },
    {
     "name": "stderr",
     "output_type": "stream",
     "text": [
      "/home/kylemcmaster/.local/lib/python3.10/site-packages/linear_operator/utils/cholesky.py:40: NumericalWarning: A not p.d., added jitter of 1.0e-08 to the diagonal\n",
      "  warnings.warn(\n",
      "[INFO 10-26 09:36:56] ax.service.ax_client: Generated new trial 163 with parameters {'path_penalty': 6.34604, 'loss_penalty': 3.61367, 'score_factor': 2.2888} using model GPEI.\n",
      "[INFO 10-26 09:37:42] ax.service.ax_client: Completed trial 163 with data: {'objective': (47783.76, None)}.\n"
     ]
    },
    {
     "name": "stdout",
     "output_type": "stream",
     "text": [
      "47783.76 0.52\n"
     ]
    },
    {
     "name": "stderr",
     "output_type": "stream",
     "text": [
      "/home/kylemcmaster/.local/lib/python3.10/site-packages/linear_operator/utils/cholesky.py:40: NumericalWarning: A not p.d., added jitter of 1.0e-08 to the diagonal\n",
      "  warnings.warn(\n",
      "[INFO 10-26 09:37:45] ax.service.ax_client: Generated new trial 164 with parameters {'path_penalty': 7.229187, 'loss_penalty': 0.0, 'score_factor': 4.688987} using model GPEI.\n",
      "[INFO 10-26 09:38:25] ax.service.ax_client: Completed trial 164 with data: {'objective': (39440.4, None)}.\n"
     ]
    },
    {
     "name": "stdout",
     "output_type": "stream",
     "text": [
      "39440.4 0.38\n"
     ]
    },
    {
     "name": "stderr",
     "output_type": "stream",
     "text": [
      "/home/kylemcmaster/.local/lib/python3.10/site-packages/linear_operator/utils/cholesky.py:40: NumericalWarning: A not p.d., added jitter of 1.0e-08 to the diagonal\n",
      "  warnings.warn(\n",
      "[INFO 10-26 09:38:28] ax.service.ax_client: Generated new trial 165 with parameters {'path_penalty': 7.923299, 'loss_penalty': 0.0, 'score_factor': 4.115954} using model GPEI.\n",
      "[INFO 10-26 09:39:10] ax.service.ax_client: Completed trial 165 with data: {'objective': (42120.72, None)}.\n"
     ]
    },
    {
     "name": "stdout",
     "output_type": "stream",
     "text": [
      "42120.72 0.4\n"
     ]
    },
    {
     "name": "stderr",
     "output_type": "stream",
     "text": [
      "/home/kylemcmaster/.local/lib/python3.10/site-packages/linear_operator/utils/cholesky.py:40: NumericalWarning: A not p.d., added jitter of 1.0e-08 to the diagonal\n",
      "  warnings.warn(\n",
      "[INFO 10-26 09:39:13] ax.service.ax_client: Generated new trial 166 with parameters {'path_penalty': 5.934037, 'loss_penalty': 1.548486, 'score_factor': 2.126317} using model GPEI.\n",
      "[INFO 10-26 09:39:59] ax.service.ax_client: Completed trial 166 with data: {'objective': (49115.92, None)}.\n"
     ]
    },
    {
     "name": "stdout",
     "output_type": "stream",
     "text": [
      "49115.92 0.54\n"
     ]
    },
    {
     "name": "stderr",
     "output_type": "stream",
     "text": [
      "/home/kylemcmaster/.local/lib/python3.10/site-packages/linear_operator/utils/cholesky.py:40: NumericalWarning: A not p.d., added jitter of 1.0e-08 to the diagonal\n",
      "  warnings.warn(\n",
      "[INFO 10-26 09:40:02] ax.service.ax_client: Generated new trial 167 with parameters {'path_penalty': 10.0, 'loss_penalty': 10.0, 'score_factor': 3.093947} using model GPEI.\n",
      "[INFO 10-26 09:40:46] ax.service.ax_client: Completed trial 167 with data: {'objective': (44423.6, None)}.\n"
     ]
    },
    {
     "name": "stdout",
     "output_type": "stream",
     "text": [
      "44423.6 0.42\n"
     ]
    },
    {
     "name": "stderr",
     "output_type": "stream",
     "text": [
      "/home/kylemcmaster/.local/lib/python3.10/site-packages/linear_operator/utils/cholesky.py:40: NumericalWarning: A not p.d., added jitter of 1.0e-08 to the diagonal\n",
      "  warnings.warn(\n",
      "[INFO 10-26 09:40:49] ax.service.ax_client: Generated new trial 168 with parameters {'path_penalty': 6.895395, 'loss_penalty': 10.0, 'score_factor': 2.684096} using model GPEI.\n",
      "[INFO 10-26 09:41:35] ax.service.ax_client: Completed trial 168 with data: {'objective': (48375.28, None)}.\n"
     ]
    },
    {
     "name": "stdout",
     "output_type": "stream",
     "text": [
      "48375.28 0.48\n"
     ]
    },
    {
     "name": "stderr",
     "output_type": "stream",
     "text": [
      "/home/kylemcmaster/.local/lib/python3.10/site-packages/linear_operator/utils/cholesky.py:40: NumericalWarning: A not p.d., added jitter of 1.0e-08 to the diagonal\n",
      "  warnings.warn(\n",
      "[INFO 10-26 09:41:38] ax.service.ax_client: Generated new trial 169 with parameters {'path_penalty': 10.0, 'loss_penalty': 10.0, 'score_factor': 3.718113} using model GPEI.\n",
      "[INFO 10-26 09:42:20] ax.service.ax_client: Completed trial 169 with data: {'objective': (43730.8, None)}.\n"
     ]
    },
    {
     "name": "stdout",
     "output_type": "stream",
     "text": [
      "43730.8 0.38\n"
     ]
    },
    {
     "name": "stderr",
     "output_type": "stream",
     "text": [
      "/home/kylemcmaster/.local/lib/python3.10/site-packages/linear_operator/utils/cholesky.py:40: NumericalWarning: A not p.d., added jitter of 1.0e-08 to the diagonal\n",
      "  warnings.warn(\n",
      "[INFO 10-26 09:42:23] ax.service.ax_client: Generated new trial 170 with parameters {'path_penalty': 6.475999, 'loss_penalty': 5.32123, 'score_factor': 2.576592} using model GPEI.\n",
      "[INFO 10-26 09:43:05] ax.service.ax_client: Completed trial 170 with data: {'objective': (42723.68, None)}.\n"
     ]
    },
    {
     "name": "stdout",
     "output_type": "stream",
     "text": [
      "42723.68 0.36\n"
     ]
    },
    {
     "name": "stderr",
     "output_type": "stream",
     "text": [
      "/home/kylemcmaster/.local/lib/python3.10/site-packages/linear_operator/utils/cholesky.py:40: NumericalWarning: A not p.d., added jitter of 1.0e-08 to the diagonal\n",
      "  warnings.warn(\n",
      "[INFO 10-26 09:43:08] ax.service.ax_client: Generated new trial 171 with parameters {'path_penalty': 6.052938, 'loss_penalty': 10.0, 'score_factor': 2.233931} using model GPEI.\n",
      "[INFO 10-26 09:43:54] ax.service.ax_client: Completed trial 171 with data: {'objective': (48148.0, None)}.\n"
     ]
    },
    {
     "name": "stdout",
     "output_type": "stream",
     "text": [
      "48148.0 0.48\n"
     ]
    },
    {
     "name": "stderr",
     "output_type": "stream",
     "text": [
      "/home/kylemcmaster/.local/lib/python3.10/site-packages/linear_operator/utils/cholesky.py:40: NumericalWarning: A not p.d., added jitter of 1.0e-08 to the diagonal\n",
      "  warnings.warn(\n",
      "[INFO 10-26 09:43:58] ax.service.ax_client: Generated new trial 172 with parameters {'path_penalty': 9.473578, 'loss_penalty': 0.0, 'score_factor': 3.639216} using model GPEI.\n",
      "[INFO 10-26 09:44:44] ax.service.ax_client: Completed trial 172 with data: {'objective': (49460.32, None)}.\n"
     ]
    },
    {
     "name": "stdout",
     "output_type": "stream",
     "text": [
      "49460.32 0.58\n"
     ]
    },
    {
     "name": "stderr",
     "output_type": "stream",
     "text": [
      "/home/kylemcmaster/.local/lib/python3.10/site-packages/linear_operator/utils/cholesky.py:40: NumericalWarning: A not p.d., added jitter of 1.0e-08 to the diagonal\n",
      "  warnings.warn(\n",
      "[INFO 10-26 09:44:48] ax.service.ax_client: Generated new trial 173 with parameters {'path_penalty': 5.154992, 'loss_penalty': 10.0, 'score_factor': 2.152913} using model GPEI.\n",
      "[INFO 10-26 09:45:28] ax.service.ax_client: Completed trial 173 with data: {'objective': (41030.96, None)}.\n"
     ]
    },
    {
     "name": "stdout",
     "output_type": "stream",
     "text": [
      "41030.96 0.42\n"
     ]
    },
    {
     "name": "stderr",
     "output_type": "stream",
     "text": [
      "/home/kylemcmaster/.local/lib/python3.10/site-packages/linear_operator/utils/cholesky.py:40: NumericalWarning: A not p.d., added jitter of 1.0e-08 to the diagonal\n",
      "  warnings.warn(\n",
      "[INFO 10-26 09:45:32] ax.service.ax_client: Generated new trial 174 with parameters {'path_penalty': 9.723274, 'loss_penalty': 0.0, 'score_factor': 3.599497} using model GPEI.\n",
      "[INFO 10-26 09:46:17] ax.service.ax_client: Completed trial 174 with data: {'objective': (48223.04, None)}.\n"
     ]
    },
    {
     "name": "stdout",
     "output_type": "stream",
     "text": [
      "48223.04 0.52\n"
     ]
    },
    {
     "name": "stderr",
     "output_type": "stream",
     "text": [
      "/home/kylemcmaster/.local/lib/python3.10/site-packages/linear_operator/utils/cholesky.py:40: NumericalWarning: A not p.d., added jitter of 1.0e-08 to the diagonal\n",
      "  warnings.warn(\n",
      "[INFO 10-26 09:46:20] ax.service.ax_client: Generated new trial 175 with parameters {'path_penalty': 5.298428, 'loss_penalty': 0.0, 'score_factor': 2.448774} using model GPEI.\n",
      "[INFO 10-26 09:47:05] ax.service.ax_client: Completed trial 175 with data: {'objective': (47709.84, None)}.\n"
     ]
    },
    {
     "name": "stdout",
     "output_type": "stream",
     "text": [
      "47709.84 0.5\n"
     ]
    },
    {
     "name": "stderr",
     "output_type": "stream",
     "text": [
      "/home/kylemcmaster/.local/lib/python3.10/site-packages/linear_operator/utils/cholesky.py:40: NumericalWarning: A not p.d., added jitter of 1.0e-08 to the diagonal\n",
      "  warnings.warn(\n",
      "/home/kylemcmaster/.local/lib/python3.10/site-packages/botorch/optim/optimize.py:568: RuntimeWarning: Optimization failed in `gen_candidates_scipy` with the following warning(s):\n",
      "[OptimizationWarning('Optimization failed within `scipy.optimize.minimize` with status 2 and message ABNORMAL_TERMINATION_IN_LNSRCH.')]\n",
      "Trying again with a new set of initial conditions.\n",
      "  return _optimize_acqf_batch(opt_inputs=opt_inputs)\n",
      "[INFO 10-26 09:47:10] ax.service.ax_client: Generated new trial 176 with parameters {'path_penalty': 9.470396, 'loss_penalty': 10.0, 'score_factor': 3.410782} using model GPEI.\n",
      "[INFO 10-26 09:48:00] ax.service.ax_client: Completed trial 176 with data: {'objective': (53961.84, None)}.\n"
     ]
    },
    {
     "name": "stdout",
     "output_type": "stream",
     "text": [
      "53961.84 0.6\n"
     ]
    },
    {
     "name": "stderr",
     "output_type": "stream",
     "text": [
      "/home/kylemcmaster/.local/lib/python3.10/site-packages/linear_operator/utils/cholesky.py:40: NumericalWarning: A not p.d., added jitter of 1.0e-08 to the diagonal\n",
      "  warnings.warn(\n",
      "[INFO 10-26 09:48:03] ax.service.ax_client: Generated new trial 177 with parameters {'path_penalty': 5.348168, 'loss_penalty': 10.0, 'score_factor': 2.477074} using model GPEI.\n",
      "[INFO 10-26 09:48:48] ax.service.ax_client: Completed trial 177 with data: {'objective': (47296.16, None)}.\n"
     ]
    },
    {
     "name": "stdout",
     "output_type": "stream",
     "text": [
      "47296.16 0.44\n"
     ]
    },
    {
     "name": "stderr",
     "output_type": "stream",
     "text": [
      "/home/kylemcmaster/.local/lib/python3.10/site-packages/linear_operator/utils/cholesky.py:40: NumericalWarning: A not p.d., added jitter of 1.0e-08 to the diagonal\n",
      "  warnings.warn(\n",
      "[INFO 10-26 09:48:51] ax.service.ax_client: Generated new trial 178 with parameters {'path_penalty': 9.038634, 'loss_penalty': 10.0, 'score_factor': 2.683089} using model GPEI.\n",
      "[INFO 10-26 09:49:31] ax.service.ax_client: Completed trial 178 with data: {'objective': (41609.84, None)}.\n"
     ]
    },
    {
     "name": "stdout",
     "output_type": "stream",
     "text": [
      "41609.84 0.42\n"
     ]
    },
    {
     "name": "stderr",
     "output_type": "stream",
     "text": [
      "/home/kylemcmaster/.local/lib/python3.10/site-packages/linear_operator/utils/cholesky.py:40: NumericalWarning: A not p.d., added jitter of 1.0e-08 to the diagonal\n",
      "  warnings.warn(\n",
      "[INFO 10-26 09:49:35] ax.service.ax_client: Generated new trial 179 with parameters {'path_penalty': 6.183655, 'loss_penalty': 4.889464, 'score_factor': 2.186039} using model GPEI.\n",
      "[INFO 10-26 09:50:20] ax.service.ax_client: Completed trial 179 with data: {'objective': (46895.44, None)}.\n"
     ]
    },
    {
     "name": "stdout",
     "output_type": "stream",
     "text": [
      "46895.44 0.46\n"
     ]
    },
    {
     "name": "stderr",
     "output_type": "stream",
     "text": [
      "/home/kylemcmaster/.local/lib/python3.10/site-packages/linear_operator/utils/cholesky.py:40: NumericalWarning: A not p.d., added jitter of 1.0e-08 to the diagonal\n",
      "  warnings.warn(\n",
      "[INFO 10-26 09:50:24] ax.service.ax_client: Generated new trial 180 with parameters {'path_penalty': 10.0, 'loss_penalty': 10.0, 'score_factor': 4.20777} using model GPEI.\n",
      "[INFO 10-26 09:51:05] ax.service.ax_client: Completed trial 180 with data: {'objective': (42517.04, None)}.\n"
     ]
    },
    {
     "name": "stdout",
     "output_type": "stream",
     "text": [
      "42517.04 0.38\n"
     ]
    },
    {
     "name": "stderr",
     "output_type": "stream",
     "text": [
      "/home/kylemcmaster/.local/lib/python3.10/site-packages/linear_operator/utils/cholesky.py:40: NumericalWarning: A not p.d., added jitter of 1.0e-08 to the diagonal\n",
      "  warnings.warn(\n",
      "[INFO 10-26 09:51:09] ax.service.ax_client: Generated new trial 181 with parameters {'path_penalty': 9.398319, 'loss_penalty': 0.0, 'score_factor': 3.515156} using model GPEI.\n",
      "[INFO 10-26 09:51:51] ax.service.ax_client: Completed trial 181 with data: {'objective': (42644.88, None)}.\n"
     ]
    },
    {
     "name": "stdout",
     "output_type": "stream",
     "text": [
      "42644.88 0.42\n"
     ]
    },
    {
     "name": "stderr",
     "output_type": "stream",
     "text": [
      "/home/kylemcmaster/.local/lib/python3.10/site-packages/linear_operator/utils/cholesky.py:40: NumericalWarning: A not p.d., added jitter of 1.0e-08 to the diagonal\n",
      "  warnings.warn(\n",
      "[INFO 10-26 09:51:54] ax.service.ax_client: Generated new trial 182 with parameters {'path_penalty': 7.378073, 'loss_penalty': 0.0, 'score_factor': 3.897695} using model GPEI.\n",
      "[INFO 10-26 09:52:34] ax.service.ax_client: Completed trial 182 with data: {'objective': (40789.52, None)}.\n"
     ]
    },
    {
     "name": "stdout",
     "output_type": "stream",
     "text": [
      "40789.52 0.34\n"
     ]
    },
    {
     "name": "stderr",
     "output_type": "stream",
     "text": [
      "/home/kylemcmaster/.local/lib/python3.10/site-packages/linear_operator/utils/cholesky.py:40: NumericalWarning: A not p.d., added jitter of 1.0e-08 to the diagonal\n",
      "  warnings.warn(\n",
      "[INFO 10-26 09:52:38] ax.service.ax_client: Generated new trial 183 with parameters {'path_penalty': 10.0, 'loss_penalty': 0.0, 'score_factor': 3.540752} using model GPEI.\n",
      "[INFO 10-26 09:53:19] ax.service.ax_client: Completed trial 183 with data: {'objective': (43461.12, None)}.\n"
     ]
    },
    {
     "name": "stdout",
     "output_type": "stream",
     "text": [
      "43461.12 0.38\n"
     ]
    },
    {
     "name": "stderr",
     "output_type": "stream",
     "text": [
      "/home/kylemcmaster/.local/lib/python3.10/site-packages/linear_operator/utils/cholesky.py:40: NumericalWarning: A not p.d., added jitter of 1.0e-08 to the diagonal\n",
      "  warnings.warn(\n",
      "[INFO 10-26 09:53:23] ax.service.ax_client: Generated new trial 184 with parameters {'path_penalty': 5.844103, 'loss_penalty': 10.0, 'score_factor': 2.571123} using model GPEI.\n",
      "[INFO 10-26 09:54:06] ax.service.ax_client: Completed trial 184 with data: {'objective': (44847.12, None)}.\n"
     ]
    },
    {
     "name": "stdout",
     "output_type": "stream",
     "text": [
      "44847.12 0.44\n"
     ]
    },
    {
     "name": "stderr",
     "output_type": "stream",
     "text": [
      "/home/kylemcmaster/.local/lib/python3.10/site-packages/linear_operator/utils/cholesky.py:40: NumericalWarning: A not p.d., added jitter of 1.0e-08 to the diagonal\n",
      "  warnings.warn(\n",
      "[INFO 10-26 09:54:10] ax.service.ax_client: Generated new trial 185 with parameters {'path_penalty': 9.115447, 'loss_penalty': 10.0, 'score_factor': 3.588704} using model GPEI.\n",
      "[INFO 10-26 09:54:52] ax.service.ax_client: Completed trial 185 with data: {'objective': (43382.96, None)}.\n"
     ]
    },
    {
     "name": "stdout",
     "output_type": "stream",
     "text": [
      "43382.96 0.38\n"
     ]
    },
    {
     "name": "stderr",
     "output_type": "stream",
     "text": [
      "/home/kylemcmaster/.local/lib/python3.10/site-packages/linear_operator/utils/cholesky.py:40: NumericalWarning: A not p.d., added jitter of 1.0e-08 to the diagonal\n",
      "  warnings.warn(\n",
      "[INFO 10-26 09:54:55] ax.service.ax_client: Generated new trial 186 with parameters {'path_penalty': 9.395486, 'loss_penalty': 10.0, 'score_factor': 3.691674} using model GPEI.\n",
      "[INFO 10-26 09:55:38] ax.service.ax_client: Completed trial 186 with data: {'objective': (41182.16, None)}.\n"
     ]
    },
    {
     "name": "stdout",
     "output_type": "stream",
     "text": [
      "41182.16 0.36\n"
     ]
    },
    {
     "name": "stderr",
     "output_type": "stream",
     "text": [
      "/home/kylemcmaster/.local/lib/python3.10/site-packages/linear_operator/utils/cholesky.py:40: NumericalWarning: A not p.d., added jitter of 1.0e-08 to the diagonal\n",
      "  warnings.warn(\n",
      "[INFO 10-26 09:55:41] ax.service.ax_client: Generated new trial 187 with parameters {'path_penalty': 6.402045, 'loss_penalty': 0.0, 'score_factor': 2.226051} using model GPEI.\n",
      "[INFO 10-26 09:56:29] ax.service.ax_client: Completed trial 187 with data: {'objective': (49827.36, None)}.\n"
     ]
    },
    {
     "name": "stdout",
     "output_type": "stream",
     "text": [
      "49827.36 0.58\n"
     ]
    },
    {
     "name": "stderr",
     "output_type": "stream",
     "text": [
      "/home/kylemcmaster/.local/lib/python3.10/site-packages/linear_operator/utils/cholesky.py:40: NumericalWarning: A not p.d., added jitter of 1.0e-08 to the diagonal\n",
      "  warnings.warn(\n",
      "[INFO 10-26 09:56:33] ax.service.ax_client: Generated new trial 188 with parameters {'path_penalty': 4.37668, 'loss_penalty': 10.0, 'score_factor': 2.034121} using model GPEI.\n",
      "[INFO 10-26 09:57:15] ax.service.ax_client: Completed trial 188 with data: {'objective': (44848.96, None)}.\n"
     ]
    },
    {
     "name": "stdout",
     "output_type": "stream",
     "text": [
      "44848.96 0.44\n"
     ]
    },
    {
     "name": "stderr",
     "output_type": "stream",
     "text": [
      "/home/kylemcmaster/.local/lib/python3.10/site-packages/linear_operator/utils/cholesky.py:40: NumericalWarning: A not p.d., added jitter of 1.0e-08 to the diagonal\n",
      "  warnings.warn(\n",
      "[INFO 10-26 09:57:19] ax.service.ax_client: Generated new trial 189 with parameters {'path_penalty': 5.964333, 'loss_penalty': 0.0, 'score_factor': 2.399809} using model GPEI.\n",
      "[INFO 10-26 09:58:05] ax.service.ax_client: Completed trial 189 with data: {'objective': (46883.44, None)}.\n"
     ]
    },
    {
     "name": "stdout",
     "output_type": "stream",
     "text": [
      "46883.44 0.46\n"
     ]
    },
    {
     "name": "stderr",
     "output_type": "stream",
     "text": [
      "/home/kylemcmaster/.local/lib/python3.10/site-packages/linear_operator/utils/cholesky.py:40: NumericalWarning: A not p.d., added jitter of 1.0e-08 to the diagonal\n",
      "  warnings.warn(\n",
      "[INFO 10-26 09:58:10] ax.service.ax_client: Generated new trial 190 with parameters {'path_penalty': 5.381417, 'loss_penalty': 0.496957, 'score_factor': 2.35499} using model GPEI.\n",
      "[INFO 10-26 09:58:54] ax.service.ax_client: Completed trial 190 with data: {'objective': (47446.72, None)}.\n"
     ]
    },
    {
     "name": "stdout",
     "output_type": "stream",
     "text": [
      "47446.72 0.5\n"
     ]
    },
    {
     "name": "stderr",
     "output_type": "stream",
     "text": [
      "/home/kylemcmaster/.local/lib/python3.10/site-packages/linear_operator/utils/cholesky.py:40: NumericalWarning: A not p.d., added jitter of 1.0e-08 to the diagonal\n",
      "  warnings.warn(\n",
      "[INFO 10-26 09:58:59] ax.service.ax_client: Generated new trial 191 with parameters {'path_penalty': 10.0, 'loss_penalty': 0.0, 'score_factor': 4.975178} using model GPEI.\n",
      "[INFO 10-26 09:59:40] ax.service.ax_client: Completed trial 191 with data: {'objective': (43291.12, None)}.\n"
     ]
    },
    {
     "name": "stdout",
     "output_type": "stream",
     "text": [
      "43291.12 0.38\n"
     ]
    },
    {
     "name": "stderr",
     "output_type": "stream",
     "text": [
      "/home/kylemcmaster/.local/lib/python3.10/site-packages/linear_operator/utils/cholesky.py:40: NumericalWarning: A not p.d., added jitter of 1.0e-08 to the diagonal\n",
      "  warnings.warn(\n",
      "[INFO 10-26 09:59:44] ax.service.ax_client: Generated new trial 192 with parameters {'path_penalty': 8.93176, 'loss_penalty': 10.0, 'score_factor': 4.273726} using model GPEI.\n",
      "[INFO 10-26 10:00:31] ax.service.ax_client: Completed trial 192 with data: {'objective': (48538.64, None)}.\n"
     ]
    },
    {
     "name": "stdout",
     "output_type": "stream",
     "text": [
      "48538.64 0.48\n"
     ]
    },
    {
     "name": "stderr",
     "output_type": "stream",
     "text": [
      "/home/kylemcmaster/.local/lib/python3.10/site-packages/linear_operator/utils/cholesky.py:40: NumericalWarning: A not p.d., added jitter of 1.0e-08 to the diagonal\n",
      "  warnings.warn(\n",
      "[INFO 10-26 10:00:34] ax.service.ax_client: Generated new trial 193 with parameters {'path_penalty': 5.356407, 'loss_penalty': 0.0, 'score_factor': 2.280987} using model GPEI.\n",
      "[INFO 10-26 10:01:17] ax.service.ax_client: Completed trial 193 with data: {'objective': (45648.16, None)}.\n"
     ]
    },
    {
     "name": "stdout",
     "output_type": "stream",
     "text": [
      "45648.16 0.46\n"
     ]
    },
    {
     "name": "stderr",
     "output_type": "stream",
     "text": [
      "/home/kylemcmaster/.local/lib/python3.10/site-packages/linear_operator/utils/cholesky.py:40: NumericalWarning: A not p.d., added jitter of 1.0e-08 to the diagonal\n",
      "  warnings.warn(\n",
      "[INFO 10-26 10:01:22] ax.service.ax_client: Generated new trial 194 with parameters {'path_penalty': 6.718147, 'loss_penalty': 6.906151, 'score_factor': 1.885242} using model GPEI.\n",
      "[INFO 10-26 10:02:06] ax.service.ax_client: Completed trial 194 with data: {'objective': (45682.32, None)}.\n"
     ]
    },
    {
     "name": "stdout",
     "output_type": "stream",
     "text": [
      "45682.32 0.5\n"
     ]
    },
    {
     "name": "stderr",
     "output_type": "stream",
     "text": [
      "/home/kylemcmaster/.local/lib/python3.10/site-packages/linear_operator/utils/cholesky.py:40: NumericalWarning: A not p.d., added jitter of 1.0e-08 to the diagonal\n",
      "  warnings.warn(\n",
      "[INFO 10-26 10:02:10] ax.service.ax_client: Generated new trial 195 with parameters {'path_penalty': 9.016323, 'loss_penalty': 7.198341, 'score_factor': 3.166384} using model GPEI.\n",
      "[INFO 10-26 10:02:54] ax.service.ax_client: Completed trial 195 with data: {'objective': (47625.28, None)}.\n"
     ]
    },
    {
     "name": "stdout",
     "output_type": "stream",
     "text": [
      "47625.28 0.5\n"
     ]
    },
    {
     "name": "stderr",
     "output_type": "stream",
     "text": [
      "/home/kylemcmaster/.local/lib/python3.10/site-packages/linear_operator/utils/cholesky.py:40: NumericalWarning: A not p.d., added jitter of 1.0e-08 to the diagonal\n",
      "  warnings.warn(\n",
      "[INFO 10-26 10:02:58] ax.service.ax_client: Generated new trial 196 with parameters {'path_penalty': 8.716563, 'loss_penalty': 0.0, 'score_factor': 4.562469} using model GPEI.\n",
      "[INFO 10-26 10:03:44] ax.service.ax_client: Completed trial 196 with data: {'objective': (46852.0, None)}.\n"
     ]
    },
    {
     "name": "stdout",
     "output_type": "stream",
     "text": [
      "46852.0 0.46\n"
     ]
    },
    {
     "name": "stderr",
     "output_type": "stream",
     "text": [
      "/home/kylemcmaster/.local/lib/python3.10/site-packages/linear_operator/utils/cholesky.py:40: NumericalWarning: A not p.d., added jitter of 1.0e-08 to the diagonal\n",
      "  warnings.warn(\n",
      "[INFO 10-26 10:03:48] ax.service.ax_client: Generated new trial 197 with parameters {'path_penalty': 5.996735, 'loss_penalty': 10.0, 'score_factor': 2.411079} using model GPEI.\n",
      "[INFO 10-26 10:04:31] ax.service.ax_client: Completed trial 197 with data: {'objective': (44344.72, None)}.\n"
     ]
    },
    {
     "name": "stdout",
     "output_type": "stream",
     "text": [
      "44344.72 0.38\n"
     ]
    },
    {
     "name": "stderr",
     "output_type": "stream",
     "text": [
      "/home/kylemcmaster/.local/lib/python3.10/site-packages/linear_operator/utils/cholesky.py:40: NumericalWarning: A not p.d., added jitter of 1.0e-08 to the diagonal\n",
      "  warnings.warn(\n",
      "[INFO 10-26 10:04:35] ax.service.ax_client: Generated new trial 198 with parameters {'path_penalty': 6.022977, 'loss_penalty': 4.579445, 'score_factor': 2.285255} using model GPEI.\n",
      "[INFO 10-26 10:05:19] ax.service.ax_client: Completed trial 198 with data: {'objective': (46061.04, None)}.\n"
     ]
    },
    {
     "name": "stdout",
     "output_type": "stream",
     "text": [
      "46061.04 0.48\n"
     ]
    },
    {
     "name": "stderr",
     "output_type": "stream",
     "text": [
      "/home/kylemcmaster/.local/lib/python3.10/site-packages/linear_operator/utils/cholesky.py:40: NumericalWarning: A not p.d., added jitter of 1.0e-08 to the diagonal\n",
      "  warnings.warn(\n",
      "[INFO 10-26 10:05:24] ax.service.ax_client: Generated new trial 199 with parameters {'path_penalty': 9.071096, 'loss_penalty': 10.0, 'score_factor': 2.956986} using model GPEI.\n",
      "[INFO 10-26 10:06:07] ax.service.ax_client: Completed trial 199 with data: {'objective': (44328.32, None)}.\n"
     ]
    },
    {
     "name": "stdout",
     "output_type": "stream",
     "text": [
      "44328.32 0.44\n"
     ]
    },
    {
     "name": "stderr",
     "output_type": "stream",
     "text": [
      "/home/kylemcmaster/.local/lib/python3.10/site-packages/linear_operator/utils/cholesky.py:40: NumericalWarning: A not p.d., added jitter of 1.0e-08 to the diagonal\n",
      "  warnings.warn(\n",
      "[INFO 10-26 10:06:11] ax.service.ax_client: Generated new trial 200 with parameters {'path_penalty': 8.647895, 'loss_penalty': 10.0, 'score_factor': 4.375986} using model GPEI.\n",
      "[INFO 10-26 10:06:55] ax.service.ax_client: Completed trial 200 with data: {'objective': (43685.6, None)}.\n"
     ]
    },
    {
     "name": "stdout",
     "output_type": "stream",
     "text": [
      "43685.6 0.42\n"
     ]
    },
    {
     "name": "stderr",
     "output_type": "stream",
     "text": [
      "/home/kylemcmaster/.local/lib/python3.10/site-packages/linear_operator/utils/cholesky.py:40: NumericalWarning: A not p.d., added jitter of 1.0e-08 to the diagonal\n",
      "  warnings.warn(\n",
      "[INFO 10-26 10:06:59] ax.service.ax_client: Generated new trial 201 with parameters {'path_penalty': 6.131731, 'loss_penalty': 0.0, 'score_factor': 2.22951} using model GPEI.\n",
      "[INFO 10-26 10:07:41] ax.service.ax_client: Completed trial 201 with data: {'objective': (42218.72, None)}.\n"
     ]
    },
    {
     "name": "stdout",
     "output_type": "stream",
     "text": [
      "42218.72 0.46\n"
     ]
    },
    {
     "name": "stderr",
     "output_type": "stream",
     "text": [
      "/home/kylemcmaster/.local/lib/python3.10/site-packages/linear_operator/utils/cholesky.py:40: NumericalWarning: A not p.d., added jitter of 1.0e-08 to the diagonal\n",
      "  warnings.warn(\n",
      "[INFO 10-26 10:07:46] ax.service.ax_client: Generated new trial 202 with parameters {'path_penalty': 5.873835, 'loss_penalty': 10.0, 'score_factor': 2.132644} using model GPEI.\n",
      "[INFO 10-26 10:08:32] ax.service.ax_client: Completed trial 202 with data: {'objective': (45691.44, None)}.\n"
     ]
    },
    {
     "name": "stdout",
     "output_type": "stream",
     "text": [
      "45691.44 0.44\n"
     ]
    },
    {
     "name": "stderr",
     "output_type": "stream",
     "text": [
      "/home/kylemcmaster/.local/lib/python3.10/site-packages/linear_operator/utils/cholesky.py:40: NumericalWarning: A not p.d., added jitter of 1.0e-08 to the diagonal\n",
      "  warnings.warn(\n",
      "[INFO 10-26 10:08:36] ax.service.ax_client: Generated new trial 203 with parameters {'path_penalty': 5.758144, 'loss_penalty': 0.0, 'score_factor': 1.880812} using model GPEI.\n",
      "[INFO 10-26 10:09:20] ax.service.ax_client: Completed trial 203 with data: {'objective': (48284.96, None)}.\n"
     ]
    },
    {
     "name": "stdout",
     "output_type": "stream",
     "text": [
      "48284.96 0.52\n"
     ]
    },
    {
     "name": "stderr",
     "output_type": "stream",
     "text": [
      "/home/kylemcmaster/.local/lib/python3.10/site-packages/linear_operator/utils/cholesky.py:40: NumericalWarning: A not p.d., added jitter of 1.0e-08 to the diagonal\n",
      "  warnings.warn(\n",
      "[INFO 10-26 10:09:24] ax.service.ax_client: Generated new trial 204 with parameters {'path_penalty': 6.124968, 'loss_penalty': 10.0, 'score_factor': 2.131227} using model GPEI.\n",
      "[INFO 10-26 10:10:10] ax.service.ax_client: Completed trial 204 with data: {'objective': (48465.28, None)}.\n"
     ]
    },
    {
     "name": "stdout",
     "output_type": "stream",
     "text": [
      "48465.28 0.5\n"
     ]
    },
    {
     "name": "stderr",
     "output_type": "stream",
     "text": [
      "/home/kylemcmaster/.local/lib/python3.10/site-packages/linear_operator/utils/cholesky.py:40: NumericalWarning: A not p.d., added jitter of 1.0e-08 to the diagonal\n",
      "  warnings.warn(\n",
      "[INFO 10-26 10:10:15] ax.service.ax_client: Generated new trial 205 with parameters {'path_penalty': 7.454489, 'loss_penalty': 10.0, 'score_factor': 2.451667} using model GPEI.\n",
      "[INFO 10-26 10:10:58] ax.service.ax_client: Completed trial 205 with data: {'objective': (45255.6, None)}.\n"
     ]
    },
    {
     "name": "stdout",
     "output_type": "stream",
     "text": [
      "45255.6 0.44\n"
     ]
    },
    {
     "name": "stderr",
     "output_type": "stream",
     "text": [
      "/home/kylemcmaster/.local/lib/python3.10/site-packages/linear_operator/utils/cholesky.py:40: NumericalWarning: A not p.d., added jitter of 1.0e-08 to the diagonal\n",
      "  warnings.warn(\n",
      "[INFO 10-26 10:11:03] ax.service.ax_client: Generated new trial 206 with parameters {'path_penalty': 5.139524, 'loss_penalty': 1.951143, 'score_factor': 2.331393} using model GPEI.\n",
      "[INFO 10-26 10:11:43] ax.service.ax_client: Completed trial 206 with data: {'objective': (40473.44, None)}.\n"
     ]
    },
    {
     "name": "stdout",
     "output_type": "stream",
     "text": [
      "40473.44 0.32\n"
     ]
    },
    {
     "name": "stderr",
     "output_type": "stream",
     "text": [
      "/home/kylemcmaster/.local/lib/python3.10/site-packages/linear_operator/utils/cholesky.py:40: NumericalWarning: A not p.d., added jitter of 1.0e-08 to the diagonal\n",
      "  warnings.warn(\n",
      "[INFO 10-26 10:11:48] ax.service.ax_client: Generated new trial 207 with parameters {'path_penalty': 5.909271, 'loss_penalty': 0.0, 'score_factor': 1.98717} using model GPEI.\n",
      "[INFO 10-26 10:12:35] ax.service.ax_client: Completed trial 207 with data: {'objective': (48617.04, None)}.\n"
     ]
    },
    {
     "name": "stdout",
     "output_type": "stream",
     "text": [
      "48617.04 0.56\n"
     ]
    },
    {
     "name": "stderr",
     "output_type": "stream",
     "text": [
      "/home/kylemcmaster/.local/lib/python3.10/site-packages/linear_operator/utils/cholesky.py:40: NumericalWarning: A not p.d., added jitter of 1.0e-08 to the diagonal\n",
      "  warnings.warn(\n",
      "[INFO 10-26 10:12:41] ax.service.ax_client: Generated new trial 208 with parameters {'path_penalty': 5.980993, 'loss_penalty': 0.0, 'score_factor': 2.107002} using model GPEI.\n",
      "[INFO 10-26 10:13:26] ax.service.ax_client: Completed trial 208 with data: {'objective': (48290.48, None)}.\n"
     ]
    },
    {
     "name": "stdout",
     "output_type": "stream",
     "text": [
      "48290.48 0.54\n"
     ]
    },
    {
     "name": "stderr",
     "output_type": "stream",
     "text": [
      "/home/kylemcmaster/.local/lib/python3.10/site-packages/linear_operator/utils/cholesky.py:40: NumericalWarning: A not p.d., added jitter of 1.0e-08 to the diagonal\n",
      "  warnings.warn(\n",
      "[INFO 10-26 10:13:31] ax.service.ax_client: Generated new trial 209 with parameters {'path_penalty': 6.289328, 'loss_penalty': 10.0, 'score_factor': 2.159604} using model GPEI.\n",
      "[INFO 10-26 10:14:15] ax.service.ax_client: Completed trial 209 with data: {'objective': (48360.56, None)}.\n"
     ]
    },
    {
     "name": "stdout",
     "output_type": "stream",
     "text": [
      "48360.56 0.54\n"
     ]
    },
    {
     "name": "stderr",
     "output_type": "stream",
     "text": [
      "/home/kylemcmaster/.local/lib/python3.10/site-packages/linear_operator/utils/cholesky.py:40: NumericalWarning: A not p.d., added jitter of 1.0e-08 to the diagonal\n",
      "  warnings.warn(\n",
      "[INFO 10-26 10:14:19] ax.service.ax_client: Generated new trial 210 with parameters {'path_penalty': 7.991188, 'loss_penalty': 0.0, 'score_factor': 3.72798} using model GPEI.\n",
      "[INFO 10-26 10:15:06] ax.service.ax_client: Completed trial 210 with data: {'objective': (50167.52, None)}.\n"
     ]
    },
    {
     "name": "stdout",
     "output_type": "stream",
     "text": [
      "50167.52 0.6\n"
     ]
    },
    {
     "name": "stderr",
     "output_type": "stream",
     "text": [
      "/home/kylemcmaster/.local/lib/python3.10/site-packages/linear_operator/utils/cholesky.py:40: NumericalWarning: A not p.d., added jitter of 1.0e-08 to the diagonal\n",
      "  warnings.warn(\n",
      "[INFO 10-26 10:15:11] ax.service.ax_client: Generated new trial 211 with parameters {'path_penalty': 7.211313, 'loss_penalty': 0.0, 'score_factor': 2.550465} using model GPEI.\n",
      "[INFO 10-26 10:15:52] ax.service.ax_client: Completed trial 211 with data: {'objective': (44919.92, None)}.\n"
     ]
    },
    {
     "name": "stdout",
     "output_type": "stream",
     "text": [
      "44919.92 0.44\n"
     ]
    },
    {
     "name": "stderr",
     "output_type": "stream",
     "text": [
      "/home/kylemcmaster/.local/lib/python3.10/site-packages/linear_operator/utils/cholesky.py:40: NumericalWarning: A not p.d., added jitter of 1.0e-08 to the diagonal\n",
      "  warnings.warn(\n",
      "[INFO 10-26 10:15:57] ax.service.ax_client: Generated new trial 212 with parameters {'path_penalty': 6.462824, 'loss_penalty': 1.18261, 'score_factor': 2.134654} using model GPEI.\n",
      "[INFO 10-26 10:16:38] ax.service.ax_client: Completed trial 212 with data: {'objective': (43598.72, None)}.\n"
     ]
    },
    {
     "name": "stdout",
     "output_type": "stream",
     "text": [
      "43598.72 0.42\n"
     ]
    },
    {
     "name": "stderr",
     "output_type": "stream",
     "text": [
      "/home/kylemcmaster/.local/lib/python3.10/site-packages/linear_operator/utils/cholesky.py:40: NumericalWarning: A not p.d., added jitter of 1.0e-08 to the diagonal\n",
      "  warnings.warn(\n",
      "[INFO 10-26 10:16:42] ax.service.ax_client: Generated new trial 213 with parameters {'path_penalty': 5.202386, 'loss_penalty': 10.0, 'score_factor': 1.922731} using model GPEI.\n",
      "[INFO 10-26 10:17:23] ax.service.ax_client: Completed trial 213 with data: {'objective': (42456.8, None)}.\n"
     ]
    },
    {
     "name": "stdout",
     "output_type": "stream",
     "text": [
      "42456.8 0.38\n"
     ]
    },
    {
     "name": "stderr",
     "output_type": "stream",
     "text": [
      "/home/kylemcmaster/.local/lib/python3.10/site-packages/linear_operator/utils/cholesky.py:40: NumericalWarning: A not p.d., added jitter of 1.0e-08 to the diagonal\n",
      "  warnings.warn(\n",
      "[INFO 10-26 10:17:28] ax.service.ax_client: Generated new trial 214 with parameters {'path_penalty': 6.616903, 'loss_penalty': 10.0, 'score_factor': 2.350505} using model GPEI.\n",
      "[INFO 10-26 10:18:13] ax.service.ax_client: Completed trial 214 with data: {'objective': (45869.28, None)}.\n"
     ]
    },
    {
     "name": "stdout",
     "output_type": "stream",
     "text": [
      "45869.28 0.42\n"
     ]
    },
    {
     "name": "stderr",
     "output_type": "stream",
     "text": [
      "/home/kylemcmaster/.local/lib/python3.10/site-packages/linear_operator/utils/cholesky.py:40: NumericalWarning: A not p.d., added jitter of 1.0e-08 to the diagonal\n",
      "  warnings.warn(\n",
      "[INFO 10-26 10:18:18] ax.service.ax_client: Generated new trial 215 with parameters {'path_penalty': 9.50853, 'loss_penalty': 10.0, 'score_factor': 3.938327} using model GPEI.\n",
      "[INFO 10-26 10:19:02] ax.service.ax_client: Completed trial 215 with data: {'objective': (48158.48, None)}.\n"
     ]
    },
    {
     "name": "stdout",
     "output_type": "stream",
     "text": [
      "48158.48 0.5\n"
     ]
    },
    {
     "name": "stderr",
     "output_type": "stream",
     "text": [
      "/home/kylemcmaster/.local/lib/python3.10/site-packages/linear_operator/utils/cholesky.py:40: NumericalWarning: A not p.d., added jitter of 1.0e-08 to the diagonal\n",
      "  warnings.warn(\n",
      "[INFO 10-26 10:19:07] ax.service.ax_client: Generated new trial 216 with parameters {'path_penalty': 6.701559, 'loss_penalty': 0.0, 'score_factor': 2.182348} using model GPEI.\n",
      "[INFO 10-26 10:19:48] ax.service.ax_client: Completed trial 216 with data: {'objective': (43668.72, None)}.\n"
     ]
    },
    {
     "name": "stdout",
     "output_type": "stream",
     "text": [
      "43668.72 0.42\n"
     ]
    },
    {
     "name": "stderr",
     "output_type": "stream",
     "text": [
      "/home/kylemcmaster/.local/lib/python3.10/site-packages/linear_operator/utils/cholesky.py:40: NumericalWarning: A not p.d., added jitter of 1.0e-08 to the diagonal\n",
      "  warnings.warn(\n",
      "[INFO 10-26 10:19:53] ax.service.ax_client: Generated new trial 217 with parameters {'path_penalty': 6.600666, 'loss_penalty': 10.0, 'score_factor': 2.553995} using model GPEI.\n",
      "[INFO 10-26 10:20:34] ax.service.ax_client: Completed trial 217 with data: {'objective': (42678.56, None)}.\n"
     ]
    },
    {
     "name": "stdout",
     "output_type": "stream",
     "text": [
      "42678.56 0.4\n"
     ]
    },
    {
     "name": "stderr",
     "output_type": "stream",
     "text": [
      "/home/kylemcmaster/.local/lib/python3.10/site-packages/linear_operator/utils/cholesky.py:40: NumericalWarning: A not p.d., added jitter of 1.0e-08 to the diagonal\n",
      "  warnings.warn(\n",
      "[INFO 10-26 10:20:39] ax.service.ax_client: Generated new trial 218 with parameters {'path_penalty': 5.977665, 'loss_penalty': 10.0, 'score_factor': 2.007737} using model GPEI.\n",
      "[INFO 10-26 10:21:20] ax.service.ax_client: Completed trial 218 with data: {'objective': (42058.24, None)}.\n"
     ]
    },
    {
     "name": "stdout",
     "output_type": "stream",
     "text": [
      "42058.24 0.34\n"
     ]
    },
    {
     "name": "stderr",
     "output_type": "stream",
     "text": [
      "/home/kylemcmaster/.local/lib/python3.10/site-packages/linear_operator/utils/cholesky.py:40: NumericalWarning: A not p.d., added jitter of 1.0e-08 to the diagonal\n",
      "  warnings.warn(\n",
      "[INFO 10-26 10:21:25] ax.service.ax_client: Generated new trial 219 with parameters {'path_penalty': 9.843881, 'loss_penalty': 0.0, 'score_factor': 3.709355} using model GPEI.\n",
      "[INFO 10-26 10:22:09] ax.service.ax_client: Completed trial 219 with data: {'objective': (44225.76, None)}.\n"
     ]
    },
    {
     "name": "stdout",
     "output_type": "stream",
     "text": [
      "44225.76 0.38\n"
     ]
    },
    {
     "name": "stderr",
     "output_type": "stream",
     "text": [
      "/home/kylemcmaster/.local/lib/python3.10/site-packages/linear_operator/utils/cholesky.py:40: NumericalWarning: A not p.d., added jitter of 1.0e-08 to the diagonal\n",
      "  warnings.warn(\n",
      "[INFO 10-26 10:22:16] ax.service.ax_client: Generated new trial 220 with parameters {'path_penalty': 9.568821, 'loss_penalty': 0.0, 'score_factor': 3.757736} using model GPEI.\n",
      "[INFO 10-26 10:23:02] ax.service.ax_client: Completed trial 220 with data: {'objective': (50698.4, None)}.\n"
     ]
    },
    {
     "name": "stdout",
     "output_type": "stream",
     "text": [
      "50698.4 0.6\n"
     ]
    },
    {
     "name": "stderr",
     "output_type": "stream",
     "text": [
      "/home/kylemcmaster/.local/lib/python3.10/site-packages/linear_operator/utils/cholesky.py:40: NumericalWarning: A not p.d., added jitter of 1.0e-08 to the diagonal\n",
      "  warnings.warn(\n",
      "[INFO 10-26 10:23:08] ax.service.ax_client: Generated new trial 221 with parameters {'path_penalty': 9.785937, 'loss_penalty': 10.0, 'score_factor': 3.62899} using model GPEI.\n",
      "[INFO 10-26 10:23:53] ax.service.ax_client: Completed trial 221 with data: {'objective': (47153.84, None)}.\n"
     ]
    },
    {
     "name": "stdout",
     "output_type": "stream",
     "text": [
      "47153.84 0.42\n"
     ]
    },
    {
     "name": "stderr",
     "output_type": "stream",
     "text": [
      "/home/kylemcmaster/.local/lib/python3.10/site-packages/linear_operator/utils/cholesky.py:40: NumericalWarning: A not p.d., added jitter of 1.0e-08 to the diagonal\n",
      "  warnings.warn(\n",
      "[INFO 10-26 10:23:59] ax.service.ax_client: Generated new trial 222 with parameters {'path_penalty': 9.50081, 'loss_penalty': 0.0, 'score_factor': 3.867249} using model GPEI.\n",
      "[INFO 10-26 10:24:40] ax.service.ax_client: Completed trial 222 with data: {'objective': (40570.96, None)}.\n"
     ]
    },
    {
     "name": "stdout",
     "output_type": "stream",
     "text": [
      "40570.96 0.32\n"
     ]
    },
    {
     "name": "stderr",
     "output_type": "stream",
     "text": [
      "/home/kylemcmaster/.local/lib/python3.10/site-packages/linear_operator/utils/cholesky.py:40: NumericalWarning: A not p.d., added jitter of 1.0e-08 to the diagonal\n",
      "  warnings.warn(\n",
      "[INFO 10-26 10:24:45] ax.service.ax_client: Generated new trial 223 with parameters {'path_penalty': 5.218741, 'loss_penalty': 10.0, 'score_factor': 2.494598} using model GPEI.\n",
      "[INFO 10-26 10:25:25] ax.service.ax_client: Completed trial 223 with data: {'objective': (39901.12, None)}.\n"
     ]
    },
    {
     "name": "stdout",
     "output_type": "stream",
     "text": [
      "39901.12 0.38\n"
     ]
    },
    {
     "name": "stderr",
     "output_type": "stream",
     "text": [
      "/home/kylemcmaster/.local/lib/python3.10/site-packages/linear_operator/utils/cholesky.py:40: NumericalWarning: A not p.d., added jitter of 1.0e-08 to the diagonal\n",
      "  warnings.warn(\n",
      "[INFO 10-26 10:25:29] ax.service.ax_client: Generated new trial 224 with parameters {'path_penalty': 9.570827, 'loss_penalty': 0.0, 'score_factor': 3.368561} using model GPEI.\n",
      "[INFO 10-26 10:26:18] ax.service.ax_client: Completed trial 224 with data: {'objective': (52966.56, None)}.\n"
     ]
    },
    {
     "name": "stdout",
     "output_type": "stream",
     "text": [
      "52966.56 0.44\n"
     ]
    },
    {
     "name": "stderr",
     "output_type": "stream",
     "text": [
      "/home/kylemcmaster/.local/lib/python3.10/site-packages/linear_operator/utils/cholesky.py:40: NumericalWarning: A not p.d., added jitter of 1.0e-08 to the diagonal\n",
      "  warnings.warn(\n",
      "[INFO 10-26 10:26:23] ax.service.ax_client: Generated new trial 225 with parameters {'path_penalty': 8.898803, 'loss_penalty': 10.0, 'score_factor': 3.072929} using model GPEI.\n",
      "[INFO 10-26 10:27:04] ax.service.ax_client: Completed trial 225 with data: {'objective': (43340.88, None)}.\n"
     ]
    },
    {
     "name": "stdout",
     "output_type": "stream",
     "text": [
      "43340.88 0.44\n"
     ]
    },
    {
     "name": "stderr",
     "output_type": "stream",
     "text": [
      "/home/kylemcmaster/.local/lib/python3.10/site-packages/linear_operator/utils/cholesky.py:40: NumericalWarning: A not p.d., added jitter of 1.0e-08 to the diagonal\n",
      "  warnings.warn(\n",
      "[INFO 10-26 10:27:10] ax.service.ax_client: Generated new trial 226 with parameters {'path_penalty': 7.274578, 'loss_penalty': 10.0, 'score_factor': 2.884322} using model GPEI.\n",
      "[INFO 10-26 10:27:58] ax.service.ax_client: Completed trial 226 with data: {'objective': (52927.92, None)}.\n"
     ]
    },
    {
     "name": "stdout",
     "output_type": "stream",
     "text": [
      "52927.92 0.56\n"
     ]
    },
    {
     "name": "stderr",
     "output_type": "stream",
     "text": [
      "/home/kylemcmaster/.local/lib/python3.10/site-packages/linear_operator/utils/cholesky.py:40: NumericalWarning: A not p.d., added jitter of 1.0e-08 to the diagonal\n",
      "  warnings.warn(\n",
      "[INFO 10-26 10:28:04] ax.service.ax_client: Generated new trial 227 with parameters {'path_penalty': 8.754258, 'loss_penalty': 0.0, 'score_factor': 3.191016} using model GPEI.\n",
      "[INFO 10-26 10:28:50] ax.service.ax_client: Completed trial 227 with data: {'objective': (51688.96, None)}.\n"
     ]
    },
    {
     "name": "stdout",
     "output_type": "stream",
     "text": [
      "51688.96 0.58\n"
     ]
    },
    {
     "name": "stderr",
     "output_type": "stream",
     "text": [
      "/home/kylemcmaster/.local/lib/python3.10/site-packages/linear_operator/utils/cholesky.py:40: NumericalWarning: A not p.d., added jitter of 1.0e-08 to the diagonal\n",
      "  warnings.warn(\n",
      "[INFO 10-26 10:28:56] ax.service.ax_client: Generated new trial 228 with parameters {'path_penalty': 7.447074, 'loss_penalty': 0.0, 'score_factor': 2.270557} using model GPEI.\n",
      "[INFO 10-26 10:29:34] ax.service.ax_client: Completed trial 228 with data: {'objective': (37719.84, None)}.\n"
     ]
    },
    {
     "name": "stdout",
     "output_type": "stream",
     "text": [
      "37719.84 0.3\n"
     ]
    },
    {
     "name": "stderr",
     "output_type": "stream",
     "text": [
      "/home/kylemcmaster/.local/lib/python3.10/site-packages/linear_operator/utils/cholesky.py:40: NumericalWarning: A not p.d., added jitter of 1.0e-08 to the diagonal\n",
      "  warnings.warn(\n",
      "[INFO 10-26 10:29:40] ax.service.ax_client: Generated new trial 229 with parameters {'path_penalty': 9.443792, 'loss_penalty': 6.488959, 'score_factor': 3.503166} using model GPEI.\n",
      "[INFO 10-26 10:30:22] ax.service.ax_client: Completed trial 229 with data: {'objective': (44428.0, None)}.\n"
     ]
    },
    {
     "name": "stdout",
     "output_type": "stream",
     "text": [
      "44428.0 0.44\n"
     ]
    },
    {
     "name": "stderr",
     "output_type": "stream",
     "text": [
      "/home/kylemcmaster/.local/lib/python3.10/site-packages/linear_operator/utils/cholesky.py:40: NumericalWarning: A not p.d., added jitter of 1.0e-08 to the diagonal\n",
      "  warnings.warn(\n",
      "[INFO 10-26 10:30:28] ax.service.ax_client: Generated new trial 230 with parameters {'path_penalty': 9.73676, 'loss_penalty': 0.0, 'score_factor': 3.241294} using model GPEI.\n",
      "[INFO 10-26 10:31:17] ax.service.ax_client: Completed trial 230 with data: {'objective': (51168.88, None)}.\n"
     ]
    },
    {
     "name": "stdout",
     "output_type": "stream",
     "text": [
      "51168.88 0.56\n"
     ]
    },
    {
     "name": "stderr",
     "output_type": "stream",
     "text": [
      "/home/kylemcmaster/.local/lib/python3.10/site-packages/linear_operator/utils/cholesky.py:40: NumericalWarning: A not p.d., added jitter of 1.0e-08 to the diagonal\n",
      "  warnings.warn(\n",
      "[INFO 10-26 10:31:22] ax.service.ax_client: Generated new trial 231 with parameters {'path_penalty': 9.06081, 'loss_penalty': 0.0, 'score_factor': 3.379779} using model GPEI.\n",
      "[INFO 10-26 10:32:06] ax.service.ax_client: Completed trial 231 with data: {'objective': (44011.76, None)}.\n"
     ]
    },
    {
     "name": "stdout",
     "output_type": "stream",
     "text": [
      "44011.76 0.4\n"
     ]
    },
    {
     "name": "stderr",
     "output_type": "stream",
     "text": [
      "/home/kylemcmaster/.local/lib/python3.10/site-packages/linear_operator/utils/cholesky.py:40: NumericalWarning: A not p.d., added jitter of 1.0e-08 to the diagonal\n",
      "  warnings.warn(\n",
      "[INFO 10-26 10:32:11] ax.service.ax_client: Generated new trial 232 with parameters {'path_penalty': 6.496659, 'loss_penalty': 0.0, 'score_factor': 2.466337} using model GPEI.\n",
      "[INFO 10-26 10:32:57] ax.service.ax_client: Completed trial 232 with data: {'objective': (49064.48, None)}.\n"
     ]
    },
    {
     "name": "stdout",
     "output_type": "stream",
     "text": [
      "49064.48 0.46\n"
     ]
    },
    {
     "name": "stderr",
     "output_type": "stream",
     "text": [
      "/home/kylemcmaster/.local/lib/python3.10/site-packages/linear_operator/utils/cholesky.py:40: NumericalWarning: A not p.d., added jitter of 1.0e-08 to the diagonal\n",
      "  warnings.warn(\n",
      "[INFO 10-26 10:33:03] ax.service.ax_client: Generated new trial 233 with parameters {'path_penalty': 7.747666, 'loss_penalty': 0.0, 'score_factor': 4.347761} using model GPEI.\n",
      "[INFO 10-26 10:33:45] ax.service.ax_client: Completed trial 233 with data: {'objective': (40613.44, None)}.\n"
     ]
    },
    {
     "name": "stdout",
     "output_type": "stream",
     "text": [
      "40613.44 0.36\n"
     ]
    },
    {
     "name": "stderr",
     "output_type": "stream",
     "text": [
      "/home/kylemcmaster/.local/lib/python3.10/site-packages/linear_operator/utils/cholesky.py:40: NumericalWarning: A not p.d., added jitter of 1.0e-08 to the diagonal\n",
      "  warnings.warn(\n",
      "[INFO 10-26 10:33:50] ax.service.ax_client: Generated new trial 234 with parameters {'path_penalty': 5.49564, 'loss_penalty': 0.0, 'score_factor': 2.499539} using model GPEI.\n",
      "[INFO 10-26 10:34:39] ax.service.ax_client: Completed trial 234 with data: {'objective': (51905.04, None)}.\n"
     ]
    },
    {
     "name": "stdout",
     "output_type": "stream",
     "text": [
      "51905.04 0.48\n"
     ]
    },
    {
     "name": "stderr",
     "output_type": "stream",
     "text": [
      "/home/kylemcmaster/.local/lib/python3.10/site-packages/linear_operator/utils/cholesky.py:40: NumericalWarning: A not p.d., added jitter of 1.0e-08 to the diagonal\n",
      "  warnings.warn(\n",
      "[INFO 10-26 10:34:45] ax.service.ax_client: Generated new trial 235 with parameters {'path_penalty': 9.812797, 'loss_penalty': 0.0, 'score_factor': 3.438725} using model GPEI.\n",
      "[INFO 10-26 10:35:27] ax.service.ax_client: Completed trial 235 with data: {'objective': (44069.2, None)}.\n"
     ]
    },
    {
     "name": "stdout",
     "output_type": "stream",
     "text": [
      "44069.2 0.44\n"
     ]
    },
    {
     "name": "stderr",
     "output_type": "stream",
     "text": [
      "/home/kylemcmaster/.local/lib/python3.10/site-packages/linear_operator/utils/cholesky.py:40: NumericalWarning: A not p.d., added jitter of 1.0e-08 to the diagonal\n",
      "  warnings.warn(\n",
      "[INFO 10-26 10:35:34] ax.service.ax_client: Generated new trial 236 with parameters {'path_penalty': 7.155857, 'loss_penalty': 0.0, 'score_factor': 2.131671} using model GPEI.\n",
      "[INFO 10-26 10:36:15] ax.service.ax_client: Completed trial 236 with data: {'objective': (44851.12, None)}.\n"
     ]
    },
    {
     "name": "stdout",
     "output_type": "stream",
     "text": [
      "44851.12 0.5\n"
     ]
    },
    {
     "name": "stderr",
     "output_type": "stream",
     "text": [
      "/home/kylemcmaster/.local/lib/python3.10/site-packages/linear_operator/utils/cholesky.py:40: NumericalWarning: A not p.d., added jitter of 1.0e-08 to the diagonal\n",
      "  warnings.warn(\n",
      "[INFO 10-26 10:36:21] ax.service.ax_client: Generated new trial 237 with parameters {'path_penalty': 8.954893, 'loss_penalty': 0.0, 'score_factor': 4.274908} using model GPEI.\n",
      "[INFO 10-26 10:37:04] ax.service.ax_client: Completed trial 237 with data: {'objective': (45269.6, None)}.\n"
     ]
    },
    {
     "name": "stdout",
     "output_type": "stream",
     "text": [
      "45269.6 0.52\n"
     ]
    },
    {
     "name": "stderr",
     "output_type": "stream",
     "text": [
      "/home/kylemcmaster/.local/lib/python3.10/site-packages/linear_operator/utils/cholesky.py:40: NumericalWarning: A not p.d., added jitter of 1.0e-08 to the diagonal\n",
      "  warnings.warn(\n",
      "[INFO 10-26 10:37:10] ax.service.ax_client: Generated new trial 238 with parameters {'path_penalty': 7.079687, 'loss_penalty': 8.031761, 'score_factor': 3.380305} using model GPEI.\n",
      "[INFO 10-26 10:37:52] ax.service.ax_client: Completed trial 238 with data: {'objective': (41353.28, None)}.\n"
     ]
    },
    {
     "name": "stdout",
     "output_type": "stream",
     "text": [
      "41353.28 0.3\n"
     ]
    },
    {
     "name": "stderr",
     "output_type": "stream",
     "text": [
      "/home/kylemcmaster/.local/lib/python3.10/site-packages/linear_operator/utils/cholesky.py:40: NumericalWarning: A not p.d., added jitter of 1.0e-08 to the diagonal\n",
      "  warnings.warn(\n",
      "[INFO 10-26 10:37:59] ax.service.ax_client: Generated new trial 239 with parameters {'path_penalty': 10.0, 'loss_penalty': 10.0, 'score_factor': 3.294026} using model GPEI.\n",
      "[INFO 10-26 10:38:43] ax.service.ax_client: Completed trial 239 with data: {'objective': (49443.12, None)}.\n"
     ]
    },
    {
     "name": "stdout",
     "output_type": "stream",
     "text": [
      "49443.12 0.52\n",
      "The best parameters are: {'path_penalty': 9.723274060289766, 'loss_penalty': 0.0, 'score_factor': 3.5994970174523164}\n",
      "with score ({'objective': 47110.32723688434}, {'objective': {'objective': 278119.7617427608}})\n"
     ]
    }
   ],
   "source": [
    "for i in range(120):\n",
    "    parameters, trial_index = ax_client.get_next_trial()\n",
    "    ax_client.complete_trial(trial_index=trial_index, raw_data=perform_trial(parameters))\n",
    "    \n",
    "best_parameters, metrics = ax_client.get_best_parameters()\n",
    "print(f'The best parameters are: {best_parameters}')\n",
    "print(f'with score {metrics}')"
   ]
  },
  {
   "cell_type": "code",
   "execution_count": 14,
   "metadata": {},
   "outputs": [
    {
     "name": "stdout",
     "output_type": "stream",
     "text": [
      "The best parameters are: {'path_penalty': 8.505974119306348, 'loss_penalty': 0.0, 'score_factor': 3.4897451874552705}\n",
      "with score ({'objective': 0.8776559915826968}, {'objective': {'objective': 8.207984467722268e-05}})\n",
      "    arm_name metric_name  mean  sem  trial_index\n",
      "0        0_0   objective  0.84  NaN            0\n",
      "1        1_0   objective  0.84  NaN            1\n",
      "2        2_0   objective  0.08  NaN            2\n",
      "3        3_0   objective  0.84  NaN            3\n",
      "4        4_0   objective  0.84  NaN            4\n",
      "..       ...         ...   ...  ...          ...\n",
      "165    165_0   objective  0.86  NaN          165\n",
      "166    166_0   objective  0.94  NaN          166\n",
      "167    167_0   objective  0.90  NaN          167\n",
      "168    168_0   objective  0.84  NaN          168\n",
      "169    169_0   objective  0.86  NaN          169\n",
      "\n",
      "[170 rows x 5 columns]\n",
      "    arm_name metric_name  mean  sem  trial_index\n",
      "166    166_0   objective  0.94  NaN          166\n",
      "99      99_0   objective  0.94  NaN           99\n",
      "72      72_0   objective  0.94  NaN           72\n",
      "162    162_0   objective  0.94  NaN          162\n",
      "93      93_0   objective  0.94  NaN           93\n",
      "74      74_0   objective  0.94  NaN           74\n",
      "151    151_0   objective  0.92  NaN          151\n",
      "153    153_0   objective  0.92  NaN          153\n",
      "152    152_0   objective  0.92  NaN          152\n",
      "132    132_0   objective  0.92  NaN          132\n",
      "Trial(experiment_name='optimize Params', index=132, status=TrialStatus.COMPLETED, arm=Arm(name='132_0', parameters={'path_penalty': 8.126499527257977, 'loss_penalty': 0.0, 'score_factor': 3.5562750202257085}))\n"
     ]
    },
    {
     "name": "stderr",
     "output_type": "stream",
     "text": [
      "/home/kylemcmaster/.local/lib/python3.10/site-packages/ax/utils/stats/model_fit_stats.py:199: RuntimeWarning: divide by zero encountered in divide\n",
      "  return float(np.mean(1.96 * 2 * se_pred / np.abs(y_obs)))\n",
      "/home/kylemcmaster/.local/lib/python3.10/site-packages/ax/utils/stats/model_fit_stats.py:229: RuntimeWarning: divide by zero encountered in scalar divide\n",
      "  return float((np.max(y_obs) - min_y_obs) / min_y_obs)\n"
     ]
    }
   ],
   "source": [
    "best_parameters, metrics = ax_client.get_best_parameters()\n",
    "print(f'The best parameters are: {best_parameters}')\n",
    "print(f'with score {metrics}')\n",
    "\n",
    "data =  ax_client.experiment.fetch_data()\n",
    "print(data.df)\n",
    "print(data.df.sort_values(by='mean', ascending=False).head(10))\n",
    "\n",
    "trial_params = ax_client.experiment.trials[132]\n",
    "print(trial_params)"
   ]
  }
 ],
 "metadata": {
  "kernelspec": {
   "display_name": "4ML3",
   "language": "python",
   "name": "python3"
  },
  "language_info": {
   "codemirror_mode": {
    "name": "ipython",
    "version": 3
   },
   "file_extension": ".py",
   "mimetype": "text/x-python",
   "name": "python",
   "nbconvert_exporter": "python",
   "pygments_lexer": "ipython3",
   "version": "3.12.7"
  }
 },
 "nbformat": 4,
 "nbformat_minor": 2
}

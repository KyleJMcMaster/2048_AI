{
 "cells": [
  {
   "cell_type": "markdown",
   "metadata": {},
   "source": [
    "## Set up trial"
   ]
  },
  {
   "cell_type": "code",
   "execution_count": 13,
   "metadata": {},
   "outputs": [],
   "source": [
    "from Reporter import LightConcurrentReporter\n",
    "from MarkovDPAI import *\n",
    "import numpy as np\n",
    "import pandas as pd\n",
    "\n",
    "def perform_trial(parameters):\n",
    "    path_penalty = parameters.get('path_penalty')\n",
    "    loss_penalty = parameters.get('loss_penalty')\n",
    "    score_factor = parameters.get('score_factor')\n",
    "    num_trials = 1000\n",
    "\n",
    "    ai_input=ExpectiMax8(depth = 6, path_pen=path_penalty, loss_penalty=loss_penalty, score_factor=score_factor, num_trials=num_trials)\n",
    "    r = LightConcurrentReporter(ai_input, 50)\n",
    "    report = pd.DataFrame(r.generate_report(), columns=['score','max_tile'])\n",
    "    print(np.mean(report['score']), len(report[report['max_tile']>=4096])/50.0)\n",
    "    return np.mean(report['score'])\n",
    "   # return len(report[report['max_tile']>=4096])/50.0"
   ]
  },
  {
   "cell_type": "markdown",
   "metadata": {},
   "source": [
    "### Begin optimization"
   ]
  },
  {
   "cell_type": "code",
   "execution_count": 15,
   "metadata": {},
   "outputs": [
    {
     "name": "stderr",
     "output_type": "stream",
     "text": [
      "[INFO 11-08 23:51:03] ax.service.ax_client: Starting optimization with verbose logging. To disable logging, set the `verbose_logging` argument to `False`. Note that float values in the logs are rounded to 6 decimal points.\n",
      "[INFO 11-08 23:51:03] ax.service.utils.instantiation: Inferred value type of ParameterType.FLOAT for parameter path_penalty. If that is not the expected value type, you can explicitly specify 'value_type' ('int', 'float', 'bool' or 'str') in parameter dict.\n",
      "[INFO 11-08 23:51:03] ax.service.utils.instantiation: Inferred value type of ParameterType.FLOAT for parameter loss_penalty. If that is not the expected value type, you can explicitly specify 'value_type' ('int', 'float', 'bool' or 'str') in parameter dict.\n",
      "[INFO 11-08 23:51:03] ax.service.utils.instantiation: Inferred value type of ParameterType.FLOAT for parameter score_factor. If that is not the expected value type, you can explicitly specify 'value_type' ('int', 'float', 'bool' or 'str') in parameter dict.\n",
      "[INFO 11-08 23:51:03] ax.service.utils.instantiation: Created search space: SearchSpace(parameters=[RangeParameter(name='path_penalty', parameter_type=FLOAT, range=[0.0, 20.0]), RangeParameter(name='loss_penalty', parameter_type=FLOAT, range=[0.0, 20.0]), RangeParameter(name='score_factor', parameter_type=FLOAT, range=[0.0, 2.0])], parameter_constraints=[]).\n"
     ]
    },
    {
     "name": "stderr",
     "output_type": "stream",
     "text": [
      "/home/kylemcmaster/.local/lib/python3.10/site-packages/ax/modelbridge/cross_validation.py:463: UserWarning: Encountered exception in computing model fit quality: RandomModelBridge does not support prediction.\n",
      "  warn(\"Encountered exception in computing model fit quality: \" + str(e))\n",
      "[INFO 11-08 23:51:03] ax.service.ax_client: Generated new trial 0 with parameters {'path_penalty': 9.468312, 'loss_penalty': 13.612159, 'score_factor': 1.777051} using model Sobol.\n",
      "[INFO 11-08 23:57:11] ax.service.ax_client: Completed trial 0 with data: {'objective': (35135.76, None)}.\n",
      "/home/kylemcmaster/.local/lib/python3.10/site-packages/ax/modelbridge/cross_validation.py:463: UserWarning: Encountered exception in computing model fit quality: RandomModelBridge does not support prediction.\n",
      "  warn(\"Encountered exception in computing model fit quality: \" + str(e))\n",
      "[INFO 11-08 23:57:12] ax.service.ax_client: Generated new trial 1 with parameters {'path_penalty': 14.82108, 'loss_penalty': 5.668751, 'score_factor': 0.494623} using model Sobol.\n"
     ]
    },
    {
     "name": "stdout",
     "output_type": "stream",
     "text": [
      "35135.76 0.3\n"
     ]
    },
    {
     "name": "stderr",
     "output_type": "stream",
     "text": [
      "[INFO 11-08 23:57:43] ax.service.ax_client: Completed trial 1 with data: {'objective': (2608.24, None)}.\n",
      "/home/kylemcmaster/.local/lib/python3.10/site-packages/ax/modelbridge/cross_validation.py:463: UserWarning: Encountered exception in computing model fit quality: RandomModelBridge does not support prediction.\n",
      "  warn(\"Encountered exception in computing model fit quality: \" + str(e))\n",
      "[INFO 11-08 23:57:43] ax.service.ax_client: Generated new trial 2 with parameters {'path_penalty': 18.733325, 'loss_penalty': 17.787547, 'score_factor': 1.456911} using model Sobol.\n"
     ]
    },
    {
     "name": "stdout",
     "output_type": "stream",
     "text": [
      "2608.24 0.0\n"
     ]
    },
    {
     "name": "stderr",
     "output_type": "stream",
     "text": [
      "[INFO 11-09 00:00:18] ax.service.ax_client: Completed trial 2 with data: {'objective': (12360.96, None)}.\n",
      "/home/kylemcmaster/.local/lib/python3.10/site-packages/ax/modelbridge/cross_validation.py:463: UserWarning: Encountered exception in computing model fit quality: RandomModelBridge does not support prediction.\n",
      "  warn(\"Encountered exception in computing model fit quality: \" + str(e))\n",
      "[INFO 11-09 00:00:18] ax.service.ax_client: Generated new trial 3 with parameters {'path_penalty': 3.382929, 'loss_penalty': 0.399539, 'score_factor': 0.799003} using model Sobol.\n"
     ]
    },
    {
     "name": "stdout",
     "output_type": "stream",
     "text": [
      "12360.96 0.08\n"
     ]
    },
    {
     "name": "stderr",
     "output_type": "stream",
     "text": [
      "[INFO 11-09 00:06:43] ax.service.ax_client: Completed trial 3 with data: {'objective': (36827.92, None)}.\n",
      "/home/kylemcmaster/.local/lib/python3.10/site-packages/ax/modelbridge/cross_validation.py:463: UserWarning: Encountered exception in computing model fit quality: RandomModelBridge does not support prediction.\n",
      "  warn(\"Encountered exception in computing model fit quality: \" + str(e))\n",
      "[INFO 11-09 00:06:43] ax.service.ax_client: Generated new trial 4 with parameters {'path_penalty': 0.351172, 'loss_penalty': 17.224845, 'score_factor': 0.106191} using model Sobol.\n"
     ]
    },
    {
     "name": "stdout",
     "output_type": "stream",
     "text": [
      "36827.92 0.24\n"
     ]
    },
    {
     "name": "stderr",
     "output_type": "stream",
     "text": [
      "[INFO 11-09 00:13:46] ax.service.ax_client: Completed trial 4 with data: {'objective': (50389.92, None)}.\n",
      "/home/kylemcmaster/.local/lib/python3.10/site-packages/ax/modelbridge/cross_validation.py:463: UserWarning: Encountered exception in computing model fit quality: RandomModelBridge does not support prediction.\n",
      "  warn(\"Encountered exception in computing model fit quality: \" + str(e))\n",
      "[INFO 11-09 00:13:46] ax.service.ax_client: Generated new trial 5 with parameters {'path_penalty': 15.076535, 'loss_penalty': 4.592687, 'score_factor': 1.638123} using model Sobol.\n"
     ]
    },
    {
     "name": "stdout",
     "output_type": "stream",
     "text": [
      "50389.92 0.54\n"
     ]
    },
    {
     "name": "stderr",
     "output_type": "stream",
     "text": [
      "[INFO 11-09 00:18:07] ax.service.ax_client: Completed trial 5 with data: {'objective': (22256.48, None)}.\n",
      "/home/kylemcmaster/.local/lib/python3.10/site-packages/ax/modelbridge/cross_validation.py:463: UserWarning: Encountered exception in computing model fit quality: RandomModelBridge does not support prediction.\n",
      "  warn(\"Encountered exception in computing model fit quality: \" + str(e))\n",
      "[INFO 11-09 00:18:07] ax.service.ax_client: Generated new trial 6 with parameters {'path_penalty': 11.447183, 'loss_penalty': 11.39899, 'score_factor': 0.661067} using model Sobol.\n"
     ]
    },
    {
     "name": "stdout",
     "output_type": "stream",
     "text": [
      "22256.48 0.14\n"
     ]
    },
    {
     "name": "stderr",
     "output_type": "stream",
     "text": [
      "[INFO 11-09 00:18:57] ax.service.ax_client: Completed trial 6 with data: {'objective': (3128.72, None)}.\n",
      "/home/kylemcmaster/.local/lib/python3.10/site-packages/ax/modelbridge/cross_validation.py:463: UserWarning: Encountered exception in computing model fit quality: RandomModelBridge does not support prediction.\n",
      "  warn(\"Encountered exception in computing model fit quality: \" + str(e))\n",
      "[INFO 11-09 00:18:57] ax.service.ax_client: Generated new trial 7 with parameters {'path_penalty': 6.719458, 'loss_penalty': 9.324713, 'score_factor': 1.067518} using model Sobol.\n"
     ]
    },
    {
     "name": "stdout",
     "output_type": "stream",
     "text": [
      "3128.72 0.0\n"
     ]
    },
    {
     "name": "stderr",
     "output_type": "stream",
     "text": [
      "[INFO 11-09 00:24:50] ax.service.ax_client: Completed trial 7 with data: {'objective': (33073.84, None)}.\n",
      "/home/kylemcmaster/.local/lib/python3.10/site-packages/ax/modelbridge/cross_validation.py:463: UserWarning: Encountered exception in computing model fit quality: RandomModelBridge does not support prediction.\n",
      "  warn(\"Encountered exception in computing model fit quality: \" + str(e))\n",
      "[INFO 11-09 00:24:50] ax.service.ax_client: Generated new trial 8 with parameters {'path_penalty': 5.473493, 'loss_penalty': 19.27174, 'score_factor': 0.521013} using model Sobol.\n"
     ]
    },
    {
     "name": "stdout",
     "output_type": "stream",
     "text": [
      "33073.84 0.2\n"
     ]
    },
    {
     "name": "stderr",
     "output_type": "stream",
     "text": [
      "[INFO 11-09 00:27:58] ax.service.ax_client: Completed trial 8 with data: {'objective': (18385.68, None)}.\n",
      "/home/kylemcmaster/.local/lib/python3.10/site-packages/ax/modelbridge/cross_validation.py:463: UserWarning: Encountered exception in computing model fit quality: RandomModelBridge does not support prediction.\n",
      "  warn(\"Encountered exception in computing model fit quality: \" + str(e))\n",
      "[INFO 11-09 00:27:58] ax.service.ax_client: Generated new trial 9 with parameters {'path_penalty': 10.198965, 'loss_penalty': 1.259362, 'score_factor': 1.23856} using model Sobol.\n"
     ]
    },
    {
     "name": "stdout",
     "output_type": "stream",
     "text": [
      "18385.68 0.08\n"
     ]
    },
    {
     "name": "stderr",
     "output_type": "stream",
     "text": [
      "[INFO 11-09 00:32:38] ax.service.ax_client: Completed trial 9 with data: {'objective': (25447.28, None)}.\n"
     ]
    },
    {
     "name": "stdout",
     "output_type": "stream",
     "text": [
      "25447.28 0.16\n"
     ]
    },
    {
     "name": "stderr",
     "output_type": "stream",
     "text": [
      "[INFO 11-09 00:32:38] ax.service.ax_client: Generated new trial 10 with parameters {'path_penalty': 0.0, 'loss_penalty': 0.0, 'score_factor': 0.0} using model GPEI.\n",
      "[INFO 11-09 00:33:04] ax.service.ax_client: Completed trial 10 with data: {'objective': (853.12, None)}.\n",
      "[WARNING 11-09 00:33:04] ax.modelbridge.cross_validation: Metric objective was unable to be reliably fit.\n",
      "[WARNING 11-09 00:33:04] ax.service.utils.best_point: Model fit is poor; falling back on raw data for best point.\n",
      "[WARNING 11-09 00:33:04] ax.service.utils.best_point: Model fit is poor and data on objective metric objective is noisy; interpret best points results carefully.\n"
     ]
    },
    {
     "name": "stdout",
     "output_type": "stream",
     "text": [
      "853.12 0.0\n",
      "The best parameters are: {'path_penalty': 0.3511723130941391, 'loss_penalty': 17.22484476864338, 'score_factor': 0.10619126446545124}\n",
      "with score ({'objective': 50389.92}, {'objective': {'objective': nan}})\n"
     ]
    },
    {
     "name": "stderr",
     "output_type": "stream",
     "text": [
      "[INFO 11-09 00:33:05] ax.service.ax_client: Generated new trial 11 with parameters {'path_penalty': 0.0, 'loss_penalty': 20.0, 'score_factor': 0.0} using model GPEI.\n",
      "[INFO 11-09 00:33:41] ax.service.ax_client: Completed trial 11 with data: {'objective': (2868.64, None)}.\n"
     ]
    },
    {
     "name": "stdout",
     "output_type": "stream",
     "text": [
      "2868.64 0.0\n"
     ]
    },
    {
     "name": "stderr",
     "output_type": "stream",
     "text": [
      "[INFO 11-09 00:33:43] ax.service.ax_client: Generated new trial 12 with parameters {'path_penalty': 0.635854, 'loss_penalty': 16.627976, 'score_factor': 0.148043} using model GPEI.\n",
      "[INFO 11-09 00:40:30] ax.service.ax_client: Completed trial 12 with data: {'objective': (46939.68, None)}.\n"
     ]
    },
    {
     "name": "stdout",
     "output_type": "stream",
     "text": [
      "46939.68 0.46\n"
     ]
    },
    {
     "name": "stderr",
     "output_type": "stream",
     "text": [
      "[INFO 11-09 00:40:31] ax.service.ax_client: Generated new trial 13 with parameters {'path_penalty': 4.399, 'loss_penalty': 17.093982, 'score_factor': 0.0} using model GPEI.\n",
      "[INFO 11-09 00:41:14] ax.service.ax_client: Completed trial 13 with data: {'objective': (2210.48, None)}.\n"
     ]
    },
    {
     "name": "stdout",
     "output_type": "stream",
     "text": [
      "2210.48 0.0\n"
     ]
    },
    {
     "name": "stderr",
     "output_type": "stream",
     "text": [
      "[INFO 11-09 00:41:16] ax.service.ax_client: Generated new trial 14 with parameters {'path_penalty': 0.0, 'loss_penalty': 17.09922, 'score_factor': 0.336421} using model GPEI.\n",
      "[INFO 11-09 00:45:39] ax.service.ax_client: Completed trial 14 with data: {'objective': (20449.28, None)}.\n"
     ]
    },
    {
     "name": "stdout",
     "output_type": "stream",
     "text": [
      "20449.28 0.0\n"
     ]
    },
    {
     "name": "stderr",
     "output_type": "stream",
     "text": [
      "[INFO 11-09 00:45:41] ax.service.ax_client: Generated new trial 15 with parameters {'path_penalty': 0.0, 'loss_penalty': 16.611528, 'score_factor': 0.062056} using model GPEI.\n",
      "[INFO 11-09 00:49:47] ax.service.ax_client: Completed trial 15 with data: {'objective': (20031.12, None)}.\n"
     ]
    },
    {
     "name": "stdout",
     "output_type": "stream",
     "text": [
      "20031.12 0.0\n"
     ]
    },
    {
     "name": "stderr",
     "output_type": "stream",
     "text": [
      "[INFO 11-09 00:49:47] ax.service.ax_client: Generated new trial 16 with parameters {'path_penalty': 7.960414, 'loss_penalty': 20.0, 'score_factor': 0.122554} using model GPEI.\n",
      "[INFO 11-09 00:50:24] ax.service.ax_client: Completed trial 16 with data: {'objective': (2850.56, None)}.\n"
     ]
    },
    {
     "name": "stdout",
     "output_type": "stream",
     "text": [
      "2850.56 0.0\n"
     ]
    },
    {
     "name": "stderr",
     "output_type": "stream",
     "text": [
      "[INFO 11-09 00:50:25] ax.service.ax_client: Generated new trial 17 with parameters {'path_penalty': 0.0, 'loss_penalty': 20.0, 'score_factor': 0.123546} using model GPEI.\n",
      "[INFO 11-09 00:54:45] ax.service.ax_client: Completed trial 17 with data: {'objective': (20689.36, None)}.\n"
     ]
    },
    {
     "name": "stdout",
     "output_type": "stream",
     "text": [
      "20689.36 0.0\n"
     ]
    },
    {
     "name": "stderr",
     "output_type": "stream",
     "text": [
      "[INFO 11-09 00:54:46] ax.service.ax_client: Generated new trial 18 with parameters {'path_penalty': 0.529458, 'loss_penalty': 16.545261, 'score_factor': 0.105641} using model GPEI.\n",
      "[INFO 11-09 01:01:21] ax.service.ax_client: Completed trial 18 with data: {'objective': (45371.68, None)}.\n"
     ]
    },
    {
     "name": "stdout",
     "output_type": "stream",
     "text": [
      "45371.68 0.42\n"
     ]
    },
    {
     "name": "stderr",
     "output_type": "stream",
     "text": [
      "[INFO 11-09 01:01:22] ax.service.ax_client: Generated new trial 19 with parameters {'path_penalty': 0.494616, 'loss_penalty': 17.689861, 'score_factor': 0.141449} using model GPEI.\n",
      "[INFO 11-09 01:08:06] ax.service.ax_client: Completed trial 19 with data: {'objective': (46141.52, None)}.\n"
     ]
    },
    {
     "name": "stdout",
     "output_type": "stream",
     "text": [
      "46141.52 0.46\n"
     ]
    },
    {
     "name": "stderr",
     "output_type": "stream",
     "text": [
      "[INFO 11-09 01:08:06] ax.service.ax_client: Generated new trial 20 with parameters {'path_penalty': 9.3849, 'loss_penalty': 14.559679, 'score_factor': 1.653151} using model GPEI.\n",
      "[INFO 11-09 01:13:26] ax.service.ax_client: Completed trial 20 with data: {'objective': (28753.84, None)}.\n"
     ]
    },
    {
     "name": "stdout",
     "output_type": "stream",
     "text": [
      "28753.84 0.16\n"
     ]
    },
    {
     "name": "stderr",
     "output_type": "stream",
     "text": [
      "[INFO 11-09 01:13:27] ax.service.ax_client: Generated new trial 21 with parameters {'path_penalty': 0.403825, 'loss_penalty': 14.572295, 'score_factor': 0.161302} using model GPEI.\n",
      "[INFO 11-09 01:21:18] ax.service.ax_client: Completed trial 21 with data: {'objective': (52605.36, None)}.\n"
     ]
    },
    {
     "name": "stdout",
     "output_type": "stream",
     "text": [
      "52605.36 0.52\n"
     ]
    },
    {
     "name": "stderr",
     "output_type": "stream",
     "text": [
      "[INFO 11-09 01:21:19] ax.service.ax_client: Generated new trial 22 with parameters {'path_penalty': 0.451279, 'loss_penalty': 12.544227, 'score_factor': 0.127614} using model GPEI.\n",
      "[INFO 11-09 01:29:10] ax.service.ax_client: Completed trial 22 with data: {'objective': (56791.36, None)}.\n"
     ]
    },
    {
     "name": "stdout",
     "output_type": "stream",
     "text": [
      "56791.36 0.66\n"
     ]
    },
    {
     "name": "stderr",
     "output_type": "stream",
     "text": [
      "[INFO 11-09 01:29:11] ax.service.ax_client: Generated new trial 23 with parameters {'path_penalty': 0.42795, 'loss_penalty': 10.096837, 'score_factor': 0.174691} using model GPEI.\n",
      "[INFO 11-09 01:37:06] ax.service.ax_client: Completed trial 23 with data: {'objective': (53098.96, None)}.\n"
     ]
    },
    {
     "name": "stdout",
     "output_type": "stream",
     "text": [
      "53098.96 0.62\n"
     ]
    },
    {
     "name": "stderr",
     "output_type": "stream",
     "text": [
      "[INFO 11-09 01:37:07] ax.service.ax_client: Generated new trial 24 with parameters {'path_penalty': 0.56998, 'loss_penalty': 9.56123, 'score_factor': 0.114552} using model GPEI.\n",
      "[INFO 11-09 01:43:24] ax.service.ax_client: Completed trial 24 with data: {'objective': (42494.72, None)}.\n"
     ]
    },
    {
     "name": "stdout",
     "output_type": "stream",
     "text": [
      "42494.72 0.38\n"
     ]
    },
    {
     "name": "stderr",
     "output_type": "stream",
     "text": [
      "[INFO 11-09 01:43:25] ax.service.ax_client: Generated new trial 25 with parameters {'path_penalty': 0.342537, 'loss_penalty': 12.404223, 'score_factor': 0.164765} using model GPEI.\n",
      "[INFO 11-09 01:51:13] ax.service.ax_client: Completed trial 25 with data: {'objective': (48908.24, None)}.\n"
     ]
    },
    {
     "name": "stdout",
     "output_type": "stream",
     "text": [
      "48908.24 0.48\n"
     ]
    },
    {
     "name": "stderr",
     "output_type": "stream",
     "text": [
      "[INFO 11-09 01:51:14] ax.service.ax_client: Generated new trial 26 with parameters {'path_penalty': 0.625326, 'loss_penalty': 8.441042, 'score_factor': 0.320428} using model GPEI.\n",
      "[INFO 11-09 01:59:17] ax.service.ax_client: Completed trial 26 with data: {'objective': (53250.48, None)}.\n"
     ]
    },
    {
     "name": "stdout",
     "output_type": "stream",
     "text": [
      "53250.48 0.5\n"
     ]
    },
    {
     "name": "stderr",
     "output_type": "stream",
     "text": [
      "[INFO 11-09 01:59:18] ax.service.ax_client: Generated new trial 27 with parameters {'path_penalty': 0.589541, 'loss_penalty': 2.565109, 'score_factor': 0.423804} using model GPEI.\n",
      "[INFO 11-09 02:05:45] ax.service.ax_client: Completed trial 27 with data: {'objective': (35553.12, None)}.\n"
     ]
    },
    {
     "name": "stdout",
     "output_type": "stream",
     "text": [
      "35553.12 0.24\n"
     ]
    },
    {
     "name": "stderr",
     "output_type": "stream",
     "text": [
      "[INFO 11-09 02:05:47] ax.service.ax_client: Generated new trial 28 with parameters {'path_penalty': 0.513743, 'loss_penalty': 12.389666, 'score_factor': 0.231138} using model GPEI.\n",
      "[INFO 11-09 02:13:20] ax.service.ax_client: Completed trial 28 with data: {'objective': (46960.56, None)}.\n"
     ]
    },
    {
     "name": "stdout",
     "output_type": "stream",
     "text": [
      "46960.56 0.38\n"
     ]
    },
    {
     "name": "stderr",
     "output_type": "stream",
     "text": [
      "[INFO 11-09 02:13:21] ax.service.ax_client: Generated new trial 29 with parameters {'path_penalty': 0.880742, 'loss_penalty': 5.554523, 'score_factor': 0.306455} using model GPEI.\n",
      "[INFO 11-09 02:21:08] ax.service.ax_client: Completed trial 29 with data: {'objective': (47905.12, None)}.\n"
     ]
    },
    {
     "name": "stdout",
     "output_type": "stream",
     "text": [
      "47905.12 0.48\n"
     ]
    },
    {
     "name": "stderr",
     "output_type": "stream",
     "text": [
      "[INFO 11-09 02:21:10] ax.service.ax_client: Generated new trial 30 with parameters {'path_penalty': 0.873865, 'loss_penalty': 11.004859, 'score_factor': 0.381917} using model GPEI.\n",
      "[INFO 11-09 02:28:34] ax.service.ax_client: Completed trial 30 with data: {'objective': (44712.32, None)}.\n"
     ]
    },
    {
     "name": "stdout",
     "output_type": "stream",
     "text": [
      "44712.32 0.44\n",
      "The best parameters are: {'path_penalty': 0.5137431837973504, 'loss_penalty': 12.389665861288417, 'score_factor': 0.23113761331362456}\n",
      "with score ({'objective': 52767.31682696565}, {'objective': {'objective': 3873356.4893304682}})\n"
     ]
    },
    {
     "name": "stderr",
     "output_type": "stream",
     "text": [
      "[INFO 11-09 02:28:36] ax.service.ax_client: Generated new trial 31 with parameters {'path_penalty': 0.499582, 'loss_penalty': 12.81166, 'score_factor': 0.707254} using model GPEI.\n",
      "[INFO 11-09 02:34:41] ax.service.ax_client: Completed trial 31 with data: {'objective': (31527.84, None)}.\n"
     ]
    },
    {
     "name": "stdout",
     "output_type": "stream",
     "text": [
      "31527.84 0.2\n"
     ]
    },
    {
     "name": "stderr",
     "output_type": "stream",
     "text": [
      "[INFO 11-09 02:34:43] ax.service.ax_client: Generated new trial 32 with parameters {'path_penalty': 2.791264, 'loss_penalty': 1.593598, 'score_factor': 0.860645} using model GPEI.\n",
      "[INFO 11-09 02:42:02] ax.service.ax_client: Completed trial 32 with data: {'objective': (46909.04, None)}.\n"
     ]
    },
    {
     "name": "stdout",
     "output_type": "stream",
     "text": [
      "46909.04 0.54\n"
     ]
    },
    {
     "name": "stderr",
     "output_type": "stream",
     "text": [
      "[INFO 11-09 02:42:03] ax.service.ax_client: Generated new trial 33 with parameters {'path_penalty': 2.877558, 'loss_penalty': 7.642759, 'score_factor': 0.785503} using model GPEI.\n",
      "[INFO 11-09 02:49:43] ax.service.ax_client: Completed trial 33 with data: {'objective': (51638.24, None)}.\n"
     ]
    },
    {
     "name": "stdout",
     "output_type": "stream",
     "text": [
      "51638.24 0.5\n"
     ]
    },
    {
     "name": "stderr",
     "output_type": "stream",
     "text": [
      "[INFO 11-09 02:49:45] ax.service.ax_client: Generated new trial 34 with parameters {'path_penalty': 2.780435, 'loss_penalty': 2.00191, 'score_factor': 0.738106} using model GPEI.\n",
      "[INFO 11-09 02:56:27] ax.service.ax_client: Completed trial 34 with data: {'objective': (39453.36, None)}.\n"
     ]
    },
    {
     "name": "stdout",
     "output_type": "stream",
     "text": [
      "39453.36 0.36\n"
     ]
    },
    {
     "name": "stderr",
     "output_type": "stream",
     "text": [
      "[INFO 11-09 02:56:29] ax.service.ax_client: Generated new trial 35 with parameters {'path_penalty': 3.000742, 'loss_penalty': 9.052547, 'score_factor': 0.869367} using model GPEI.\n",
      "[INFO 11-09 03:03:30] ax.service.ax_client: Completed trial 35 with data: {'objective': (46332.32, None)}.\n"
     ]
    },
    {
     "name": "stdout",
     "output_type": "stream",
     "text": [
      "46332.32 0.5\n"
     ]
    },
    {
     "name": "stderr",
     "output_type": "stream",
     "text": [
      "[INFO 11-09 03:03:31] ax.service.ax_client: Generated new trial 36 with parameters {'path_penalty': 2.563884, 'loss_penalty': 9.814234, 'score_factor': 0.834307} using model GPEI.\n",
      "[INFO 11-09 03:10:42] ax.service.ax_client: Completed trial 36 with data: {'objective': (43485.84, None)}.\n"
     ]
    },
    {
     "name": "stdout",
     "output_type": "stream",
     "text": [
      "43485.84 0.4\n"
     ]
    },
    {
     "name": "stderr",
     "output_type": "stream",
     "text": [
      "[INFO 11-09 03:10:42] ax.service.ax_client: Generated new trial 37 with parameters {'path_penalty': 3.075309, 'loss_penalty': 15.347954, 'score_factor': 0.741358} using model GPEI.\n",
      "[INFO 11-09 03:18:35] ax.service.ax_client: Completed trial 37 with data: {'objective': (54053.52, None)}.\n"
     ]
    },
    {
     "name": "stdout",
     "output_type": "stream",
     "text": [
      "54053.52 0.52\n"
     ]
    },
    {
     "name": "stderr",
     "output_type": "stream",
     "text": [
      "[INFO 11-09 03:18:36] ax.service.ax_client: Generated new trial 38 with parameters {'path_penalty': 3.289685, 'loss_penalty': 20.0, 'score_factor': 0.643887} using model GPEI.\n",
      "[INFO 11-09 03:25:28] ax.service.ax_client: Completed trial 38 with data: {'objective': (45343.12, None)}.\n"
     ]
    },
    {
     "name": "stdout",
     "output_type": "stream",
     "text": [
      "45343.12 0.54\n"
     ]
    },
    {
     "name": "stderr",
     "output_type": "stream",
     "text": [
      "[INFO 11-09 03:25:29] ax.service.ax_client: Generated new trial 39 with parameters {'path_penalty': 2.594942, 'loss_penalty': 20.0, 'score_factor': 1.025961} using model GPEI.\n",
      "[INFO 11-09 03:33:08] ax.service.ax_client: Completed trial 39 with data: {'objective': (48679.36, None)}.\n"
     ]
    },
    {
     "name": "stdout",
     "output_type": "stream",
     "text": [
      "48679.36 0.38\n"
     ]
    },
    {
     "name": "stderr",
     "output_type": "stream",
     "text": [
      "[INFO 11-09 03:33:10] ax.service.ax_client: Generated new trial 40 with parameters {'path_penalty': 2.855892, 'loss_penalty': 20.0, 'score_factor': 0.751955} using model GPEI.\n",
      "[INFO 11-09 03:40:25] ax.service.ax_client: Completed trial 40 with data: {'objective': (46839.44, None)}.\n"
     ]
    },
    {
     "name": "stdout",
     "output_type": "stream",
     "text": [
      "46839.44 0.5\n"
     ]
    },
    {
     "name": "stderr",
     "output_type": "stream",
     "text": [
      "[INFO 11-09 03:40:27] ax.service.ax_client: Generated new trial 41 with parameters {'path_penalty': 2.999629, 'loss_penalty': 19.20101, 'score_factor': 1.046501} using model GPEI.\n",
      "[INFO 11-09 03:48:14] ax.service.ax_client: Completed trial 41 with data: {'objective': (52336.24, None)}.\n"
     ]
    },
    {
     "name": "stdout",
     "output_type": "stream",
     "text": [
      "52336.24 0.56\n"
     ]
    },
    {
     "name": "stderr",
     "output_type": "stream",
     "text": [
      "[INFO 11-09 03:48:16] ax.service.ax_client: Generated new trial 42 with parameters {'path_penalty': 2.849688, 'loss_penalty': 20.0, 'score_factor': 1.21431} using model GPEI.\n",
      "[INFO 11-09 03:57:02] ax.service.ax_client: Completed trial 42 with data: {'objective': (59530.24, None)}.\n"
     ]
    },
    {
     "name": "stdout",
     "output_type": "stream",
     "text": [
      "59530.24 0.68\n"
     ]
    },
    {
     "name": "stderr",
     "output_type": "stream",
     "text": [
      "[INFO 11-09 03:57:04] ax.service.ax_client: Generated new trial 43 with parameters {'path_penalty': 2.75816, 'loss_penalty': 12.496453, 'score_factor': 1.34752} using model GPEI.\n",
      "[INFO 11-09 04:04:51] ax.service.ax_client: Completed trial 43 with data: {'objective': (51174.24, None)}.\n"
     ]
    },
    {
     "name": "stdout",
     "output_type": "stream",
     "text": [
      "51174.24 0.56\n"
     ]
    },
    {
     "name": "stderr",
     "output_type": "stream",
     "text": [
      "[INFO 11-09 04:04:53] ax.service.ax_client: Generated new trial 44 with parameters {'path_penalty': 2.795463, 'loss_penalty': 0.0, 'score_factor': 1.18921} using model GPEI.\n",
      "[INFO 11-09 04:12:26] ax.service.ax_client: Completed trial 44 with data: {'objective': (46357.52, None)}.\n"
     ]
    },
    {
     "name": "stdout",
     "output_type": "stream",
     "text": [
      "46357.52 0.44\n"
     ]
    },
    {
     "name": "stderr",
     "output_type": "stream",
     "text": [
      "[INFO 11-09 04:12:27] ax.service.ax_client: Generated new trial 45 with parameters {'path_penalty': 3.082052, 'loss_penalty': 20.0, 'score_factor': 1.438618} using model GPEI.\n",
      "[INFO 11-09 04:20:19] ax.service.ax_client: Completed trial 45 with data: {'objective': (50791.76, None)}.\n"
     ]
    },
    {
     "name": "stdout",
     "output_type": "stream",
     "text": [
      "50791.76 0.54\n"
     ]
    },
    {
     "name": "stderr",
     "output_type": "stream",
     "text": [
      "[INFO 11-09 04:20:21] ax.service.ax_client: Generated new trial 46 with parameters {'path_penalty': 2.709561, 'loss_penalty': 20.0, 'score_factor': 1.663518} using model GPEI.\n",
      "[INFO 11-09 04:27:26] ax.service.ax_client: Completed trial 46 with data: {'objective': (42861.6, None)}.\n"
     ]
    },
    {
     "name": "stdout",
     "output_type": "stream",
     "text": [
      "42861.6 0.42\n"
     ]
    },
    {
     "name": "stderr",
     "output_type": "stream",
     "text": [
      "[INFO 11-09 04:27:27] ax.service.ax_client: Generated new trial 47 with parameters {'path_penalty': 3.100915, 'loss_penalty': 17.071699, 'score_factor': 0.073188} using model GPEI.\n",
      "[INFO 11-09 04:28:02] ax.service.ax_client: Completed trial 47 with data: {'objective': (2469.04, None)}.\n"
     ]
    },
    {
     "name": "stdout",
     "output_type": "stream",
     "text": [
      "2469.04 0.0\n"
     ]
    },
    {
     "name": "stderr",
     "output_type": "stream",
     "text": [
      "[INFO 11-09 04:28:04] ax.service.ax_client: Generated new trial 48 with parameters {'path_penalty': 3.051496, 'loss_penalty': 20.0, 'score_factor': 1.256813} using model GPEI.\n",
      "[INFO 11-09 04:36:13] ax.service.ax_client: Completed trial 48 with data: {'objective': (52089.68, None)}.\n"
     ]
    },
    {
     "name": "stdout",
     "output_type": "stream",
     "text": [
      "52089.68 0.5\n"
     ]
    },
    {
     "name": "stderr",
     "output_type": "stream",
     "text": [
      "[INFO 11-09 04:36:15] ax.service.ax_client: Generated new trial 49 with parameters {'path_penalty': 1.421513, 'loss_penalty': 14.285896, 'score_factor': 0.572255} using model GPEI.\n",
      "[INFO 11-09 04:44:21] ax.service.ax_client: Completed trial 49 with data: {'objective': (54211.92, None)}.\n"
     ]
    },
    {
     "name": "stdout",
     "output_type": "stream",
     "text": [
      "54211.92 0.56\n"
     ]
    },
    {
     "name": "stderr",
     "output_type": "stream",
     "text": [
      "[INFO 11-09 04:44:23] ax.service.ax_client: Generated new trial 50 with parameters {'path_penalty': 1.528462, 'loss_penalty': 0.0, 'score_factor': 0.415541} using model GPEI.\n",
      "[INFO 11-09 04:51:20] ax.service.ax_client: Completed trial 50 with data: {'objective': (42859.76, None)}.\n"
     ]
    },
    {
     "name": "stdout",
     "output_type": "stream",
     "text": [
      "42859.76 0.44\n",
      "The best parameters are: {'path_penalty': 2.8496881554134417, 'loss_penalty': 20.0, 'score_factor': 1.2143101689275857}\n",
      "with score ({'objective': 55484.43852666232}, {'objective': {'objective': 6853135.510388433}})\n"
     ]
    },
    {
     "name": "stderr",
     "output_type": "stream",
     "text": [
      "[INFO 11-09 04:51:22] ax.service.ax_client: Generated new trial 51 with parameters {'path_penalty': 1.264548, 'loss_penalty': 6.207236, 'score_factor': 0.752013} using model GPEI.\n",
      "[INFO 11-09 04:58:28] ax.service.ax_client: Completed trial 51 with data: {'objective': (43714.16, None)}.\n"
     ]
    },
    {
     "name": "stdout",
     "output_type": "stream",
     "text": [
      "43714.16 0.42\n"
     ]
    },
    {
     "name": "stderr",
     "output_type": "stream",
     "text": [
      "[INFO 11-09 04:58:30] ax.service.ax_client: Generated new trial 52 with parameters {'path_penalty': 1.73289, 'loss_penalty': 20.0, 'score_factor': 0.701173} using model GPEI.\n",
      "[INFO 11-09 05:06:30] ax.service.ax_client: Completed trial 52 with data: {'objective': (48955.6, None)}.\n"
     ]
    },
    {
     "name": "stdout",
     "output_type": "stream",
     "text": [
      "48955.6 0.48\n"
     ]
    },
    {
     "name": "stderr",
     "output_type": "stream",
     "text": [
      "[INFO 11-09 05:06:31] ax.service.ax_client: Generated new trial 53 with parameters {'path_penalty': 1.725093, 'loss_penalty': 20.0, 'score_factor': 1.140102} using model GPEI.\n",
      "[INFO 11-09 05:14:13] ax.service.ax_client: Completed trial 53 with data: {'objective': (46752.72, None)}.\n"
     ]
    },
    {
     "name": "stdout",
     "output_type": "stream",
     "text": [
      "46752.72 0.4\n"
     ]
    },
    {
     "name": "stderr",
     "output_type": "stream",
     "text": [
      "[INFO 11-09 05:14:14] ax.service.ax_client: Generated new trial 54 with parameters {'path_penalty': 2.264203, 'loss_penalty': 20.0, 'score_factor': 1.338376} using model GPEI.\n",
      "[INFO 11-09 05:21:24] ax.service.ax_client: Completed trial 54 with data: {'objective': (44303.36, None)}.\n"
     ]
    },
    {
     "name": "stdout",
     "output_type": "stream",
     "text": [
      "44303.36 0.44\n"
     ]
    },
    {
     "name": "stderr",
     "output_type": "stream",
     "text": [
      "[INFO 11-09 05:21:25] ax.service.ax_client: Generated new trial 55 with parameters {'path_penalty': 10.089983, 'loss_penalty': 20.0, 'score_factor': 2.0} using model GPEI.\n",
      "[INFO 11-09 05:27:50] ax.service.ax_client: Completed trial 55 with data: {'objective': (40137.44, None)}.\n"
     ]
    },
    {
     "name": "stdout",
     "output_type": "stream",
     "text": [
      "40137.44 0.36\n"
     ]
    },
    {
     "name": "stderr",
     "output_type": "stream",
     "text": [
      "[INFO 11-09 05:27:51] ax.service.ax_client: Generated new trial 56 with parameters {'path_penalty': 3.494129, 'loss_penalty': 20.0, 'score_factor': 1.88833} using model GPEI.\n",
      "[INFO 11-09 05:35:13] ax.service.ax_client: Completed trial 56 with data: {'objective': (43972.48, None)}.\n"
     ]
    },
    {
     "name": "stdout",
     "output_type": "stream",
     "text": [
      "43972.48 0.36\n"
     ]
    },
    {
     "name": "stderr",
     "output_type": "stream",
     "text": [
      "[INFO 11-09 05:35:15] ax.service.ax_client: Generated new trial 57 with parameters {'path_penalty': 1.392524, 'loss_penalty': 20.0, 'score_factor': 0.456087} using model GPEI.\n",
      "[INFO 11-09 05:42:51] ax.service.ax_client: Completed trial 57 with data: {'objective': (51284.16, None)}.\n"
     ]
    },
    {
     "name": "stdout",
     "output_type": "stream",
     "text": [
      "51284.16 0.54\n"
     ]
    },
    {
     "name": "stderr",
     "output_type": "stream",
     "text": [
      "[INFO 11-09 05:42:52] ax.service.ax_client: Generated new trial 58 with parameters {'path_penalty': 3.779237, 'loss_penalty': 20.0, 'score_factor': 1.480999} using model GPEI.\n",
      "[INFO 11-09 05:50:52] ax.service.ax_client: Completed trial 58 with data: {'objective': (53848.08, None)}.\n"
     ]
    },
    {
     "name": "stdout",
     "output_type": "stream",
     "text": [
      "53848.08 0.56\n"
     ]
    },
    {
     "name": "stderr",
     "output_type": "stream",
     "text": [
      "[INFO 11-09 05:50:53] ax.service.ax_client: Generated new trial 59 with parameters {'path_penalty': 4.077761, 'loss_penalty': 20.0, 'score_factor': 1.717232} using model GPEI.\n",
      "[INFO 11-09 05:58:32] ax.service.ax_client: Completed trial 59 with data: {'objective': (47803.44, None)}.\n"
     ]
    },
    {
     "name": "stdout",
     "output_type": "stream",
     "text": [
      "47803.44 0.48\n"
     ]
    },
    {
     "name": "stderr",
     "output_type": "stream",
     "text": [
      "[INFO 11-09 05:58:33] ax.service.ax_client: Generated new trial 60 with parameters {'path_penalty': 3.781356, 'loss_penalty': 0.0, 'score_factor': 1.630138} using model GPEI.\n",
      "[INFO 11-09 06:06:19] ax.service.ax_client: Completed trial 60 with data: {'objective': (49670.24, None)}.\n"
     ]
    },
    {
     "name": "stdout",
     "output_type": "stream",
     "text": [
      "49670.24 0.54\n"
     ]
    },
    {
     "name": "stderr",
     "output_type": "stream",
     "text": [
      "[INFO 11-09 06:06:20] ax.service.ax_client: Generated new trial 61 with parameters {'path_penalty': 3.624068, 'loss_penalty': 13.437169, 'score_factor': 1.240586} using model GPEI.\n",
      "[INFO 11-09 06:14:20] ax.service.ax_client: Completed trial 61 with data: {'objective': (54018.96, None)}.\n"
     ]
    },
    {
     "name": "stdout",
     "output_type": "stream",
     "text": [
      "54018.96 0.54\n"
     ]
    },
    {
     "name": "stderr",
     "output_type": "stream",
     "text": [
      "[INFO 11-09 06:14:22] ax.service.ax_client: Generated new trial 62 with parameters {'path_penalty': 1.058209, 'loss_penalty': 13.286597, 'score_factor': 0.145901} using model GPEI.\n",
      "[INFO 11-09 06:20:20] ax.service.ax_client: Completed trial 62 with data: {'objective': (42597.76, None)}.\n"
     ]
    },
    {
     "name": "stdout",
     "output_type": "stream",
     "text": [
      "42597.76 0.42\n"
     ]
    },
    {
     "name": "stderr",
     "output_type": "stream",
     "text": [
      "[INFO 11-09 06:20:22] ax.service.ax_client: Generated new trial 63 with parameters {'path_penalty': 4.082394, 'loss_penalty': 20.0, 'score_factor': 1.241645} using model GPEI.\n",
      "[INFO 11-09 06:27:52] ax.service.ax_client: Completed trial 63 with data: {'objective': (48322.0, None)}.\n"
     ]
    },
    {
     "name": "stdout",
     "output_type": "stream",
     "text": [
      "48322.0 0.4\n"
     ]
    },
    {
     "name": "stderr",
     "output_type": "stream",
     "text": [
      "[INFO 11-09 06:27:53] ax.service.ax_client: Generated new trial 64 with parameters {'path_penalty': 3.288615, 'loss_penalty': 20.0, 'score_factor': 1.106641} using model GPEI.\n",
      "[INFO 11-09 06:34:58] ax.service.ax_client: Completed trial 64 with data: {'objective': (44475.2, None)}.\n"
     ]
    },
    {
     "name": "stdout",
     "output_type": "stream",
     "text": [
      "44475.2 0.4\n"
     ]
    },
    {
     "name": "stderr",
     "output_type": "stream",
     "text": [
      "[INFO 11-09 06:34:59] ax.service.ax_client: Generated new trial 65 with parameters {'path_penalty': 4.482769, 'loss_penalty': 0.0, 'score_factor': 1.46967} using model GPEI.\n",
      "[INFO 11-09 06:42:16] ax.service.ax_client: Completed trial 65 with data: {'objective': (44967.04, None)}.\n"
     ]
    },
    {
     "name": "stdout",
     "output_type": "stream",
     "text": [
      "44967.04 0.34\n"
     ]
    },
    {
     "name": "stderr",
     "output_type": "stream",
     "text": [
      "[INFO 11-09 06:42:17] ax.service.ax_client: Generated new trial 66 with parameters {'path_penalty': 1.493054, 'loss_penalty': 20.0, 'score_factor': 1.690658} using model GPEI.\n",
      "[INFO 11-09 06:48:28] ax.service.ax_client: Completed trial 66 with data: {'objective': (33181.12, None)}.\n"
     ]
    },
    {
     "name": "stdout",
     "output_type": "stream",
     "text": [
      "33181.12 0.24\n"
     ]
    },
    {
     "name": "stderr",
     "output_type": "stream",
     "text": [
      "[INFO 11-09 06:48:30] ax.service.ax_client: Generated new trial 67 with parameters {'path_penalty': 3.999535, 'loss_penalty': 0.0, 'score_factor': 1.386534} using model GPEI.\n",
      "[INFO 11-09 06:55:28] ax.service.ax_client: Completed trial 67 with data: {'objective': (41050.4, None)}.\n"
     ]
    },
    {
     "name": "stdout",
     "output_type": "stream",
     "text": [
      "41050.4 0.38\n"
     ]
    },
    {
     "name": "stderr",
     "output_type": "stream",
     "text": [
      "[INFO 11-09 06:55:29] ax.service.ax_client: Generated new trial 68 with parameters {'path_penalty': 4.845627, 'loss_penalty': 20.0, 'score_factor': 1.805125} using model GPEI.\n",
      "[INFO 11-09 07:03:34] ax.service.ax_client: Completed trial 68 with data: {'objective': (53369.2, None)}.\n"
     ]
    },
    {
     "name": "stdout",
     "output_type": "stream",
     "text": [
      "53369.2 0.58\n"
     ]
    },
    {
     "name": "stderr",
     "output_type": "stream",
     "text": [
      "[INFO 11-09 07:03:35] ax.service.ax_client: Generated new trial 69 with parameters {'path_penalty': 4.466293, 'loss_penalty': 10.990055, 'score_factor': 1.753146} using model GPEI.\n",
      "[INFO 11-09 07:11:11] ax.service.ax_client: Completed trial 69 with data: {'objective': (48261.36, None)}.\n"
     ]
    },
    {
     "name": "stdout",
     "output_type": "stream",
     "text": [
      "48261.36 0.48\n"
     ]
    },
    {
     "name": "stderr",
     "output_type": "stream",
     "text": [
      "[INFO 11-09 07:11:12] ax.service.ax_client: Generated new trial 70 with parameters {'path_penalty': 5.34138, 'loss_penalty': 16.58292, 'score_factor': 1.511694} using model GPEI.\n",
      "[INFO 11-09 07:18:26] ax.service.ax_client: Completed trial 70 with data: {'objective': (46044.24, None)}.\n"
     ]
    },
    {
     "name": "stdout",
     "output_type": "stream",
     "text": [
      "46044.24 0.52\n",
      "The best parameters are: {'path_penalty': 3.6240676002480336, 'loss_penalty': 13.437169154663662, 'score_factor': 1.2405864145012715}\n",
      "with score ({'objective': 53540.11578183893}, {'objective': {'objective': 15163494.989691192}})\n"
     ]
    },
    {
     "name": "stderr",
     "output_type": "stream",
     "text": [
      "[INFO 11-09 07:18:28] ax.service.ax_client: Generated new trial 71 with parameters {'path_penalty': 3.3383, 'loss_penalty': 7.837831, 'score_factor': 1.65277} using model GPEI.\n",
      "[INFO 11-09 07:25:38] ax.service.ax_client: Completed trial 71 with data: {'objective': (45041.76, None)}.\n"
     ]
    },
    {
     "name": "stdout",
     "output_type": "stream",
     "text": [
      "45041.76 0.46\n"
     ]
    },
    {
     "name": "stderr",
     "output_type": "stream",
     "text": [
      "[INFO 11-09 07:25:39] ax.service.ax_client: Generated new trial 72 with parameters {'path_penalty': 5.490699, 'loss_penalty': 10.428924, 'score_factor': 2.0} using model GPEI.\n",
      "[INFO 11-09 07:32:59] ax.service.ax_client: Completed trial 72 with data: {'objective': (46027.04, None)}.\n"
     ]
    },
    {
     "name": "stdout",
     "output_type": "stream",
     "text": [
      "46027.04 0.5\n"
     ]
    },
    {
     "name": "stderr",
     "output_type": "stream",
     "text": [
      "[INFO 11-09 07:33:00] ax.service.ax_client: Generated new trial 73 with parameters {'path_penalty': 4.518469, 'loss_penalty': 0.0, 'score_factor': 2.0} using model GPEI.\n",
      "[INFO 11-09 07:40:23] ax.service.ax_client: Completed trial 73 with data: {'objective': (47699.12, None)}.\n"
     ]
    },
    {
     "name": "stdout",
     "output_type": "stream",
     "text": [
      "47699.12 0.46\n"
     ]
    },
    {
     "name": "stderr",
     "output_type": "stream",
     "text": [
      "[INFO 11-09 07:40:25] ax.service.ax_client: Generated new trial 74 with parameters {'path_penalty': 3.090936, 'loss_penalty': 14.935231, 'score_factor': 1.109079} using model GPEI.\n",
      "[INFO 11-09 07:48:02] ax.service.ax_client: Completed trial 74 with data: {'objective': (49024.08, None)}.\n"
     ]
    },
    {
     "name": "stdout",
     "output_type": "stream",
     "text": [
      "49024.08 0.46\n"
     ]
    },
    {
     "name": "stderr",
     "output_type": "stream",
     "text": [
      "[INFO 11-09 07:48:04] ax.service.ax_client: Generated new trial 75 with parameters {'path_penalty': 5.758322, 'loss_penalty': 0.0, 'score_factor': 1.722182} using model GPEI.\n",
      "[INFO 11-09 07:54:51] ax.service.ax_client: Completed trial 75 with data: {'objective': (41023.28, None)}.\n"
     ]
    },
    {
     "name": "stdout",
     "output_type": "stream",
     "text": [
      "41023.28 0.42\n"
     ]
    },
    {
     "name": "stderr",
     "output_type": "stream",
     "text": [
      "[INFO 11-09 07:54:52] ax.service.ax_client: Generated new trial 76 with parameters {'path_penalty': 6.326203, 'loss_penalty': 20.0, 'score_factor': 1.94582} using model GPEI.\n",
      "[INFO 11-09 08:02:36] ax.service.ax_client: Completed trial 76 with data: {'objective': (45380.96, None)}.\n"
     ]
    },
    {
     "name": "stdout",
     "output_type": "stream",
     "text": [
      "45380.96 0.46\n"
     ]
    },
    {
     "name": "stderr",
     "output_type": "stream",
     "text": [
      "[INFO 11-09 08:02:37] ax.service.ax_client: Generated new trial 77 with parameters {'path_penalty': 2.437862, 'loss_penalty': 0.0, 'score_factor': 1.960888} using model GPEI.\n",
      "[INFO 11-09 08:09:35] ax.service.ax_client: Completed trial 77 with data: {'objective': (39855.6, None)}.\n"
     ]
    },
    {
     "name": "stdout",
     "output_type": "stream",
     "text": [
      "39855.6 0.38\n"
     ]
    },
    {
     "name": "stderr",
     "output_type": "stream",
     "text": [
      "[INFO 11-09 08:09:36] ax.service.ax_client: Generated new trial 78 with parameters {'path_penalty': 7.015549, 'loss_penalty': 7.906306, 'score_factor': 1.978008} using model GPEI.\n",
      "[INFO 11-09 08:16:21] ax.service.ax_client: Completed trial 78 with data: {'objective': (42559.04, None)}.\n"
     ]
    },
    {
     "name": "stdout",
     "output_type": "stream",
     "text": [
      "42559.04 0.4\n"
     ]
    },
    {
     "name": "stderr",
     "output_type": "stream",
     "text": [
      "[INFO 11-09 08:16:22] ax.service.ax_client: Generated new trial 79 with parameters {'path_penalty': 5.213388, 'loss_penalty': 20.0, 'score_factor': 2.0} using model GPEI.\n",
      "[INFO 11-09 08:23:44] ax.service.ax_client: Completed trial 79 with data: {'objective': (46765.92, None)}.\n"
     ]
    },
    {
     "name": "stdout",
     "output_type": "stream",
     "text": [
      "46765.92 0.52\n"
     ]
    },
    {
     "name": "stderr",
     "output_type": "stream",
     "text": [
      "[INFO 11-09 08:23:45] ax.service.ax_client: Generated new trial 80 with parameters {'path_penalty': 7.815781, 'loss_penalty': 20.0, 'score_factor': 2.0} using model GPEI.\n",
      "[INFO 11-09 08:31:10] ax.service.ax_client: Completed trial 80 with data: {'objective': (47549.76, None)}.\n"
     ]
    },
    {
     "name": "stdout",
     "output_type": "stream",
     "text": [
      "47549.76 0.56\n"
     ]
    },
    {
     "name": "stderr",
     "output_type": "stream",
     "text": [
      "[INFO 11-09 08:31:11] ax.service.ax_client: Generated new trial 81 with parameters {'path_penalty': 6.988341, 'loss_penalty': 20.0, 'score_factor': 1.548567} using model GPEI.\n",
      "[INFO 11-09 08:38:03] ax.service.ax_client: Completed trial 81 with data: {'objective': (40761.68, None)}.\n"
     ]
    },
    {
     "name": "stdout",
     "output_type": "stream",
     "text": [
      "40761.68 0.42\n"
     ]
    },
    {
     "name": "stderr",
     "output_type": "stream",
     "text": [
      "[INFO 11-09 08:38:04] ax.service.ax_client: Generated new trial 82 with parameters {'path_penalty': 1.16808, 'loss_penalty': 12.310297, 'score_factor': 0.308056} using model GPEI.\n",
      "[INFO 11-09 08:44:39] ax.service.ax_client: Completed trial 82 with data: {'objective': (39760.56, None)}.\n"
     ]
    },
    {
     "name": "stdout",
     "output_type": "stream",
     "text": [
      "39760.56 0.34\n"
     ]
    },
    {
     "name": "stderr",
     "output_type": "stream",
     "text": [
      "[INFO 11-09 08:44:40] ax.service.ax_client: Generated new trial 83 with parameters {'path_penalty': 20.0, 'loss_penalty': 0.0, 'score_factor': 0.0} using model GPEI.\n",
      "[INFO 11-09 08:45:08] ax.service.ax_client: Completed trial 83 with data: {'objective': (2836.48, None)}.\n"
     ]
    },
    {
     "name": "stdout",
     "output_type": "stream",
     "text": [
      "2836.48 0.0\n"
     ]
    },
    {
     "name": "stderr",
     "output_type": "stream",
     "text": [
      "[INFO 11-09 08:45:09] ax.service.ax_client: Generated new trial 84 with parameters {'path_penalty': 1.579141, 'loss_penalty': 0.0, 'score_factor': 1.218863} using model GPEI.\n",
      "[INFO 11-09 08:51:50] ax.service.ax_client: Completed trial 84 with data: {'objective': (38475.04, None)}.\n"
     ]
    },
    {
     "name": "stdout",
     "output_type": "stream",
     "text": [
      "38475.04 0.36\n"
     ]
    },
    {
     "name": "stderr",
     "output_type": "stream",
     "text": [
      "[INFO 11-09 08:51:51] ax.service.ax_client: Generated new trial 85 with parameters {'path_penalty': 6.871229, 'loss_penalty': 15.539661, 'score_factor': 2.0} using model GPEI.\n",
      "[INFO 11-09 08:59:07] ax.service.ax_client: Completed trial 85 with data: {'objective': (43329.76, None)}.\n"
     ]
    },
    {
     "name": "stdout",
     "output_type": "stream",
     "text": [
      "43329.76 0.44\n"
     ]
    },
    {
     "name": "stderr",
     "output_type": "stream",
     "text": [
      "[INFO 11-09 08:59:08] ax.service.ax_client: Generated new trial 86 with parameters {'path_penalty': 4.469377, 'loss_penalty': 10.729647, 'score_factor': 1.255246} using model GPEI.\n",
      "[INFO 11-09 09:06:56] ax.service.ax_client: Completed trial 86 with data: {'objective': (50259.92, None)}.\n"
     ]
    },
    {
     "name": "stdout",
     "output_type": "stream",
     "text": [
      "50259.92 0.46\n"
     ]
    },
    {
     "name": "stderr",
     "output_type": "stream",
     "text": [
      "[INFO 11-09 09:06:58] ax.service.ax_client: Generated new trial 87 with parameters {'path_penalty': 8.373918, 'loss_penalty': 0.0, 'score_factor': 2.0} using model GPEI.\n",
      "[INFO 11-09 09:13:53] ax.service.ax_client: Completed trial 87 with data: {'objective': (43022.16, None)}.\n"
     ]
    },
    {
     "name": "stdout",
     "output_type": "stream",
     "text": [
      "43022.16 0.46\n"
     ]
    },
    {
     "name": "stderr",
     "output_type": "stream",
     "text": [
      "[INFO 11-09 09:13:54] ax.service.ax_client: Generated new trial 88 with parameters {'path_penalty': 7.84247, 'loss_penalty': 0.0, 'score_factor': 1.305736} using model GPEI.\n",
      "[INFO 11-09 09:19:37] ax.service.ax_client: Completed trial 88 with data: {'objective': (35158.56, None)}.\n"
     ]
    },
    {
     "name": "stdout",
     "output_type": "stream",
     "text": [
      "35158.56 0.36\n"
     ]
    },
    {
     "name": "stderr",
     "output_type": "stream",
     "text": [
      "[INFO 11-09 09:19:38] ax.service.ax_client: Generated new trial 89 with parameters {'path_penalty': 3.700108, 'loss_penalty': 8.096333, 'score_factor': 1.307148} using model GPEI.\n",
      "[INFO 11-09 09:27:10] ax.service.ax_client: Completed trial 89 with data: {'objective': (47737.84, None)}.\n"
     ]
    },
    {
     "name": "stdout",
     "output_type": "stream",
     "text": [
      "47737.84 0.5\n"
     ]
    },
    {
     "name": "stderr",
     "output_type": "stream",
     "text": [
      "[INFO 11-09 09:27:11] ax.service.ax_client: Generated new trial 90 with parameters {'path_penalty': 12.149571, 'loss_penalty': 20.0, 'score_factor': 2.0} using model GPEI.\n",
      "[INFO 11-09 09:33:04] ax.service.ax_client: Completed trial 90 with data: {'objective': (36101.28, None)}.\n"
     ]
    },
    {
     "name": "stdout",
     "output_type": "stream",
     "text": [
      "36101.28 0.34\n",
      "The best parameters are: {'path_penalty': 3.0909359217477537, 'loss_penalty': 14.93523125786382, 'score_factor': 1.1090789257131097}\n",
      "with score ({'objective': 53123.67685181896}, {'objective': {'objective': 6144203.9320798805}})\n"
     ]
    },
    {
     "name": "stderr",
     "output_type": "stream",
     "text": [
      "[INFO 11-09 09:33:06] ax.service.ax_client: Generated new trial 91 with parameters {'path_penalty': 3.895126, 'loss_penalty': 15.870099, 'score_factor': 1.393717} using model GPEI.\n",
      "[INFO 11-09 09:40:23] ax.service.ax_client: Completed trial 91 with data: {'objective': (45750.08, None)}.\n"
     ]
    },
    {
     "name": "stdout",
     "output_type": "stream",
     "text": [
      "45750.08 0.42\n"
     ]
    },
    {
     "name": "stderr",
     "output_type": "stream",
     "text": [
      "[INFO 11-09 09:40:24] ax.service.ax_client: Generated new trial 92 with parameters {'path_penalty': 2.395259, 'loss_penalty': 16.436754, 'score_factor': 0.94031} using model GPEI.\n",
      "[INFO 11-09 09:47:38] ax.service.ax_client: Completed trial 92 with data: {'objective': (41855.2, None)}.\n"
     ]
    },
    {
     "name": "stdout",
     "output_type": "stream",
     "text": [
      "41855.2 0.3\n"
     ]
    },
    {
     "name": "stderr",
     "output_type": "stream",
     "text": [
      "[INFO 11-09 09:47:39] ax.service.ax_client: Generated new trial 93 with parameters {'path_penalty': 4.161854, 'loss_penalty': 5.149704, 'score_factor': 2.0} using model GPEI.\n",
      "[INFO 11-09 09:54:46] ax.service.ax_client: Completed trial 93 with data: {'objective': (44574.72, None)}.\n"
     ]
    },
    {
     "name": "stdout",
     "output_type": "stream",
     "text": [
      "44574.72 0.4\n"
     ]
    },
    {
     "name": "stderr",
     "output_type": "stream",
     "text": [
      "[INFO 11-09 09:54:47] ax.service.ax_client: Generated new trial 94 with parameters {'path_penalty': 11.471833, 'loss_penalty': 6.102714, 'score_factor': 2.0} using model GPEI.\n",
      "[INFO 11-09 10:01:03] ax.service.ax_client: Completed trial 94 with data: {'objective': (36649.84, None)}.\n"
     ]
    },
    {
     "name": "stdout",
     "output_type": "stream",
     "text": [
      "36649.84 0.3\n"
     ]
    },
    {
     "name": "stderr",
     "output_type": "stream",
     "text": [
      "[INFO 11-09 10:01:05] ax.service.ax_client: Generated new trial 95 with parameters {'path_penalty': 9.803886, 'loss_penalty': 0.0, 'score_factor': 2.0} using model GPEI.\n",
      "[INFO 11-09 10:07:17] ax.service.ax_client: Completed trial 95 with data: {'objective': (36012.08, None)}.\n"
     ]
    },
    {
     "name": "stdout",
     "output_type": "stream",
     "text": [
      "36012.08 0.3\n"
     ]
    },
    {
     "name": "stderr",
     "output_type": "stream",
     "text": [
      "[INFO 11-09 10:07:18] ax.service.ax_client: Generated new trial 96 with parameters {'path_penalty': 14.373764, 'loss_penalty': 20.0, 'score_factor': 2.0} using model GPEI.\n",
      "[INFO 11-09 10:12:05] ax.service.ax_client: Completed trial 96 with data: {'objective': (26313.44, None)}.\n"
     ]
    },
    {
     "name": "stdout",
     "output_type": "stream",
     "text": [
      "26313.44 0.22\n"
     ]
    },
    {
     "name": "stderr",
     "output_type": "stream",
     "text": [
      "[INFO 11-09 10:12:07] ax.service.ax_client: Generated new trial 97 with parameters {'path_penalty': 4.154697, 'loss_penalty': 14.068834, 'score_factor': 2.0} using model GPEI.\n",
      "[INFO 11-09 10:18:50] ax.service.ax_client: Completed trial 97 with data: {'objective': (38490.88, None)}.\n"
     ]
    },
    {
     "name": "stdout",
     "output_type": "stream",
     "text": [
      "38490.88 0.3\n"
     ]
    },
    {
     "name": "stderr",
     "output_type": "stream",
     "text": [
      "[INFO 11-09 10:18:51] ax.service.ax_client: Generated new trial 98 with parameters {'path_penalty': 5.116417, 'loss_penalty': 20.0, 'score_factor': 1.575013} using model GPEI.\n",
      "[INFO 11-09 10:26:21] ax.service.ax_client: Completed trial 98 with data: {'objective': (46022.48, None)}.\n"
     ]
    },
    {
     "name": "stdout",
     "output_type": "stream",
     "text": [
      "46022.48 0.44\n"
     ]
    },
    {
     "name": "stderr",
     "output_type": "stream",
     "text": [
      "[INFO 11-09 10:26:22] ax.service.ax_client: Generated new trial 99 with parameters {'path_penalty': 5.328466, 'loss_penalty': 7.433243, 'score_factor': 1.658738} using model GPEI.\n",
      "[INFO 11-09 10:34:15] ax.service.ax_client: Completed trial 99 with data: {'objective': (52031.76, None)}.\n"
     ]
    },
    {
     "name": "stdout",
     "output_type": "stream",
     "text": [
      "52031.76 0.6\n"
     ]
    },
    {
     "name": "stderr",
     "output_type": "stream",
     "text": [
      "[INFO 11-09 10:34:16] ax.service.ax_client: Generated new trial 100 with parameters {'path_penalty': 2.947653, 'loss_penalty': 6.015657, 'score_factor': 1.305041} using model GPEI.\n",
      "[INFO 11-09 10:41:59] ax.service.ax_client: Completed trial 100 with data: {'objective': (46361.68, None)}.\n"
     ]
    },
    {
     "name": "stdout",
     "output_type": "stream",
     "text": [
      "46361.68 0.48\n"
     ]
    },
    {
     "name": "stderr",
     "output_type": "stream",
     "text": [
      "[INFO 11-09 10:42:01] ax.service.ax_client: Generated new trial 101 with parameters {'path_penalty': 5.975212, 'loss_penalty': 13.033438, 'score_factor': 1.712363} using model GPEI.\n",
      "[INFO 11-09 10:49:24] ax.service.ax_client: Completed trial 101 with data: {'objective': (47838.8, None)}.\n"
     ]
    },
    {
     "name": "stdout",
     "output_type": "stream",
     "text": [
      "47838.8 0.5\n"
     ]
    },
    {
     "name": "stderr",
     "output_type": "stream",
     "text": [
      "[INFO 11-09 10:49:26] ax.service.ax_client: Generated new trial 102 with parameters {'path_penalty': 4.713025, 'loss_penalty': 6.806621, 'score_factor': 1.576999} using model GPEI.\n",
      "[INFO 11-09 10:57:09] ax.service.ax_client: Completed trial 102 with data: {'objective': (50044.48, None)}.\n"
     ]
    },
    {
     "name": "stdout",
     "output_type": "stream",
     "text": [
      "50044.48 0.5\n"
     ]
    },
    {
     "name": "stderr",
     "output_type": "stream",
     "text": [
      "[INFO 11-09 10:57:10] ax.service.ax_client: Generated new trial 103 with parameters {'path_penalty': 8.253885, 'loss_penalty': 10.700171, 'score_factor': 2.0} using model GPEI.\n",
      "[INFO 11-09 11:04:14] ax.service.ax_client: Completed trial 103 with data: {'objective': (42097.52, None)}.\n"
     ]
    },
    {
     "name": "stdout",
     "output_type": "stream",
     "text": [
      "42097.52 0.46\n"
     ]
    },
    {
     "name": "stderr",
     "output_type": "stream",
     "text": [
      "[INFO 11-09 11:04:16] ax.service.ax_client: Generated new trial 104 with parameters {'path_penalty': 0.215713, 'loss_penalty': 0.0, 'score_factor': 2.0} using model GPEI.\n",
      "[INFO 11-09 11:08:29] ax.service.ax_client: Completed trial 104 with data: {'objective': (16392.0, None)}.\n"
     ]
    },
    {
     "name": "stdout",
     "output_type": "stream",
     "text": [
      "16392.0 0.0\n"
     ]
    },
    {
     "name": "stderr",
     "output_type": "stream",
     "text": [
      "[INFO 11-09 11:08:31] ax.service.ax_client: Generated new trial 105 with parameters {'path_penalty': 4.92945, 'loss_penalty': 10.762742, 'score_factor': 1.769082} using model GPEI.\n",
      "[INFO 11-09 11:16:07] ax.service.ax_client: Completed trial 105 with data: {'objective': (48540.64, None)}.\n"
     ]
    },
    {
     "name": "stdout",
     "output_type": "stream",
     "text": [
      "48540.64 0.46\n"
     ]
    },
    {
     "name": "stderr",
     "output_type": "stream",
     "text": [
      "[INFO 11-09 11:16:09] ax.service.ax_client: Generated new trial 106 with parameters {'path_penalty': 7.652479, 'loss_penalty': 0.0, 'score_factor': 2.0} using model GPEI.\n",
      "[INFO 11-09 11:23:45] ax.service.ax_client: Completed trial 106 with data: {'objective': (46051.68, None)}.\n"
     ]
    },
    {
     "name": "stdout",
     "output_type": "stream",
     "text": [
      "46051.68 0.48\n"
     ]
    },
    {
     "name": "stderr",
     "output_type": "stream",
     "text": [
      "[INFO 11-09 11:23:47] ax.service.ax_client: Generated new trial 107 with parameters {'path_penalty': 4.965964, 'loss_penalty': 0.0, 'score_factor': 2.0} using model GPEI.\n",
      "[INFO 11-09 11:30:46] ax.service.ax_client: Completed trial 107 with data: {'objective': (44253.28, None)}.\n"
     ]
    },
    {
     "name": "stdout",
     "output_type": "stream",
     "text": [
      "44253.28 0.52\n"
     ]
    },
    {
     "name": "stderr",
     "output_type": "stream",
     "text": [
      "[INFO 11-09 11:30:47] ax.service.ax_client: Generated new trial 108 with parameters {'path_penalty': 13.047386, 'loss_penalty': 0.0, 'score_factor': 2.0} using model GPEI.\n",
      "[INFO 11-09 11:36:22] ax.service.ax_client: Completed trial 108 with data: {'objective': (31815.52, None)}.\n"
     ]
    },
    {
     "name": "stdout",
     "output_type": "stream",
     "text": [
      "31815.52 0.28\n"
     ]
    },
    {
     "name": "stderr",
     "output_type": "stream",
     "text": [
      "[INFO 11-09 11:36:24] ax.service.ax_client: Generated new trial 109 with parameters {'path_penalty': 1.506392, 'loss_penalty': 20.0, 'score_factor': 0.742039} using model GPEI.\n",
      "[INFO 11-09 11:44:20] ax.service.ax_client: Completed trial 109 with data: {'objective': (52222.0, None)}.\n"
     ]
    },
    {
     "name": "stdout",
     "output_type": "stream",
     "text": [
      "52222.0 0.58\n",
      "The best parameters are: {'path_penalty': 2.999628696289479, 'loss_penalty': 19.201009878081006, 'score_factor': 1.0465014951786142}\n",
      "with score ({'objective': 51739.62863444732}, {'objective': {'objective': 3426711.0390681396}})\n"
     ]
    }
   ],
   "source": [
    "from ax.service.ax_client import AxClient\n",
    "from ax.modelbridge.registry import Models\n",
    "from ax.modelbridge.generation_strategy import GenerationStrategy, GenerationStep\n",
    "\n",
    "generation_strategy = GenerationStrategy(\n",
    "    steps=[\n",
    "        GenerationStep(model=Models.SOBOL, num_trials=10),\n",
    "        GenerationStep(model=Models.GPEI, num_trials=-1),   # GPEI for the rest of the trials\n",
    "    ]\n",
    ")\n",
    "ax_client = AxClient(generation_strategy=generation_strategy)\n",
    "# ax_client = AxClient()\n",
    "ax_client.create_experiment(name='optimize Params',\n",
    "                            parameters=[\n",
    "                                {'name': 'path_penalty',\n",
    "                                    'type': 'range',\n",
    "                                    'bounds': [0.0, 20.0]},\n",
    "                                {'name': 'loss_penalty',\n",
    "                                    'type': 'range',\n",
    "                                    'bounds': [0.0, 20.0]},\n",
    "                                {'name': 'score_factor',\n",
    "                                    'type': 'range',\n",
    "                                    'bounds': [0.0, 2.0]},\n",
    "                            ],\n",
    ")\n",
    "\n",
    "for i in range(10):\n",
    "    parameters, trial_index = ax_client.get_next_trial()\n",
    "    ax_client.complete_trial(trial_index=trial_index, raw_data=perform_trial(parameters))\n",
    "\n",
    "\n",
    "for i in range(100):\n",
    "    parameters, trial_index = ax_client.get_next_trial()\n",
    "    ax_client.complete_trial(trial_index=trial_index, raw_data=perform_trial(parameters))\n",
    "    if i % 20 == 0:\n",
    "        best_parameters, metrics = ax_client.get_best_parameters()\n",
    "        print(f'The best parameters are: {best_parameters}')\n",
    "        print(f'with score {metrics}')\n",
    "\n",
    "\n",
    "best_parameters, metrics = ax_client.get_best_parameters()\n",
    "print(f'The best parameters are: {best_parameters}')\n",
    "print(f'with score {metrics}')"
   ]
  },
  {
   "cell_type": "code",
   "execution_count": 5,
   "metadata": {},
   "outputs": [
    {
     "name": "stderr",
     "output_type": "stream",
     "text": [
      "/home/kylemcmaster/.local/lib/python3.10/site-packages/botorch/optim/optimize.py:568: RuntimeWarning: Optimization failed in `gen_candidates_scipy` with the following warning(s):\n",
      "[OptimizationWarning('Optimization failed within `scipy.optimize.minimize` with status 2 and message ABNORMAL_TERMINATION_IN_LNSRCH.'), OptimizationWarning('Optimization failed within `scipy.optimize.minimize` with status 2 and message ABNORMAL_TERMINATION_IN_LNSRCH.'), OptimizationWarning('Optimization failed within `scipy.optimize.minimize` with status 2 and message ABNORMAL_TERMINATION_IN_LNSRCH.'), OptimizationWarning('Optimization failed within `scipy.optimize.minimize` with status 2 and message ABNORMAL_TERMINATION_IN_LNSRCH.')]\n",
      "Trying again with a new set of initial conditions.\n",
      "  return _optimize_acqf_batch(opt_inputs=opt_inputs)\n",
      "/home/kylemcmaster/.local/lib/python3.10/site-packages/botorch/optim/optimize.py:568: RuntimeWarning: Optimization failed on the second try, after generating a new set of initial conditions.\n",
      "  return _optimize_acqf_batch(opt_inputs=opt_inputs)\n",
      "[INFO 11-08 07:42:57] ax.service.ax_client: Generated new trial 210 with parameters {'path_penalty': 3.4125, 'loss_penalty': 10.0, 'score_factor': 0.991713, 'num_trials': 0} using model GPEI.\n",
      "[INFO 11-08 07:43:36] ax.service.ax_client: Completed trial 210 with data: {'objective': (38339.44, None)}.\n"
     ]
    },
    {
     "name": "stdout",
     "output_type": "stream",
     "text": [
      "38339.44 0.28\n",
      "The best parameters are: {'path_penalty': 5.696187845352844, 'loss_penalty': 10.0, 'score_factor': 1.9077351565843965, 'num_trials': 800}\n",
      "with score ({'objective': 47256.1640477334}, {'objective': {'objective': 257828.74350236598}})\n"
     ]
    },
    {
     "name": "stderr",
     "output_type": "stream",
     "text": [
      "/home/kylemcmaster/.local/lib/python3.10/site-packages/botorch/optim/optimize.py:568: RuntimeWarning: Optimization failed in `gen_candidates_scipy` with the following warning(s):\n",
      "[NumericalWarning('A not p.d., added jitter of 1.0e-08 to the diagonal'), OptimizationWarning('Optimization failed within `scipy.optimize.minimize` with status 2 and message ABNORMAL_TERMINATION_IN_LNSRCH.')]\n",
      "Trying again with a new set of initial conditions.\n",
      "  return _optimize_acqf_batch(opt_inputs=opt_inputs)\n",
      "/home/kylemcmaster/.local/lib/python3.10/site-packages/botorch/optim/optimize.py:568: RuntimeWarning: Optimization failed on the second try, after generating a new set of initial conditions.\n",
      "  return _optimize_acqf_batch(opt_inputs=opt_inputs)\n",
      "[INFO 11-08 07:43:50] ax.service.ax_client: Generated new trial 211 with parameters {'path_penalty': 5.13065, 'loss_penalty': 4.170804, 'score_factor': 2.0, 'num_trials': 800} using model GPEI.\n",
      "[INFO 11-08 07:44:39] ax.service.ax_client: Completed trial 211 with data: {'objective': (49774.88, None)}.\n"
     ]
    },
    {
     "name": "stdout",
     "output_type": "stream",
     "text": [
      "49774.88 0.52\n"
     ]
    },
    {
     "name": "stderr",
     "output_type": "stream",
     "text": [
      "/home/kylemcmaster/.local/lib/python3.10/site-packages/botorch/optim/optimize.py:568: RuntimeWarning: Optimization failed in `gen_candidates_scipy` with the following warning(s):\n",
      "[OptimizationWarning('Optimization failed within `scipy.optimize.minimize` with status 2 and message ABNORMAL_TERMINATION_IN_LNSRCH.'), OptimizationWarning('Optimization failed within `scipy.optimize.minimize` with status 2 and message ABNORMAL_TERMINATION_IN_LNSRCH.')]\n",
      "Trying again with a new set of initial conditions.\n",
      "  return _optimize_acqf_batch(opt_inputs=opt_inputs)\n",
      "/home/kylemcmaster/.local/lib/python3.10/site-packages/botorch/optim/optimize.py:568: RuntimeWarning: Optimization failed on the second try, after generating a new set of initial conditions.\n",
      "  return _optimize_acqf_batch(opt_inputs=opt_inputs)\n",
      "[INFO 11-08 07:44:52] ax.service.ax_client: Generated new trial 212 with parameters {'path_penalty': 5.741252, 'loss_penalty': 10.0, 'score_factor': 1.879704, 'num_trials': 0} using model GPEI.\n",
      "[INFO 11-08 07:45:38] ax.service.ax_client: Completed trial 212 with data: {'objective': (46619.04, None)}.\n"
     ]
    },
    {
     "name": "stdout",
     "output_type": "stream",
     "text": [
      "46619.04 0.44\n"
     ]
    },
    {
     "name": "stderr",
     "output_type": "stream",
     "text": [
      "/home/kylemcmaster/.local/lib/python3.10/site-packages/botorch/optim/optimize.py:568: RuntimeWarning: Optimization failed in `gen_candidates_scipy` with the following warning(s):\n",
      "[OptimizationWarning('Optimization failed within `scipy.optimize.minimize` with status 2 and message ABNORMAL_TERMINATION_IN_LNSRCH.'), OptimizationWarning('Optimization failed within `scipy.optimize.minimize` with status 2 and message ABNORMAL_TERMINATION_IN_LNSRCH.'), OptimizationWarning('Optimization failed within `scipy.optimize.minimize` with status 2 and message ABNORMAL_TERMINATION_IN_LNSRCH.')]\n",
      "Trying again with a new set of initial conditions.\n",
      "  return _optimize_acqf_batch(opt_inputs=opt_inputs)\n",
      "/home/kylemcmaster/.local/lib/python3.10/site-packages/botorch/optim/optimize.py:568: RuntimeWarning: Optimization failed on the second try, after generating a new set of initial conditions.\n",
      "  return _optimize_acqf_batch(opt_inputs=opt_inputs)\n",
      "[INFO 11-08 07:45:51] ax.service.ax_client: Generated new trial 213 with parameters {'path_penalty': 4.729234, 'loss_penalty': 10.0, 'score_factor': 2.0, 'num_trials': 441} using model GPEI.\n",
      "[INFO 11-08 07:46:34] ax.service.ax_client: Completed trial 213 with data: {'objective': (45642.96, None)}.\n"
     ]
    },
    {
     "name": "stdout",
     "output_type": "stream",
     "text": [
      "45642.96 0.44\n"
     ]
    },
    {
     "name": "stderr",
     "output_type": "stream",
     "text": [
      "/home/kylemcmaster/.local/lib/python3.10/site-packages/linear_operator/utils/cholesky.py:40: NumericalWarning: A not p.d., added jitter of 1.0e-08 to the diagonal\n",
      "  warnings.warn(\n",
      "/home/kylemcmaster/.local/lib/python3.10/site-packages/botorch/optim/optimize.py:568: RuntimeWarning: Optimization failed in `gen_candidates_scipy` with the following warning(s):\n",
      "[OptimizationWarning('Optimization failed within `scipy.optimize.minimize` with status 2 and message ABNORMAL_TERMINATION_IN_LNSRCH.'), OptimizationWarning('Optimization failed within `scipy.optimize.minimize` with status 2 and message ABNORMAL_TERMINATION_IN_LNSRCH.'), NumericalWarning('A not p.d., added jitter of 1.0e-08 to the diagonal'), OptimizationWarning('Optimization failed within `scipy.optimize.minimize` with status 2 and message ABNORMAL_TERMINATION_IN_LNSRCH.')]\n",
      "Trying again with a new set of initial conditions.\n",
      "  return _optimize_acqf_batch(opt_inputs=opt_inputs)\n",
      "/home/kylemcmaster/.local/lib/python3.10/site-packages/botorch/optim/optimize.py:568: RuntimeWarning: Optimization failed on the second try, after generating a new set of initial conditions.\n",
      "  return _optimize_acqf_batch(opt_inputs=opt_inputs)\n",
      "[INFO 11-08 07:46:45] ax.service.ax_client: Generated new trial 214 with parameters {'path_penalty': 3.43005, 'loss_penalty': 0.0, 'score_factor': 1.104105, 'num_trials': 0} using model GPEI.\n",
      "[INFO 11-08 07:47:26] ax.service.ax_client: Completed trial 214 with data: {'objective': (42046.96, None)}.\n"
     ]
    },
    {
     "name": "stdout",
     "output_type": "stream",
     "text": [
      "42046.96 0.4\n"
     ]
    },
    {
     "name": "stderr",
     "output_type": "stream",
     "text": [
      "/home/kylemcmaster/.local/lib/python3.10/site-packages/linear_operator/utils/cholesky.py:40: NumericalWarning: A not p.d., added jitter of 1.0e-08 to the diagonal\n",
      "  warnings.warn(\n",
      "/home/kylemcmaster/.local/lib/python3.10/site-packages/botorch/optim/optimize.py:568: RuntimeWarning: Optimization failed in `gen_candidates_scipy` with the following warning(s):\n",
      "[OptimizationWarning('Optimization failed within `scipy.optimize.minimize` with status 2 and message ABNORMAL_TERMINATION_IN_LNSRCH.')]\n",
      "Trying again with a new set of initial conditions.\n",
      "  return _optimize_acqf_batch(opt_inputs=opt_inputs)\n",
      "/home/kylemcmaster/.local/lib/python3.10/site-packages/botorch/optim/optimize.py:568: RuntimeWarning: Optimization failed on the second try, after generating a new set of initial conditions.\n",
      "  return _optimize_acqf_batch(opt_inputs=opt_inputs)\n",
      "[INFO 11-08 07:47:38] ax.service.ax_client: Generated new trial 215 with parameters {'path_penalty': 2.511629, 'loss_penalty': 0.0, 'score_factor': 0.957249, 'num_trials': 800} using model GPEI.\n",
      "[INFO 11-08 07:48:26] ax.service.ax_client: Completed trial 215 with data: {'objective': (52707.04, None)}.\n"
     ]
    },
    {
     "name": "stdout",
     "output_type": "stream",
     "text": [
      "52707.04 0.58\n"
     ]
    },
    {
     "name": "stderr",
     "output_type": "stream",
     "text": [
      "/home/kylemcmaster/.local/lib/python3.10/site-packages/linear_operator/utils/cholesky.py:40: NumericalWarning: A not p.d., added jitter of 1.0e-08 to the diagonal\n",
      "  warnings.warn(\n",
      "/home/kylemcmaster/.local/lib/python3.10/site-packages/botorch/optim/optimize.py:568: RuntimeWarning: Optimization failed in `gen_candidates_scipy` with the following warning(s):\n",
      "[OptimizationWarning('Optimization failed within `scipy.optimize.minimize` with status 2 and message ABNORMAL_TERMINATION_IN_LNSRCH.'), OptimizationWarning('Optimization failed within `scipy.optimize.minimize` with status 2 and message ABNORMAL_TERMINATION_IN_LNSRCH.')]\n",
      "Trying again with a new set of initial conditions.\n",
      "  return _optimize_acqf_batch(opt_inputs=opt_inputs)\n",
      "/home/kylemcmaster/.local/lib/python3.10/site-packages/botorch/optim/optimize.py:568: RuntimeWarning: Optimization failed on the second try, after generating a new set of initial conditions.\n",
      "  return _optimize_acqf_batch(opt_inputs=opt_inputs)\n",
      "[INFO 11-08 07:48:38] ax.service.ax_client: Generated new trial 216 with parameters {'path_penalty': 5.509261, 'loss_penalty': 0.0, 'score_factor': 2.0, 'num_trials': 590} using model GPEI.\n",
      "[INFO 11-08 07:49:25] ax.service.ax_client: Completed trial 216 with data: {'objective': (49461.36, None)}.\n"
     ]
    },
    {
     "name": "stdout",
     "output_type": "stream",
     "text": [
      "49461.36 0.44\n"
     ]
    },
    {
     "name": "stderr",
     "output_type": "stream",
     "text": [
      "/home/kylemcmaster/.local/lib/python3.10/site-packages/linear_operator/utils/cholesky.py:40: NumericalWarning: A not p.d., added jitter of 1.0e-08 to the diagonal\n",
      "  warnings.warn(\n",
      "/home/kylemcmaster/.local/lib/python3.10/site-packages/botorch/optim/optimize.py:568: RuntimeWarning: Optimization failed in `gen_candidates_scipy` with the following warning(s):\n",
      "[OptimizationWarning('Optimization failed within `scipy.optimize.minimize` with status 2 and message ABNORMAL_TERMINATION_IN_LNSRCH.'), OptimizationWarning('Optimization failed within `scipy.optimize.minimize` with status 2 and message ABNORMAL_TERMINATION_IN_LNSRCH.'), NumericalWarning('A not p.d., added jitter of 1.0e-08 to the diagonal'), OptimizationWarning('Optimization failed within `scipy.optimize.minimize` with status 2 and message ABNORMAL_TERMINATION_IN_LNSRCH.')]\n",
      "Trying again with a new set of initial conditions.\n",
      "  return _optimize_acqf_batch(opt_inputs=opt_inputs)\n",
      "/home/kylemcmaster/.local/lib/python3.10/site-packages/botorch/optim/optimize.py:568: RuntimeWarning: Optimization failed on the second try, after generating a new set of initial conditions.\n",
      "  return _optimize_acqf_batch(opt_inputs=opt_inputs)\n",
      "[INFO 11-08 07:49:38] ax.service.ax_client: Generated new trial 217 with parameters {'path_penalty': 3.308065, 'loss_penalty': 0.0, 'score_factor': 1.023501, 'num_trials': 800} using model GPEI.\n",
      "[INFO 11-08 07:50:22] ax.service.ax_client: Completed trial 217 with data: {'objective': (47830.24, None)}.\n"
     ]
    },
    {
     "name": "stdout",
     "output_type": "stream",
     "text": [
      "47830.24 0.54\n"
     ]
    },
    {
     "name": "stderr",
     "output_type": "stream",
     "text": [
      "/home/kylemcmaster/.local/lib/python3.10/site-packages/linear_operator/utils/cholesky.py:40: NumericalWarning: A not p.d., added jitter of 1.0e-08 to the diagonal\n",
      "  warnings.warn(\n",
      "/home/kylemcmaster/.local/lib/python3.10/site-packages/botorch/optim/optimize.py:568: RuntimeWarning: Optimization failed in `gen_candidates_scipy` with the following warning(s):\n",
      "[OptimizationWarning('Optimization failed within `scipy.optimize.minimize` with status 2 and message ABNORMAL_TERMINATION_IN_LNSRCH.'), OptimizationWarning('Optimization failed within `scipy.optimize.minimize` with status 2 and message ABNORMAL_TERMINATION_IN_LNSRCH.'), OptimizationWarning('Optimization failed within `scipy.optimize.minimize` with status 2 and message ABNORMAL_TERMINATION_IN_LNSRCH.')]\n",
      "Trying again with a new set of initial conditions.\n",
      "  return _optimize_acqf_batch(opt_inputs=opt_inputs)\n",
      "/home/kylemcmaster/.local/lib/python3.10/site-packages/botorch/optim/optimize.py:568: RuntimeWarning: Optimization failed on the second try, after generating a new set of initial conditions.\n",
      "  return _optimize_acqf_batch(opt_inputs=opt_inputs)\n",
      "[INFO 11-08 07:50:35] ax.service.ax_client: Generated new trial 218 with parameters {'path_penalty': 2.785701, 'loss_penalty': 0.0, 'score_factor': 0.995752, 'num_trials': 800} using model GPEI.\n",
      "[INFO 11-08 07:51:19] ax.service.ax_client: Completed trial 218 with data: {'objective': (46446.88, None)}.\n"
     ]
    },
    {
     "name": "stdout",
     "output_type": "stream",
     "text": [
      "46446.88 0.44\n"
     ]
    },
    {
     "name": "stderr",
     "output_type": "stream",
     "text": [
      "/home/kylemcmaster/.local/lib/python3.10/site-packages/linear_operator/utils/cholesky.py:40: NumericalWarning: A not p.d., added jitter of 1.0e-08 to the diagonal\n",
      "  warnings.warn(\n",
      "[INFO 11-08 07:51:27] ax.service.ax_client: Generated new trial 219 with parameters {'path_penalty': 5.712497, 'loss_penalty': 0.0, 'score_factor': 2.0, 'num_trials': 0} using model GPEI.\n",
      "[INFO 11-08 07:52:13] ax.service.ax_client: Completed trial 219 with data: {'objective': (49384.0, None)}.\n"
     ]
    },
    {
     "name": "stdout",
     "output_type": "stream",
     "text": [
      "49384.0 0.52\n"
     ]
    },
    {
     "name": "stderr",
     "output_type": "stream",
     "text": [
      "/home/kylemcmaster/.local/lib/python3.10/site-packages/linear_operator/utils/cholesky.py:40: NumericalWarning: A not p.d., added jitter of 1.0e-08 to the diagonal\n",
      "  warnings.warn(\n",
      "/home/kylemcmaster/.local/lib/python3.10/site-packages/botorch/optim/optimize.py:568: RuntimeWarning: Optimization failed in `gen_candidates_scipy` with the following warning(s):\n",
      "[OptimizationWarning('Optimization failed within `scipy.optimize.minimize` with status 2 and message ABNORMAL_TERMINATION_IN_LNSRCH.'), OptimizationWarning('Optimization failed within `scipy.optimize.minimize` with status 2 and message ABNORMAL_TERMINATION_IN_LNSRCH.')]\n",
      "Trying again with a new set of initial conditions.\n",
      "  return _optimize_acqf_batch(opt_inputs=opt_inputs)\n",
      "/home/kylemcmaster/.local/lib/python3.10/site-packages/botorch/optim/optimize.py:568: RuntimeWarning: Optimization failed on the second try, after generating a new set of initial conditions.\n",
      "  return _optimize_acqf_batch(opt_inputs=opt_inputs)\n",
      "[INFO 11-08 07:52:28] ax.service.ax_client: Generated new trial 220 with parameters {'path_penalty': 5.252171, 'loss_penalty': 0.0, 'score_factor': 1.900593, 'num_trials': 441} using model GPEI.\n",
      "[INFO 11-08 07:53:14] ax.service.ax_client: Completed trial 220 with data: {'objective': (46885.12, None)}.\n"
     ]
    },
    {
     "name": "stdout",
     "output_type": "stream",
     "text": [
      "46885.12 0.42\n"
     ]
    },
    {
     "name": "stderr",
     "output_type": "stream",
     "text": [
      "/home/kylemcmaster/.local/lib/python3.10/site-packages/linear_operator/utils/cholesky.py:40: NumericalWarning: A not p.d., added jitter of 1.0e-08 to the diagonal\n",
      "  warnings.warn(\n",
      "/home/kylemcmaster/.local/lib/python3.10/site-packages/botorch/optim/optimize.py:568: RuntimeWarning: Optimization failed in `gen_candidates_scipy` with the following warning(s):\n",
      "[OptimizationWarning('Optimization failed within `scipy.optimize.minimize` with status 2 and message ABNORMAL_TERMINATION_IN_LNSRCH.'), OptimizationWarning('Optimization failed within `scipy.optimize.minimize` with status 2 and message ABNORMAL_TERMINATION_IN_LNSRCH.'), OptimizationWarning('Optimization failed within `scipy.optimize.minimize` with status 2 and message ABNORMAL_TERMINATION_IN_LNSRCH.')]\n",
      "Trying again with a new set of initial conditions.\n",
      "  return _optimize_acqf_batch(opt_inputs=opt_inputs)\n",
      "/home/kylemcmaster/.local/lib/python3.10/site-packages/botorch/optim/optimize.py:568: RuntimeWarning: Optimization failed on the second try, after generating a new set of initial conditions.\n",
      "  return _optimize_acqf_batch(opt_inputs=opt_inputs)\n",
      "[INFO 11-08 07:53:25] ax.service.ax_client: Generated new trial 221 with parameters {'path_penalty': 7.237763, 'loss_penalty': 0.0, 'score_factor': 1.514642, 'num_trials': 0} using model GPEI.\n",
      "[INFO 11-08 07:54:00] ax.service.ax_client: Completed trial 221 with data: {'objective': (33393.2, None)}.\n"
     ]
    },
    {
     "name": "stdout",
     "output_type": "stream",
     "text": [
      "33393.2 0.2\n"
     ]
    },
    {
     "name": "stderr",
     "output_type": "stream",
     "text": [
      "[INFO 11-08 07:54:07] ax.service.ax_client: Generated new trial 222 with parameters {'path_penalty': 4.61836, 'loss_penalty': 0.0, 'score_factor': 2.0, 'num_trials': 438} using model GPEI.\n",
      "[INFO 11-08 07:54:51] ax.service.ax_client: Completed trial 222 with data: {'objective': (47602.32, None)}.\n"
     ]
    },
    {
     "name": "stdout",
     "output_type": "stream",
     "text": [
      "47602.32 0.54\n"
     ]
    },
    {
     "name": "stderr",
     "output_type": "stream",
     "text": [
      "/home/kylemcmaster/.local/lib/python3.10/site-packages/linear_operator/utils/cholesky.py:40: NumericalWarning: A not p.d., added jitter of 1.0e-08 to the diagonal\n",
      "  warnings.warn(\n",
      "/home/kylemcmaster/.local/lib/python3.10/site-packages/botorch/optim/optimize.py:568: RuntimeWarning: Optimization failed in `gen_candidates_scipy` with the following warning(s):\n",
      "[OptimizationWarning('Optimization failed within `scipy.optimize.minimize` with status 2 and message ABNORMAL_TERMINATION_IN_LNSRCH.')]\n",
      "Trying again with a new set of initial conditions.\n",
      "  return _optimize_acqf_batch(opt_inputs=opt_inputs)\n",
      "/home/kylemcmaster/.local/lib/python3.10/site-packages/botorch/optim/optimize.py:568: RuntimeWarning: Optimization failed on the second try, after generating a new set of initial conditions.\n",
      "  return _optimize_acqf_batch(opt_inputs=opt_inputs)\n",
      "[INFO 11-08 07:55:04] ax.service.ax_client: Generated new trial 223 with parameters {'path_penalty': 4.68236, 'loss_penalty': 10.0, 'score_factor': 1.894367, 'num_trials': 800} using model GPEI.\n",
      "[INFO 11-08 07:55:52] ax.service.ax_client: Completed trial 223 with data: {'objective': (50005.92, None)}.\n"
     ]
    },
    {
     "name": "stdout",
     "output_type": "stream",
     "text": [
      "50005.92 0.52\n"
     ]
    },
    {
     "name": "stderr",
     "output_type": "stream",
     "text": [
      "/home/kylemcmaster/.local/lib/python3.10/site-packages/linear_operator/utils/cholesky.py:40: NumericalWarning: A not p.d., added jitter of 1.0e-08 to the diagonal\n",
      "  warnings.warn(\n",
      "/home/kylemcmaster/.local/lib/python3.10/site-packages/botorch/optim/optimize.py:568: RuntimeWarning: Optimization failed in `gen_candidates_scipy` with the following warning(s):\n",
      "[OptimizationWarning('Optimization failed within `scipy.optimize.minimize` with status 2 and message ABNORMAL_TERMINATION_IN_LNSRCH.'), OptimizationWarning('Optimization failed within `scipy.optimize.minimize` with status 2 and message ABNORMAL_TERMINATION_IN_LNSRCH.'), OptimizationWarning('Optimization failed within `scipy.optimize.minimize` with status 2 and message ABNORMAL_TERMINATION_IN_LNSRCH.')]\n",
      "Trying again with a new set of initial conditions.\n",
      "  return _optimize_acqf_batch(opt_inputs=opt_inputs)\n",
      "/home/kylemcmaster/.local/lib/python3.10/site-packages/botorch/optim/optimize.py:568: RuntimeWarning: Optimization failed on the second try, after generating a new set of initial conditions.\n",
      "  return _optimize_acqf_batch(opt_inputs=opt_inputs)\n",
      "[INFO 11-08 07:56:05] ax.service.ax_client: Generated new trial 224 with parameters {'path_penalty': 2.832, 'loss_penalty': 0.0, 'score_factor': 1.078431, 'num_trials': 800} using model GPEI.\n",
      "[INFO 11-08 07:56:45] ax.service.ax_client: Completed trial 224 with data: {'objective': (40661.92, None)}.\n"
     ]
    },
    {
     "name": "stdout",
     "output_type": "stream",
     "text": [
      "40661.92 0.34\n"
     ]
    },
    {
     "name": "stderr",
     "output_type": "stream",
     "text": [
      "/home/kylemcmaster/.local/lib/python3.10/site-packages/linear_operator/utils/cholesky.py:40: NumericalWarning: A not p.d., added jitter of 1.0e-08 to the diagonal\n",
      "  warnings.warn(\n",
      "/home/kylemcmaster/.local/lib/python3.10/site-packages/botorch/optim/optimize.py:568: RuntimeWarning: Optimization failed in `gen_candidates_scipy` with the following warning(s):\n",
      "[OptimizationWarning('Optimization failed within `scipy.optimize.minimize` with status 2 and message ABNORMAL_TERMINATION_IN_LNSRCH.'), OptimizationWarning('Optimization failed within `scipy.optimize.minimize` with status 2 and message ABNORMAL_TERMINATION_IN_LNSRCH.')]\n",
      "Trying again with a new set of initial conditions.\n",
      "  return _optimize_acqf_batch(opt_inputs=opt_inputs)\n",
      "/home/kylemcmaster/.local/lib/python3.10/site-packages/botorch/optim/optimize.py:568: RuntimeWarning: Optimization failed on the second try, after generating a new set of initial conditions.\n",
      "  return _optimize_acqf_batch(opt_inputs=opt_inputs)\n",
      "[INFO 11-08 07:56:58] ax.service.ax_client: Generated new trial 225 with parameters {'path_penalty': 5.169521, 'loss_penalty': 0.0, 'score_factor': 1.985351, 'num_trials': 800} using model GPEI.\n",
      "[INFO 11-08 07:57:45] ax.service.ax_client: Completed trial 225 with data: {'objective': (50018.32, None)}.\n"
     ]
    },
    {
     "name": "stdout",
     "output_type": "stream",
     "text": [
      "50018.32 0.52\n"
     ]
    },
    {
     "name": "stderr",
     "output_type": "stream",
     "text": [
      "/home/kylemcmaster/.local/lib/python3.10/site-packages/botorch/optim/optimize.py:568: RuntimeWarning: Optimization failed in `gen_candidates_scipy` with the following warning(s):\n",
      "[OptimizationWarning('Optimization failed within `scipy.optimize.minimize` with status 2 and message ABNORMAL_TERMINATION_IN_LNSRCH.')]\n",
      "Trying again with a new set of initial conditions.\n",
      "  return _optimize_acqf_batch(opt_inputs=opt_inputs)\n",
      "/home/kylemcmaster/.local/lib/python3.10/site-packages/botorch/optim/optimize.py:568: RuntimeWarning: Optimization failed on the second try, after generating a new set of initial conditions.\n",
      "  return _optimize_acqf_batch(opt_inputs=opt_inputs)\n",
      "[INFO 11-08 07:57:57] ax.service.ax_client: Generated new trial 226 with parameters {'path_penalty': 5.47284, 'loss_penalty': 10.0, 'score_factor': 1.928271, 'num_trials': 459} using model GPEI.\n",
      "[INFO 11-08 07:58:40] ax.service.ax_client: Completed trial 226 with data: {'objective': (46160.0, None)}.\n"
     ]
    },
    {
     "name": "stdout",
     "output_type": "stream",
     "text": [
      "46160.0 0.44\n"
     ]
    },
    {
     "name": "stderr",
     "output_type": "stream",
     "text": [
      "/home/kylemcmaster/.local/lib/python3.10/site-packages/linear_operator/utils/cholesky.py:40: NumericalWarning: A not p.d., added jitter of 1.0e-08 to the diagonal\n",
      "  warnings.warn(\n",
      "/home/kylemcmaster/.local/lib/python3.10/site-packages/botorch/optim/optimize.py:568: RuntimeWarning: Optimization failed in `gen_candidates_scipy` with the following warning(s):\n",
      "[OptimizationWarning('Optimization failed within `scipy.optimize.minimize` with status 2 and message ABNORMAL_TERMINATION_IN_LNSRCH.'), OptimizationWarning('Optimization failed within `scipy.optimize.minimize` with status 2 and message ABNORMAL_TERMINATION_IN_LNSRCH.'), OptimizationWarning('Optimization failed within `scipy.optimize.minimize` with status 2 and message ABNORMAL_TERMINATION_IN_LNSRCH.')]\n",
      "Trying again with a new set of initial conditions.\n",
      "  return _optimize_acqf_batch(opt_inputs=opt_inputs)\n",
      "/home/kylemcmaster/.local/lib/python3.10/site-packages/botorch/optim/optimize.py:568: RuntimeWarning: Optimization failed on the second try, after generating a new set of initial conditions.\n",
      "  return _optimize_acqf_batch(opt_inputs=opt_inputs)\n",
      "[INFO 11-08 07:58:53] ax.service.ax_client: Generated new trial 227 with parameters {'path_penalty': 5.240984, 'loss_penalty': 0.0, 'score_factor': 1.911273, 'num_trials': 800} using model GPEI.\n",
      "[INFO 11-08 07:59:36] ax.service.ax_client: Completed trial 227 with data: {'objective': (42353.84, None)}.\n"
     ]
    },
    {
     "name": "stdout",
     "output_type": "stream",
     "text": [
      "42353.84 0.36\n"
     ]
    },
    {
     "name": "stderr",
     "output_type": "stream",
     "text": [
      "/home/kylemcmaster/.local/lib/python3.10/site-packages/linear_operator/utils/cholesky.py:40: NumericalWarning: A not p.d., added jitter of 1.0e-08 to the diagonal\n",
      "  warnings.warn(\n",
      "/home/kylemcmaster/.local/lib/python3.10/site-packages/botorch/optim/optimize.py:568: RuntimeWarning: Optimization failed in `gen_candidates_scipy` with the following warning(s):\n",
      "[OptimizationWarning('Optimization failed within `scipy.optimize.minimize` with status 2 and message ABNORMAL_TERMINATION_IN_LNSRCH.'), OptimizationWarning('Optimization failed within `scipy.optimize.minimize` with status 2 and message ABNORMAL_TERMINATION_IN_LNSRCH.')]\n",
      "Trying again with a new set of initial conditions.\n",
      "  return _optimize_acqf_batch(opt_inputs=opt_inputs)\n",
      "/home/kylemcmaster/.local/lib/python3.10/site-packages/botorch/optim/optimize.py:568: RuntimeWarning: Optimization failed on the second try, after generating a new set of initial conditions.\n",
      "  return _optimize_acqf_batch(opt_inputs=opt_inputs)\n",
      "[INFO 11-08 07:59:49] ax.service.ax_client: Generated new trial 228 with parameters {'path_penalty': 5.601619, 'loss_penalty': 5.574609, 'score_factor': 1.976174, 'num_trials': 800} using model GPEI.\n",
      "[INFO 11-08 08:00:34] ax.service.ax_client: Completed trial 228 with data: {'objective': (48577.2, None)}.\n"
     ]
    },
    {
     "name": "stdout",
     "output_type": "stream",
     "text": [
      "48577.2 0.46\n"
     ]
    },
    {
     "name": "stderr",
     "output_type": "stream",
     "text": [
      "/home/kylemcmaster/.local/lib/python3.10/site-packages/linear_operator/utils/cholesky.py:40: NumericalWarning: A not p.d., added jitter of 1.0e-08 to the diagonal\n",
      "  warnings.warn(\n",
      "[INFO 11-08 08:00:43] ax.service.ax_client: Generated new trial 229 with parameters {'path_penalty': 4.643306, 'loss_penalty': 10.0, 'score_factor': 1.810534, 'num_trials': 0} using model GPEI.\n",
      "[INFO 11-08 08:01:23] ax.service.ax_client: Completed trial 229 with data: {'objective': (41589.6, None)}.\n"
     ]
    },
    {
     "name": "stdout",
     "output_type": "stream",
     "text": [
      "41589.6 0.42\n"
     ]
    },
    {
     "name": "stderr",
     "output_type": "stream",
     "text": [
      "/home/kylemcmaster/.local/lib/python3.10/site-packages/linear_operator/utils/cholesky.py:40: NumericalWarning: A not p.d., added jitter of 1.0e-08 to the diagonal\n",
      "  warnings.warn(\n",
      "[INFO 11-08 08:01:30] ax.service.ax_client: Generated new trial 230 with parameters {'path_penalty': 5.329708, 'loss_penalty': 10.0, 'score_factor': 1.944723, 'num_trials': 800} using model GPEI.\n",
      "[INFO 11-08 08:02:17] ax.service.ax_client: Completed trial 230 with data: {'objective': (49307.6, None)}.\n"
     ]
    },
    {
     "name": "stdout",
     "output_type": "stream",
     "text": [
      "49307.6 0.48\n",
      "The best parameters are: {'path_penalty': 5.466430048665055, 'loss_penalty': 10.0, 'score_factor': 1.9144046365625629, 'num_trials': 800}\n",
      "with score ({'objective': 47480.62203874392}, {'objective': {'objective': 246516.21443282533}})\n"
     ]
    },
    {
     "name": "stderr",
     "output_type": "stream",
     "text": [
      "/home/kylemcmaster/.local/lib/python3.10/site-packages/linear_operator/utils/cholesky.py:40: NumericalWarning: A not p.d., added jitter of 1.0e-08 to the diagonal\n",
      "  warnings.warn(\n",
      "/home/kylemcmaster/.local/lib/python3.10/site-packages/botorch/optim/optimize.py:568: RuntimeWarning: Optimization failed in `gen_candidates_scipy` with the following warning(s):\n",
      "[OptimizationWarning('Optimization failed within `scipy.optimize.minimize` with status 2 and message ABNORMAL_TERMINATION_IN_LNSRCH.'), OptimizationWarning('Optimization failed within `scipy.optimize.minimize` with status 2 and message ABNORMAL_TERMINATION_IN_LNSRCH.'), OptimizationWarning('Optimization failed within `scipy.optimize.minimize` with status 2 and message ABNORMAL_TERMINATION_IN_LNSRCH.')]\n",
      "Trying again with a new set of initial conditions.\n",
      "  return _optimize_acqf_batch(opt_inputs=opt_inputs)\n",
      "/home/kylemcmaster/.local/lib/python3.10/site-packages/botorch/optim/optimize.py:568: RuntimeWarning: Optimization failed on the second try, after generating a new set of initial conditions.\n",
      "  return _optimize_acqf_batch(opt_inputs=opt_inputs)\n",
      "[INFO 11-08 08:02:34] ax.service.ax_client: Generated new trial 231 with parameters {'path_penalty': 5.634426, 'loss_penalty': 0.0, 'score_factor': 1.708582, 'num_trials': 253} using model GPEI.\n",
      "[INFO 11-08 08:03:15] ax.service.ax_client: Completed trial 231 with data: {'objective': (38394.8, None)}.\n"
     ]
    },
    {
     "name": "stdout",
     "output_type": "stream",
     "text": [
      "38394.8 0.3\n"
     ]
    },
    {
     "name": "stderr",
     "output_type": "stream",
     "text": [
      "/home/kylemcmaster/.local/lib/python3.10/site-packages/linear_operator/utils/cholesky.py:40: NumericalWarning: A not p.d., added jitter of 1.0e-08 to the diagonal\n",
      "  warnings.warn(\n",
      "[INFO 11-08 08:03:23] ax.service.ax_client: Generated new trial 232 with parameters {'path_penalty': 2.801364, 'loss_penalty': 10.0, 'score_factor': 1.146227, 'num_trials': 800} using model GPEI.\n",
      "[INFO 11-08 08:04:05] ax.service.ax_client: Completed trial 232 with data: {'objective': (42980.72, None)}.\n"
     ]
    },
    {
     "name": "stdout",
     "output_type": "stream",
     "text": [
      "42980.72 0.4\n"
     ]
    },
    {
     "name": "stderr",
     "output_type": "stream",
     "text": [
      "/home/kylemcmaster/.local/lib/python3.10/site-packages/linear_operator/utils/cholesky.py:40: NumericalWarning: A not p.d., added jitter of 1.0e-08 to the diagonal\n",
      "  warnings.warn(\n",
      "/home/kylemcmaster/.local/lib/python3.10/site-packages/botorch/optim/optimize.py:568: RuntimeWarning: Optimization failed in `gen_candidates_scipy` with the following warning(s):\n",
      "[OptimizationWarning('Optimization failed within `scipy.optimize.minimize` with status 2 and message ABNORMAL_TERMINATION_IN_LNSRCH.')]\n",
      "Trying again with a new set of initial conditions.\n",
      "  return _optimize_acqf_batch(opt_inputs=opt_inputs)\n",
      "/home/kylemcmaster/.local/lib/python3.10/site-packages/botorch/optim/optimize.py:568: RuntimeWarning: Optimization failed on the second try, after generating a new set of initial conditions.\n",
      "  return _optimize_acqf_batch(opt_inputs=opt_inputs)\n",
      "[INFO 11-08 08:04:19] ax.service.ax_client: Generated new trial 233 with parameters {'path_penalty': 5.387408, 'loss_penalty': 0.0, 'score_factor': 2.0, 'num_trials': 800} using model GPEI.\n",
      "[INFO 11-08 08:05:04] ax.service.ax_client: Completed trial 233 with data: {'objective': (47342.4, None)}.\n"
     ]
    },
    {
     "name": "stdout",
     "output_type": "stream",
     "text": [
      "47342.4 0.46\n"
     ]
    },
    {
     "name": "stderr",
     "output_type": "stream",
     "text": [
      "/home/kylemcmaster/.local/lib/python3.10/site-packages/linear_operator/utils/cholesky.py:40: NumericalWarning: A not p.d., added jitter of 1.0e-08 to the diagonal\n",
      "  warnings.warn(\n",
      "/home/kylemcmaster/.local/lib/python3.10/site-packages/botorch/optim/optimize.py:568: RuntimeWarning: Optimization failed in `gen_candidates_scipy` with the following warning(s):\n",
      "[OptimizationWarning('Optimization failed within `scipy.optimize.minimize` with status 2 and message ABNORMAL_TERMINATION_IN_LNSRCH.'), OptimizationWarning('Optimization failed within `scipy.optimize.minimize` with status 2 and message ABNORMAL_TERMINATION_IN_LNSRCH.')]\n",
      "Trying again with a new set of initial conditions.\n",
      "  return _optimize_acqf_batch(opt_inputs=opt_inputs)\n",
      "/home/kylemcmaster/.local/lib/python3.10/site-packages/botorch/optim/optimize.py:568: RuntimeWarning: Optimization failed on the second try, after generating a new set of initial conditions.\n",
      "  return _optimize_acqf_batch(opt_inputs=opt_inputs)\n",
      "[INFO 11-08 08:05:18] ax.service.ax_client: Generated new trial 234 with parameters {'path_penalty': 5.535006, 'loss_penalty': 10.0, 'score_factor': 2.0, 'num_trials': 800} using model GPEI.\n",
      "[INFO 11-08 08:05:57] ax.service.ax_client: Completed trial 234 with data: {'objective': (40412.24, None)}.\n"
     ]
    },
    {
     "name": "stdout",
     "output_type": "stream",
     "text": [
      "40412.24 0.4\n"
     ]
    },
    {
     "name": "stderr",
     "output_type": "stream",
     "text": [
      "/home/kylemcmaster/.local/lib/python3.10/site-packages/linear_operator/utils/cholesky.py:40: NumericalWarning: A not p.d., added jitter of 1.0e-08 to the diagonal\n",
      "  warnings.warn(\n",
      "/home/kylemcmaster/.local/lib/python3.10/site-packages/botorch/optim/optimize.py:568: RuntimeWarning: Optimization failed in `gen_candidates_scipy` with the following warning(s):\n",
      "[OptimizationWarning('Optimization failed within `scipy.optimize.minimize` with status 2 and message ABNORMAL_TERMINATION_IN_LNSRCH.'), OptimizationWarning('Optimization failed within `scipy.optimize.minimize` with status 2 and message ABNORMAL_TERMINATION_IN_LNSRCH.'), OptimizationWarning('Optimization failed within `scipy.optimize.minimize` with status 2 and message ABNORMAL_TERMINATION_IN_LNSRCH.'), NumericalWarning('A not p.d., added jitter of 1.0e-08 to the diagonal'), OptimizationWarning('Optimization failed within `scipy.optimize.minimize` with status 2 and message ABNORMAL_TERMINATION_IN_LNSRCH.')]\n",
      "Trying again with a new set of initial conditions.\n",
      "  return _optimize_acqf_batch(opt_inputs=opt_inputs)\n",
      "/home/kylemcmaster/.local/lib/python3.10/site-packages/botorch/optim/optimize.py:568: RuntimeWarning: Optimization failed on the second try, after generating a new set of initial conditions.\n",
      "  return _optimize_acqf_batch(opt_inputs=opt_inputs)\n",
      "[INFO 11-08 08:06:11] ax.service.ax_client: Generated new trial 235 with parameters {'path_penalty': 3.647917, 'loss_penalty': 0.0, 'score_factor': 1.129646, 'num_trials': 0} using model GPEI.\n",
      "[INFO 11-08 08:06:51] ax.service.ax_client: Completed trial 235 with data: {'objective': (42904.08, None)}.\n"
     ]
    },
    {
     "name": "stdout",
     "output_type": "stream",
     "text": [
      "42904.08 0.42\n"
     ]
    },
    {
     "name": "stderr",
     "output_type": "stream",
     "text": [
      "/home/kylemcmaster/.local/lib/python3.10/site-packages/linear_operator/utils/cholesky.py:40: NumericalWarning: A not p.d., added jitter of 1.0e-08 to the diagonal\n",
      "  warnings.warn(\n",
      "/home/kylemcmaster/.local/lib/python3.10/site-packages/botorch/optim/optimize.py:568: RuntimeWarning: Optimization failed in `gen_candidates_scipy` with the following warning(s):\n",
      "[OptimizationWarning('Optimization failed within `scipy.optimize.minimize` with status 2 and message ABNORMAL_TERMINATION_IN_LNSRCH.'), OptimizationWarning('Optimization failed within `scipy.optimize.minimize` with status 2 and message ABNORMAL_TERMINATION_IN_LNSRCH.'), NumericalWarning('A not p.d., added jitter of 1.0e-08 to the diagonal'), OptimizationWarning('Optimization failed within `scipy.optimize.minimize` with status 2 and message ABNORMAL_TERMINATION_IN_LNSRCH.'), OptimizationWarning('Optimization failed within `scipy.optimize.minimize` with status 2 and message ABNORMAL_TERMINATION_IN_LNSRCH.')]\n",
      "Trying again with a new set of initial conditions.\n",
      "  return _optimize_acqf_batch(opt_inputs=opt_inputs)\n",
      "/home/kylemcmaster/.local/lib/python3.10/site-packages/botorch/optim/optimize.py:568: RuntimeWarning: Optimization failed on the second try, after generating a new set of initial conditions.\n",
      "  return _optimize_acqf_batch(opt_inputs=opt_inputs)\n",
      "[INFO 11-08 08:07:06] ax.service.ax_client: Generated new trial 236 with parameters {'path_penalty': 6.430541, 'loss_penalty': 0.0, 'score_factor': 2.0, 'num_trials': 800} using model GPEI.\n",
      "[INFO 11-08 08:07:51] ax.service.ax_client: Completed trial 236 with data: {'objective': (47642.96, None)}.\n"
     ]
    },
    {
     "name": "stdout",
     "output_type": "stream",
     "text": [
      "47642.96 0.54\n"
     ]
    },
    {
     "name": "stderr",
     "output_type": "stream",
     "text": [
      "/home/kylemcmaster/.local/lib/python3.10/site-packages/linear_operator/utils/cholesky.py:40: NumericalWarning: A not p.d., added jitter of 1.0e-08 to the diagonal\n",
      "  warnings.warn(\n",
      "/home/kylemcmaster/.local/lib/python3.10/site-packages/botorch/optim/optimize.py:568: RuntimeWarning: Optimization failed in `gen_candidates_scipy` with the following warning(s):\n",
      "[OptimizationWarning('Optimization failed within `scipy.optimize.minimize` with status 2 and message ABNORMAL_TERMINATION_IN_LNSRCH.')]\n",
      "Trying again with a new set of initial conditions.\n",
      "  return _optimize_acqf_batch(opt_inputs=opt_inputs)\n",
      "/home/kylemcmaster/.local/lib/python3.10/site-packages/botorch/optim/optimize.py:568: RuntimeWarning: Optimization failed on the second try, after generating a new set of initial conditions.\n",
      "  return _optimize_acqf_batch(opt_inputs=opt_inputs)\n",
      "[INFO 11-08 08:08:08] ax.service.ax_client: Generated new trial 237 with parameters {'path_penalty': 5.64011, 'loss_penalty': 0.0, 'score_factor': 1.9472, 'num_trials': 800} using model GPEI.\n",
      "[INFO 11-08 08:08:55] ax.service.ax_client: Completed trial 237 with data: {'objective': (50236.32, None)}.\n"
     ]
    },
    {
     "name": "stdout",
     "output_type": "stream",
     "text": [
      "50236.32 0.46\n"
     ]
    },
    {
     "name": "stderr",
     "output_type": "stream",
     "text": [
      "/home/kylemcmaster/.local/lib/python3.10/site-packages/linear_operator/utils/cholesky.py:40: NumericalWarning: A not p.d., added jitter of 1.0e-08 to the diagonal\n",
      "  warnings.warn(\n",
      "/home/kylemcmaster/.local/lib/python3.10/site-packages/botorch/optim/optimize.py:568: RuntimeWarning: Optimization failed in `gen_candidates_scipy` with the following warning(s):\n",
      "[NumericalWarning('A not p.d., added jitter of 1.0e-08 to the diagonal'), OptimizationWarning('Optimization failed within `scipy.optimize.minimize` with status 2 and message ABNORMAL_TERMINATION_IN_LNSRCH.')]\n",
      "Trying again with a new set of initial conditions.\n",
      "  return _optimize_acqf_batch(opt_inputs=opt_inputs)\n",
      "/home/kylemcmaster/.local/lib/python3.10/site-packages/botorch/optim/optimize.py:568: RuntimeWarning: Optimization failed on the second try, after generating a new set of initial conditions.\n",
      "  return _optimize_acqf_batch(opt_inputs=opt_inputs)\n",
      "[INFO 11-08 08:09:07] ax.service.ax_client: Generated new trial 238 with parameters {'path_penalty': 5.686418, 'loss_penalty': 10.0, 'score_factor': 1.947571, 'num_trials': 800} using model GPEI.\n",
      "[INFO 11-08 08:09:54] ax.service.ax_client: Completed trial 238 with data: {'objective': (49659.28, None)}.\n"
     ]
    },
    {
     "name": "stdout",
     "output_type": "stream",
     "text": [
      "49659.28 0.46\n"
     ]
    },
    {
     "name": "stderr",
     "output_type": "stream",
     "text": [
      "/home/kylemcmaster/.local/lib/python3.10/site-packages/linear_operator/utils/cholesky.py:40: NumericalWarning: A not p.d., added jitter of 1.0e-08 to the diagonal\n",
      "  warnings.warn(\n",
      "/home/kylemcmaster/.local/lib/python3.10/site-packages/botorch/optim/optimize.py:568: RuntimeWarning: Optimization failed in `gen_candidates_scipy` with the following warning(s):\n",
      "[NumericalWarning('A not p.d., added jitter of 1.0e-08 to the diagonal'), NumericalWarning('A not p.d., added jitter of 1.0e-07 to the diagonal'), NumericalWarning('A not p.d., added jitter of 1.0e-06 to the diagonal'), NumericalWarning('A not p.d., added jitter of 1.0e-05 to the diagonal'), NumericalWarning('A not p.d., added jitter of 1.0e-04 to the diagonal'), NumericalWarning('A not p.d., added jitter of 1.0e-03 to the diagonal'), BotorchWarning('Low-rank cholesky updates failed due NaNs or due to an ill-conditioned covariance matrix. Falling back to standard sampling.'), OptimizationWarning('Optimization failed within `scipy.optimize.minimize` with status 2 and message ABNORMAL_TERMINATION_IN_LNSRCH.'), NumericalWarning('A not p.d., added jitter of 1.0e-08 to the diagonal'), NumericalWarning('A not p.d., added jitter of 1.0e-07 to the diagonal'), NumericalWarning('A not p.d., added jitter of 1.0e-06 to the diagonal'), NumericalWarning('A not p.d., added jitter of 1.0e-05 to the diagonal'), NumericalWarning('A not p.d., added jitter of 1.0e-04 to the diagonal'), NumericalWarning('A not p.d., added jitter of 1.0e-03 to the diagonal'), BotorchWarning('Low-rank cholesky updates failed due NaNs or due to an ill-conditioned covariance matrix. Falling back to standard sampling.'), NumericalWarning('A not p.d., added jitter of 1.0e-08 to the diagonal'), NumericalWarning('A not p.d., added jitter of 1.0e-07 to the diagonal'), NumericalWarning('A not p.d., added jitter of 1.0e-06 to the diagonal'), NumericalWarning('A not p.d., added jitter of 1.0e-05 to the diagonal'), NumericalWarning('A not p.d., added jitter of 1.0e-04 to the diagonal'), NumericalWarning('A not p.d., added jitter of 1.0e-03 to the diagonal'), BotorchWarning('Low-rank cholesky updates failed due NaNs or due to an ill-conditioned covariance matrix. Falling back to standard sampling.'), OptimizationWarning('Optimization failed within `scipy.optimize.minimize` with status 2 and message ABNORMAL_TERMINATION_IN_LNSRCH.'), NumericalWarning('A not p.d., added jitter of 1.0e-08 to the diagonal'), NumericalWarning('A not p.d., added jitter of 1.0e-07 to the diagonal'), NumericalWarning('A not p.d., added jitter of 1.0e-06 to the diagonal'), NumericalWarning('A not p.d., added jitter of 1.0e-05 to the diagonal'), NumericalWarning('A not p.d., added jitter of 1.0e-04 to the diagonal'), NumericalWarning('A not p.d., added jitter of 1.0e-03 to the diagonal'), BotorchWarning('Low-rank cholesky updates failed due NaNs or due to an ill-conditioned covariance matrix. Falling back to standard sampling.'), OptimizationWarning('Optimization failed within `scipy.optimize.minimize` with status 2 and message ABNORMAL_TERMINATION_IN_LNSRCH.')]\n",
      "Trying again with a new set of initial conditions.\n",
      "  return _optimize_acqf_batch(opt_inputs=opt_inputs)\n",
      "/home/kylemcmaster/.local/lib/python3.10/site-packages/botorch/optim/optimize.py:568: RuntimeWarning: Optimization failed on the second try, after generating a new set of initial conditions.\n",
      "  return _optimize_acqf_batch(opt_inputs=opt_inputs)\n",
      "[INFO 11-08 08:10:08] ax.service.ax_client: Generated new trial 239 with parameters {'path_penalty': 4.49952, 'loss_penalty': 10.0, 'score_factor': 1.30792, 'num_trials': 800} using model GPEI.\n",
      "[INFO 11-08 08:10:51] ax.service.ax_client: Completed trial 239 with data: {'objective': (45558.16, None)}.\n"
     ]
    },
    {
     "name": "stdout",
     "output_type": "stream",
     "text": [
      "45558.16 0.44\n"
     ]
    },
    {
     "name": "stderr",
     "output_type": "stream",
     "text": [
      "/home/kylemcmaster/.local/lib/python3.10/site-packages/linear_operator/utils/cholesky.py:40: NumericalWarning: A not p.d., added jitter of 1.0e-08 to the diagonal\n",
      "  warnings.warn(\n",
      "/home/kylemcmaster/.local/lib/python3.10/site-packages/botorch/optim/optimize.py:568: RuntimeWarning: Optimization failed in `gen_candidates_scipy` with the following warning(s):\n",
      "[OptimizationWarning('Optimization failed within `scipy.optimize.minimize` with status 2 and message ABNORMAL_TERMINATION_IN_LNSRCH.'), OptimizationWarning('Optimization failed within `scipy.optimize.minimize` with status 2 and message ABNORMAL_TERMINATION_IN_LNSRCH.'), OptimizationWarning('Optimization failed within `scipy.optimize.minimize` with status 2 and message ABNORMAL_TERMINATION_IN_LNSRCH.'), OptimizationWarning('Optimization failed within `scipy.optimize.minimize` with status 2 and message ABNORMAL_TERMINATION_IN_LNSRCH.')]\n",
      "Trying again with a new set of initial conditions.\n",
      "  return _optimize_acqf_batch(opt_inputs=opt_inputs)\n",
      "/home/kylemcmaster/.local/lib/python3.10/site-packages/botorch/optim/optimize.py:568: RuntimeWarning: Optimization failed on the second try, after generating a new set of initial conditions.\n",
      "  return _optimize_acqf_batch(opt_inputs=opt_inputs)\n",
      "[INFO 11-08 08:11:05] ax.service.ax_client: Generated new trial 240 with parameters {'path_penalty': 4.855725, 'loss_penalty': 0.0, 'score_factor': 1.819562, 'num_trials': 800} using model GPEI.\n",
      "[INFO 11-08 08:11:49] ax.service.ax_client: Completed trial 240 with data: {'objective': (46089.2, None)}.\n"
     ]
    },
    {
     "name": "stdout",
     "output_type": "stream",
     "text": [
      "46089.2 0.46\n"
     ]
    },
    {
     "name": "stderr",
     "output_type": "stream",
     "text": [
      "/home/kylemcmaster/.local/lib/python3.10/site-packages/linear_operator/utils/cholesky.py:40: NumericalWarning: A not p.d., added jitter of 1.0e-08 to the diagonal\n",
      "  warnings.warn(\n",
      "/home/kylemcmaster/.local/lib/python3.10/site-packages/botorch/optim/optimize.py:568: RuntimeWarning: Optimization failed in `gen_candidates_scipy` with the following warning(s):\n",
      "[OptimizationWarning('Optimization failed within `scipy.optimize.minimize` with status 2 and message ABNORMAL_TERMINATION_IN_LNSRCH.'), OptimizationWarning('Optimization failed within `scipy.optimize.minimize` with status 2 and message ABNORMAL_TERMINATION_IN_LNSRCH.'), NumericalWarning('A not p.d., added jitter of 1.0e-08 to the diagonal'), OptimizationWarning('Optimization failed within `scipy.optimize.minimize` with status 2 and message ABNORMAL_TERMINATION_IN_LNSRCH.'), NumericalWarning('A not p.d., added jitter of 1.0e-08 to the diagonal')]\n",
      "Trying again with a new set of initial conditions.\n",
      "  return _optimize_acqf_batch(opt_inputs=opt_inputs)\n",
      "/home/kylemcmaster/.local/lib/python3.10/site-packages/botorch/optim/optimize.py:568: RuntimeWarning: Optimization failed on the second try, after generating a new set of initial conditions.\n",
      "  return _optimize_acqf_batch(opt_inputs=opt_inputs)\n",
      "[INFO 11-08 08:12:04] ax.service.ax_client: Generated new trial 241 with parameters {'path_penalty': 3.250592, 'loss_penalty': 0.0, 'score_factor': 0.940047, 'num_trials': 800} using model GPEI.\n",
      "[INFO 11-08 08:12:49] ax.service.ax_client: Completed trial 241 with data: {'objective': (47855.44, None)}.\n"
     ]
    },
    {
     "name": "stdout",
     "output_type": "stream",
     "text": [
      "47855.44 0.46\n"
     ]
    },
    {
     "name": "stderr",
     "output_type": "stream",
     "text": [
      "/home/kylemcmaster/.local/lib/python3.10/site-packages/linear_operator/utils/cholesky.py:40: NumericalWarning: A not p.d., added jitter of 1.0e-08 to the diagonal\n",
      "  warnings.warn(\n",
      "/home/kylemcmaster/.local/lib/python3.10/site-packages/botorch/optim/optimize.py:568: RuntimeWarning: Optimization failed in `gen_candidates_scipy` with the following warning(s):\n",
      "[OptimizationWarning('Optimization failed within `scipy.optimize.minimize` with status 2 and message ABNORMAL_TERMINATION_IN_LNSRCH.'), OptimizationWarning('Optimization failed within `scipy.optimize.minimize` with status 2 and message ABNORMAL_TERMINATION_IN_LNSRCH.')]\n",
      "Trying again with a new set of initial conditions.\n",
      "  return _optimize_acqf_batch(opt_inputs=opt_inputs)\n",
      "/home/kylemcmaster/.local/lib/python3.10/site-packages/botorch/optim/optimize.py:568: RuntimeWarning: Optimization failed on the second try, after generating a new set of initial conditions.\n",
      "  return _optimize_acqf_batch(opt_inputs=opt_inputs)\n",
      "[INFO 11-08 08:13:03] ax.service.ax_client: Generated new trial 242 with parameters {'path_penalty': 5.983532, 'loss_penalty': 0.0, 'score_factor': 2.0, 'num_trials': 800} using model GPEI.\n",
      "[INFO 11-08 08:13:48] ax.service.ax_client: Completed trial 242 with data: {'objective': (42813.04, None)}.\n"
     ]
    },
    {
     "name": "stdout",
     "output_type": "stream",
     "text": [
      "42813.04 0.36\n"
     ]
    },
    {
     "name": "stderr",
     "output_type": "stream",
     "text": [
      "/home/kylemcmaster/.local/lib/python3.10/site-packages/linear_operator/utils/cholesky.py:40: NumericalWarning: A not p.d., added jitter of 1.0e-08 to the diagonal\n",
      "  warnings.warn(\n",
      "/home/kylemcmaster/.local/lib/python3.10/site-packages/botorch/optim/optimize.py:568: RuntimeWarning: Optimization failed in `gen_candidates_scipy` with the following warning(s):\n",
      "[OptimizationWarning('Optimization failed within `scipy.optimize.minimize` with status 2 and message ABNORMAL_TERMINATION_IN_LNSRCH.'), OptimizationWarning('Optimization failed within `scipy.optimize.minimize` with status 2 and message ABNORMAL_TERMINATION_IN_LNSRCH.'), OptimizationWarning('Optimization failed within `scipy.optimize.minimize` with status 2 and message ABNORMAL_TERMINATION_IN_LNSRCH.')]\n",
      "Trying again with a new set of initial conditions.\n",
      "  return _optimize_acqf_batch(opt_inputs=opt_inputs)\n",
      "/home/kylemcmaster/.local/lib/python3.10/site-packages/botorch/optim/optimize.py:568: RuntimeWarning: Optimization failed on the second try, after generating a new set of initial conditions.\n",
      "  return _optimize_acqf_batch(opt_inputs=opt_inputs)\n",
      "[INFO 11-08 08:14:07] ax.service.ax_client: Generated new trial 243 with parameters {'path_penalty': 4.59166, 'loss_penalty': 0.0, 'score_factor': 2.0, 'num_trials': 800} using model GPEI.\n",
      "[INFO 11-08 08:14:51] ax.service.ax_client: Completed trial 243 with data: {'objective': (45439.6, None)}.\n"
     ]
    },
    {
     "name": "stdout",
     "output_type": "stream",
     "text": [
      "45439.6 0.38\n"
     ]
    },
    {
     "name": "stderr",
     "output_type": "stream",
     "text": [
      "/home/kylemcmaster/.local/lib/python3.10/site-packages/linear_operator/utils/cholesky.py:40: NumericalWarning: A not p.d., added jitter of 1.0e-08 to the diagonal\n",
      "  warnings.warn(\n",
      "/home/kylemcmaster/.local/lib/python3.10/site-packages/botorch/optim/optimize.py:568: RuntimeWarning: Optimization failed in `gen_candidates_scipy` with the following warning(s):\n",
      "[NumericalWarning('A not p.d., added jitter of 1.0e-08 to the diagonal'), OptimizationWarning('Optimization failed within `scipy.optimize.minimize` with status 2 and message ABNORMAL_TERMINATION_IN_LNSRCH.'), OptimizationWarning('Optimization failed within `scipy.optimize.minimize` with status 2 and message ABNORMAL_TERMINATION_IN_LNSRCH.')]\n",
      "Trying again with a new set of initial conditions.\n",
      "  return _optimize_acqf_batch(opt_inputs=opt_inputs)\n",
      "/home/kylemcmaster/.local/lib/python3.10/site-packages/botorch/optim/optimize.py:568: RuntimeWarning: Optimization failed on the second try, after generating a new set of initial conditions.\n",
      "  return _optimize_acqf_batch(opt_inputs=opt_inputs)\n",
      "[INFO 11-08 08:15:06] ax.service.ax_client: Generated new trial 244 with parameters {'path_penalty': 3.659974, 'loss_penalty': 10.0, 'score_factor': 0.903437, 'num_trials': 0} using model GPEI.\n",
      "[INFO 11-08 08:15:47] ax.service.ax_client: Completed trial 244 with data: {'objective': (44181.36, None)}.\n"
     ]
    },
    {
     "name": "stdout",
     "output_type": "stream",
     "text": [
      "44181.36 0.46\n"
     ]
    },
    {
     "name": "stderr",
     "output_type": "stream",
     "text": [
      "/home/kylemcmaster/.local/lib/python3.10/site-packages/linear_operator/utils/cholesky.py:40: NumericalWarning: A not p.d., added jitter of 1.0e-08 to the diagonal\n",
      "  warnings.warn(\n",
      "/home/kylemcmaster/.local/lib/python3.10/site-packages/botorch/optim/optimize.py:568: RuntimeWarning: Optimization failed in `gen_candidates_scipy` with the following warning(s):\n",
      "[NumericalWarning('A not p.d., added jitter of 1.0e-08 to the diagonal'), OptimizationWarning('Optimization failed within `scipy.optimize.minimize` with status 2 and message ABNORMAL_TERMINATION_IN_LNSRCH.'), NumericalWarning('A not p.d., added jitter of 1.0e-08 to the diagonal'), OptimizationWarning('Optimization failed within `scipy.optimize.minimize` with status 2 and message ABNORMAL_TERMINATION_IN_LNSRCH.')]\n",
      "Trying again with a new set of initial conditions.\n",
      "  return _optimize_acqf_batch(opt_inputs=opt_inputs)\n",
      "/home/kylemcmaster/.local/lib/python3.10/site-packages/botorch/optim/optimize.py:568: RuntimeWarning: Optimization failed on the second try, after generating a new set of initial conditions.\n",
      "  return _optimize_acqf_batch(opt_inputs=opt_inputs)\n",
      "[INFO 11-08 08:16:04] ax.service.ax_client: Generated new trial 245 with parameters {'path_penalty': 5.545734, 'loss_penalty': 0.0, 'score_factor': 1.882264, 'num_trials': 38} using model GPEI.\n",
      "[INFO 11-08 08:16:48] ax.service.ax_client: Completed trial 245 with data: {'objective': (46284.8, None)}.\n"
     ]
    },
    {
     "name": "stdout",
     "output_type": "stream",
     "text": [
      "46284.8 0.5\n"
     ]
    },
    {
     "name": "stderr",
     "output_type": "stream",
     "text": [
      "/home/kylemcmaster/.local/lib/python3.10/site-packages/linear_operator/utils/cholesky.py:40: NumericalWarning: A not p.d., added jitter of 1.0e-08 to the diagonal\n",
      "  warnings.warn(\n",
      "/home/kylemcmaster/.local/lib/python3.10/site-packages/botorch/optim/optimize.py:568: RuntimeWarning: Optimization failed in `gen_candidates_scipy` with the following warning(s):\n",
      "[OptimizationWarning('Optimization failed within `scipy.optimize.minimize` with status 2 and message ABNORMAL_TERMINATION_IN_LNSRCH.'), OptimizationWarning('Optimization failed within `scipy.optimize.minimize` with status 2 and message ABNORMAL_TERMINATION_IN_LNSRCH.'), OptimizationWarning('Optimization failed within `scipy.optimize.minimize` with status 2 and message ABNORMAL_TERMINATION_IN_LNSRCH.')]\n",
      "Trying again with a new set of initial conditions.\n",
      "  return _optimize_acqf_batch(opt_inputs=opt_inputs)\n",
      "/home/kylemcmaster/.local/lib/python3.10/site-packages/botorch/optim/optimize.py:568: RuntimeWarning: Optimization failed on the second try, after generating a new set of initial conditions.\n",
      "  return _optimize_acqf_batch(opt_inputs=opt_inputs)\n",
      "[INFO 11-08 08:17:03] ax.service.ax_client: Generated new trial 246 with parameters {'path_penalty': 4.868428, 'loss_penalty': 0.0, 'score_factor': 1.928709, 'num_trials': 0} using model GPEI.\n",
      "[INFO 11-08 08:17:48] ax.service.ax_client: Completed trial 246 with data: {'objective': (49673.84, None)}.\n"
     ]
    },
    {
     "name": "stdout",
     "output_type": "stream",
     "text": [
      "49673.84 0.54\n"
     ]
    },
    {
     "name": "stderr",
     "output_type": "stream",
     "text": [
      "/home/kylemcmaster/.local/lib/python3.10/site-packages/linear_operator/utils/cholesky.py:40: NumericalWarning: A not p.d., added jitter of 1.0e-08 to the diagonal\n",
      "  warnings.warn(\n",
      "/home/kylemcmaster/.local/lib/python3.10/site-packages/botorch/optim/optimize.py:568: RuntimeWarning: Optimization failed in `gen_candidates_scipy` with the following warning(s):\n",
      "[OptimizationWarning('Optimization failed within `scipy.optimize.minimize` with status 2 and message ABNORMAL_TERMINATION_IN_LNSRCH.'), OptimizationWarning('Optimization failed within `scipy.optimize.minimize` with status 2 and message ABNORMAL_TERMINATION_IN_LNSRCH.'), OptimizationWarning('Optimization failed within `scipy.optimize.minimize` with status 2 and message ABNORMAL_TERMINATION_IN_LNSRCH.')]\n",
      "Trying again with a new set of initial conditions.\n",
      "  return _optimize_acqf_batch(opt_inputs=opt_inputs)\n",
      "/home/kylemcmaster/.local/lib/python3.10/site-packages/botorch/optim/optimize.py:568: RuntimeWarning: Optimization failed on the second try, after generating a new set of initial conditions.\n",
      "  return _optimize_acqf_batch(opt_inputs=opt_inputs)\n",
      "[INFO 11-08 08:18:03] ax.service.ax_client: Generated new trial 247 with parameters {'path_penalty': 3.108769, 'loss_penalty': 10.0, 'score_factor': 0.985626, 'num_trials': 800} using model GPEI.\n",
      "[INFO 11-08 08:18:47] ax.service.ax_client: Completed trial 247 with data: {'objective': (44357.68, None)}.\n"
     ]
    },
    {
     "name": "stdout",
     "output_type": "stream",
     "text": [
      "44357.68 0.44\n"
     ]
    },
    {
     "name": "stderr",
     "output_type": "stream",
     "text": [
      "/home/kylemcmaster/.local/lib/python3.10/site-packages/linear_operator/utils/cholesky.py:40: NumericalWarning: A not p.d., added jitter of 1.0e-08 to the diagonal\n",
      "  warnings.warn(\n",
      "/home/kylemcmaster/.local/lib/python3.10/site-packages/botorch/optim/optimize.py:568: RuntimeWarning: Optimization failed in `gen_candidates_scipy` with the following warning(s):\n",
      "[NumericalWarning('A not p.d., added jitter of 1.0e-08 to the diagonal'), NumericalWarning('A not p.d., added jitter of 1.0e-07 to the diagonal'), NumericalWarning('A not p.d., added jitter of 1.0e-06 to the diagonal'), NumericalWarning('A not p.d., added jitter of 1.0e-05 to the diagonal'), OptimizationWarning('Optimization failed within `scipy.optimize.minimize` with status 2 and message ABNORMAL_TERMINATION_IN_LNSRCH.'), NumericalWarning('A not p.d., added jitter of 1.0e-08 to the diagonal'), OptimizationWarning('Optimization failed within `scipy.optimize.minimize` with status 2 and message ABNORMAL_TERMINATION_IN_LNSRCH.'), OptimizationWarning('Optimization failed within `scipy.optimize.minimize` with status 2 and message ABNORMAL_TERMINATION_IN_LNSRCH.')]\n",
      "Trying again with a new set of initial conditions.\n",
      "  return _optimize_acqf_batch(opt_inputs=opt_inputs)\n",
      "/home/kylemcmaster/.local/lib/python3.10/site-packages/botorch/optim/optimize.py:568: RuntimeWarning: Optimization failed on the second try, after generating a new set of initial conditions.\n",
      "  return _optimize_acqf_batch(opt_inputs=opt_inputs)\n",
      "[INFO 11-08 08:19:04] ax.service.ax_client: Generated new trial 248 with parameters {'path_penalty': 5.186328, 'loss_penalty': 10.0, 'score_factor': 1.935432, 'num_trials': 0} using model GPEI.\n",
      "[INFO 11-08 08:19:44] ax.service.ax_client: Completed trial 248 with data: {'objective': (42866.8, None)}.\n"
     ]
    },
    {
     "name": "stdout",
     "output_type": "stream",
     "text": [
      "42866.8 0.4\n"
     ]
    },
    {
     "name": "stderr",
     "output_type": "stream",
     "text": [
      "/home/kylemcmaster/.local/lib/python3.10/site-packages/linear_operator/utils/cholesky.py:40: NumericalWarning: A not p.d., added jitter of 1.0e-08 to the diagonal\n",
      "  warnings.warn(\n",
      "/home/kylemcmaster/.local/lib/python3.10/site-packages/botorch/optim/optimize.py:568: RuntimeWarning: Optimization failed in `gen_candidates_scipy` with the following warning(s):\n",
      "[OptimizationWarning('Optimization failed within `scipy.optimize.minimize` with status 2 and message ABNORMAL_TERMINATION_IN_LNSRCH.'), NumericalWarning('A not p.d., added jitter of 1.0e-08 to the diagonal'), OptimizationWarning('Optimization failed within `scipy.optimize.minimize` with status 2 and message ABNORMAL_TERMINATION_IN_LNSRCH.'), OptimizationWarning('Optimization failed within `scipy.optimize.minimize` with status 2 and message ABNORMAL_TERMINATION_IN_LNSRCH.')]\n",
      "Trying again with a new set of initial conditions.\n",
      "  return _optimize_acqf_batch(opt_inputs=opt_inputs)\n",
      "/home/kylemcmaster/.local/lib/python3.10/site-packages/botorch/optim/optimize.py:568: RuntimeWarning: Optimization failed on the second try, after generating a new set of initial conditions.\n",
      "  return _optimize_acqf_batch(opt_inputs=opt_inputs)\n",
      "[INFO 11-08 08:20:00] ax.service.ax_client: Generated new trial 249 with parameters {'path_penalty': 5.782926, 'loss_penalty': 10.0, 'score_factor': 1.880796, 'num_trials': 800} using model GPEI.\n",
      "[INFO 11-08 08:20:46] ax.service.ax_client: Completed trial 249 with data: {'objective': (48935.36, None)}.\n"
     ]
    },
    {
     "name": "stdout",
     "output_type": "stream",
     "text": [
      "48935.36 0.56\n"
     ]
    },
    {
     "name": "stderr",
     "output_type": "stream",
     "text": [
      "/home/kylemcmaster/.local/lib/python3.10/site-packages/linear_operator/utils/cholesky.py:40: NumericalWarning: A not p.d., added jitter of 1.0e-08 to the diagonal\n",
      "  warnings.warn(\n",
      "/home/kylemcmaster/.local/lib/python3.10/site-packages/botorch/optim/optimize.py:568: RuntimeWarning: Optimization failed in `gen_candidates_scipy` with the following warning(s):\n",
      "[NumericalWarning('A not p.d., added jitter of 1.0e-08 to the diagonal'), OptimizationWarning('Optimization failed within `scipy.optimize.minimize` with status 2 and message ABNORMAL_TERMINATION_IN_LNSRCH.'), NumericalWarning('A not p.d., added jitter of 1.0e-08 to the diagonal'), NumericalWarning('A not p.d., added jitter of 1.0e-07 to the diagonal'), NumericalWarning('A not p.d., added jitter of 1.0e-06 to the diagonal'), OptimizationWarning('Optimization failed within `scipy.optimize.minimize` with status 2 and message ABNORMAL_TERMINATION_IN_LNSRCH.'), NumericalWarning('A not p.d., added jitter of 1.0e-08 to the diagonal'), OptimizationWarning('Optimization failed within `scipy.optimize.minimize` with status 2 and message ABNORMAL_TERMINATION_IN_LNSRCH.'), OptimizationWarning('Optimization failed within `scipy.optimize.minimize` with status 2 and message ABNORMAL_TERMINATION_IN_LNSRCH.')]\n",
      "Trying again with a new set of initial conditions.\n",
      "  return _optimize_acqf_batch(opt_inputs=opt_inputs)\n",
      "/home/kylemcmaster/.local/lib/python3.10/site-packages/botorch/optim/optimize.py:568: RuntimeWarning: Optimization failed on the second try, after generating a new set of initial conditions.\n",
      "  return _optimize_acqf_batch(opt_inputs=opt_inputs)\n",
      "/home/kylemcmaster/.local/lib/python3.10/site-packages/linear_operator/utils/cholesky.py:40: NumericalWarning: A not p.d., added jitter of 1.0e-08 to the diagonal\n",
      "  warnings.warn(\n",
      "[INFO 11-08 08:21:02] ax.service.ax_client: Generated new trial 250 with parameters {'path_penalty': 4.970533, 'loss_penalty': 3.931356, 'score_factor': 1.935213, 'num_trials': 800} using model GPEI.\n",
      "[INFO 11-08 08:21:47] ax.service.ax_client: Completed trial 250 with data: {'objective': (47428.24, None)}.\n"
     ]
    },
    {
     "name": "stdout",
     "output_type": "stream",
     "text": [
      "47428.24 0.52\n",
      "The best parameters are: {'path_penalty': 5.466430048665055, 'loss_penalty': 10.0, 'score_factor': 1.9144046365625629, 'num_trials': 800}\n",
      "with score ({'objective': 47393.25676733379}, {'objective': {'objective': 219120.38152530635}})\n"
     ]
    },
    {
     "name": "stderr",
     "output_type": "stream",
     "text": [
      "/home/kylemcmaster/.local/lib/python3.10/site-packages/linear_operator/utils/cholesky.py:40: NumericalWarning: A not p.d., added jitter of 1.0e-08 to the diagonal\n",
      "  warnings.warn(\n",
      "/home/kylemcmaster/.local/lib/python3.10/site-packages/botorch/optim/optimize.py:568: RuntimeWarning: Optimization failed in `gen_candidates_scipy` with the following warning(s):\n",
      "[NumericalWarning('A not p.d., added jitter of 1.0e-08 to the diagonal'), NumericalWarning('A not p.d., added jitter of 1.0e-07 to the diagonal'), NumericalWarning('A not p.d., added jitter of 1.0e-06 to the diagonal'), OptimizationWarning('Optimization failed within `scipy.optimize.minimize` with status 2 and message ABNORMAL_TERMINATION_IN_LNSRCH.'), NumericalWarning('A not p.d., added jitter of 1.0e-08 to the diagonal'), NumericalWarning('A not p.d., added jitter of 1.0e-07 to the diagonal'), NumericalWarning('A not p.d., added jitter of 1.0e-06 to the diagonal'), NumericalWarning('A not p.d., added jitter of 1.0e-05 to the diagonal'), OptimizationWarning('Optimization failed within `scipy.optimize.minimize` with status 2 and message ABNORMAL_TERMINATION_IN_LNSRCH.'), NumericalWarning('A not p.d., added jitter of 1.0e-08 to the diagonal'), NumericalWarning('A not p.d., added jitter of 1.0e-07 to the diagonal'), OptimizationWarning('Optimization failed within `scipy.optimize.minimize` with status 2 and message ABNORMAL_TERMINATION_IN_LNSRCH.'), NumericalWarning('A not p.d., added jitter of 1.0e-08 to the diagonal'), NumericalWarning('A not p.d., added jitter of 1.0e-07 to the diagonal'), NumericalWarning('A not p.d., added jitter of 1.0e-06 to the diagonal'), OptimizationWarning('Optimization failed within `scipy.optimize.minimize` with status 2 and message ABNORMAL_TERMINATION_IN_LNSRCH.')]\n",
      "Trying again with a new set of initial conditions.\n",
      "  return _optimize_acqf_batch(opt_inputs=opt_inputs)\n",
      "/home/kylemcmaster/.local/lib/python3.10/site-packages/botorch/optim/optimize.py:568: RuntimeWarning: Optimization failed on the second try, after generating a new set of initial conditions.\n",
      "  return _optimize_acqf_batch(opt_inputs=opt_inputs)\n",
      "/home/kylemcmaster/.local/lib/python3.10/site-packages/linear_operator/utils/cholesky.py:40: NumericalWarning: A not p.d., added jitter of 1.0e-08 to the diagonal\n",
      "  warnings.warn(\n",
      "[INFO 11-08 08:22:06] ax.service.ax_client: Generated new trial 251 with parameters {'path_penalty': 5.429109, 'loss_penalty': 3.621843, 'score_factor': 1.916394, 'num_trials': 170} using model GPEI.\n",
      "[INFO 11-08 08:22:53] ax.service.ax_client: Completed trial 251 with data: {'objective': (49805.36, None)}.\n"
     ]
    },
    {
     "name": "stdout",
     "output_type": "stream",
     "text": [
      "49805.36 0.46\n"
     ]
    },
    {
     "name": "stderr",
     "output_type": "stream",
     "text": [
      "/home/kylemcmaster/.local/lib/python3.10/site-packages/linear_operator/utils/cholesky.py:40: NumericalWarning: A not p.d., added jitter of 1.0e-08 to the diagonal\n",
      "  warnings.warn(\n",
      "/home/kylemcmaster/.local/lib/python3.10/site-packages/botorch/optim/optimize.py:568: RuntimeWarning: Optimization failed in `gen_candidates_scipy` with the following warning(s):\n",
      "[OptimizationWarning('Optimization failed within `scipy.optimize.minimize` with status 2 and message ABNORMAL_TERMINATION_IN_LNSRCH.'), OptimizationWarning('Optimization failed within `scipy.optimize.minimize` with status 2 and message ABNORMAL_TERMINATION_IN_LNSRCH.'), NumericalWarning('A not p.d., added jitter of 1.0e-08 to the diagonal'), OptimizationWarning('Optimization failed within `scipy.optimize.minimize` with status 2 and message ABNORMAL_TERMINATION_IN_LNSRCH.')]\n",
      "Trying again with a new set of initial conditions.\n",
      "  return _optimize_acqf_batch(opt_inputs=opt_inputs)\n",
      "/home/kylemcmaster/.local/lib/python3.10/site-packages/botorch/optim/optimize.py:568: RuntimeWarning: Optimization failed on the second try, after generating a new set of initial conditions.\n",
      "  return _optimize_acqf_batch(opt_inputs=opt_inputs)\n",
      "[INFO 11-08 08:23:10] ax.service.ax_client: Generated new trial 252 with parameters {'path_penalty': 5.359189, 'loss_penalty': 5.30628, 'score_factor': 1.89649, 'num_trials': 800} using model GPEI.\n",
      "[INFO 11-08 08:23:53] ax.service.ax_client: Completed trial 252 with data: {'objective': (43595.36, None)}.\n"
     ]
    },
    {
     "name": "stdout",
     "output_type": "stream",
     "text": [
      "43595.36 0.32\n"
     ]
    },
    {
     "name": "stderr",
     "output_type": "stream",
     "text": [
      "/home/kylemcmaster/.local/lib/python3.10/site-packages/linear_operator/utils/cholesky.py:40: NumericalWarning: A not p.d., added jitter of 1.0e-08 to the diagonal\n",
      "  warnings.warn(\n",
      "[INFO 11-08 08:24:03] ax.service.ax_client: Generated new trial 253 with parameters {'path_penalty': 5.586688, 'loss_penalty': 4.479197, 'score_factor': 1.869117, 'num_trials': 800} using model GPEI.\n",
      "[INFO 11-08 08:24:47] ax.service.ax_client: Completed trial 253 with data: {'objective': (43609.36, None)}.\n"
     ]
    },
    {
     "name": "stdout",
     "output_type": "stream",
     "text": [
      "43609.36 0.44\n"
     ]
    },
    {
     "name": "stderr",
     "output_type": "stream",
     "text": [
      "/home/kylemcmaster/.local/lib/python3.10/site-packages/linear_operator/utils/cholesky.py:40: NumericalWarning: A not p.d., added jitter of 1.0e-08 to the diagonal\n",
      "  warnings.warn(\n",
      "/home/kylemcmaster/.local/lib/python3.10/site-packages/botorch/optim/optimize.py:568: RuntimeWarning: Optimization failed in `gen_candidates_scipy` with the following warning(s):\n",
      "[OptimizationWarning('Optimization failed within `scipy.optimize.minimize` with status 2 and message ABNORMAL_TERMINATION_IN_LNSRCH.'), OptimizationWarning('Optimization failed within `scipy.optimize.minimize` with status 2 and message ABNORMAL_TERMINATION_IN_LNSRCH.')]\n",
      "Trying again with a new set of initial conditions.\n",
      "  return _optimize_acqf_batch(opt_inputs=opt_inputs)\n",
      "/home/kylemcmaster/.local/lib/python3.10/site-packages/botorch/optim/optimize.py:568: RuntimeWarning: Optimization failed on the second try, after generating a new set of initial conditions.\n",
      "  return _optimize_acqf_batch(opt_inputs=opt_inputs)\n",
      "[INFO 11-08 08:25:00] ax.service.ax_client: Generated new trial 254 with parameters {'path_penalty': 2.841397, 'loss_penalty': 0.0, 'score_factor': 0.853864, 'num_trials': 0} using model GPEI.\n",
      "[INFO 11-08 08:25:41] ax.service.ax_client: Completed trial 254 with data: {'objective': (44906.72, None)}.\n"
     ]
    },
    {
     "name": "stdout",
     "output_type": "stream",
     "text": [
      "44906.72 0.42\n"
     ]
    },
    {
     "name": "stderr",
     "output_type": "stream",
     "text": [
      "/home/kylemcmaster/.local/lib/python3.10/site-packages/linear_operator/utils/cholesky.py:40: NumericalWarning: A not p.d., added jitter of 1.0e-08 to the diagonal\n",
      "  warnings.warn(\n",
      "/home/kylemcmaster/.local/lib/python3.10/site-packages/botorch/optim/optimize.py:568: RuntimeWarning: Optimization failed in `gen_candidates_scipy` with the following warning(s):\n",
      "[NumericalWarning('A not p.d., added jitter of 1.0e-08 to the diagonal'), OptimizationWarning('Optimization failed within `scipy.optimize.minimize` with status 2 and message ABNORMAL_TERMINATION_IN_LNSRCH.'), NumericalWarning('A not p.d., added jitter of 1.0e-08 to the diagonal'), OptimizationWarning('Optimization failed within `scipy.optimize.minimize` with status 2 and message ABNORMAL_TERMINATION_IN_LNSRCH.'), NumericalWarning('A not p.d., added jitter of 1.0e-08 to the diagonal'), OptimizationWarning('Optimization failed within `scipy.optimize.minimize` with status 2 and message ABNORMAL_TERMINATION_IN_LNSRCH.'), OptimizationWarning('Optimization failed within `scipy.optimize.minimize` with status 2 and message ABNORMAL_TERMINATION_IN_LNSRCH.')]\n",
      "Trying again with a new set of initial conditions.\n",
      "  return _optimize_acqf_batch(opt_inputs=opt_inputs)\n",
      "/home/kylemcmaster/.local/lib/python3.10/site-packages/botorch/optim/optimize.py:568: RuntimeWarning: Optimization failed on the second try, after generating a new set of initial conditions.\n",
      "  return _optimize_acqf_batch(opt_inputs=opt_inputs)\n",
      "[INFO 11-08 08:25:58] ax.service.ax_client: Generated new trial 255 with parameters {'path_penalty': 2.87966, 'loss_penalty': 10.0, 'score_factor': 0.931504, 'num_trials': 0} using model GPEI.\n",
      "[INFO 11-08 08:26:45] ax.service.ax_client: Completed trial 255 with data: {'objective': (49674.56, None)}.\n"
     ]
    },
    {
     "name": "stdout",
     "output_type": "stream",
     "text": [
      "49674.56 0.46\n"
     ]
    },
    {
     "name": "stderr",
     "output_type": "stream",
     "text": [
      "/home/kylemcmaster/.local/lib/python3.10/site-packages/linear_operator/utils/cholesky.py:40: NumericalWarning: A not p.d., added jitter of 1.0e-08 to the diagonal\n",
      "  warnings.warn(\n",
      "/home/kylemcmaster/.local/lib/python3.10/site-packages/botorch/optim/optimize.py:568: RuntimeWarning: Optimization failed in `gen_candidates_scipy` with the following warning(s):\n",
      "[OptimizationWarning('Optimization failed within `scipy.optimize.minimize` with status 2 and message ABNORMAL_TERMINATION_IN_LNSRCH.'), OptimizationWarning('Optimization failed within `scipy.optimize.minimize` with status 2 and message ABNORMAL_TERMINATION_IN_LNSRCH.')]\n",
      "Trying again with a new set of initial conditions.\n",
      "  return _optimize_acqf_batch(opt_inputs=opt_inputs)\n",
      "/home/kylemcmaster/.local/lib/python3.10/site-packages/botorch/optim/optimize.py:568: RuntimeWarning: Optimization failed on the second try, after generating a new set of initial conditions.\n",
      "  return _optimize_acqf_batch(opt_inputs=opt_inputs)\n",
      "[INFO 11-08 08:27:01] ax.service.ax_client: Generated new trial 256 with parameters {'path_penalty': 5.244348, 'loss_penalty': 0.0, 'score_factor': 1.936804, 'num_trials': 0} using model GPEI.\n",
      "[INFO 11-08 08:27:46] ax.service.ax_client: Completed trial 256 with data: {'objective': (47280.96, None)}.\n"
     ]
    },
    {
     "name": "stdout",
     "output_type": "stream",
     "text": [
      "47280.96 0.52\n"
     ]
    },
    {
     "name": "stderr",
     "output_type": "stream",
     "text": [
      "/home/kylemcmaster/.local/lib/python3.10/site-packages/linear_operator/utils/cholesky.py:40: NumericalWarning: A not p.d., added jitter of 1.0e-08 to the diagonal\n",
      "  warnings.warn(\n",
      "/home/kylemcmaster/.local/lib/python3.10/site-packages/botorch/optim/optimize.py:568: RuntimeWarning: Optimization failed in `gen_candidates_scipy` with the following warning(s):\n",
      "[OptimizationWarning('Optimization failed within `scipy.optimize.minimize` with status 2 and message ABNORMAL_TERMINATION_IN_LNSRCH.'), OptimizationWarning('Optimization failed within `scipy.optimize.minimize` with status 2 and message ABNORMAL_TERMINATION_IN_LNSRCH.'), OptimizationWarning('Optimization failed within `scipy.optimize.minimize` with status 2 and message ABNORMAL_TERMINATION_IN_LNSRCH.')]\n",
      "Trying again with a new set of initial conditions.\n",
      "  return _optimize_acqf_batch(opt_inputs=opt_inputs)\n",
      "/home/kylemcmaster/.local/lib/python3.10/site-packages/botorch/optim/optimize.py:568: RuntimeWarning: Optimization failed on the second try, after generating a new set of initial conditions.\n",
      "  return _optimize_acqf_batch(opt_inputs=opt_inputs)\n",
      "[INFO 11-08 08:28:03] ax.service.ax_client: Generated new trial 257 with parameters {'path_penalty': 4.809493, 'loss_penalty': 10.0, 'score_factor': 2.0, 'num_trials': 800} using model GPEI.\n",
      "[INFO 11-08 08:28:47] ax.service.ax_client: Completed trial 257 with data: {'objective': (47427.44, None)}.\n"
     ]
    },
    {
     "name": "stdout",
     "output_type": "stream",
     "text": [
      "47427.44 0.48\n"
     ]
    },
    {
     "name": "stderr",
     "output_type": "stream",
     "text": [
      "/home/kylemcmaster/.local/lib/python3.10/site-packages/linear_operator/utils/cholesky.py:40: NumericalWarning: A not p.d., added jitter of 1.0e-08 to the diagonal\n",
      "  warnings.warn(\n",
      "/home/kylemcmaster/.local/lib/python3.10/site-packages/botorch/optim/optimize.py:568: RuntimeWarning: Optimization failed in `gen_candidates_scipy` with the following warning(s):\n",
      "[NumericalWarning('A not p.d., added jitter of 1.0e-08 to the diagonal'), OptimizationWarning('Optimization failed within `scipy.optimize.minimize` with status 2 and message ABNORMAL_TERMINATION_IN_LNSRCH.'), NumericalWarning('A not p.d., added jitter of 1.0e-08 to the diagonal'), NumericalWarning('A not p.d., added jitter of 1.0e-08 to the diagonal'), OptimizationWarning('Optimization failed within `scipy.optimize.minimize` with status 2 and message ABNORMAL_TERMINATION_IN_LNSRCH.'), NumericalWarning('A not p.d., added jitter of 1.0e-08 to the diagonal'), OptimizationWarning('Optimization failed within `scipy.optimize.minimize` with status 2 and message ABNORMAL_TERMINATION_IN_LNSRCH.'), OptimizationWarning('Optimization failed within `scipy.optimize.minimize` with status 2 and message ABNORMAL_TERMINATION_IN_LNSRCH.')]\n",
      "Trying again with a new set of initial conditions.\n",
      "  return _optimize_acqf_batch(opt_inputs=opt_inputs)\n",
      "/home/kylemcmaster/.local/lib/python3.10/site-packages/botorch/optim/optimize.py:568: RuntimeWarning: Optimization failed on the second try, after generating a new set of initial conditions.\n",
      "  return _optimize_acqf_batch(opt_inputs=opt_inputs)\n",
      "[INFO 11-08 08:29:02] ax.service.ax_client: Generated new trial 258 with parameters {'path_penalty': 4.995726, 'loss_penalty': 0.0, 'score_factor': 2.0, 'num_trials': 492} using model GPEI.\n",
      "[INFO 11-08 08:29:47] ax.service.ax_client: Completed trial 258 with data: {'objective': (46153.68, None)}.\n"
     ]
    },
    {
     "name": "stdout",
     "output_type": "stream",
     "text": [
      "46153.68 0.44\n"
     ]
    },
    {
     "name": "stderr",
     "output_type": "stream",
     "text": [
      "/home/kylemcmaster/.local/lib/python3.10/site-packages/linear_operator/utils/cholesky.py:40: NumericalWarning: A not p.d., added jitter of 1.0e-08 to the diagonal\n",
      "  warnings.warn(\n",
      "/home/kylemcmaster/.local/lib/python3.10/site-packages/botorch/optim/optimize.py:568: RuntimeWarning: Optimization failed in `gen_candidates_scipy` with the following warning(s):\n",
      "[OptimizationWarning('Optimization failed within `scipy.optimize.minimize` with status 2 and message ABNORMAL_TERMINATION_IN_LNSRCH.'), OptimizationWarning('Optimization failed within `scipy.optimize.minimize` with status 2 and message ABNORMAL_TERMINATION_IN_LNSRCH.')]\n",
      "Trying again with a new set of initial conditions.\n",
      "  return _optimize_acqf_batch(opt_inputs=opt_inputs)\n",
      "/home/kylemcmaster/.local/lib/python3.10/site-packages/botorch/optim/optimize.py:568: RuntimeWarning: Optimization failed on the second try, after generating a new set of initial conditions.\n",
      "  return _optimize_acqf_batch(opt_inputs=opt_inputs)\n",
      "[INFO 11-08 08:30:03] ax.service.ax_client: Generated new trial 259 with parameters {'path_penalty': 5.568158, 'loss_penalty': 0.0, 'score_factor': 1.915118, 'num_trials': 478} using model GPEI.\n",
      "[INFO 11-08 08:30:51] ax.service.ax_client: Completed trial 259 with data: {'objective': (50979.68, None)}.\n"
     ]
    },
    {
     "name": "stdout",
     "output_type": "stream",
     "text": [
      "50979.68 0.58\n"
     ]
    },
    {
     "name": "stderr",
     "output_type": "stream",
     "text": [
      "/home/kylemcmaster/.local/lib/python3.10/site-packages/linear_operator/utils/cholesky.py:40: NumericalWarning: A not p.d., added jitter of 1.0e-08 to the diagonal\n",
      "  warnings.warn(\n",
      "[INFO 11-08 08:31:01] ax.service.ax_client: Generated new trial 260 with parameters {'path_penalty': 3.042271, 'loss_penalty': 0.0, 'score_factor': 0.918241, 'num_trials': 59} using model GPEI.\n",
      "[INFO 11-08 08:31:44] ax.service.ax_client: Completed trial 260 with data: {'objective': (45419.6, None)}.\n"
     ]
    },
    {
     "name": "stdout",
     "output_type": "stream",
     "text": [
      "45419.6 0.42\n"
     ]
    },
    {
     "name": "stderr",
     "output_type": "stream",
     "text": [
      "/home/kylemcmaster/.local/lib/python3.10/site-packages/linear_operator/utils/cholesky.py:40: NumericalWarning: A not p.d., added jitter of 1.0e-08 to the diagonal\n",
      "  warnings.warn(\n",
      "/home/kylemcmaster/.local/lib/python3.10/site-packages/botorch/optim/optimize.py:568: RuntimeWarning: Optimization failed in `gen_candidates_scipy` with the following warning(s):\n",
      "[OptimizationWarning('Optimization failed within `scipy.optimize.minimize` with status 2 and message ABNORMAL_TERMINATION_IN_LNSRCH.'), OptimizationWarning('Optimization failed within `scipy.optimize.minimize` with status 2 and message ABNORMAL_TERMINATION_IN_LNSRCH.'), OptimizationWarning('Optimization failed within `scipy.optimize.minimize` with status 2 and message ABNORMAL_TERMINATION_IN_LNSRCH.'), NumericalWarning('A not p.d., added jitter of 1.0e-08 to the diagonal'), OptimizationWarning('Optimization failed within `scipy.optimize.minimize` with status 2 and message ABNORMAL_TERMINATION_IN_LNSRCH.')]\n",
      "Trying again with a new set of initial conditions.\n",
      "  return _optimize_acqf_batch(opt_inputs=opt_inputs)\n",
      "/home/kylemcmaster/.local/lib/python3.10/site-packages/botorch/optim/optimize.py:568: RuntimeWarning: Optimization failed on the second try, after generating a new set of initial conditions.\n",
      "  return _optimize_acqf_batch(opt_inputs=opt_inputs)\n",
      "[INFO 11-08 08:31:59] ax.service.ax_client: Generated new trial 261 with parameters {'path_penalty': 3.109694, 'loss_penalty': 10.0, 'score_factor': 0.781766, 'num_trials': 800} using model GPEI.\n",
      "[INFO 11-08 08:32:46] ax.service.ax_client: Completed trial 261 with data: {'objective': (50273.92, None)}.\n"
     ]
    },
    {
     "name": "stdout",
     "output_type": "stream",
     "text": [
      "50273.92 0.48\n"
     ]
    },
    {
     "name": "stderr",
     "output_type": "stream",
     "text": [
      "/home/kylemcmaster/.local/lib/python3.10/site-packages/linear_operator/utils/cholesky.py:40: NumericalWarning: A not p.d., added jitter of 1.0e-08 to the diagonal\n",
      "  warnings.warn(\n",
      "/home/kylemcmaster/.local/lib/python3.10/site-packages/botorch/optim/optimize.py:568: RuntimeWarning: Optimization failed in `gen_candidates_scipy` with the following warning(s):\n",
      "[OptimizationWarning('Optimization failed within `scipy.optimize.minimize` with status 2 and message ABNORMAL_TERMINATION_IN_LNSRCH.')]\n",
      "Trying again with a new set of initial conditions.\n",
      "  return _optimize_acqf_batch(opt_inputs=opt_inputs)\n",
      "/home/kylemcmaster/.local/lib/python3.10/site-packages/botorch/optim/optimize.py:568: RuntimeWarning: Optimization failed on the second try, after generating a new set of initial conditions.\n",
      "  return _optimize_acqf_batch(opt_inputs=opt_inputs)\n",
      "[INFO 11-08 08:33:04] ax.service.ax_client: Generated new trial 262 with parameters {'path_penalty': 4.96719, 'loss_penalty': 9.773841, 'score_factor': 1.825947, 'num_trials': 800} using model GPEI.\n",
      "[INFO 11-08 08:33:49] ax.service.ax_client: Completed trial 262 with data: {'objective': (47814.96, None)}.\n"
     ]
    },
    {
     "name": "stdout",
     "output_type": "stream",
     "text": [
      "47814.96 0.44\n"
     ]
    },
    {
     "name": "stderr",
     "output_type": "stream",
     "text": [
      "/home/kylemcmaster/.local/lib/python3.10/site-packages/linear_operator/utils/cholesky.py:40: NumericalWarning: A not p.d., added jitter of 1.0e-08 to the diagonal\n",
      "  warnings.warn(\n",
      "/home/kylemcmaster/.local/lib/python3.10/site-packages/botorch/optim/optimize.py:568: RuntimeWarning: Optimization failed in `gen_candidates_scipy` with the following warning(s):\n",
      "[OptimizationWarning('Optimization failed within `scipy.optimize.minimize` with status 2 and message ABNORMAL_TERMINATION_IN_LNSRCH.'), NumericalWarning('A not p.d., added jitter of 1.0e-08 to the diagonal'), OptimizationWarning('Optimization failed within `scipy.optimize.minimize` with status 2 and message ABNORMAL_TERMINATION_IN_LNSRCH.'), OptimizationWarning('Optimization failed within `scipy.optimize.minimize` with status 2 and message ABNORMAL_TERMINATION_IN_LNSRCH.')]\n",
      "Trying again with a new set of initial conditions.\n",
      "  return _optimize_acqf_batch(opt_inputs=opt_inputs)\n",
      "/home/kylemcmaster/.local/lib/python3.10/site-packages/botorch/optim/optimize.py:568: RuntimeWarning: Optimization failed on the second try, after generating a new set of initial conditions.\n",
      "  return _optimize_acqf_batch(opt_inputs=opt_inputs)\n",
      "[INFO 11-08 08:34:06] ax.service.ax_client: Generated new trial 263 with parameters {'path_penalty': 3.391117, 'loss_penalty': 10.0, 'score_factor': 0.810757, 'num_trials': 800} using model GPEI.\n",
      "[INFO 11-08 08:34:42] ax.service.ax_client: Completed trial 263 with data: {'objective': (36921.68, None)}.\n"
     ]
    },
    {
     "name": "stdout",
     "output_type": "stream",
     "text": [
      "36921.68 0.3\n"
     ]
    },
    {
     "name": "stderr",
     "output_type": "stream",
     "text": [
      "/home/kylemcmaster/.local/lib/python3.10/site-packages/linear_operator/utils/cholesky.py:40: NumericalWarning: A not p.d., added jitter of 1.0e-08 to the diagonal\n",
      "  warnings.warn(\n",
      "/home/kylemcmaster/.local/lib/python3.10/site-packages/botorch/optim/optimize.py:568: RuntimeWarning: Optimization failed in `gen_candidates_scipy` with the following warning(s):\n",
      "[OptimizationWarning('Optimization failed within `scipy.optimize.minimize` with status 2 and message ABNORMAL_TERMINATION_IN_LNSRCH.'), OptimizationWarning('Optimization failed within `scipy.optimize.minimize` with status 2 and message ABNORMAL_TERMINATION_IN_LNSRCH.')]\n",
      "Trying again with a new set of initial conditions.\n",
      "  return _optimize_acqf_batch(opt_inputs=opt_inputs)\n",
      "/home/kylemcmaster/.local/lib/python3.10/site-packages/botorch/optim/optimize.py:568: RuntimeWarning: Optimization failed on the second try, after generating a new set of initial conditions.\n",
      "  return _optimize_acqf_batch(opt_inputs=opt_inputs)\n",
      "[INFO 11-08 08:35:00] ax.service.ax_client: Generated new trial 264 with parameters {'path_penalty': 5.356706, 'loss_penalty': 10.0, 'score_factor': 1.86032, 'num_trials': 800} using model GPEI.\n",
      "[INFO 11-08 08:35:40] ax.service.ax_client: Completed trial 264 with data: {'objective': (40507.12, None)}.\n"
     ]
    },
    {
     "name": "stdout",
     "output_type": "stream",
     "text": [
      "40507.12 0.28\n"
     ]
    },
    {
     "name": "stderr",
     "output_type": "stream",
     "text": [
      "/home/kylemcmaster/.local/lib/python3.10/site-packages/linear_operator/utils/cholesky.py:40: NumericalWarning: A not p.d., added jitter of 1.0e-08 to the diagonal\n",
      "  warnings.warn(\n",
      "/home/kylemcmaster/.local/lib/python3.10/site-packages/botorch/optim/optimize.py:568: RuntimeWarning: Optimization failed in `gen_candidates_scipy` with the following warning(s):\n",
      "[OptimizationWarning('Optimization failed within `scipy.optimize.minimize` with status 2 and message ABNORMAL_TERMINATION_IN_LNSRCH.')]\n",
      "Trying again with a new set of initial conditions.\n",
      "  return _optimize_acqf_batch(opt_inputs=opt_inputs)\n",
      "/home/kylemcmaster/.local/lib/python3.10/site-packages/botorch/optim/optimize.py:568: RuntimeWarning: Optimization failed on the second try, after generating a new set of initial conditions.\n",
      "  return _optimize_acqf_batch(opt_inputs=opt_inputs)\n",
      "[INFO 11-08 08:35:59] ax.service.ax_client: Generated new trial 265 with parameters {'path_penalty': 5.463388, 'loss_penalty': 0.0, 'score_factor': 2.0, 'num_trials': 0} using model GPEI.\n",
      "[INFO 11-08 08:36:44] ax.service.ax_client: Completed trial 265 with data: {'objective': (47646.4, None)}.\n"
     ]
    },
    {
     "name": "stdout",
     "output_type": "stream",
     "text": [
      "47646.4 0.5\n"
     ]
    },
    {
     "name": "stderr",
     "output_type": "stream",
     "text": [
      "/home/kylemcmaster/.local/lib/python3.10/site-packages/linear_operator/utils/cholesky.py:40: NumericalWarning: A not p.d., added jitter of 1.0e-08 to the diagonal\n",
      "  warnings.warn(\n",
      "/home/kylemcmaster/.local/lib/python3.10/site-packages/botorch/optim/optimize.py:568: RuntimeWarning: Optimization failed in `gen_candidates_scipy` with the following warning(s):\n",
      "[OptimizationWarning('Optimization failed within `scipy.optimize.minimize` with status 2 and message ABNORMAL_TERMINATION_IN_LNSRCH.'), OptimizationWarning('Optimization failed within `scipy.optimize.minimize` with status 2 and message ABNORMAL_TERMINATION_IN_LNSRCH.'), OptimizationWarning('Optimization failed within `scipy.optimize.minimize` with status 2 and message ABNORMAL_TERMINATION_IN_LNSRCH.')]\n",
      "Trying again with a new set of initial conditions.\n",
      "  return _optimize_acqf_batch(opt_inputs=opt_inputs)\n",
      "/home/kylemcmaster/.local/lib/python3.10/site-packages/botorch/optim/optimize.py:568: RuntimeWarning: Optimization failed on the second try, after generating a new set of initial conditions.\n",
      "  return _optimize_acqf_batch(opt_inputs=opt_inputs)\n",
      "[INFO 11-08 08:37:03] ax.service.ax_client: Generated new trial 266 with parameters {'path_penalty': 4.10839, 'loss_penalty': 10.0, 'score_factor': 1.835598, 'num_trials': 0} using model GPEI.\n",
      "[INFO 11-08 08:37:44] ax.service.ax_client: Completed trial 266 with data: {'objective': (40778.16, None)}.\n"
     ]
    },
    {
     "name": "stdout",
     "output_type": "stream",
     "text": [
      "40778.16 0.36\n"
     ]
    },
    {
     "name": "stderr",
     "output_type": "stream",
     "text": [
      "/home/kylemcmaster/.local/lib/python3.10/site-packages/linear_operator/utils/cholesky.py:40: NumericalWarning: A not p.d., added jitter of 1.0e-08 to the diagonal\n",
      "  warnings.warn(\n",
      "/home/kylemcmaster/.local/lib/python3.10/site-packages/botorch/optim/optimize.py:568: RuntimeWarning: Optimization failed in `gen_candidates_scipy` with the following warning(s):\n",
      "[OptimizationWarning('Optimization failed within `scipy.optimize.minimize` with status 2 and message ABNORMAL_TERMINATION_IN_LNSRCH.'), NumericalWarning('A not p.d., added jitter of 1.0e-08 to the diagonal'), NumericalWarning('A not p.d., added jitter of 1.0e-07 to the diagonal'), OptimizationWarning('Optimization failed within `scipy.optimize.minimize` with status 2 and message ABNORMAL_TERMINATION_IN_LNSRCH.'), OptimizationWarning('Optimization failed within `scipy.optimize.minimize` with status 2 and message ABNORMAL_TERMINATION_IN_LNSRCH.')]\n",
      "Trying again with a new set of initial conditions.\n",
      "  return _optimize_acqf_batch(opt_inputs=opt_inputs)\n",
      "/home/kylemcmaster/.local/lib/python3.10/site-packages/botorch/optim/optimize.py:568: RuntimeWarning: Optimization failed on the second try, after generating a new set of initial conditions.\n",
      "  return _optimize_acqf_batch(opt_inputs=opt_inputs)\n",
      "[INFO 11-08 08:38:03] ax.service.ax_client: Generated new trial 267 with parameters {'path_penalty': 3.004054, 'loss_penalty': 1.306756, 'score_factor': 0.935583, 'num_trials': 800} using model GPEI.\n",
      "[INFO 11-08 08:38:48] ax.service.ax_client: Completed trial 267 with data: {'objective': (48706.24, None)}.\n"
     ]
    },
    {
     "name": "stdout",
     "output_type": "stream",
     "text": [
      "48706.24 0.48\n"
     ]
    },
    {
     "name": "stderr",
     "output_type": "stream",
     "text": [
      "/home/kylemcmaster/.local/lib/python3.10/site-packages/linear_operator/utils/cholesky.py:40: NumericalWarning: A not p.d., added jitter of 1.0e-08 to the diagonal\n",
      "  warnings.warn(\n",
      "[INFO 11-08 08:38:59] ax.service.ax_client: Generated new trial 268 with parameters {'path_penalty': 3.92894, 'loss_penalty': 10.0, 'score_factor': 1.202533, 'num_trials': 800} using model GPEI.\n",
      "[INFO 11-08 08:39:44] ax.service.ax_client: Completed trial 268 with data: {'objective': (49342.8, None)}.\n"
     ]
    },
    {
     "name": "stdout",
     "output_type": "stream",
     "text": [
      "49342.8 0.5\n"
     ]
    },
    {
     "name": "stderr",
     "output_type": "stream",
     "text": [
      "/home/kylemcmaster/.local/lib/python3.10/site-packages/linear_operator/utils/cholesky.py:40: NumericalWarning: A not p.d., added jitter of 1.0e-08 to the diagonal\n",
      "  warnings.warn(\n",
      "/home/kylemcmaster/.local/lib/python3.10/site-packages/botorch/optim/optimize.py:568: RuntimeWarning: Optimization failed in `gen_candidates_scipy` with the following warning(s):\n",
      "[NumericalWarning('A not p.d., added jitter of 1.0e-08 to the diagonal'), NumericalWarning('A not p.d., added jitter of 1.0e-07 to the diagonal'), NumericalWarning('A not p.d., added jitter of 1.0e-06 to the diagonal'), NumericalWarning('A not p.d., added jitter of 1.0e-05 to the diagonal'), NumericalWarning('A not p.d., added jitter of 1.0e-04 to the diagonal'), NumericalWarning('A not p.d., added jitter of 1.0e-03 to the diagonal'), BotorchWarning('Low-rank cholesky updates failed due NaNs or due to an ill-conditioned covariance matrix. Falling back to standard sampling.'), OptimizationWarning('Optimization failed within `scipy.optimize.minimize` with status 2 and message ABNORMAL_TERMINATION_IN_LNSRCH.'), NumericalWarning('A not p.d., added jitter of 1.0e-08 to the diagonal'), NumericalWarning('A not p.d., added jitter of 1.0e-07 to the diagonal'), NumericalWarning('A not p.d., added jitter of 1.0e-06 to the diagonal'), NumericalWarning('A not p.d., added jitter of 1.0e-05 to the diagonal'), NumericalWarning('A not p.d., added jitter of 1.0e-04 to the diagonal'), NumericalWarning('A not p.d., added jitter of 1.0e-03 to the diagonal'), BotorchWarning('Low-rank cholesky updates failed due NaNs or due to an ill-conditioned covariance matrix. Falling back to standard sampling.'), NumericalWarning('A not p.d., added jitter of 1.0e-08 to the diagonal'), NumericalWarning('A not p.d., added jitter of 1.0e-07 to the diagonal'), NumericalWarning('A not p.d., added jitter of 1.0e-06 to the diagonal'), NumericalWarning('A not p.d., added jitter of 1.0e-05 to the diagonal'), NumericalWarning('A not p.d., added jitter of 1.0e-04 to the diagonal'), NumericalWarning('A not p.d., added jitter of 1.0e-03 to the diagonal'), BotorchWarning('Low-rank cholesky updates failed due NaNs or due to an ill-conditioned covariance matrix. Falling back to standard sampling.'), OptimizationWarning('Optimization failed within `scipy.optimize.minimize` with status 2 and message ABNORMAL_TERMINATION_IN_LNSRCH.'), NumericalWarning('A not p.d., added jitter of 1.0e-08 to the diagonal'), NumericalWarning('A not p.d., added jitter of 1.0e-07 to the diagonal'), NumericalWarning('A not p.d., added jitter of 1.0e-08 to the diagonal'), NumericalWarning('A not p.d., added jitter of 1.0e-07 to the diagonal'), NumericalWarning('A not p.d., added jitter of 1.0e-06 to the diagonal'), NumericalWarning('A not p.d., added jitter of 1.0e-05 to the diagonal'), NumericalWarning('A not p.d., added jitter of 1.0e-04 to the diagonal'), NumericalWarning('A not p.d., added jitter of 1.0e-03 to the diagonal'), BotorchWarning('Low-rank cholesky updates failed due NaNs or due to an ill-conditioned covariance matrix. Falling back to standard sampling.'), OptimizationWarning('Optimization failed within `scipy.optimize.minimize` with status 2 and message ABNORMAL_TERMINATION_IN_LNSRCH.'), NumericalWarning('A not p.d., added jitter of 1.0e-08 to the diagonal'), NumericalWarning('A not p.d., added jitter of 1.0e-07 to the diagonal'), NumericalWarning('A not p.d., added jitter of 1.0e-06 to the diagonal'), NumericalWarning('A not p.d., added jitter of 1.0e-08 to the diagonal'), NumericalWarning('A not p.d., added jitter of 1.0e-07 to the diagonal'), NumericalWarning('A not p.d., added jitter of 1.0e-06 to the diagonal'), NumericalWarning('A not p.d., added jitter of 1.0e-05 to the diagonal'), NumericalWarning('A not p.d., added jitter of 1.0e-04 to the diagonal'), NumericalWarning('A not p.d., added jitter of 1.0e-03 to the diagonal'), BotorchWarning('Low-rank cholesky updates failed due NaNs or due to an ill-conditioned covariance matrix. Falling back to standard sampling.'), OptimizationWarning('Optimization failed within `scipy.optimize.minimize` with status 2 and message ABNORMAL_TERMINATION_IN_LNSRCH.'), NumericalWarning('A not p.d., added jitter of 1.0e-08 to the diagonal'), NumericalWarning('A not p.d., added jitter of 1.0e-07 to the diagonal')]\n",
      "Trying again with a new set of initial conditions.\n",
      "  return _optimize_acqf_batch(opt_inputs=opt_inputs)\n",
      "/home/kylemcmaster/.local/lib/python3.10/site-packages/botorch/optim/optimize.py:568: RuntimeWarning: Optimization failed on the second try, after generating a new set of initial conditions.\n",
      "  return _optimize_acqf_batch(opt_inputs=opt_inputs)\n",
      "/home/kylemcmaster/.local/lib/python3.10/site-packages/linear_operator/utils/cholesky.py:40: NumericalWarning: A not p.d., added jitter of 1.0e-08 to the diagonal\n",
      "  warnings.warn(\n",
      "/home/kylemcmaster/.local/lib/python3.10/site-packages/linear_operator/utils/cholesky.py:40: NumericalWarning: A not p.d., added jitter of 1.0e-07 to the diagonal\n",
      "  warnings.warn(\n",
      "/home/kylemcmaster/.local/lib/python3.10/site-packages/linear_operator/utils/cholesky.py:40: NumericalWarning: A not p.d., added jitter of 1.0e-06 to the diagonal\n",
      "  warnings.warn(\n",
      "/home/kylemcmaster/.local/lib/python3.10/site-packages/linear_operator/utils/cholesky.py:40: NumericalWarning: A not p.d., added jitter of 1.0e-05 to the diagonal\n",
      "  warnings.warn(\n",
      "/home/kylemcmaster/.local/lib/python3.10/site-packages/linear_operator/utils/cholesky.py:40: NumericalWarning: A not p.d., added jitter of 1.0e-04 to the diagonal\n",
      "  warnings.warn(\n",
      "/home/kylemcmaster/.local/lib/python3.10/site-packages/linear_operator/utils/cholesky.py:40: NumericalWarning: A not p.d., added jitter of 1.0e-03 to the diagonal\n",
      "  warnings.warn(\n",
      "/home/kylemcmaster/.local/lib/python3.10/site-packages/botorch/acquisition/cached_cholesky.py:148: BotorchWarning: Low-rank cholesky updates failed due NaNs or due to an ill-conditioned covariance matrix. Falling back to standard sampling.\n",
      "  warnings.warn(\n",
      "[INFO 11-08 08:39:59] ax.service.ax_client: Generated new trial 269 with parameters {'path_penalty': 5.511972, 'loss_penalty': 4.375315, 'score_factor': 1.86182, 'num_trials': 404} using model GPEI.\n",
      "[INFO 11-08 08:40:43] ax.service.ax_client: Completed trial 269 with data: {'objective': (47768.32, None)}.\n"
     ]
    },
    {
     "name": "stdout",
     "output_type": "stream",
     "text": [
      "47768.32 0.48\n"
     ]
    },
    {
     "name": "stderr",
     "output_type": "stream",
     "text": [
      "/home/kylemcmaster/.local/lib/python3.10/site-packages/linear_operator/utils/cholesky.py:40: NumericalWarning: A not p.d., added jitter of 1.0e-08 to the diagonal\n",
      "  warnings.warn(\n",
      "[INFO 11-08 08:40:55] ax.service.ax_client: Generated new trial 270 with parameters {'path_penalty': 5.409665, 'loss_penalty': 10.0, 'score_factor': 1.605448, 'num_trials': 800} using model GPEI.\n",
      "[INFO 11-08 08:41:38] ax.service.ax_client: Completed trial 270 with data: {'objective': (45125.04, None)}.\n"
     ]
    },
    {
     "name": "stdout",
     "output_type": "stream",
     "text": [
      "45125.04 0.44\n",
      "The best parameters are: {'path_penalty': 5.686418384784214, 'loss_penalty': 10.0, 'score_factor': 1.9475713222927309, 'num_trials': 800}\n",
      "with score ({'objective': 47252.02533411202}, {'objective': {'objective': 208270.12595489013}})\n"
     ]
    },
    {
     "name": "stderr",
     "output_type": "stream",
     "text": [
      "/home/kylemcmaster/.local/lib/python3.10/site-packages/linear_operator/utils/cholesky.py:40: NumericalWarning: A not p.d., added jitter of 1.0e-08 to the diagonal\n",
      "  warnings.warn(\n",
      "/home/kylemcmaster/.local/lib/python3.10/site-packages/botorch/optim/optimize.py:568: RuntimeWarning: Optimization failed in `gen_candidates_scipy` with the following warning(s):\n",
      "[OptimizationWarning('Optimization failed within `scipy.optimize.minimize` with status 2 and message ABNORMAL_TERMINATION_IN_LNSRCH.'), OptimizationWarning('Optimization failed within `scipy.optimize.minimize` with status 2 and message ABNORMAL_TERMINATION_IN_LNSRCH.'), OptimizationWarning('Optimization failed within `scipy.optimize.minimize` with status 2 and message ABNORMAL_TERMINATION_IN_LNSRCH.')]\n",
      "Trying again with a new set of initial conditions.\n",
      "  return _optimize_acqf_batch(opt_inputs=opt_inputs)\n",
      "/home/kylemcmaster/.local/lib/python3.10/site-packages/botorch/optim/optimize.py:568: RuntimeWarning: Optimization failed on the second try, after generating a new set of initial conditions.\n",
      "  return _optimize_acqf_batch(opt_inputs=opt_inputs)\n",
      "[INFO 11-08 08:41:59] ax.service.ax_client: Generated new trial 271 with parameters {'path_penalty': 4.28725, 'loss_penalty': 0.0, 'score_factor': 1.543133, 'num_trials': 800} using model GPEI.\n",
      "[INFO 11-08 08:42:40] ax.service.ax_client: Completed trial 271 with data: {'objective': (41346.8, None)}.\n"
     ]
    },
    {
     "name": "stdout",
     "output_type": "stream",
     "text": [
      "41346.8 0.4\n"
     ]
    },
    {
     "name": "stderr",
     "output_type": "stream",
     "text": [
      "/home/kylemcmaster/.local/lib/python3.10/site-packages/linear_operator/utils/cholesky.py:40: NumericalWarning: A not p.d., added jitter of 1.0e-08 to the diagonal\n",
      "  warnings.warn(\n",
      "/home/kylemcmaster/.local/lib/python3.10/site-packages/botorch/optim/optimize.py:568: RuntimeWarning: Optimization failed in `gen_candidates_scipy` with the following warning(s):\n",
      "[OptimizationWarning('Optimization failed within `scipy.optimize.minimize` with status 2 and message ABNORMAL_TERMINATION_IN_LNSRCH.')]\n",
      "Trying again with a new set of initial conditions.\n",
      "  return _optimize_acqf_batch(opt_inputs=opt_inputs)\n",
      "/home/kylemcmaster/.local/lib/python3.10/site-packages/botorch/optim/optimize.py:568: RuntimeWarning: Optimization failed on the second try, after generating a new set of initial conditions.\n",
      "  return _optimize_acqf_batch(opt_inputs=opt_inputs)\n",
      "[INFO 11-08 08:42:58] ax.service.ax_client: Generated new trial 272 with parameters {'path_penalty': 4.25344, 'loss_penalty': 10.0, 'score_factor': 1.598855, 'num_trials': 346} using model GPEI.\n",
      "[INFO 11-08 08:43:43] ax.service.ax_client: Completed trial 272 with data: {'objective': (47574.96, None)}.\n"
     ]
    },
    {
     "name": "stdout",
     "output_type": "stream",
     "text": [
      "47574.96 0.58\n"
     ]
    },
    {
     "name": "stderr",
     "output_type": "stream",
     "text": [
      "/home/kylemcmaster/.local/lib/python3.10/site-packages/linear_operator/utils/cholesky.py:40: NumericalWarning: A not p.d., added jitter of 1.0e-08 to the diagonal\n",
      "  warnings.warn(\n",
      "/home/kylemcmaster/.local/lib/python3.10/site-packages/botorch/optim/optimize.py:568: RuntimeWarning: Optimization failed in `gen_candidates_scipy` with the following warning(s):\n",
      "[NumericalWarning('A not p.d., added jitter of 1.0e-08 to the diagonal'), OptimizationWarning('Optimization failed within `scipy.optimize.minimize` with status 2 and message ABNORMAL_TERMINATION_IN_LNSRCH.')]\n",
      "Trying again with a new set of initial conditions.\n",
      "  return _optimize_acqf_batch(opt_inputs=opt_inputs)\n",
      "/home/kylemcmaster/.local/lib/python3.10/site-packages/botorch/optim/optimize.py:568: RuntimeWarning: Optimization failed on the second try, after generating a new set of initial conditions.\n",
      "  return _optimize_acqf_batch(opt_inputs=opt_inputs)\n",
      "[INFO 11-08 08:44:00] ax.service.ax_client: Generated new trial 273 with parameters {'path_penalty': 5.689452, 'loss_penalty': 0.0, 'score_factor': 1.92959, 'num_trials': 0} using model GPEI.\n",
      "[INFO 11-08 08:44:45] ax.service.ax_client: Completed trial 273 with data: {'objective': (47781.76, None)}.\n"
     ]
    },
    {
     "name": "stdout",
     "output_type": "stream",
     "text": [
      "47781.76 0.5\n"
     ]
    },
    {
     "name": "stderr",
     "output_type": "stream",
     "text": [
      "/home/kylemcmaster/.local/lib/python3.10/site-packages/linear_operator/utils/cholesky.py:40: NumericalWarning: A not p.d., added jitter of 1.0e-08 to the diagonal\n",
      "  warnings.warn(\n",
      "/home/kylemcmaster/.local/lib/python3.10/site-packages/botorch/optim/optimize.py:568: RuntimeWarning: Optimization failed in `gen_candidates_scipy` with the following warning(s):\n",
      "[OptimizationWarning('Optimization failed within `scipy.optimize.minimize` with status 2 and message ABNORMAL_TERMINATION_IN_LNSRCH.'), OptimizationWarning('Optimization failed within `scipy.optimize.minimize` with status 2 and message ABNORMAL_TERMINATION_IN_LNSRCH.'), NumericalWarning('A not p.d., added jitter of 1.0e-08 to the diagonal'), OptimizationWarning('Optimization failed within `scipy.optimize.minimize` with status 2 and message ABNORMAL_TERMINATION_IN_LNSRCH.')]\n",
      "Trying again with a new set of initial conditions.\n",
      "  return _optimize_acqf_batch(opt_inputs=opt_inputs)\n",
      "/home/kylemcmaster/.local/lib/python3.10/site-packages/botorch/optim/optimize.py:568: RuntimeWarning: Optimization failed on the second try, after generating a new set of initial conditions.\n",
      "  return _optimize_acqf_batch(opt_inputs=opt_inputs)\n",
      "[INFO 11-08 08:45:03] ax.service.ax_client: Generated new trial 274 with parameters {'path_penalty': 5.461564, 'loss_penalty': 4.966463, 'score_factor': 1.870194, 'num_trials': 0} using model GPEI.\n",
      "[INFO 11-08 08:45:49] ax.service.ax_client: Completed trial 274 with data: {'objective': (49291.84, None)}.\n"
     ]
    },
    {
     "name": "stdout",
     "output_type": "stream",
     "text": [
      "49291.84 0.48\n"
     ]
    },
    {
     "name": "stderr",
     "output_type": "stream",
     "text": [
      "/home/kylemcmaster/.local/lib/python3.10/site-packages/linear_operator/utils/cholesky.py:40: NumericalWarning: A not p.d., added jitter of 1.0e-08 to the diagonal\n",
      "  warnings.warn(\n",
      "/home/kylemcmaster/.local/lib/python3.10/site-packages/botorch/optim/optimize.py:568: RuntimeWarning: Optimization failed in `gen_candidates_scipy` with the following warning(s):\n",
      "[OptimizationWarning('Optimization failed within `scipy.optimize.minimize` with status 2 and message ABNORMAL_TERMINATION_IN_LNSRCH.')]\n",
      "Trying again with a new set of initial conditions.\n",
      "  return _optimize_acqf_batch(opt_inputs=opt_inputs)\n",
      "/home/kylemcmaster/.local/lib/python3.10/site-packages/botorch/optim/optimize.py:568: RuntimeWarning: Optimization failed on the second try, after generating a new set of initial conditions.\n",
      "  return _optimize_acqf_batch(opt_inputs=opt_inputs)\n",
      "[INFO 11-08 08:46:06] ax.service.ax_client: Generated new trial 275 with parameters {'path_penalty': 5.642008, 'loss_penalty': 4.075198, 'score_factor': 2.0, 'num_trials': 349} using model GPEI.\n",
      "[INFO 11-08 08:46:49] ax.service.ax_client: Completed trial 275 with data: {'objective': (46866.16, None)}.\n"
     ]
    },
    {
     "name": "stdout",
     "output_type": "stream",
     "text": [
      "46866.16 0.48\n"
     ]
    },
    {
     "name": "stderr",
     "output_type": "stream",
     "text": [
      "/home/kylemcmaster/.local/lib/python3.10/site-packages/linear_operator/utils/cholesky.py:40: NumericalWarning: A not p.d., added jitter of 1.0e-08 to the diagonal\n",
      "  warnings.warn(\n",
      "/home/kylemcmaster/.local/lib/python3.10/site-packages/botorch/optim/optimize.py:568: RuntimeWarning: Optimization failed in `gen_candidates_scipy` with the following warning(s):\n",
      "[OptimizationWarning('Optimization failed within `scipy.optimize.minimize` with status 2 and message ABNORMAL_TERMINATION_IN_LNSRCH.'), OptimizationWarning('Optimization failed within `scipy.optimize.minimize` with status 2 and message ABNORMAL_TERMINATION_IN_LNSRCH.'), OptimizationWarning('Optimization failed within `scipy.optimize.minimize` with status 2 and message ABNORMAL_TERMINATION_IN_LNSRCH.')]\n",
      "Trying again with a new set of initial conditions.\n",
      "  return _optimize_acqf_batch(opt_inputs=opt_inputs)\n",
      "/home/kylemcmaster/.local/lib/python3.10/site-packages/botorch/optim/optimize.py:568: RuntimeWarning: Optimization failed on the second try, after generating a new set of initial conditions.\n",
      "  return _optimize_acqf_batch(opt_inputs=opt_inputs)\n",
      "[INFO 11-08 08:47:06] ax.service.ax_client: Generated new trial 276 with parameters {'path_penalty': 3.22283, 'loss_penalty': 0.0, 'score_factor': 0.988826, 'num_trials': 0} using model GPEI.\n",
      "[INFO 11-08 08:47:52] ax.service.ax_client: Completed trial 276 with data: {'objective': (48942.32, None)}.\n"
     ]
    },
    {
     "name": "stdout",
     "output_type": "stream",
     "text": [
      "48942.32 0.46\n"
     ]
    },
    {
     "name": "stderr",
     "output_type": "stream",
     "text": [
      "/home/kylemcmaster/.local/lib/python3.10/site-packages/linear_operator/utils/cholesky.py:40: NumericalWarning: A not p.d., added jitter of 1.0e-08 to the diagonal\n",
      "  warnings.warn(\n",
      "/home/kylemcmaster/.local/lib/python3.10/site-packages/botorch/optim/optimize.py:568: RuntimeWarning: Optimization failed in `gen_candidates_scipy` with the following warning(s):\n",
      "[OptimizationWarning('Optimization failed within `scipy.optimize.minimize` with status 2 and message ABNORMAL_TERMINATION_IN_LNSRCH.'), NumericalWarning('A not p.d., added jitter of 1.0e-08 to the diagonal'), OptimizationWarning('Optimization failed within `scipy.optimize.minimize` with status 2 and message ABNORMAL_TERMINATION_IN_LNSRCH.'), NumericalWarning('A not p.d., added jitter of 1.0e-08 to the diagonal'), OptimizationWarning('Optimization failed within `scipy.optimize.minimize` with status 2 and message ABNORMAL_TERMINATION_IN_LNSRCH.'), NumericalWarning('A not p.d., added jitter of 1.0e-08 to the diagonal')]\n",
      "Trying again with a new set of initial conditions.\n",
      "  return _optimize_acqf_batch(opt_inputs=opt_inputs)\n",
      "/home/kylemcmaster/.local/lib/python3.10/site-packages/botorch/optim/optimize.py:568: RuntimeWarning: Optimization failed on the second try, after generating a new set of initial conditions.\n",
      "  return _optimize_acqf_batch(opt_inputs=opt_inputs)\n",
      "/home/kylemcmaster/.local/lib/python3.10/site-packages/linear_operator/utils/cholesky.py:40: NumericalWarning: A not p.d., added jitter of 1.0e-08 to the diagonal\n",
      "  warnings.warn(\n",
      "[INFO 11-08 08:48:13] ax.service.ax_client: Generated new trial 277 with parameters {'path_penalty': 5.784052, 'loss_penalty': 0.0, 'score_factor': 1.89263, 'num_trials': 800} using model GPEI.\n",
      "[INFO 11-08 08:48:56] ax.service.ax_client: Completed trial 277 with data: {'objective': (45393.12, None)}.\n"
     ]
    },
    {
     "name": "stdout",
     "output_type": "stream",
     "text": [
      "45393.12 0.38\n"
     ]
    },
    {
     "name": "stderr",
     "output_type": "stream",
     "text": [
      "/home/kylemcmaster/.local/lib/python3.10/site-packages/linear_operator/utils/cholesky.py:40: NumericalWarning: A not p.d., added jitter of 1.0e-08 to the diagonal\n",
      "  warnings.warn(\n",
      "/home/kylemcmaster/.local/lib/python3.10/site-packages/botorch/optim/optimize.py:568: RuntimeWarning: Optimization failed in `gen_candidates_scipy` with the following warning(s):\n",
      "[OptimizationWarning('Optimization failed within `scipy.optimize.minimize` with status 2 and message ABNORMAL_TERMINATION_IN_LNSRCH.'), OptimizationWarning('Optimization failed within `scipy.optimize.minimize` with status 2 and message ABNORMAL_TERMINATION_IN_LNSRCH.'), OptimizationWarning('Optimization failed within `scipy.optimize.minimize` with status 2 and message ABNORMAL_TERMINATION_IN_LNSRCH.')]\n",
      "Trying again with a new set of initial conditions.\n",
      "  return _optimize_acqf_batch(opt_inputs=opt_inputs)\n",
      "/home/kylemcmaster/.local/lib/python3.10/site-packages/botorch/optim/optimize.py:568: RuntimeWarning: Optimization failed on the second try, after generating a new set of initial conditions.\n",
      "  return _optimize_acqf_batch(opt_inputs=opt_inputs)\n",
      "[INFO 11-08 08:49:15] ax.service.ax_client: Generated new trial 278 with parameters {'path_penalty': 4.935, 'loss_penalty': 0.0, 'score_factor': 1.881657, 'num_trials': 161} using model GPEI.\n",
      "[INFO 11-08 08:50:04] ax.service.ax_client: Completed trial 278 with data: {'objective': (49765.04, None)}.\n"
     ]
    },
    {
     "name": "stdout",
     "output_type": "stream",
     "text": [
      "49765.04 0.58\n"
     ]
    },
    {
     "name": "stderr",
     "output_type": "stream",
     "text": [
      "/home/kylemcmaster/.local/lib/python3.10/site-packages/linear_operator/utils/cholesky.py:40: NumericalWarning: A not p.d., added jitter of 1.0e-08 to the diagonal\n",
      "  warnings.warn(\n",
      "/home/kylemcmaster/.local/lib/python3.10/site-packages/botorch/optim/optimize.py:568: RuntimeWarning: Optimization failed in `gen_candidates_scipy` with the following warning(s):\n",
      "[OptimizationWarning('Optimization failed within `scipy.optimize.minimize` with status 2 and message ABNORMAL_TERMINATION_IN_LNSRCH.'), NumericalWarning('A not p.d., added jitter of 1.0e-08 to the diagonal'), OptimizationWarning('Optimization failed within `scipy.optimize.minimize` with status 2 and message ABNORMAL_TERMINATION_IN_LNSRCH.'), OptimizationWarning('Optimization failed within `scipy.optimize.minimize` with status 2 and message ABNORMAL_TERMINATION_IN_LNSRCH.')]\n",
      "Trying again with a new set of initial conditions.\n",
      "  return _optimize_acqf_batch(opt_inputs=opt_inputs)\n",
      "/home/kylemcmaster/.local/lib/python3.10/site-packages/botorch/optim/optimize.py:568: RuntimeWarning: Optimization failed on the second try, after generating a new set of initial conditions.\n",
      "  return _optimize_acqf_batch(opt_inputs=opt_inputs)\n",
      "[INFO 11-08 08:50:21] ax.service.ax_client: Generated new trial 279 with parameters {'path_penalty': 3.102813, 'loss_penalty': 5.067134, 'score_factor': 1.030468, 'num_trials': 800} using model GPEI.\n",
      "[INFO 11-08 08:51:07] ax.service.ax_client: Completed trial 279 with data: {'objective': (46640.16, None)}.\n"
     ]
    },
    {
     "name": "stdout",
     "output_type": "stream",
     "text": [
      "46640.16 0.42\n"
     ]
    },
    {
     "name": "stderr",
     "output_type": "stream",
     "text": [
      "/home/kylemcmaster/.local/lib/python3.10/site-packages/linear_operator/utils/cholesky.py:40: NumericalWarning: A not p.d., added jitter of 1.0e-08 to the diagonal\n",
      "  warnings.warn(\n",
      "/home/kylemcmaster/.local/lib/python3.10/site-packages/botorch/optim/optimize.py:568: RuntimeWarning: Optimization failed in `gen_candidates_scipy` with the following warning(s):\n",
      "[OptimizationWarning('Optimization failed within `scipy.optimize.minimize` with status 2 and message ABNORMAL_TERMINATION_IN_LNSRCH.'), OptimizationWarning('Optimization failed within `scipy.optimize.minimize` with status 2 and message ABNORMAL_TERMINATION_IN_LNSRCH.'), OptimizationWarning('Optimization failed within `scipy.optimize.minimize` with status 2 and message ABNORMAL_TERMINATION_IN_LNSRCH.')]\n",
      "Trying again with a new set of initial conditions.\n",
      "  return _optimize_acqf_batch(opt_inputs=opt_inputs)\n",
      "/home/kylemcmaster/.local/lib/python3.10/site-packages/botorch/optim/optimize.py:568: RuntimeWarning: Optimization failed on the second try, after generating a new set of initial conditions.\n",
      "  return _optimize_acqf_batch(opt_inputs=opt_inputs)\n",
      "[INFO 11-08 08:51:25] ax.service.ax_client: Generated new trial 280 with parameters {'path_penalty': 3.330373, 'loss_penalty': 0.0, 'score_factor': 1.194679, 'num_trials': 0} using model GPEI.\n",
      "[INFO 11-08 08:52:10] ax.service.ax_client: Completed trial 280 with data: {'objective': (46574.88, None)}.\n"
     ]
    },
    {
     "name": "stdout",
     "output_type": "stream",
     "text": [
      "46574.88 0.48\n"
     ]
    },
    {
     "name": "stderr",
     "output_type": "stream",
     "text": [
      "/home/kylemcmaster/.local/lib/python3.10/site-packages/linear_operator/utils/cholesky.py:40: NumericalWarning: A not p.d., added jitter of 1.0e-08 to the diagonal\n",
      "  warnings.warn(\n",
      "/home/kylemcmaster/.local/lib/python3.10/site-packages/botorch/optim/optimize.py:568: RuntimeWarning: Optimization failed in `gen_candidates_scipy` with the following warning(s):\n",
      "[OptimizationWarning('Optimization failed within `scipy.optimize.minimize` with status 2 and message ABNORMAL_TERMINATION_IN_LNSRCH.')]\n",
      "Trying again with a new set of initial conditions.\n",
      "  return _optimize_acqf_batch(opt_inputs=opt_inputs)\n",
      "/home/kylemcmaster/.local/lib/python3.10/site-packages/botorch/optim/optimize.py:568: RuntimeWarning: Optimization failed on the second try, after generating a new set of initial conditions.\n",
      "  return _optimize_acqf_batch(opt_inputs=opt_inputs)\n",
      "[INFO 11-08 08:52:28] ax.service.ax_client: Generated new trial 281 with parameters {'path_penalty': 4.52253, 'loss_penalty': 0.0, 'score_factor': 1.637815, 'num_trials': 317} using model GPEI.\n",
      "[INFO 11-08 08:53:14] ax.service.ax_client: Completed trial 281 with data: {'objective': (46715.68, None)}.\n"
     ]
    },
    {
     "name": "stdout",
     "output_type": "stream",
     "text": [
      "46715.68 0.42\n"
     ]
    },
    {
     "name": "stderr",
     "output_type": "stream",
     "text": [
      "/home/kylemcmaster/.local/lib/python3.10/site-packages/linear_operator/utils/cholesky.py:40: NumericalWarning: A not p.d., added jitter of 1.0e-08 to the diagonal\n",
      "  warnings.warn(\n",
      "/home/kylemcmaster/.local/lib/python3.10/site-packages/botorch/optim/optimize.py:568: RuntimeWarning: Optimization failed in `gen_candidates_scipy` with the following warning(s):\n",
      "[OptimizationWarning('Optimization failed within `scipy.optimize.minimize` with status 2 and message ABNORMAL_TERMINATION_IN_LNSRCH.'), NumericalWarning('A not p.d., added jitter of 1.0e-08 to the diagonal'), OptimizationWarning('Optimization failed within `scipy.optimize.minimize` with status 2 and message ABNORMAL_TERMINATION_IN_LNSRCH.')]\n",
      "Trying again with a new set of initial conditions.\n",
      "  return _optimize_acqf_batch(opt_inputs=opt_inputs)\n",
      "/home/kylemcmaster/.local/lib/python3.10/site-packages/botorch/optim/optimize.py:568: RuntimeWarning: Optimization failed on the second try, after generating a new set of initial conditions.\n",
      "  return _optimize_acqf_batch(opt_inputs=opt_inputs)\n",
      "[INFO 11-08 08:53:32] ax.service.ax_client: Generated new trial 282 with parameters {'path_penalty': 2.939873, 'loss_penalty': 10.0, 'score_factor': 0.907604, 'num_trials': 800} using model GPEI.\n",
      "[INFO 11-08 08:54:14] ax.service.ax_client: Completed trial 282 with data: {'objective': (44869.44, None)}.\n"
     ]
    },
    {
     "name": "stdout",
     "output_type": "stream",
     "text": [
      "44869.44 0.46\n"
     ]
    },
    {
     "name": "stderr",
     "output_type": "stream",
     "text": [
      "/home/kylemcmaster/.local/lib/python3.10/site-packages/linear_operator/utils/cholesky.py:40: NumericalWarning: A not p.d., added jitter of 1.0e-08 to the diagonal\n",
      "  warnings.warn(\n",
      "/home/kylemcmaster/.local/lib/python3.10/site-packages/botorch/optim/optimize.py:568: RuntimeWarning: Optimization failed in `gen_candidates_scipy` with the following warning(s):\n",
      "[OptimizationWarning('Optimization failed within `scipy.optimize.minimize` with status 2 and message ABNORMAL_TERMINATION_IN_LNSRCH.'), NumericalWarning('A not p.d., added jitter of 1.0e-08 to the diagonal'), OptimizationWarning('Optimization failed within `scipy.optimize.minimize` with status 2 and message ABNORMAL_TERMINATION_IN_LNSRCH.'), NumericalWarning('A not p.d., added jitter of 1.0e-08 to the diagonal'), OptimizationWarning('Optimization failed within `scipy.optimize.minimize` with status 2 and message ABNORMAL_TERMINATION_IN_LNSRCH.')]\n",
      "Trying again with a new set of initial conditions.\n",
      "  return _optimize_acqf_batch(opt_inputs=opt_inputs)\n",
      "/home/kylemcmaster/.local/lib/python3.10/site-packages/botorch/optim/optimize.py:568: RuntimeWarning: Optimization failed on the second try, after generating a new set of initial conditions.\n",
      "  return _optimize_acqf_batch(opt_inputs=opt_inputs)\n",
      "[INFO 11-08 08:54:34] ax.service.ax_client: Generated new trial 283 with parameters {'path_penalty': 5.590063, 'loss_penalty': 10.0, 'score_factor': 1.957173, 'num_trials': 0} using model GPEI.\n",
      "[INFO 11-08 08:55:19] ax.service.ax_client: Completed trial 283 with data: {'objective': (46802.56, None)}.\n"
     ]
    },
    {
     "name": "stdout",
     "output_type": "stream",
     "text": [
      "46802.56 0.4\n"
     ]
    },
    {
     "name": "stderr",
     "output_type": "stream",
     "text": [
      "/home/kylemcmaster/.local/lib/python3.10/site-packages/linear_operator/utils/cholesky.py:40: NumericalWarning: A not p.d., added jitter of 1.0e-08 to the diagonal\n",
      "  warnings.warn(\n",
      "/home/kylemcmaster/.local/lib/python3.10/site-packages/botorch/optim/optimize.py:568: RuntimeWarning: Optimization failed in `gen_candidates_scipy` with the following warning(s):\n",
      "[NumericalWarning('A not p.d., added jitter of 1.0e-08 to the diagonal'), NumericalWarning('A not p.d., added jitter of 1.0e-07 to the diagonal'), NumericalWarning('A not p.d., added jitter of 1.0e-06 to the diagonal'), NumericalWarning('A not p.d., added jitter of 1.0e-05 to the diagonal'), OptimizationWarning('Optimization failed within `scipy.optimize.minimize` with status 2 and message ABNORMAL_TERMINATION_IN_LNSRCH.'), NumericalWarning('A not p.d., added jitter of 1.0e-08 to the diagonal'), NumericalWarning('A not p.d., added jitter of 1.0e-07 to the diagonal'), NumericalWarning('A not p.d., added jitter of 1.0e-06 to the diagonal'), NumericalWarning('A not p.d., added jitter of 1.0e-05 to the diagonal'), NumericalWarning('A not p.d., added jitter of 1.0e-04 to the diagonal'), NumericalWarning('A not p.d., added jitter of 1.0e-03 to the diagonal'), OptimizationWarning('Optimization failed within `scipy.optimize.minimize` with status 2 and message ABNORMAL_TERMINATION_IN_LNSRCH.'), NumericalWarning('A not p.d., added jitter of 1.0e-08 to the diagonal'), NumericalWarning('A not p.d., added jitter of 1.0e-08 to the diagonal'), OptimizationWarning('Optimization failed within `scipy.optimize.minimize` with status 2 and message ABNORMAL_TERMINATION_IN_LNSRCH.'), NumericalWarning('A not p.d., added jitter of 1.0e-08 to the diagonal'), NumericalWarning('A not p.d., added jitter of 1.0e-07 to the diagonal'), NumericalWarning('A not p.d., added jitter of 1.0e-06 to the diagonal'), NumericalWarning('A not p.d., added jitter of 1.0e-05 to the diagonal'), NumericalWarning('A not p.d., added jitter of 1.0e-04 to the diagonal'), OptimizationWarning('Optimization failed within `scipy.optimize.minimize` with status 2 and message ABNORMAL_TERMINATION_IN_LNSRCH.')]\n",
      "Trying again with a new set of initial conditions.\n",
      "  return _optimize_acqf_batch(opt_inputs=opt_inputs)\n",
      "/home/kylemcmaster/.local/lib/python3.10/site-packages/botorch/optim/optimize.py:568: RuntimeWarning: Optimization failed on the second try, after generating a new set of initial conditions.\n",
      "  return _optimize_acqf_batch(opt_inputs=opt_inputs)\n",
      "/home/kylemcmaster/.local/lib/python3.10/site-packages/linear_operator/utils/cholesky.py:40: NumericalWarning: A not p.d., added jitter of 1.0e-08 to the diagonal\n",
      "  warnings.warn(\n",
      "[INFO 11-08 08:55:39] ax.service.ax_client: Generated new trial 284 with parameters {'path_penalty': 5.923883, 'loss_penalty': 0.0, 'score_factor': 1.963316, 'num_trials': 0} using model GPEI.\n",
      "[INFO 11-08 08:56:25] ax.service.ax_client: Completed trial 284 with data: {'objective': (49523.44, None)}.\n"
     ]
    },
    {
     "name": "stdout",
     "output_type": "stream",
     "text": [
      "49523.44 0.48\n"
     ]
    },
    {
     "name": "stderr",
     "output_type": "stream",
     "text": [
      "/home/kylemcmaster/.local/lib/python3.10/site-packages/linear_operator/utils/cholesky.py:40: NumericalWarning: A not p.d., added jitter of 1.0e-08 to the diagonal\n",
      "  warnings.warn(\n",
      "/home/kylemcmaster/.local/lib/python3.10/site-packages/botorch/optim/optimize.py:568: RuntimeWarning: Optimization failed in `gen_candidates_scipy` with the following warning(s):\n",
      "[OptimizationWarning('Optimization failed within `scipy.optimize.minimize` with status 2 and message ABNORMAL_TERMINATION_IN_LNSRCH.'), NumericalWarning('A not p.d., added jitter of 1.0e-08 to the diagonal'), OptimizationWarning('Optimization failed within `scipy.optimize.minimize` with status 2 and message ABNORMAL_TERMINATION_IN_LNSRCH.'), NumericalWarning('A not p.d., added jitter of 1.0e-08 to the diagonal'), OptimizationWarning('Optimization failed within `scipy.optimize.minimize` with status 2 and message ABNORMAL_TERMINATION_IN_LNSRCH.')]\n",
      "Trying again with a new set of initial conditions.\n",
      "  return _optimize_acqf_batch(opt_inputs=opt_inputs)\n",
      "/home/kylemcmaster/.local/lib/python3.10/site-packages/botorch/optim/optimize.py:568: RuntimeWarning: Optimization failed on the second try, after generating a new set of initial conditions.\n",
      "  return _optimize_acqf_batch(opt_inputs=opt_inputs)\n",
      "[INFO 11-08 08:56:45] ax.service.ax_client: Generated new trial 285 with parameters {'path_penalty': 3.627551, 'loss_penalty': 0.0, 'score_factor': 0.970938, 'num_trials': 800} using model GPEI.\n",
      "[INFO 11-08 08:57:24] ax.service.ax_client: Completed trial 285 with data: {'objective': (40378.0, None)}.\n"
     ]
    },
    {
     "name": "stdout",
     "output_type": "stream",
     "text": [
      "40378.0 0.42\n"
     ]
    },
    {
     "name": "stderr",
     "output_type": "stream",
     "text": [
      "/home/kylemcmaster/.local/lib/python3.10/site-packages/linear_operator/utils/cholesky.py:40: NumericalWarning: A not p.d., added jitter of 1.0e-08 to the diagonal\n",
      "  warnings.warn(\n",
      "/home/kylemcmaster/.local/lib/python3.10/site-packages/botorch/optim/optimize.py:568: RuntimeWarning: Optimization failed in `gen_candidates_scipy` with the following warning(s):\n",
      "[OptimizationWarning('Optimization failed within `scipy.optimize.minimize` with status 2 and message ABNORMAL_TERMINATION_IN_LNSRCH.'), NumericalWarning('A not p.d., added jitter of 1.0e-08 to the diagonal'), OptimizationWarning('Optimization failed within `scipy.optimize.minimize` with status 2 and message ABNORMAL_TERMINATION_IN_LNSRCH.'), NumericalWarning('A not p.d., added jitter of 1.0e-08 to the diagonal')]\n",
      "Trying again with a new set of initial conditions.\n",
      "  return _optimize_acqf_batch(opt_inputs=opt_inputs)\n",
      "/home/kylemcmaster/.local/lib/python3.10/site-packages/botorch/optim/optimize.py:568: RuntimeWarning: Optimization failed on the second try, after generating a new set of initial conditions.\n",
      "  return _optimize_acqf_batch(opt_inputs=opt_inputs)\n",
      "[INFO 11-08 08:57:42] ax.service.ax_client: Generated new trial 286 with parameters {'path_penalty': 5.301671, 'loss_penalty': 10.0, 'score_factor': 1.891385, 'num_trials': 0} using model GPEI.\n",
      "[INFO 11-08 08:58:21] ax.service.ax_client: Completed trial 286 with data: {'objective': (41874.88, None)}.\n"
     ]
    },
    {
     "name": "stdout",
     "output_type": "stream",
     "text": [
      "41874.88 0.42\n"
     ]
    },
    {
     "name": "stderr",
     "output_type": "stream",
     "text": [
      "/home/kylemcmaster/.local/lib/python3.10/site-packages/linear_operator/utils/cholesky.py:40: NumericalWarning: A not p.d., added jitter of 1.0e-08 to the diagonal\n",
      "  warnings.warn(\n",
      "/home/kylemcmaster/.local/lib/python3.10/site-packages/botorch/optim/optimize.py:568: RuntimeWarning: Optimization failed in `gen_candidates_scipy` with the following warning(s):\n",
      "[OptimizationWarning('Optimization failed within `scipy.optimize.minimize` with status 2 and message ABNORMAL_TERMINATION_IN_LNSRCH.'), OptimizationWarning('Optimization failed within `scipy.optimize.minimize` with status 2 and message ABNORMAL_TERMINATION_IN_LNSRCH.'), NumericalWarning('A not p.d., added jitter of 1.0e-08 to the diagonal'), OptimizationWarning('Optimization failed within `scipy.optimize.minimize` with status 2 and message ABNORMAL_TERMINATION_IN_LNSRCH.')]\n",
      "Trying again with a new set of initial conditions.\n",
      "  return _optimize_acqf_batch(opt_inputs=opt_inputs)\n",
      "/home/kylemcmaster/.local/lib/python3.10/site-packages/botorch/optim/optimize.py:568: RuntimeWarning: Optimization failed on the second try, after generating a new set of initial conditions.\n",
      "  return _optimize_acqf_batch(opt_inputs=opt_inputs)\n",
      "[INFO 11-08 08:58:41] ax.service.ax_client: Generated new trial 287 with parameters {'path_penalty': 3.460379, 'loss_penalty': 0.0, 'score_factor': 1.164056, 'num_trials': 0} using model GPEI.\n",
      "[INFO 11-08 08:59:24] ax.service.ax_client: Completed trial 287 with data: {'objective': (42166.88, None)}.\n"
     ]
    },
    {
     "name": "stdout",
     "output_type": "stream",
     "text": [
      "42166.88 0.38\n"
     ]
    },
    {
     "name": "stderr",
     "output_type": "stream",
     "text": [
      "/home/kylemcmaster/.local/lib/python3.10/site-packages/linear_operator/utils/cholesky.py:40: NumericalWarning: A not p.d., added jitter of 1.0e-08 to the diagonal\n",
      "  warnings.warn(\n",
      "/home/kylemcmaster/.local/lib/python3.10/site-packages/botorch/optim/optimize.py:568: RuntimeWarning: Optimization failed in `gen_candidates_scipy` with the following warning(s):\n",
      "[NumericalWarning('A not p.d., added jitter of 1.0e-08 to the diagonal'), OptimizationWarning('Optimization failed within `scipy.optimize.minimize` with status 2 and message ABNORMAL_TERMINATION_IN_LNSRCH.'), NumericalWarning('A not p.d., added jitter of 1.0e-08 to the diagonal'), NumericalWarning('A not p.d., added jitter of 1.0e-08 to the diagonal'), NumericalWarning('A not p.d., added jitter of 1.0e-07 to the diagonal'), NumericalWarning('A not p.d., added jitter of 1.0e-06 to the diagonal'), NumericalWarning('A not p.d., added jitter of 1.0e-05 to the diagonal'), OptimizationWarning('Optimization failed within `scipy.optimize.minimize` with status 2 and message ABNORMAL_TERMINATION_IN_LNSRCH.'), NumericalWarning('A not p.d., added jitter of 1.0e-08 to the diagonal'), NumericalWarning('A not p.d., added jitter of 1.0e-08 to the diagonal'), NumericalWarning('A not p.d., added jitter of 1.0e-07 to the diagonal'), NumericalWarning('A not p.d., added jitter of 1.0e-06 to the diagonal'), NumericalWarning('A not p.d., added jitter of 1.0e-05 to the diagonal'), OptimizationWarning('Optimization failed within `scipy.optimize.minimize` with status 2 and message ABNORMAL_TERMINATION_IN_LNSRCH.')]\n",
      "Trying again with a new set of initial conditions.\n",
      "  return _optimize_acqf_batch(opt_inputs=opt_inputs)\n",
      "/home/kylemcmaster/.local/lib/python3.10/site-packages/botorch/optim/optimize.py:568: RuntimeWarning: Optimization failed on the second try, after generating a new set of initial conditions.\n",
      "  return _optimize_acqf_batch(opt_inputs=opt_inputs)\n",
      "/home/kylemcmaster/.local/lib/python3.10/site-packages/linear_operator/utils/cholesky.py:40: NumericalWarning: A not p.d., added jitter of 1.0e-08 to the diagonal\n",
      "  warnings.warn(\n",
      "[INFO 11-08 08:59:43] ax.service.ax_client: Generated new trial 288 with parameters {'path_penalty': 4.690786, 'loss_penalty': 0.0, 'score_factor': 2.0, 'num_trials': 0} using model GPEI.\n",
      "[INFO 11-08 09:00:28] ax.service.ax_client: Completed trial 288 with data: {'objective': (47990.16, None)}.\n"
     ]
    },
    {
     "name": "stdout",
     "output_type": "stream",
     "text": [
      "47990.16 0.46\n"
     ]
    },
    {
     "name": "stderr",
     "output_type": "stream",
     "text": [
      "/home/kylemcmaster/.local/lib/python3.10/site-packages/linear_operator/utils/cholesky.py:40: NumericalWarning: A not p.d., added jitter of 1.0e-08 to the diagonal\n",
      "  warnings.warn(\n",
      "/home/kylemcmaster/.local/lib/python3.10/site-packages/botorch/optim/optimize.py:568: RuntimeWarning: Optimization failed in `gen_candidates_scipy` with the following warning(s):\n",
      "[NumericalWarning('A not p.d., added jitter of 1.0e-08 to the diagonal'), NumericalWarning('A not p.d., added jitter of 1.0e-07 to the diagonal'), NumericalWarning('A not p.d., added jitter of 1.0e-06 to the diagonal'), NumericalWarning('A not p.d., added jitter of 1.0e-05 to the diagonal'), NumericalWarning('A not p.d., added jitter of 1.0e-04 to the diagonal'), NumericalWarning('A not p.d., added jitter of 1.0e-03 to the diagonal'), BotorchWarning('Low-rank cholesky updates failed due NaNs or due to an ill-conditioned covariance matrix. Falling back to standard sampling.'), OptimizationWarning('Optimization failed within `scipy.optimize.minimize` with status 2 and message ABNORMAL_TERMINATION_IN_LNSRCH.'), NumericalWarning('A not p.d., added jitter of 1.0e-08 to the diagonal'), NumericalWarning('A not p.d., added jitter of 1.0e-08 to the diagonal'), NumericalWarning('A not p.d., added jitter of 1.0e-07 to the diagonal'), NumericalWarning('A not p.d., added jitter of 1.0e-06 to the diagonal'), NumericalWarning('A not p.d., added jitter of 1.0e-05 to the diagonal'), NumericalWarning('A not p.d., added jitter of 1.0e-04 to the diagonal'), NumericalWarning('A not p.d., added jitter of 1.0e-03 to the diagonal'), BotorchWarning('Low-rank cholesky updates failed due NaNs or due to an ill-conditioned covariance matrix. Falling back to standard sampling.'), OptimizationWarning('Optimization failed within `scipy.optimize.minimize` with status 2 and message ABNORMAL_TERMINATION_IN_LNSRCH.'), NumericalWarning('A not p.d., added jitter of 1.0e-08 to the diagonal'), NumericalWarning('A not p.d., added jitter of 1.0e-08 to the diagonal'), NumericalWarning('A not p.d., added jitter of 1.0e-07 to the diagonal'), OptimizationWarning('Optimization failed within `scipy.optimize.minimize` with status 2 and message ABNORMAL_TERMINATION_IN_LNSRCH.'), NumericalWarning('A not p.d., added jitter of 1.0e-08 to the diagonal'), NumericalWarning('A not p.d., added jitter of 1.0e-08 to the diagonal'), NumericalWarning('A not p.d., added jitter of 1.0e-07 to the diagonal'), NumericalWarning('A not p.d., added jitter of 1.0e-06 to the diagonal'), NumericalWarning('A not p.d., added jitter of 1.0e-05 to the diagonal'), NumericalWarning('A not p.d., added jitter of 1.0e-04 to the diagonal'), NumericalWarning('A not p.d., added jitter of 1.0e-03 to the diagonal'), BotorchWarning('Low-rank cholesky updates failed due NaNs or due to an ill-conditioned covariance matrix. Falling back to standard sampling.'), OptimizationWarning('Optimization failed within `scipy.optimize.minimize` with status 2 and message ABNORMAL_TERMINATION_IN_LNSRCH.'), NumericalWarning('A not p.d., added jitter of 1.0e-08 to the diagonal')]\n",
      "Trying again with a new set of initial conditions.\n",
      "  return _optimize_acqf_batch(opt_inputs=opt_inputs)\n",
      "/home/kylemcmaster/.local/lib/python3.10/site-packages/botorch/optim/optimize.py:568: RuntimeWarning: Optimization failed on the second try, after generating a new set of initial conditions.\n",
      "  return _optimize_acqf_batch(opt_inputs=opt_inputs)\n",
      "/home/kylemcmaster/.local/lib/python3.10/site-packages/linear_operator/utils/cholesky.py:40: NumericalWarning: A not p.d., added jitter of 1.0e-08 to the diagonal\n",
      "  warnings.warn(\n",
      "[INFO 11-08 09:00:47] ax.service.ax_client: Generated new trial 289 with parameters {'path_penalty': 2.795517, 'loss_penalty': 10.0, 'score_factor': 0.989828, 'num_trials': 0} using model GPEI.\n",
      "[INFO 11-08 09:01:33] ax.service.ax_client: Completed trial 289 with data: {'objective': (48352.4, None)}.\n"
     ]
    },
    {
     "name": "stdout",
     "output_type": "stream",
     "text": [
      "48352.4 0.48\n"
     ]
    },
    {
     "name": "stderr",
     "output_type": "stream",
     "text": [
      "/home/kylemcmaster/.local/lib/python3.10/site-packages/linear_operator/utils/cholesky.py:40: NumericalWarning: A not p.d., added jitter of 1.0e-08 to the diagonal\n",
      "  warnings.warn(\n",
      "/home/kylemcmaster/.local/lib/python3.10/site-packages/botorch/optim/optimize.py:568: RuntimeWarning: Optimization failed in `gen_candidates_scipy` with the following warning(s):\n",
      "[NumericalWarning('A not p.d., added jitter of 1.0e-08 to the diagonal'), NumericalWarning('A not p.d., added jitter of 1.0e-07 to the diagonal'), OptimizationWarning('Optimization failed within `scipy.optimize.minimize` with status 2 and message ABNORMAL_TERMINATION_IN_LNSRCH.'), NumericalWarning('A not p.d., added jitter of 1.0e-08 to the diagonal'), OptimizationWarning('Optimization failed within `scipy.optimize.minimize` with status 2 and message ABNORMAL_TERMINATION_IN_LNSRCH.'), NumericalWarning('A not p.d., added jitter of 1.0e-08 to the diagonal'), NumericalWarning('A not p.d., added jitter of 1.0e-07 to the diagonal'), OptimizationWarning('Optimization failed within `scipy.optimize.minimize` with status 2 and message ABNORMAL_TERMINATION_IN_LNSRCH.'), OptimizationWarning('Optimization failed within `scipy.optimize.minimize` with status 2 and message ABNORMAL_TERMINATION_IN_LNSRCH.')]\n",
      "Trying again with a new set of initial conditions.\n",
      "  return _optimize_acqf_batch(opt_inputs=opt_inputs)\n",
      "/home/kylemcmaster/.local/lib/python3.10/site-packages/botorch/optim/optimize.py:568: RuntimeWarning: Optimization failed on the second try, after generating a new set of initial conditions.\n",
      "  return _optimize_acqf_batch(opt_inputs=opt_inputs)\n",
      "/home/kylemcmaster/.local/lib/python3.10/site-packages/linear_operator/utils/cholesky.py:40: NumericalWarning: A not p.d., added jitter of 1.0e-08 to the diagonal\n",
      "  warnings.warn(\n",
      "[INFO 11-08 09:01:54] ax.service.ax_client: Generated new trial 290 with parameters {'path_penalty': 3.303494, 'loss_penalty': 3.068968, 'score_factor': 1.141001, 'num_trials': 754} using model GPEI.\n",
      "[INFO 11-08 09:02:44] ax.service.ax_client: Completed trial 290 with data: {'objective': (56006.16, None)}.\n"
     ]
    },
    {
     "name": "stdout",
     "output_type": "stream",
     "text": [
      "56006.16 0.64\n",
      "The best parameters are: {'path_penalty': 5.543132660198049, 'loss_penalty': 4.057134662063512, 'score_factor': 1.9152904702173466, 'num_trials': 800}\n",
      "with score ({'objective': 47247.94477995242}, {'objective': {'objective': 148981.26148425517}})\n"
     ]
    },
    {
     "name": "stderr",
     "output_type": "stream",
     "text": [
      "/home/kylemcmaster/.local/lib/python3.10/site-packages/linear_operator/utils/cholesky.py:40: NumericalWarning: A not p.d., added jitter of 1.0e-08 to the diagonal\n",
      "  warnings.warn(\n",
      "/home/kylemcmaster/.local/lib/python3.10/site-packages/botorch/optim/optimize.py:568: RuntimeWarning: Optimization failed in `gen_candidates_scipy` with the following warning(s):\n",
      "[OptimizationWarning('Optimization failed within `scipy.optimize.minimize` with status 2 and message ABNORMAL_TERMINATION_IN_LNSRCH.'), OptimizationWarning('Optimization failed within `scipy.optimize.minimize` with status 2 and message ABNORMAL_TERMINATION_IN_LNSRCH.'), NumericalWarning('A not p.d., added jitter of 1.0e-08 to the diagonal'), OptimizationWarning('Optimization failed within `scipy.optimize.minimize` with status 2 and message ABNORMAL_TERMINATION_IN_LNSRCH.')]\n",
      "Trying again with a new set of initial conditions.\n",
      "  return _optimize_acqf_batch(opt_inputs=opt_inputs)\n",
      "/home/kylemcmaster/.local/lib/python3.10/site-packages/botorch/optim/optimize.py:568: RuntimeWarning: Optimization failed on the second try, after generating a new set of initial conditions.\n",
      "  return _optimize_acqf_batch(opt_inputs=opt_inputs)\n",
      "[INFO 11-08 09:03:10] ax.service.ax_client: Generated new trial 291 with parameters {'path_penalty': 5.748335, 'loss_penalty': 5.150722, 'score_factor': 2.0, 'num_trials': 800} using model GPEI.\n",
      "[INFO 11-08 09:03:50] ax.service.ax_client: Completed trial 291 with data: {'objective': (41985.36, None)}.\n"
     ]
    },
    {
     "name": "stdout",
     "output_type": "stream",
     "text": [
      "41985.36 0.4\n"
     ]
    },
    {
     "name": "stderr",
     "output_type": "stream",
     "text": [
      "/home/kylemcmaster/.local/lib/python3.10/site-packages/linear_operator/utils/cholesky.py:40: NumericalWarning: A not p.d., added jitter of 1.0e-08 to the diagonal\n",
      "  warnings.warn(\n",
      "/home/kylemcmaster/.local/lib/python3.10/site-packages/botorch/optim/optimize.py:568: RuntimeWarning: Optimization failed in `gen_candidates_scipy` with the following warning(s):\n",
      "[NumericalWarning('A not p.d., added jitter of 1.0e-08 to the diagonal'), NumericalWarning('A not p.d., added jitter of 1.0e-07 to the diagonal'), NumericalWarning('A not p.d., added jitter of 1.0e-06 to the diagonal'), NumericalWarning('A not p.d., added jitter of 1.0e-05 to the diagonal'), OptimizationWarning('Optimization failed within `scipy.optimize.minimize` with status 2 and message ABNORMAL_TERMINATION_IN_LNSRCH.'), NumericalWarning('A not p.d., added jitter of 1.0e-08 to the diagonal'), NumericalWarning('A not p.d., added jitter of 1.0e-07 to the diagonal'), NumericalWarning('A not p.d., added jitter of 1.0e-06 to the diagonal'), OptimizationWarning('Optimization failed within `scipy.optimize.minimize` with status 2 and message ABNORMAL_TERMINATION_IN_LNSRCH.'), NumericalWarning('A not p.d., added jitter of 1.0e-08 to the diagonal'), NumericalWarning('A not p.d., added jitter of 1.0e-07 to the diagonal'), NumericalWarning('A not p.d., added jitter of 1.0e-06 to the diagonal'), NumericalWarning('A not p.d., added jitter of 1.0e-05 to the diagonal'), NumericalWarning('A not p.d., added jitter of 1.0e-04 to the diagonal'), OptimizationWarning('Optimization failed within `scipy.optimize.minimize` with status 2 and message ABNORMAL_TERMINATION_IN_LNSRCH.'), NumericalWarning('A not p.d., added jitter of 1.0e-08 to the diagonal'), NumericalWarning('A not p.d., added jitter of 1.0e-07 to the diagonal')]\n",
      "Trying again with a new set of initial conditions.\n",
      "  return _optimize_acqf_batch(opt_inputs=opt_inputs)\n",
      "/home/kylemcmaster/.local/lib/python3.10/site-packages/botorch/optim/optimize.py:568: RuntimeWarning: Optimization failed on the second try, after generating a new set of initial conditions.\n",
      "  return _optimize_acqf_batch(opt_inputs=opt_inputs)\n",
      "/home/kylemcmaster/.local/lib/python3.10/site-packages/linear_operator/utils/cholesky.py:40: NumericalWarning: A not p.d., added jitter of 1.0e-08 to the diagonal\n",
      "  warnings.warn(\n",
      "[INFO 11-08 09:04:10] ax.service.ax_client: Generated new trial 292 with parameters {'path_penalty': 6.756489, 'loss_penalty': 10.0, 'score_factor': 2.0, 'num_trials': 800} using model GPEI.\n",
      "[INFO 11-08 09:04:55] ax.service.ax_client: Completed trial 292 with data: {'objective': (46136.88, None)}.\n"
     ]
    },
    {
     "name": "stdout",
     "output_type": "stream",
     "text": [
      "46136.88 0.42\n"
     ]
    },
    {
     "name": "stderr",
     "output_type": "stream",
     "text": [
      "/home/kylemcmaster/.local/lib/python3.10/site-packages/linear_operator/utils/cholesky.py:40: NumericalWarning: A not p.d., added jitter of 1.0e-08 to the diagonal\n",
      "  warnings.warn(\n",
      "/home/kylemcmaster/.local/lib/python3.10/site-packages/botorch/optim/optimize.py:568: RuntimeWarning: Optimization failed in `gen_candidates_scipy` with the following warning(s):\n",
      "[OptimizationWarning('Optimization failed within `scipy.optimize.minimize` with status 2 and message ABNORMAL_TERMINATION_IN_LNSRCH.'), OptimizationWarning('Optimization failed within `scipy.optimize.minimize` with status 2 and message ABNORMAL_TERMINATION_IN_LNSRCH.'), NumericalWarning('A not p.d., added jitter of 1.0e-08 to the diagonal'), OptimizationWarning('Optimization failed within `scipy.optimize.minimize` with status 2 and message ABNORMAL_TERMINATION_IN_LNSRCH.')]\n",
      "Trying again with a new set of initial conditions.\n",
      "  return _optimize_acqf_batch(opt_inputs=opt_inputs)\n",
      "/home/kylemcmaster/.local/lib/python3.10/site-packages/botorch/optim/optimize.py:568: RuntimeWarning: Optimization failed on the second try, after generating a new set of initial conditions.\n",
      "  return _optimize_acqf_batch(opt_inputs=opt_inputs)\n",
      "[INFO 11-08 09:05:19] ax.service.ax_client: Generated new trial 293 with parameters {'path_penalty': 3.030114, 'loss_penalty': 10.0, 'score_factor': 1.055886, 'num_trials': 800} using model GPEI.\n",
      "[INFO 11-08 09:06:09] ax.service.ax_client: Completed trial 293 with data: {'objective': (51195.52, None)}.\n"
     ]
    },
    {
     "name": "stdout",
     "output_type": "stream",
     "text": [
      "51195.52 0.5\n"
     ]
    },
    {
     "name": "stderr",
     "output_type": "stream",
     "text": [
      "/home/kylemcmaster/.local/lib/python3.10/site-packages/linear_operator/utils/cholesky.py:40: NumericalWarning: A not p.d., added jitter of 1.0e-08 to the diagonal\n",
      "  warnings.warn(\n",
      "[INFO 11-08 09:06:22] ax.service.ax_client: Generated new trial 294 with parameters {'path_penalty': 2.842239, 'loss_penalty': 10.0, 'score_factor': 0.996073, 'num_trials': 800} using model GPEI.\n",
      "[INFO 11-08 09:07:05] ax.service.ax_client: Completed trial 294 with data: {'objective': (44208.64, None)}.\n"
     ]
    },
    {
     "name": "stdout",
     "output_type": "stream",
     "text": [
      "44208.64 0.42\n"
     ]
    },
    {
     "name": "stderr",
     "output_type": "stream",
     "text": [
      "/home/kylemcmaster/.local/lib/python3.10/site-packages/linear_operator/utils/cholesky.py:40: NumericalWarning: A not p.d., added jitter of 1.0e-08 to the diagonal\n",
      "  warnings.warn(\n",
      "[INFO 11-08 09:07:19] ax.service.ax_client: Generated new trial 295 with parameters {'path_penalty': 3.243924, 'loss_penalty': 10.0, 'score_factor': 1.063791, 'num_trials': 0} using model GPEI.\n",
      "[INFO 11-08 09:08:02] ax.service.ax_client: Completed trial 295 with data: {'objective': (44809.28, None)}.\n"
     ]
    },
    {
     "name": "stdout",
     "output_type": "stream",
     "text": [
      "44809.28 0.36\n"
     ]
    },
    {
     "name": "stderr",
     "output_type": "stream",
     "text": [
      "/home/kylemcmaster/.local/lib/python3.10/site-packages/linear_operator/utils/cholesky.py:40: NumericalWarning: A not p.d., added jitter of 1.0e-08 to the diagonal\n",
      "  warnings.warn(\n",
      "[INFO 11-08 09:08:13] ax.service.ax_client: Generated new trial 296 with parameters {'path_penalty': 3.663203, 'loss_penalty': 0.0, 'score_factor': 1.117311, 'num_trials': 0} using model GPEI.\n",
      "[INFO 11-08 09:08:59] ax.service.ax_client: Completed trial 296 with data: {'objective': (48386.96, None)}.\n"
     ]
    },
    {
     "name": "stdout",
     "output_type": "stream",
     "text": [
      "48386.96 0.5\n"
     ]
    },
    {
     "name": "stderr",
     "output_type": "stream",
     "text": [
      "/home/kylemcmaster/.local/lib/python3.10/site-packages/linear_operator/utils/cholesky.py:40: NumericalWarning: A not p.d., added jitter of 1.0e-08 to the diagonal\n",
      "  warnings.warn(\n",
      "[INFO 11-08 09:09:13] ax.service.ax_client: Generated new trial 297 with parameters {'path_penalty': 3.087462, 'loss_penalty': 0.0, 'score_factor': 1.04657, 'num_trials': 800} using model GPEI.\n",
      "[INFO 11-08 09:09:53] ax.service.ax_client: Completed trial 297 with data: {'objective': (41876.56, None)}.\n"
     ]
    },
    {
     "name": "stdout",
     "output_type": "stream",
     "text": [
      "41876.56 0.42\n"
     ]
    },
    {
     "name": "stderr",
     "output_type": "stream",
     "text": [
      "/home/kylemcmaster/.local/lib/python3.10/site-packages/linear_operator/utils/cholesky.py:40: NumericalWarning: A not p.d., added jitter of 1.0e-08 to the diagonal\n",
      "  warnings.warn(\n",
      "/home/kylemcmaster/.local/lib/python3.10/site-packages/botorch/optim/optimize.py:568: RuntimeWarning: Optimization failed in `gen_candidates_scipy` with the following warning(s):\n",
      "[OptimizationWarning('Optimization failed within `scipy.optimize.minimize` with status 2 and message ABNORMAL_TERMINATION_IN_LNSRCH.'), NumericalWarning('A not p.d., added jitter of 1.0e-08 to the diagonal'), OptimizationWarning('Optimization failed within `scipy.optimize.minimize` with status 2 and message ABNORMAL_TERMINATION_IN_LNSRCH.'), NumericalWarning('A not p.d., added jitter of 1.0e-08 to the diagonal'), OptimizationWarning('Optimization failed within `scipy.optimize.minimize` with status 2 and message ABNORMAL_TERMINATION_IN_LNSRCH.'), NumericalWarning('A not p.d., added jitter of 1.0e-08 to the diagonal'), OptimizationWarning('Optimization failed within `scipy.optimize.minimize` with status 2 and message ABNORMAL_TERMINATION_IN_LNSRCH.')]\n",
      "Trying again with a new set of initial conditions.\n",
      "  return _optimize_acqf_batch(opt_inputs=opt_inputs)\n",
      "/home/kylemcmaster/.local/lib/python3.10/site-packages/botorch/optim/optimize.py:568: RuntimeWarning: Optimization failed on the second try, after generating a new set of initial conditions.\n",
      "  return _optimize_acqf_batch(opt_inputs=opt_inputs)\n",
      "/home/kylemcmaster/.local/lib/python3.10/site-packages/linear_operator/utils/cholesky.py:40: NumericalWarning: A not p.d., added jitter of 1.0e-08 to the diagonal\n",
      "  warnings.warn(\n",
      "[INFO 11-08 09:10:15] ax.service.ax_client: Generated new trial 298 with parameters {'path_penalty': 4.750766, 'loss_penalty': 1.687973, 'score_factor': 1.604884, 'num_trials': 800} using model GPEI.\n",
      "[INFO 11-08 09:10:59] ax.service.ax_client: Completed trial 298 with data: {'objective': (45297.6, None)}.\n"
     ]
    },
    {
     "name": "stdout",
     "output_type": "stream",
     "text": [
      "45297.6 0.4\n"
     ]
    },
    {
     "name": "stderr",
     "output_type": "stream",
     "text": [
      "/home/kylemcmaster/.local/lib/python3.10/site-packages/linear_operator/utils/cholesky.py:40: NumericalWarning: A not p.d., added jitter of 1.0e-08 to the diagonal\n",
      "  warnings.warn(\n",
      "/home/kylemcmaster/.local/lib/python3.10/site-packages/botorch/optim/optimize.py:568: RuntimeWarning: Optimization failed in `gen_candidates_scipy` with the following warning(s):\n",
      "[OptimizationWarning('Optimization failed within `scipy.optimize.minimize` with status 2 and message ABNORMAL_TERMINATION_IN_LNSRCH.'), OptimizationWarning('Optimization failed within `scipy.optimize.minimize` with status 2 and message ABNORMAL_TERMINATION_IN_LNSRCH.'), OptimizationWarning('Optimization failed within `scipy.optimize.minimize` with status 2 and message ABNORMAL_TERMINATION_IN_LNSRCH.'), OptimizationWarning('Optimization failed within `scipy.optimize.minimize` with status 2 and message ABNORMAL_TERMINATION_IN_LNSRCH.')]\n",
      "Trying again with a new set of initial conditions.\n",
      "  return _optimize_acqf_batch(opt_inputs=opt_inputs)\n",
      "/home/kylemcmaster/.local/lib/python3.10/site-packages/botorch/optim/optimize.py:568: RuntimeWarning: Optimization failed on the second try, after generating a new set of initial conditions.\n",
      "  return _optimize_acqf_batch(opt_inputs=opt_inputs)\n",
      "[INFO 11-08 09:11:25] ax.service.ax_client: Generated new trial 299 with parameters {'path_penalty': 4.351136, 'loss_penalty': 0.0, 'score_factor': 1.582014, 'num_trials': 800} using model GPEI.\n",
      "[INFO 11-08 09:12:10] ax.service.ax_client: Completed trial 299 with data: {'objective': (49474.16, None)}.\n"
     ]
    },
    {
     "name": "stdout",
     "output_type": "stream",
     "text": [
      "49474.16 0.56\n"
     ]
    },
    {
     "name": "stderr",
     "output_type": "stream",
     "text": [
      "/home/kylemcmaster/.local/lib/python3.10/site-packages/linear_operator/utils/cholesky.py:40: NumericalWarning: A not p.d., added jitter of 1.0e-08 to the diagonal\n",
      "  warnings.warn(\n",
      "[INFO 11-08 09:12:25] ax.service.ax_client: Generated new trial 300 with parameters {'path_penalty': 6.646406, 'loss_penalty': 3.530405, 'score_factor': 1.852579, 'num_trials': 0} using model GPEI.\n",
      "[INFO 11-08 09:13:07] ax.service.ax_client: Completed trial 300 with data: {'objective': (45908.96, None)}.\n"
     ]
    },
    {
     "name": "stdout",
     "output_type": "stream",
     "text": [
      "45908.96 0.52\n"
     ]
    },
    {
     "name": "stderr",
     "output_type": "stream",
     "text": [
      "/home/kylemcmaster/.local/lib/python3.10/site-packages/linear_operator/utils/cholesky.py:40: NumericalWarning: A not p.d., added jitter of 1.0e-08 to the diagonal\n",
      "  warnings.warn(\n",
      "[INFO 11-08 09:13:24] ax.service.ax_client: Generated new trial 301 with parameters {'path_penalty': 5.249825, 'loss_penalty': 3.965225, 'score_factor': 1.904385, 'num_trials': 0} using model GPEI.\n",
      "[INFO 11-08 09:14:06] ax.service.ax_client: Completed trial 301 with data: {'objective': (45685.2, None)}.\n"
     ]
    },
    {
     "name": "stdout",
     "output_type": "stream",
     "text": [
      "45685.2 0.5\n"
     ]
    },
    {
     "name": "stderr",
     "output_type": "stream",
     "text": [
      "/home/kylemcmaster/.local/lib/python3.10/site-packages/linear_operator/utils/cholesky.py:40: NumericalWarning: A not p.d., added jitter of 1.0e-08 to the diagonal\n",
      "  warnings.warn(\n",
      "/home/kylemcmaster/.local/lib/python3.10/site-packages/botorch/optim/optimize.py:568: RuntimeWarning: Optimization failed in `gen_candidates_scipy` with the following warning(s):\n",
      "[OptimizationWarning('Optimization failed within `scipy.optimize.minimize` with status 2 and message ABNORMAL_TERMINATION_IN_LNSRCH.')]\n",
      "Trying again with a new set of initial conditions.\n",
      "  return _optimize_acqf_batch(opt_inputs=opt_inputs)\n",
      "[INFO 11-08 09:14:32] ax.service.ax_client: Generated new trial 302 with parameters {'path_penalty': 5.604289, 'loss_penalty': 0.0, 'score_factor': 2.0, 'num_trials': 800} using model GPEI.\n",
      "[INFO 11-08 09:15:17] ax.service.ax_client: Completed trial 302 with data: {'objective': (47312.8, None)}.\n"
     ]
    },
    {
     "name": "stdout",
     "output_type": "stream",
     "text": [
      "47312.8 0.44\n"
     ]
    },
    {
     "name": "stderr",
     "output_type": "stream",
     "text": [
      "/home/kylemcmaster/.local/lib/python3.10/site-packages/linear_operator/utils/cholesky.py:40: NumericalWarning: A not p.d., added jitter of 1.0e-08 to the diagonal\n",
      "  warnings.warn(\n",
      "[INFO 11-08 09:15:33] ax.service.ax_client: Generated new trial 303 with parameters {'path_penalty': 5.619755, 'loss_penalty': 4.213794, 'score_factor': 1.943932, 'num_trials': 0} using model GPEI.\n",
      "[INFO 11-08 09:16:21] ax.service.ax_client: Completed trial 303 with data: {'objective': (49888.4, None)}.\n"
     ]
    },
    {
     "name": "stdout",
     "output_type": "stream",
     "text": [
      "49888.4 0.52\n"
     ]
    },
    {
     "name": "stderr",
     "output_type": "stream",
     "text": [
      "/home/kylemcmaster/.local/lib/python3.10/site-packages/linear_operator/utils/cholesky.py:40: NumericalWarning: A not p.d., added jitter of 1.0e-08 to the diagonal\n",
      "  warnings.warn(\n",
      "[INFO 11-08 09:16:37] ax.service.ax_client: Generated new trial 304 with parameters {'path_penalty': 5.543472, 'loss_penalty': 0.0, 'score_factor': 1.775143, 'num_trials': 0} using model GPEI.\n",
      "[INFO 11-08 09:17:15] ax.service.ax_client: Completed trial 304 with data: {'objective': (40092.88, None)}.\n"
     ]
    },
    {
     "name": "stdout",
     "output_type": "stream",
     "text": [
      "40092.88 0.34\n"
     ]
    },
    {
     "name": "stderr",
     "output_type": "stream",
     "text": [
      "/home/kylemcmaster/.local/lib/python3.10/site-packages/linear_operator/utils/cholesky.py:40: NumericalWarning: A not p.d., added jitter of 1.0e-08 to the diagonal\n",
      "  warnings.warn(\n",
      "[INFO 11-08 09:17:29] ax.service.ax_client: Generated new trial 305 with parameters {'path_penalty': 2.62144, 'loss_penalty': 10.0, 'score_factor': 0.915293, 'num_trials': 800} using model GPEI.\n",
      "[INFO 11-08 09:18:13] ax.service.ax_client: Completed trial 305 with data: {'objective': (46836.0, None)}.\n"
     ]
    },
    {
     "name": "stdout",
     "output_type": "stream",
     "text": [
      "46836.0 0.5\n"
     ]
    },
    {
     "name": "stderr",
     "output_type": "stream",
     "text": [
      "/home/kylemcmaster/.local/lib/python3.10/site-packages/linear_operator/utils/cholesky.py:40: NumericalWarning: A not p.d., added jitter of 1.0e-08 to the diagonal\n",
      "  warnings.warn(\n",
      "/home/kylemcmaster/.local/lib/python3.10/site-packages/botorch/optim/optimize.py:568: RuntimeWarning: Optimization failed in `gen_candidates_scipy` with the following warning(s):\n",
      "[OptimizationWarning('Optimization failed within `scipy.optimize.minimize` with status 2 and message ABNORMAL_TERMINATION_IN_LNSRCH.'), NumericalWarning('A not p.d., added jitter of 1.0e-08 to the diagonal'), NumericalWarning('A not p.d., added jitter of 1.0e-07 to the diagonal'), NumericalWarning('A not p.d., added jitter of 1.0e-06 to the diagonal'), NumericalWarning('A not p.d., added jitter of 1.0e-05 to the diagonal'), NumericalWarning('A not p.d., added jitter of 1.0e-04 to the diagonal'), NumericalWarning('A not p.d., added jitter of 1.0e-03 to the diagonal'), BotorchWarning('Low-rank cholesky updates failed due NaNs or due to an ill-conditioned covariance matrix. Falling back to standard sampling.'), OptimizationWarning('Optimization failed within `scipy.optimize.minimize` with status 2 and message ABNORMAL_TERMINATION_IN_LNSRCH.'), NumericalWarning('A not p.d., added jitter of 1.0e-08 to the diagonal'), NumericalWarning('A not p.d., added jitter of 1.0e-08 to the diagonal'), NumericalWarning('A not p.d., added jitter of 1.0e-07 to the diagonal'), NumericalWarning('A not p.d., added jitter of 1.0e-06 to the diagonal'), NumericalWarning('A not p.d., added jitter of 1.0e-05 to the diagonal'), NumericalWarning('A not p.d., added jitter of 1.0e-04 to the diagonal')]\n",
      "Trying again with a new set of initial conditions.\n",
      "  return _optimize_acqf_batch(opt_inputs=opt_inputs)\n",
      "/home/kylemcmaster/.local/lib/python3.10/site-packages/botorch/optim/optimize.py:568: RuntimeWarning: Optimization failed on the second try, after generating a new set of initial conditions.\n",
      "  return _optimize_acqf_batch(opt_inputs=opt_inputs)\n",
      "[INFO 11-08 09:18:34] ax.service.ax_client: Generated new trial 306 with parameters {'path_penalty': 3.790123, 'loss_penalty': 3.781091, 'score_factor': 1.343254, 'num_trials': 0} using model GPEI.\n",
      "[INFO 11-08 09:19:19] ax.service.ax_client: Completed trial 306 with data: {'objective': (50911.92, None)}.\n"
     ]
    },
    {
     "name": "stdout",
     "output_type": "stream",
     "text": [
      "50911.92 0.58\n"
     ]
    },
    {
     "name": "stderr",
     "output_type": "stream",
     "text": [
      "/home/kylemcmaster/.local/lib/python3.10/site-packages/linear_operator/utils/cholesky.py:40: NumericalWarning: A not p.d., added jitter of 1.0e-08 to the diagonal\n",
      "  warnings.warn(\n",
      "/home/kylemcmaster/.local/lib/python3.10/site-packages/botorch/optim/optimize.py:568: RuntimeWarning: Optimization failed in `gen_candidates_scipy` with the following warning(s):\n",
      "[OptimizationWarning('Optimization failed within `scipy.optimize.minimize` with status 2 and message ABNORMAL_TERMINATION_IN_LNSRCH.')]\n",
      "Trying again with a new set of initial conditions.\n",
      "  return _optimize_acqf_batch(opt_inputs=opt_inputs)\n",
      "[INFO 11-08 09:19:45] ax.service.ax_client: Generated new trial 307 with parameters {'path_penalty': 2.917795, 'loss_penalty': 5.629879, 'score_factor': 1.040193, 'num_trials': 0} using model GPEI.\n",
      "[INFO 11-08 09:20:31] ax.service.ax_client: Completed trial 307 with data: {'objective': (52184.4, None)}.\n"
     ]
    },
    {
     "name": "stdout",
     "output_type": "stream",
     "text": [
      "52184.4 0.58\n"
     ]
    },
    {
     "name": "stderr",
     "output_type": "stream",
     "text": [
      "/home/kylemcmaster/.local/lib/python3.10/site-packages/linear_operator/utils/cholesky.py:40: NumericalWarning: A not p.d., added jitter of 1.0e-08 to the diagonal\n",
      "  warnings.warn(\n",
      "[INFO 11-08 09:20:46] ax.service.ax_client: Generated new trial 308 with parameters {'path_penalty': 3.584409, 'loss_penalty': 7.808649, 'score_factor': 1.243846, 'num_trials': 0} using model GPEI.\n",
      "[INFO 11-08 09:21:30] ax.service.ax_client: Completed trial 308 with data: {'objective': (49306.96, None)}.\n"
     ]
    },
    {
     "name": "stdout",
     "output_type": "stream",
     "text": [
      "49306.96 0.5\n"
     ]
    },
    {
     "name": "stderr",
     "output_type": "stream",
     "text": [
      "/home/kylemcmaster/.local/lib/python3.10/site-packages/linear_operator/utils/cholesky.py:40: NumericalWarning: A not p.d., added jitter of 1.0e-08 to the diagonal\n",
      "  warnings.warn(\n",
      "/home/kylemcmaster/.local/lib/python3.10/site-packages/botorch/optim/optimize.py:568: RuntimeWarning: Optimization failed in `gen_candidates_scipy` with the following warning(s):\n",
      "[NumericalWarning('A not p.d., added jitter of 1.0e-08 to the diagonal'), NumericalWarning('A not p.d., added jitter of 1.0e-07 to the diagonal'), NumericalWarning('A not p.d., added jitter of 1.0e-06 to the diagonal'), NumericalWarning('A not p.d., added jitter of 1.0e-05 to the diagonal'), NumericalWarning('A not p.d., added jitter of 1.0e-04 to the diagonal'), NumericalWarning('A not p.d., added jitter of 1.0e-03 to the diagonal'), BotorchWarning('Low-rank cholesky updates failed due NaNs or due to an ill-conditioned covariance matrix. Falling back to standard sampling.'), OptimizationWarning('Optimization failed within `scipy.optimize.minimize` with status 2 and message ABNORMAL_TERMINATION_IN_LNSRCH.'), NumericalWarning('A not p.d., added jitter of 1.0e-08 to the diagonal'), NumericalWarning('A not p.d., added jitter of 1.0e-07 to the diagonal'), NumericalWarning('A not p.d., added jitter of 1.0e-06 to the diagonal'), NumericalWarning('A not p.d., added jitter of 1.0e-05 to the diagonal'), NumericalWarning('A not p.d., added jitter of 1.0e-04 to the diagonal'), NumericalWarning('A not p.d., added jitter of 1.0e-03 to the diagonal'), BotorchWarning('Low-rank cholesky updates failed due NaNs or due to an ill-conditioned covariance matrix. Falling back to standard sampling.'), NumericalWarning('A not p.d., added jitter of 1.0e-08 to the diagonal'), NumericalWarning('A not p.d., added jitter of 1.0e-07 to the diagonal'), NumericalWarning('A not p.d., added jitter of 1.0e-06 to the diagonal'), NumericalWarning('A not p.d., added jitter of 1.0e-05 to the diagonal'), NumericalWarning('A not p.d., added jitter of 1.0e-04 to the diagonal'), NumericalWarning('A not p.d., added jitter of 1.0e-03 to the diagonal'), BotorchWarning('Low-rank cholesky updates failed due NaNs or due to an ill-conditioned covariance matrix. Falling back to standard sampling.'), OptimizationWarning('Optimization failed within `scipy.optimize.minimize` with status 2 and message ABNORMAL_TERMINATION_IN_LNSRCH.'), NumericalWarning('A not p.d., added jitter of 1.0e-08 to the diagonal'), NumericalWarning('A not p.d., added jitter of 1.0e-07 to the diagonal'), NumericalWarning('A not p.d., added jitter of 1.0e-06 to the diagonal'), NumericalWarning('A not p.d., added jitter of 1.0e-05 to the diagonal'), NumericalWarning('A not p.d., added jitter of 1.0e-04 to the diagonal'), NumericalWarning('A not p.d., added jitter of 1.0e-03 to the diagonal'), OptimizationWarning('Optimization failed within `scipy.optimize.minimize` with status 2 and message ABNORMAL_TERMINATION_IN_LNSRCH.')]\n",
      "Trying again with a new set of initial conditions.\n",
      "  return _optimize_acqf_batch(opt_inputs=opt_inputs)\n",
      "/home/kylemcmaster/.local/lib/python3.10/site-packages/botorch/optim/optimize.py:568: RuntimeWarning: Optimization failed on the second try, after generating a new set of initial conditions.\n",
      "  return _optimize_acqf_batch(opt_inputs=opt_inputs)\n",
      "/home/kylemcmaster/.local/lib/python3.10/site-packages/linear_operator/utils/cholesky.py:40: NumericalWarning: A not p.d., added jitter of 1.0e-08 to the diagonal\n",
      "  warnings.warn(\n",
      "/home/kylemcmaster/.local/lib/python3.10/site-packages/linear_operator/utils/cholesky.py:40: NumericalWarning: A not p.d., added jitter of 1.0e-07 to the diagonal\n",
      "  warnings.warn(\n",
      "/home/kylemcmaster/.local/lib/python3.10/site-packages/linear_operator/utils/cholesky.py:40: NumericalWarning: A not p.d., added jitter of 1.0e-06 to the diagonal\n",
      "  warnings.warn(\n",
      "/home/kylemcmaster/.local/lib/python3.10/site-packages/linear_operator/utils/cholesky.py:40: NumericalWarning: A not p.d., added jitter of 1.0e-05 to the diagonal\n",
      "  warnings.warn(\n",
      "/home/kylemcmaster/.local/lib/python3.10/site-packages/linear_operator/utils/cholesky.py:40: NumericalWarning: A not p.d., added jitter of 1.0e-04 to the diagonal\n",
      "  warnings.warn(\n",
      "/home/kylemcmaster/.local/lib/python3.10/site-packages/linear_operator/utils/cholesky.py:40: NumericalWarning: A not p.d., added jitter of 1.0e-03 to the diagonal\n",
      "  warnings.warn(\n",
      "/home/kylemcmaster/.local/lib/python3.10/site-packages/botorch/acquisition/cached_cholesky.py:148: BotorchWarning: Low-rank cholesky updates failed due NaNs or due to an ill-conditioned covariance matrix. Falling back to standard sampling.\n",
      "  warnings.warn(\n",
      "[INFO 11-08 09:21:55] ax.service.ax_client: Generated new trial 309 with parameters {'path_penalty': 5.766073, 'loss_penalty': 6.182535, 'score_factor': 2.0, 'num_trials': 0} using model GPEI.\n",
      "[INFO 11-08 09:22:40] ax.service.ax_client: Completed trial 309 with data: {'objective': (48873.68, None)}.\n"
     ]
    },
    {
     "name": "stdout",
     "output_type": "stream",
     "text": [
      "48873.68 0.54\n"
     ]
    },
    {
     "name": "stderr",
     "output_type": "stream",
     "text": [
      "/home/kylemcmaster/.local/lib/python3.10/site-packages/linear_operator/utils/cholesky.py:40: NumericalWarning: A not p.d., added jitter of 1.0e-08 to the diagonal\n",
      "  warnings.warn(\n",
      "[INFO 11-08 09:22:53] ax.service.ax_client: Generated new trial 310 with parameters {'path_penalty': 3.307368, 'loss_penalty': 10.0, 'score_factor': 1.14295, 'num_trials': 800} using model GPEI.\n",
      "[INFO 11-08 09:23:40] ax.service.ax_client: Completed trial 310 with data: {'objective': (50554.24, None)}.\n"
     ]
    },
    {
     "name": "stdout",
     "output_type": "stream",
     "text": [
      "50554.24 0.5\n",
      "The best parameters are: {'path_penalty': 5.601619493317946, 'loss_penalty': 5.574608708064114, 'score_factor': 1.9761744714927936, 'num_trials': 800}\n",
      "with score ({'objective': 47213.048092916455}, {'objective': {'objective': 162472.20475758106}})\n"
     ]
    },
    {
     "name": "stderr",
     "output_type": "stream",
     "text": [
      "/home/kylemcmaster/.local/lib/python3.10/site-packages/linear_operator/utils/cholesky.py:40: NumericalWarning: A not p.d., added jitter of 1.0e-08 to the diagonal\n",
      "  warnings.warn(\n",
      "[INFO 11-08 09:23:58] ax.service.ax_client: Generated new trial 311 with parameters {'path_penalty': 3.378196, 'loss_penalty': 10.0, 'score_factor': 1.205022, 'num_trials': 0} using model GPEI.\n",
      "[INFO 11-08 09:24:48] ax.service.ax_client: Completed trial 311 with data: {'objective': (55324.64, None)}.\n"
     ]
    },
    {
     "name": "stdout",
     "output_type": "stream",
     "text": [
      "55324.64 0.6\n"
     ]
    },
    {
     "name": "stderr",
     "output_type": "stream",
     "text": [
      "/home/kylemcmaster/.local/lib/python3.10/site-packages/linear_operator/utils/cholesky.py:40: NumericalWarning: A not p.d., added jitter of 1.0e-08 to the diagonal\n",
      "  warnings.warn(\n",
      "[INFO 11-08 09:25:03] ax.service.ax_client: Generated new trial 312 with parameters {'path_penalty': 3.211613, 'loss_penalty': 4.937898, 'score_factor': 1.103472, 'num_trials': 0} using model GPEI.\n",
      "[INFO 11-08 09:25:49] ax.service.ax_client: Completed trial 312 with data: {'objective': (46502.08, None)}.\n"
     ]
    },
    {
     "name": "stdout",
     "output_type": "stream",
     "text": [
      "46502.08 0.46\n"
     ]
    },
    {
     "name": "stderr",
     "output_type": "stream",
     "text": [
      "/home/kylemcmaster/.local/lib/python3.10/site-packages/linear_operator/utils/cholesky.py:40: NumericalWarning: A not p.d., added jitter of 1.0e-08 to the diagonal\n",
      "  warnings.warn(\n",
      "[INFO 11-08 09:26:03] ax.service.ax_client: Generated new trial 313 with parameters {'path_penalty': 2.745297, 'loss_penalty': 0.0, 'score_factor': 1.126192, 'num_trials': 0} using model GPEI.\n",
      "[INFO 11-08 09:26:45] ax.service.ax_client: Completed trial 313 with data: {'objective': (42469.68, None)}.\n"
     ]
    },
    {
     "name": "stdout",
     "output_type": "stream",
     "text": [
      "42469.68 0.4\n"
     ]
    },
    {
     "name": "stderr",
     "output_type": "stream",
     "text": [
      "/home/kylemcmaster/.local/lib/python3.10/site-packages/linear_operator/utils/cholesky.py:40: NumericalWarning: A not p.d., added jitter of 1.0e-08 to the diagonal\n",
      "  warnings.warn(\n",
      "/home/kylemcmaster/.local/lib/python3.10/site-packages/botorch/optim/optimize.py:568: RuntimeWarning: Optimization failed in `gen_candidates_scipy` with the following warning(s):\n",
      "[OptimizationWarning('Optimization failed within `scipy.optimize.minimize` with status 2 and message ABNORMAL_TERMINATION_IN_LNSRCH.'), OptimizationWarning('Optimization failed within `scipy.optimize.minimize` with status 2 and message ABNORMAL_TERMINATION_IN_LNSRCH.'), OptimizationWarning('Optimization failed within `scipy.optimize.minimize` with status 2 and message ABNORMAL_TERMINATION_IN_LNSRCH.')]\n",
      "Trying again with a new set of initial conditions.\n",
      "  return _optimize_acqf_batch(opt_inputs=opt_inputs)\n",
      "/home/kylemcmaster/.local/lib/python3.10/site-packages/botorch/optim/optimize.py:568: RuntimeWarning: Optimization failed on the second try, after generating a new set of initial conditions.\n",
      "  return _optimize_acqf_batch(opt_inputs=opt_inputs)\n",
      "/home/kylemcmaster/.local/lib/python3.10/site-packages/linear_operator/utils/cholesky.py:40: NumericalWarning: A not p.d., added jitter of 1.0e-08 to the diagonal\n",
      "  warnings.warn(\n",
      "[INFO 11-08 09:27:11] ax.service.ax_client: Generated new trial 314 with parameters {'path_penalty': 2.886182, 'loss_penalty': 6.433585, 'score_factor': 1.076234, 'num_trials': 379} using model GPEI.\n",
      "[INFO 11-08 09:27:55] ax.service.ax_client: Completed trial 314 with data: {'objective': (46959.12, None)}.\n"
     ]
    },
    {
     "name": "stdout",
     "output_type": "stream",
     "text": [
      "46959.12 0.44\n"
     ]
    },
    {
     "name": "stderr",
     "output_type": "stream",
     "text": [
      "/home/kylemcmaster/.local/lib/python3.10/site-packages/linear_operator/utils/cholesky.py:40: NumericalWarning: A not p.d., added jitter of 1.0e-08 to the diagonal\n",
      "  warnings.warn(\n",
      "[INFO 11-08 09:28:14] ax.service.ax_client: Generated new trial 315 with parameters {'path_penalty': 3.160695, 'loss_penalty': 6.670633, 'score_factor': 1.113388, 'num_trials': 800} using model GPEI.\n",
      "[INFO 11-08 09:28:59] ax.service.ax_client: Completed trial 315 with data: {'objective': (48155.52, None)}.\n"
     ]
    },
    {
     "name": "stdout",
     "output_type": "stream",
     "text": [
      "48155.52 0.5\n"
     ]
    },
    {
     "name": "stderr",
     "output_type": "stream",
     "text": [
      "/home/kylemcmaster/.local/lib/python3.10/site-packages/linear_operator/utils/cholesky.py:40: NumericalWarning: A not p.d., added jitter of 1.0e-08 to the diagonal\n",
      "  warnings.warn(\n",
      "[INFO 11-08 09:29:16] ax.service.ax_client: Generated new trial 316 with parameters {'path_penalty': 3.383187, 'loss_penalty': 4.136291, 'score_factor': 1.322349, 'num_trials': 800} using model GPEI.\n",
      "[INFO 11-08 09:30:03] ax.service.ax_client: Completed trial 316 with data: {'objective': (50967.36, None)}.\n"
     ]
    },
    {
     "name": "stdout",
     "output_type": "stream",
     "text": [
      "50967.36 0.56\n"
     ]
    },
    {
     "name": "stderr",
     "output_type": "stream",
     "text": [
      "/home/kylemcmaster/.local/lib/python3.10/site-packages/linear_operator/utils/cholesky.py:40: NumericalWarning: A not p.d., added jitter of 1.0e-08 to the diagonal\n",
      "  warnings.warn(\n",
      "[INFO 11-08 09:30:20] ax.service.ax_client: Generated new trial 317 with parameters {'path_penalty': 4.011548, 'loss_penalty': 0.661822, 'score_factor': 1.741848, 'num_trials': 0} using model GPEI.\n",
      "[INFO 11-08 09:31:07] ax.service.ax_client: Completed trial 317 with data: {'objective': (49436.48, None)}.\n"
     ]
    },
    {
     "name": "stdout",
     "output_type": "stream",
     "text": [
      "49436.48 0.5\n"
     ]
    },
    {
     "name": "stderr",
     "output_type": "stream",
     "text": [
      "/home/kylemcmaster/.local/lib/python3.10/site-packages/linear_operator/utils/cholesky.py:40: NumericalWarning: A not p.d., added jitter of 1.0e-08 to the diagonal\n",
      "  warnings.warn(\n",
      "/home/kylemcmaster/.local/lib/python3.10/site-packages/botorch/optim/optimize.py:568: RuntimeWarning: Optimization failed in `gen_candidates_scipy` with the following warning(s):\n",
      "[NumericalWarning('A not p.d., added jitter of 1.0e-08 to the diagonal'), NumericalWarning('A not p.d., added jitter of 1.0e-07 to the diagonal'), NumericalWarning('A not p.d., added jitter of 1.0e-06 to the diagonal'), OptimizationWarning('Optimization failed within `scipy.optimize.minimize` with status 2 and message ABNORMAL_TERMINATION_IN_LNSRCH.'), NumericalWarning('A not p.d., added jitter of 1.0e-08 to the diagonal'), NumericalWarning('A not p.d., added jitter of 1.0e-07 to the diagonal'), OptimizationWarning('Optimization failed within `scipy.optimize.minimize` with status 2 and message ABNORMAL_TERMINATION_IN_LNSRCH.'), NumericalWarning('A not p.d., added jitter of 1.0e-08 to the diagonal'), NumericalWarning('A not p.d., added jitter of 1.0e-07 to the diagonal')]\n",
      "Trying again with a new set of initial conditions.\n",
      "  return _optimize_acqf_batch(opt_inputs=opt_inputs)\n",
      "/home/kylemcmaster/.local/lib/python3.10/site-packages/botorch/optim/optimize.py:568: RuntimeWarning: Optimization failed on the second try, after generating a new set of initial conditions.\n",
      "  return _optimize_acqf_batch(opt_inputs=opt_inputs)\n",
      "/home/kylemcmaster/.local/lib/python3.10/site-packages/linear_operator/utils/cholesky.py:40: NumericalWarning: A not p.d., added jitter of 1.0e-08 to the diagonal\n",
      "  warnings.warn(\n",
      "[INFO 11-08 09:31:34] ax.service.ax_client: Generated new trial 318 with parameters {'path_penalty': 3.74668, 'loss_penalty': 0.0, 'score_factor': 2.0, 'num_trials': 0} using model GPEI.\n",
      "[INFO 11-08 09:32:13] ax.service.ax_client: Completed trial 318 with data: {'objective': (41195.04, None)}.\n"
     ]
    },
    {
     "name": "stdout",
     "output_type": "stream",
     "text": [
      "41195.04 0.38\n"
     ]
    },
    {
     "name": "stderr",
     "output_type": "stream",
     "text": [
      "/home/kylemcmaster/.local/lib/python3.10/site-packages/linear_operator/utils/cholesky.py:40: NumericalWarning: A not p.d., added jitter of 1.0e-08 to the diagonal\n",
      "  warnings.warn(\n",
      "[INFO 11-08 09:32:28] ax.service.ax_client: Generated new trial 319 with parameters {'path_penalty': 9.091527, 'loss_penalty': 10.0, 'score_factor': 2.0, 'num_trials': 800} using model GPEI.\n",
      "[INFO 11-08 09:33:02] ax.service.ax_client: Completed trial 319 with data: {'objective': (33588.72, None)}.\n"
     ]
    },
    {
     "name": "stdout",
     "output_type": "stream",
     "text": [
      "33588.72 0.24\n"
     ]
    },
    {
     "name": "stderr",
     "output_type": "stream",
     "text": [
      "/home/kylemcmaster/.local/lib/python3.10/site-packages/linear_operator/utils/cholesky.py:40: NumericalWarning: A not p.d., added jitter of 1.0e-08 to the diagonal\n",
      "  warnings.warn(\n",
      "[INFO 11-08 09:33:18] ax.service.ax_client: Generated new trial 320 with parameters {'path_penalty': 2.665182, 'loss_penalty': 3.320144, 'score_factor': 1.040877, 'num_trials': 800} using model GPEI.\n",
      "[INFO 11-08 09:34:05] ax.service.ax_client: Completed trial 320 with data: {'objective': (52770.32, None)}.\n"
     ]
    },
    {
     "name": "stdout",
     "output_type": "stream",
     "text": [
      "52770.32 0.54\n"
     ]
    },
    {
     "name": "stderr",
     "output_type": "stream",
     "text": [
      "/home/kylemcmaster/.local/lib/python3.10/site-packages/linear_operator/utils/cholesky.py:40: NumericalWarning: A not p.d., added jitter of 1.0e-08 to the diagonal\n",
      "  warnings.warn(\n",
      "/home/kylemcmaster/.local/lib/python3.10/site-packages/botorch/optim/optimize.py:568: RuntimeWarning: Optimization failed in `gen_candidates_scipy` with the following warning(s):\n",
      "[NumericalWarning('A not p.d., added jitter of 1.0e-08 to the diagonal'), OptimizationWarning('Optimization failed within `scipy.optimize.minimize` with status 2 and message ABNORMAL_TERMINATION_IN_LNSRCH.')]\n",
      "Trying again with a new set of initial conditions.\n",
      "  return _optimize_acqf_batch(opt_inputs=opt_inputs)\n",
      "/home/kylemcmaster/.local/lib/python3.10/site-packages/botorch/optim/optimize.py:568: RuntimeWarning: Optimization failed on the second try, after generating a new set of initial conditions.\n",
      "  return _optimize_acqf_batch(opt_inputs=opt_inputs)\n",
      "[INFO 11-08 09:34:31] ax.service.ax_client: Generated new trial 321 with parameters {'path_penalty': 2.945507, 'loss_penalty': 10.0, 'score_factor': 1.092244, 'num_trials': 800} using model GPEI.\n",
      "[INFO 11-08 09:35:17] ax.service.ax_client: Completed trial 321 with data: {'objective': (47069.04, None)}.\n"
     ]
    },
    {
     "name": "stdout",
     "output_type": "stream",
     "text": [
      "47069.04 0.46\n"
     ]
    },
    {
     "name": "stderr",
     "output_type": "stream",
     "text": [
      "/home/kylemcmaster/.local/lib/python3.10/site-packages/linear_operator/utils/cholesky.py:40: NumericalWarning: A not p.d., added jitter of 1.0e-08 to the diagonal\n",
      "  warnings.warn(\n",
      "/home/kylemcmaster/.local/lib/python3.10/site-packages/botorch/optim/optimize.py:568: RuntimeWarning: Optimization failed in `gen_candidates_scipy` with the following warning(s):\n",
      "[OptimizationWarning('Optimization failed within `scipy.optimize.minimize` with status 2 and message ABNORMAL_TERMINATION_IN_LNSRCH.'), OptimizationWarning('Optimization failed within `scipy.optimize.minimize` with status 2 and message ABNORMAL_TERMINATION_IN_LNSRCH.'), OptimizationWarning('Optimization failed within `scipy.optimize.minimize` with status 2 and message ABNORMAL_TERMINATION_IN_LNSRCH.')]\n",
      "Trying again with a new set of initial conditions.\n",
      "  return _optimize_acqf_batch(opt_inputs=opt_inputs)\n",
      "/home/kylemcmaster/.local/lib/python3.10/site-packages/botorch/optim/optimize.py:568: RuntimeWarning: Optimization failed on the second try, after generating a new set of initial conditions.\n",
      "  return _optimize_acqf_batch(opt_inputs=opt_inputs)\n",
      "[INFO 11-08 09:35:42] ax.service.ax_client: Generated new trial 322 with parameters {'path_penalty': 2.916669, 'loss_penalty': 10.0, 'score_factor': 1.103932, 'num_trials': 0} using model GPEI.\n",
      "[INFO 11-08 09:36:25] ax.service.ax_client: Completed trial 322 with data: {'objective': (44073.68, None)}.\n"
     ]
    },
    {
     "name": "stdout",
     "output_type": "stream",
     "text": [
      "44073.68 0.42\n"
     ]
    },
    {
     "name": "stderr",
     "output_type": "stream",
     "text": [
      "/home/kylemcmaster/.local/lib/python3.10/site-packages/linear_operator/utils/cholesky.py:40: NumericalWarning: A not p.d., added jitter of 1.0e-08 to the diagonal\n",
      "  warnings.warn(\n",
      "/home/kylemcmaster/.local/lib/python3.10/site-packages/botorch/optim/optimize.py:568: RuntimeWarning: Optimization failed in `gen_candidates_scipy` with the following warning(s):\n",
      "[OptimizationWarning('Optimization failed within `scipy.optimize.minimize` with status 2 and message ABNORMAL_TERMINATION_IN_LNSRCH.'), OptimizationWarning('Optimization failed within `scipy.optimize.minimize` with status 2 and message ABNORMAL_TERMINATION_IN_LNSRCH.'), OptimizationWarning('Optimization failed within `scipy.optimize.minimize` with status 2 and message ABNORMAL_TERMINATION_IN_LNSRCH.')]\n",
      "Trying again with a new set of initial conditions.\n",
      "  return _optimize_acqf_batch(opt_inputs=opt_inputs)\n",
      "/home/kylemcmaster/.local/lib/python3.10/site-packages/botorch/optim/optimize.py:568: RuntimeWarning: Optimization failed on the second try, after generating a new set of initial conditions.\n",
      "  return _optimize_acqf_batch(opt_inputs=opt_inputs)\n",
      "[INFO 11-08 09:36:51] ax.service.ax_client: Generated new trial 323 with parameters {'path_penalty': 3.103261, 'loss_penalty': 2.009016, 'score_factor': 1.130378, 'num_trials': 800} using model GPEI.\n",
      "[INFO 11-08 09:37:34] ax.service.ax_client: Completed trial 323 with data: {'objective': (46622.64, None)}.\n"
     ]
    },
    {
     "name": "stdout",
     "output_type": "stream",
     "text": [
      "46622.64 0.5\n"
     ]
    },
    {
     "name": "stderr",
     "output_type": "stream",
     "text": [
      "/home/kylemcmaster/.local/lib/python3.10/site-packages/linear_operator/utils/cholesky.py:40: NumericalWarning: A not p.d., added jitter of 1.0e-08 to the diagonal\n",
      "  warnings.warn(\n",
      "[INFO 11-08 09:37:49] ax.service.ax_client: Generated new trial 324 with parameters {'path_penalty': 3.108183, 'loss_penalty': 8.853291, 'score_factor': 1.178522, 'num_trials': 0} using model GPEI.\n",
      "[INFO 11-08 09:38:32] ax.service.ax_client: Completed trial 324 with data: {'objective': (44055.12, None)}.\n"
     ]
    },
    {
     "name": "stdout",
     "output_type": "stream",
     "text": [
      "44055.12 0.38\n"
     ]
    },
    {
     "name": "stderr",
     "output_type": "stream",
     "text": [
      "/home/kylemcmaster/.local/lib/python3.10/site-packages/linear_operator/utils/cholesky.py:40: NumericalWarning: A not p.d., added jitter of 1.0e-08 to the diagonal\n",
      "  warnings.warn(\n",
      "/home/kylemcmaster/.local/lib/python3.10/site-packages/botorch/optim/optimize.py:568: RuntimeWarning: Optimization failed in `gen_candidates_scipy` with the following warning(s):\n",
      "[OptimizationWarning('Optimization failed within `scipy.optimize.minimize` with status 2 and message ABNORMAL_TERMINATION_IN_LNSRCH.'), OptimizationWarning('Optimization failed within `scipy.optimize.minimize` with status 2 and message ABNORMAL_TERMINATION_IN_LNSRCH.'), OptimizationWarning('Optimization failed within `scipy.optimize.minimize` with status 2 and message ABNORMAL_TERMINATION_IN_LNSRCH.')]\n",
      "Trying again with a new set of initial conditions.\n",
      "  return _optimize_acqf_batch(opt_inputs=opt_inputs)\n",
      "/home/kylemcmaster/.local/lib/python3.10/site-packages/botorch/optim/optimize.py:568: RuntimeWarning: Optimization failed on the second try, after generating a new set of initial conditions.\n",
      "  return _optimize_acqf_batch(opt_inputs=opt_inputs)\n",
      "[INFO 11-08 09:38:58] ax.service.ax_client: Generated new trial 325 with parameters {'path_penalty': 2.930027, 'loss_penalty': 6.248558, 'score_factor': 1.028704, 'num_trials': 800} using model GPEI.\n",
      "[INFO 11-08 09:39:40] ax.service.ax_client: Completed trial 325 with data: {'objective': (44034.96, None)}.\n"
     ]
    },
    {
     "name": "stdout",
     "output_type": "stream",
     "text": [
      "44034.96 0.42\n"
     ]
    },
    {
     "name": "stderr",
     "output_type": "stream",
     "text": [
      "/home/kylemcmaster/.local/lib/python3.10/site-packages/linear_operator/utils/cholesky.py:40: NumericalWarning: A not p.d., added jitter of 1.0e-08 to the diagonal\n",
      "  warnings.warn(\n",
      "[INFO 11-08 09:39:57] ax.service.ax_client: Generated new trial 326 with parameters {'path_penalty': 3.003396, 'loss_penalty': 10.0, 'score_factor': 1.184551, 'num_trials': 0} using model GPEI.\n",
      "[INFO 11-08 09:40:41] ax.service.ax_client: Completed trial 326 with data: {'objective': (45061.76, None)}.\n"
     ]
    },
    {
     "name": "stdout",
     "output_type": "stream",
     "text": [
      "45061.76 0.42\n"
     ]
    },
    {
     "name": "stderr",
     "output_type": "stream",
     "text": [
      "/home/kylemcmaster/.local/lib/python3.10/site-packages/linear_operator/utils/cholesky.py:40: NumericalWarning: A not p.d., added jitter of 1.0e-08 to the diagonal\n",
      "  warnings.warn(\n",
      "[INFO 11-08 09:41:00] ax.service.ax_client: Generated new trial 327 with parameters {'path_penalty': 3.500585, 'loss_penalty': 10.0, 'score_factor': 1.194835, 'num_trials': 800} using model GPEI.\n",
      "[INFO 11-08 09:41:45] ax.service.ax_client: Completed trial 327 with data: {'objective': (50604.16, None)}.\n"
     ]
    },
    {
     "name": "stdout",
     "output_type": "stream",
     "text": [
      "50604.16 0.52\n"
     ]
    },
    {
     "name": "stderr",
     "output_type": "stream",
     "text": [
      "/home/kylemcmaster/.local/lib/python3.10/site-packages/linear_operator/utils/cholesky.py:40: NumericalWarning: A not p.d., added jitter of 1.0e-08 to the diagonal\n",
      "  warnings.warn(\n",
      "[INFO 11-08 09:42:05] ax.service.ax_client: Generated new trial 328 with parameters {'path_penalty': 3.27428, 'loss_penalty': 5.264745, 'score_factor': 1.081637, 'num_trials': 800} using model GPEI.\n",
      "[INFO 11-08 09:42:49] ax.service.ax_client: Completed trial 328 with data: {'objective': (47110.8, None)}.\n"
     ]
    },
    {
     "name": "stdout",
     "output_type": "stream",
     "text": [
      "47110.8 0.48\n"
     ]
    },
    {
     "name": "stderr",
     "output_type": "stream",
     "text": [
      "/home/kylemcmaster/.local/lib/python3.10/site-packages/linear_operator/utils/cholesky.py:40: NumericalWarning: A not p.d., added jitter of 1.0e-08 to the diagonal\n",
      "  warnings.warn(\n",
      "[INFO 11-08 09:43:04] ax.service.ax_client: Generated new trial 329 with parameters {'path_penalty': 3.634431, 'loss_penalty': 3.973014, 'score_factor': 1.134347, 'num_trials': 800} using model GPEI.\n",
      "[INFO 11-08 09:43:48] ax.service.ax_client: Completed trial 329 with data: {'objective': (47763.04, None)}.\n"
     ]
    },
    {
     "name": "stdout",
     "output_type": "stream",
     "text": [
      "47763.04 0.48\n",
      "The best parameters are: {'path_penalty': 3.2456769684027593, 'loss_penalty': 10.0, 'score_factor': 1.0632054172647503, 'num_trials': 800}\n",
      "with score ({'objective': 47376.62136251005}, {'objective': {'objective': 232876.60807225382}})\n"
     ]
    }
   ],
   "source": [
    "for i in range(120):\n",
    "    parameters, trial_index = ax_client.get_next_trial()\n",
    "    ax_client.complete_trial(trial_index=trial_index, raw_data=perform_trial(parameters))\n",
    "    if i % 20 == 0:\n",
    "        best_parameters, metrics = ax_client.get_best_parameters()\n",
    "        print(f'The best parameters are: {best_parameters}')\n",
    "        print(f'with score {metrics}')\n",
    "    \n",
    "    \n",
    "best_parameters, metrics = ax_client.get_best_parameters()\n",
    "print(f'The best parameters are: {best_parameters}')\n",
    "print(f'with score {metrics}')"
   ]
  },
  {
   "cell_type": "code",
   "execution_count": null,
   "metadata": {},
   "outputs": [
    {
     "name": "stdout",
     "output_type": "stream",
     "text": [
      "The best parameters are: {'path_penalty': 2.999628696289479, 'loss_penalty': 19.201009878081006, 'score_factor': 1.0465014951786142}\n",
      "with score ({'objective': 51739.62863444732}, {'objective': {'objective': 3426711.0390681396}})\n",
      "    arm_name metric_name      mean  sem  trial_index\n",
      "0        0_0   objective  35135.76  NaN            0\n",
      "1        1_0   objective   2608.24  NaN            1\n",
      "2        2_0   objective  12360.96  NaN            2\n",
      "3        3_0   objective  36827.92  NaN            3\n",
      "4        4_0   objective  50389.92  NaN            4\n",
      "..       ...         ...       ...  ...          ...\n",
      "105    105_0   objective  48540.64  NaN          105\n",
      "106    106_0   objective  46051.68  NaN          106\n",
      "107    107_0   objective  44253.28  NaN          107\n",
      "108    108_0   objective  31815.52  NaN          108\n",
      "109    109_0   objective  52222.00  NaN          109\n",
      "\n",
      "[110 rows x 5 columns]\n",
      "   arm_name metric_name      mean  sem  trial_index\n",
      "42     42_0   objective  59530.24  NaN           42\n",
      "22     22_0   objective  56791.36  NaN           22\n",
      "49     49_0   objective  54211.92  NaN           49\n",
      "37     37_0   objective  54053.52  NaN           37\n",
      "61     61_0   objective  54018.96  NaN           61\n",
      "58     58_0   objective  53848.08  NaN           58\n",
      "68     68_0   objective  53369.20  NaN           68\n",
      "26     26_0   objective  53250.48  NaN           26\n",
      "23     23_0   objective  53098.96  NaN           23\n",
      "21     21_0   objective  52605.36  NaN           21\n"
     ]
    },
    {
     "ename": "KeyError",
     "evalue": "290",
     "output_type": "error",
     "traceback": [
      "\u001b[0;31m---------------------------------------------------------------------------\u001b[0m",
      "\u001b[0;31mKeyError\u001b[0m                                  Traceback (most recent call last)",
      "Cell \u001b[0;32mIn[16], line 9\u001b[0m\n\u001b[1;32m      6\u001b[0m \u001b[38;5;28mprint\u001b[39m(data\u001b[38;5;241m.\u001b[39mdf)\n\u001b[1;32m      7\u001b[0m \u001b[38;5;28mprint\u001b[39m(data\u001b[38;5;241m.\u001b[39mdf\u001b[38;5;241m.\u001b[39msort_values(by\u001b[38;5;241m=\u001b[39m\u001b[38;5;124m'\u001b[39m\u001b[38;5;124mmean\u001b[39m\u001b[38;5;124m'\u001b[39m, ascending\u001b[38;5;241m=\u001b[39m\u001b[38;5;28;01mFalse\u001b[39;00m)\u001b[38;5;241m.\u001b[39mhead(\u001b[38;5;241m10\u001b[39m))\n\u001b[0;32m----> 9\u001b[0m trial_params \u001b[38;5;241m=\u001b[39m \u001b[43max_client\u001b[49m\u001b[38;5;241;43m.\u001b[39;49m\u001b[43mexperiment\u001b[49m\u001b[38;5;241;43m.\u001b[39;49m\u001b[43mtrials\u001b[49m\u001b[43m[\u001b[49m\u001b[38;5;241;43m290\u001b[39;49m\u001b[43m]\u001b[49m\n\u001b[1;32m     10\u001b[0m \u001b[38;5;28mprint\u001b[39m(trial_params)\n",
      "\u001b[0;31mKeyError\u001b[0m: 290"
     ]
    }
   ],
   "source": [
    "best_parameters, metrics = ax_client.get_best_parameters()\n",
    "print(f'The best parameters are: {best_parameters}')\n",
    "print(f'with score {metrics}')\n",
    "\n",
    "data =  ax_client.experiment.fetch_data()\n",
    "print(data.df)\n",
    "print(data.df.sort_values(by='mean', ascending=False).head(10))\n",
    "\n",
    "trial_params = ax_client.experiment.trials[42]\n",
    "print(trial_params)"
   ]
  },
  {
   "cell_type": "code",
   "execution_count": null,
   "metadata": {},
   "outputs": [
    {
     "name": "stdout",
     "output_type": "stream",
     "text": [
      "Trial(experiment_name='optimize Params', index=290, status=TrialStatus.COMPLETED, arm=Arm(name='290_0', parameters={'path_penalty': 3.3034937206974053, 'loss_penalty': 3.0689678841404167, 'score_factor': 1.1410012397734988, 'num_trials': 754}))\n",
      "Trial(experiment_name='optimize Params', index=311, status=TrialStatus.COMPLETED, arm=Arm(name='311_0', parameters={'path_penalty': 3.3781955323633843, 'loss_penalty': 10.0, 'score_factor': 1.2050223824898296, 'num_trials': 0}))\n",
      "Trial(experiment_name='optimize Params', index=149, status=TrialStatus.COMPLETED, arm=Arm(name='149_0', parameters={'path_penalty': 3.4846910016306003, 'loss_penalty': 10.0, 'score_factor': 1.1104202438519803, 'num_trials': 800}))\n"
     ]
    }
   ],
   "source": [
    "trial_params = ax_client.experiment.trials[42]\n",
    "print(trial_params)\n",
    "trial_params = ax_client.experiment.trials[22]\n",
    "print(trial_params)\n",
    "trial_params = ax_client.experiment.trials[49]\n",
    "print(trial_params)"
   ]
  }
 ],
 "metadata": {
  "kernelspec": {
   "display_name": "Python 3",
   "language": "python",
   "name": "python3"
  },
  "language_info": {
   "codemirror_mode": {
    "name": "ipython",
    "version": 3
   },
   "file_extension": ".py",
   "mimetype": "text/x-python",
   "name": "python",
   "nbconvert_exporter": "python",
   "pygments_lexer": "ipython3",
   "version": "3.10.12"
  }
 },
 "nbformat": 4,
 "nbformat_minor": 2
}

{
 "cells": [
  {
   "cell_type": "markdown",
   "metadata": {},
   "source": [
    "Analyze Dataset from overnight runs"
   ]
  },
  {
   "cell_type": "code",
   "execution_count": 5,
   "metadata": {},
   "outputs": [
    {
     "name": "stdout",
     "output_type": "stream",
     "text": [
      "Number of games over 1024: 0.9848484848484849\n",
      "Number of games over 2048: 0.9090909090909091\n",
      "Number of games over 4096: 0.5151515151515151\n",
      "Number of games over 8192: 0.06060606060606061\n",
      "66\n"
     ]
    }
   ],
   "source": [
    "import pandas as pd\n",
    "\n",
    "data = pd.DataFrame([[60424, 4096],\n",
    "[76524, 4096],\n",
    "[37008, 2048],\n",
    "[65964, 4096],\n",
    "[36456, 2048],\n",
    "[3924, 256],\n",
    "[35092, 2048],\n",
    "[123296, 8192],\n",
    "[79392, 4096],\n",
    "[71724, 4096],\n",
    "[36424, 2048],\n",
    "[36116, 2048],\n",
    "[18344, 1024],\n",
    "[77152, 4096],\n",
    "[57040, 4096],\n",
    "[15072, 1024],\n",
    "[76420, 4096],\n",
    "[113608, 8192],\n",
    "[61344, 4096],\n",
    "[79848, 4096],\n",
    "[52092, 4096],\n",
    "[24988, 2048],\n",
    "[80320, 4096],\n",
    "[26460, 2048],\n",
    "[28348, 2048],\n",
    "[24016, 1024],\n",
    "[111924, 8192],\n",
    "[63596, 4096],\n",
    "[60956, 4096],\n",
    "[32592, 2048],\n",
    "[36212, 2048],\n",
    "[57040, 4096],\n",
    "[36524, 2048],\n",
    "[32348, 2048],\n",
    "[16132, 1024],\n",
    "[67820, 4096],\n",
    "[80444, 4096],\n",
    "[15840, 1024],\n",
    "[36460, 2048],\n",
    "[78552, 4096],\n",
    "[72040, 4096],\n",
    "[37204, 2048],\n",
    "[59496, 4096],\n",
    "[70104, 4096],\n",
    "[58016, 4096],\n",
    "[32656, 2048],\n",
    "[27536, 2048],\n",
    "[81744, 4096],\n",
    "[36044, 2048],\n",
    "[34944, 2048],\n",
    "[72424, 4096],\n",
    "[34872, 2048],\n",
    "[47728, 4096],\n",
    "[34840, 2048],\n",
    "[37152, 2048],\n",
    "[60636, 4096],\n",
    "[76804, 4096],\n",
    "[36156, 2048],\n",
    "[78056, 4096],\n",
    "[111888, 8192],\n",
    "[76784, 4096],\n",
    "[34328, 2048],\n",
    "[50228, 4096],\n",
    "[36848, 2048],\n",
    "[32364, 2048],\n",
    "[31480, 2048]],\n",
    "columns=['score', 'max_tile'])\n",
    "\n",
    "num_over_1024 = len(data[data['max_tile']>=1024])\n",
    "num_over_2048 = len(data[data['max_tile']>=2048])\n",
    "num_over_4096 = len(data[data['max_tile']>=4096])\n",
    "num_over_8196 = len(data[data['max_tile']>=8192])\n",
    "\n",
    "print(f'Number of games over 1024: {num_over_1024/len(data)}')\n",
    "print(f'Number of games over 2048: {num_over_2048/len(data)}')\n",
    "print(f'Number of games over 4096: {num_over_4096/len(data)}')\n",
    "print(f'Number of games over 8192: {num_over_8196/len(data)}')\n",
    "print(len(data))"
   ]
  },
  {
   "cell_type": "code",
   "execution_count": 6,
   "metadata": {},
   "outputs": [],
   "source": [
    "from Reporter import LightConcurrentReporter\n",
    "from MarkovDPAI import *\n",
    "import numpy as np\n",
    "\n",
    "def perform_trial(parameters):\n",
    "    path_penalty = parameters.get('path_penalty')\n",
    "    position_penalty = parameters.get('position_penalty')\n",
    "    loss_penalty = parameters.get('loss_penalty')\n",
    "    score_factor = parameters.get('score_factor')\n",
    "\n",
    "    ai_input=MarkovDPAI(ExpectiMax6(path_pen=path_penalty, pos_pen=position_penalty, loss_penalty=loss_penalty, score_factor=score_factor))\n",
    "    r = LightConcurrentReporter(ai_input, 50)\n",
    "    report = pd.DataFrame(r.generate_report(), columns=['score','max_tile'])\n",
    "    print(np.mean(report['score']), len(report[report['max_tile']>=2048])/50.0)\n",
    "    return len(report[report['max_tile']>=2048])/50.0"
   ]
  },
  {
   "cell_type": "code",
   "execution_count": 9,
   "metadata": {},
   "outputs": [
    {
     "name": "stderr",
     "output_type": "stream",
     "text": [
      "[INFO 10-20 09:57:19] ax.service.ax_client: Starting optimization with verbose logging. To disable logging, set the `verbose_logging` argument to `False`. Note that float values in the logs are rounded to 6 decimal points.\n",
      "[INFO 10-20 09:57:19] ax.service.utils.instantiation: Inferred value type of ParameterType.FLOAT for parameter path_penalty. If that is not the expected value type, you can explicitly specify 'value_type' ('int', 'float', 'bool' or 'str') in parameter dict.\n",
      "[INFO 10-20 09:57:19] ax.service.utils.instantiation: Inferred value type of ParameterType.FLOAT for parameter position_penalty. If that is not the expected value type, you can explicitly specify 'value_type' ('int', 'float', 'bool' or 'str') in parameter dict.\n",
      "[INFO 10-20 09:57:19] ax.service.utils.instantiation: Inferred value type of ParameterType.FLOAT for parameter loss_penalty. If that is not the expected value type, you can explicitly specify 'value_type' ('int', 'float', 'bool' or 'str') in parameter dict.\n",
      "[INFO 10-20 09:57:19] ax.service.utils.instantiation: Inferred value type of ParameterType.FLOAT for parameter score_factor. If that is not the expected value type, you can explicitly specify 'value_type' ('int', 'float', 'bool' or 'str') in parameter dict.\n",
      "[INFO 10-20 09:57:19] ax.service.utils.instantiation: Created search space: SearchSpace(parameters=[RangeParameter(name='path_penalty', parameter_type=FLOAT, range=[0.0, 9.0]), RangeParameter(name='position_penalty', parameter_type=FLOAT, range=[0.0, 9.0]), RangeParameter(name='loss_penalty', parameter_type=FLOAT, range=[0.0, 10.0]), RangeParameter(name='score_factor', parameter_type=FLOAT, range=[0.0, 5.0])], parameter_constraints=[]).\n",
      "/home/kylemcmaster/.local/lib/python3.10/site-packages/ax/modelbridge/cross_validation.py:463: UserWarning: Encountered exception in computing model fit quality: RandomModelBridge does not support prediction.\n",
      "  warn(\"Encountered exception in computing model fit quality: \" + str(e))\n",
      "[INFO 10-20 09:57:19] ax.service.ax_client: Generated new trial 0 with parameters {'path_penalty': 7.769071, 'position_penalty': 2.945682, 'loss_penalty': 2.363147, 'score_factor': 1.915493} using model Sobol.\n",
      "[INFO 10-20 10:05:10] ax.service.ax_client: Completed trial 0 with data: {'objective': (0.7, None)}.\n",
      "/home/kylemcmaster/.local/lib/python3.10/site-packages/ax/modelbridge/cross_validation.py:463: UserWarning: Encountered exception in computing model fit quality: RandomModelBridge does not support prediction.\n",
      "  warn(\"Encountered exception in computing model fit quality: \" + str(e))\n",
      "[INFO 10-20 10:05:10] ax.service.ax_client: Generated new trial 1 with parameters {'path_penalty': 1.596618, 'position_penalty': 8.333581, 'loss_penalty': 6.071414, 'score_factor': 4.494957} using model Sobol.\n"
     ]
    },
    {
     "name": "stdout",
     "output_type": "stream",
     "text": [
      "34522.4 0.7\n"
     ]
    },
    {
     "name": "stderr",
     "output_type": "stream",
     "text": [
      "[INFO 10-20 10:09:47] ax.service.ax_client: Completed trial 1 with data: {'objective': (0.24, None)}.\n",
      "/home/kylemcmaster/.local/lib/python3.10/site-packages/ax/modelbridge/cross_validation.py:463: UserWarning: Encountered exception in computing model fit quality: RandomModelBridge does not support prediction.\n",
      "  warn(\"Encountered exception in computing model fit quality: \" + str(e))\n",
      "[INFO 10-20 10:09:47] ax.service.ax_client: Generated new trial 2 with parameters {'path_penalty': 4.209805, 'position_penalty': 2.076866, 'loss_penalty': 3.176201, 'score_factor': 0.485624} using model Sobol.\n"
     ]
    },
    {
     "name": "stdout",
     "output_type": "stream",
     "text": [
      "15397.04 0.24\n"
     ]
    },
    {
     "name": "stderr",
     "output_type": "stream",
     "text": [
      "[INFO 10-20 10:13:54] ax.service.ax_client: Completed trial 2 with data: {'objective': (0.4, None)}.\n",
      "/home/kylemcmaster/.local/lib/python3.10/site-packages/ax/modelbridge/cross_validation.py:463: UserWarning: Encountered exception in computing model fit quality: RandomModelBridge does not support prediction.\n",
      "  warn(\"Encountered exception in computing model fit quality: \" + str(e))\n",
      "[INFO 10-20 10:13:54] ax.service.ax_client: Generated new trial 3 with parameters {'path_penalty': 4.716465, 'position_penalty': 4.704588, 'loss_penalty': 9.623575, 'score_factor': 3.064852} using model Sobol.\n"
     ]
    },
    {
     "name": "stdout",
     "output_type": "stream",
     "text": [
      "18557.36 0.4\n"
     ]
    },
    {
     "name": "stderr",
     "output_type": "stream",
     "text": [
      "[INFO 10-20 10:21:10] ax.service.ax_client: Completed trial 3 with data: {'objective': (0.62, None)}.\n",
      "/home/kylemcmaster/.local/lib/python3.10/site-packages/ax/modelbridge/cross_validation.py:463: UserWarning: Encountered exception in computing model fit quality: RandomModelBridge does not support prediction.\n",
      "  warn(\"Encountered exception in computing model fit quality: \" + str(e))\n",
      "[INFO 10-20 10:21:10] ax.service.ax_client: Generated new trial 4 with parameters {'path_penalty': 5.823245, 'position_penalty': 0.396677, 'loss_penalty': 6.323953, 'score_factor': 3.593726} using model Sobol.\n"
     ]
    },
    {
     "name": "stdout",
     "output_type": "stream",
     "text": [
      "28089.92 0.62\n"
     ]
    },
    {
     "name": "stderr",
     "output_type": "stream",
     "text": [
      "[INFO 10-20 10:28:20] ax.service.ax_client: Completed trial 4 with data: {'objective': (0.6, None)}.\n",
      "/home/kylemcmaster/.local/lib/python3.10/site-packages/ax/modelbridge/cross_validation.py:463: UserWarning: Encountered exception in computing model fit quality: RandomModelBridge does not support prediction.\n",
      "  warn(\"Encountered exception in computing model fit quality: \" + str(e))\n",
      "[INFO 10-20 10:28:20] ax.service.ax_client: Generated new trial 5 with parameters {'path_penalty': 2.960411, 'position_penalty': 6.382236, 'loss_penalty': 0.271938, 'score_factor': 1.01144} using model Sobol.\n"
     ]
    },
    {
     "name": "stdout",
     "output_type": "stream",
     "text": [
      "27761.84 0.6\n"
     ]
    },
    {
     "name": "stderr",
     "output_type": "stream",
     "text": [
      "[INFO 10-20 10:35:07] ax.service.ax_client: Completed trial 5 with data: {'objective': (0.54, None)}.\n",
      "/home/kylemcmaster/.local/lib/python3.10/site-packages/ax/modelbridge/cross_validation.py:463: UserWarning: Encountered exception in computing model fit quality: RandomModelBridge does not support prediction.\n",
      "  warn(\"Encountered exception in computing model fit quality: \" + str(e))\n",
      "[INFO 10-20 10:35:07] ax.service.ax_client: Generated new trial 6 with parameters {'path_penalty': 0.523213, 'position_penalty': 3.500523, 'loss_penalty': 8.001134, 'score_factor': 4.007589} using model Sobol.\n"
     ]
    },
    {
     "name": "stdout",
     "output_type": "stream",
     "text": [
      "28942.08 0.54\n"
     ]
    },
    {
     "name": "stderr",
     "output_type": "stream",
     "text": [
      "[INFO 10-20 10:39:20] ax.service.ax_client: Completed trial 6 with data: {'objective': (0.24, None)}.\n",
      "/home/kylemcmaster/.local/lib/python3.10/site-packages/ax/modelbridge/cross_validation.py:463: UserWarning: Encountered exception in computing model fit quality: RandomModelBridge does not support prediction.\n",
      "  warn(\"Encountered exception in computing model fit quality: \" + str(e))\n",
      "[INFO 10-20 10:39:20] ax.service.ax_client: Generated new trial 7 with parameters {'path_penalty': 8.981249, 'position_penalty': 7.780593, 'loss_penalty': 4.21001, 'score_factor': 1.426301} using model Sobol.\n"
     ]
    },
    {
     "name": "stdout",
     "output_type": "stream",
     "text": [
      "14562.16 0.24\n"
     ]
    },
    {
     "name": "stderr",
     "output_type": "stream",
     "text": [
      "[INFO 10-20 10:44:50] ax.service.ax_client: Completed trial 7 with data: {'objective': (0.52, None)}.\n",
      "/home/kylemcmaster/.local/lib/python3.10/site-packages/ax/modelbridge/cross_validation.py:463: UserWarning: Encountered exception in computing model fit quality: RandomModelBridge does not support prediction.\n",
      "  warn(\"Encountered exception in computing model fit quality: \" + str(e))\n",
      "[INFO 10-20 10:44:50] ax.service.ax_client: Generated new trial 8 with parameters {'path_penalty': 8.102923, 'position_penalty': 1.177418, 'loss_penalty': 8.441754, 'score_factor': 0.919751} using model Sobol.\n"
     ]
    },
    {
     "name": "stdout",
     "output_type": "stream",
     "text": [
      "25711.44 0.52\n"
     ]
    },
    {
     "name": "stderr",
     "output_type": "stream",
     "text": [
      "[INFO 10-20 10:48:27] ax.service.ax_client: Completed trial 8 with data: {'objective': (0.36, None)}.\n",
      "/home/kylemcmaster/.local/lib/python3.10/site-packages/ax/modelbridge/cross_validation.py:463: UserWarning: Encountered exception in computing model fit quality: RandomModelBridge does not support prediction.\n",
      "  warn(\"Encountered exception in computing model fit quality: \" + str(e))\n",
      "[INFO 10-20 10:48:27] ax.service.ax_client: Generated new trial 9 with parameters {'path_penalty': 0.841168, 'position_penalty': 5.616102, 'loss_penalty': 4.96237, 'score_factor': 3.342423} using model Sobol.\n"
     ]
    },
    {
     "name": "stdout",
     "output_type": "stream",
     "text": [
      "17078.24 0.36\n"
     ]
    },
    {
     "name": "stderr",
     "output_type": "stream",
     "text": [
      "[INFO 10-20 10:52:18] ax.service.ax_client: Completed trial 9 with data: {'objective': (0.1, None)}.\n",
      "[WARNING 10-20 10:52:18] ax.modelbridge.base: Status quo status_quo not present in data\n"
     ]
    },
    {
     "name": "stdout",
     "output_type": "stream",
     "text": [
      "11649.76 0.1\n"
     ]
    },
    {
     "name": "stderr",
     "output_type": "stream",
     "text": [
      "[INFO 10-20 10:52:19] ax.service.ax_client: Generated new trial 10 with parameters {'path_penalty': 6.921764, 'position_penalty': 4.991105, 'loss_penalty': 3.830848, 'score_factor': 2.540909} using model GPEI.\n",
      "[INFO 10-20 11:00:09] ax.service.ax_client: Completed trial 10 with data: {'objective': (0.68, None)}.\n"
     ]
    },
    {
     "name": "stdout",
     "output_type": "stream",
     "text": [
      "34940.32 0.68\n"
     ]
    },
    {
     "name": "stderr",
     "output_type": "stream",
     "text": [
      "[INFO 10-20 11:00:10] ax.service.ax_client: Generated new trial 11 with parameters {'path_penalty': 7.439458, 'position_penalty': 2.287895, 'loss_penalty': 0.0, 'score_factor': 2.383274} using model GPEI.\n",
      "[INFO 10-20 11:07:17] ax.service.ax_client: Completed trial 11 with data: {'objective': (0.62, None)}.\n"
     ]
    },
    {
     "name": "stdout",
     "output_type": "stream",
     "text": [
      "28803.6 0.62\n"
     ]
    },
    {
     "name": "stderr",
     "output_type": "stream",
     "text": [
      "[INFO 10-20 11:07:17] ax.service.ax_client: Generated new trial 12 with parameters {'path_penalty': 7.742023, 'position_penalty': 0.0, 'loss_penalty': 2.8133, 'score_factor': 3.716038} using model GPEI.\n",
      "[INFO 10-20 11:14:38] ax.service.ax_client: Completed trial 12 with data: {'objective': (0.64, None)}.\n"
     ]
    },
    {
     "name": "stdout",
     "output_type": "stream",
     "text": [
      "31082.08 0.64\n"
     ]
    },
    {
     "name": "stderr",
     "output_type": "stream",
     "text": [
      "[INFO 10-20 11:14:38] ax.service.ax_client: Generated new trial 13 with parameters {'path_penalty': 7.158578, 'position_penalty': 9.0, 'loss_penalty': 1.984543, 'score_factor': 2.203782} using model GPEI.\n",
      "[INFO 10-20 11:20:42] ax.service.ax_client: Completed trial 13 with data: {'objective': (0.52, None)}.\n"
     ]
    },
    {
     "name": "stdout",
     "output_type": "stream",
     "text": [
      "24639.84 0.52\n"
     ]
    },
    {
     "name": "stderr",
     "output_type": "stream",
     "text": [
      "[INFO 10-20 11:20:43] ax.service.ax_client: Generated new trial 14 with parameters {'path_penalty': 6.033803, 'position_penalty': 6.475792, 'loss_penalty': 7.495942, 'score_factor': 4.919664} using model GPEI.\n",
      "[INFO 10-20 11:27:23] ax.service.ax_client: Completed trial 14 with data: {'objective': (0.58, None)}.\n"
     ]
    },
    {
     "name": "stdout",
     "output_type": "stream",
     "text": [
      "26726.32 0.58\n"
     ]
    },
    {
     "name": "stderr",
     "output_type": "stream",
     "text": [
      "[INFO 10-20 11:27:23] ax.service.ax_client: Generated new trial 15 with parameters {'path_penalty': 7.225433, 'position_penalty': 2.195338, 'loss_penalty': 2.844885, 'score_factor': 0.0} using model GPEI.\n",
      "[INFO 10-20 11:28:15] ax.service.ax_client: Completed trial 15 with data: {'objective': (0.0, None)}.\n"
     ]
    },
    {
     "name": "stdout",
     "output_type": "stream",
     "text": [
      "2846.64 0.0\n"
     ]
    },
    {
     "name": "stderr",
     "output_type": "stream",
     "text": [
      "[INFO 10-20 11:28:15] ax.service.ax_client: Generated new trial 16 with parameters {'path_penalty': 7.627467, 'position_penalty': 1.556747, 'loss_penalty': 8.212683, 'score_factor': 2.442031} using model GPEI.\n",
      "[INFO 10-20 11:36:06] ax.service.ax_client: Completed trial 16 with data: {'objective': (0.68, None)}.\n"
     ]
    },
    {
     "name": "stdout",
     "output_type": "stream",
     "text": [
      "34627.68 0.68\n"
     ]
    },
    {
     "name": "stderr",
     "output_type": "stream",
     "text": [
      "[INFO 10-20 11:36:06] ax.service.ax_client: Generated new trial 17 with parameters {'path_penalty': 6.082772, 'position_penalty': 2.12836, 'loss_penalty': 5.576234, 'score_factor': 2.051431} using model GPEI.\n",
      "[INFO 10-20 11:42:51] ax.service.ax_client: Completed trial 17 with data: {'objective': (0.66, None)}.\n"
     ]
    },
    {
     "name": "stdout",
     "output_type": "stream",
     "text": [
      "30162.8 0.66\n"
     ]
    },
    {
     "name": "stderr",
     "output_type": "stream",
     "text": [
      "[INFO 10-20 11:42:51] ax.service.ax_client: Generated new trial 18 with parameters {'path_penalty': 8.824851, 'position_penalty': 1.658306, 'loss_penalty': 4.063766, 'score_factor': 2.403939} using model GPEI.\n",
      "[INFO 10-20 11:49:05] ax.service.ax_client: Completed trial 18 with data: {'objective': (0.56, None)}.\n"
     ]
    },
    {
     "name": "stdout",
     "output_type": "stream",
     "text": [
      "28358.16 0.56\n"
     ]
    },
    {
     "name": "stderr",
     "output_type": "stream",
     "text": [
      "[INFO 10-20 11:49:06] ax.service.ax_client: Generated new trial 19 with parameters {'path_penalty': 6.916087, 'position_penalty': 5.063317, 'loss_penalty': 10.0, 'score_factor': 3.542694} using model GPEI.\n",
      "[INFO 10-20 11:55:30] ax.service.ax_client: Completed trial 19 with data: {'objective': (0.5, None)}.\n",
      "[WARNING 10-20 11:55:30] ax.modelbridge.base: Status quo status_quo not present in data\n"
     ]
    },
    {
     "name": "stdout",
     "output_type": "stream",
     "text": [
      "24566.4 0.5\n"
     ]
    },
    {
     "name": "stderr",
     "output_type": "stream",
     "text": [
      "/home/kylemcmaster/.local/lib/python3.10/site-packages/ax/utils/stats/model_fit_stats.py:199: RuntimeWarning: divide by zero encountered in divide\n",
      "  return float(np.mean(1.96 * 2 * se_pred / np.abs(y_obs)))\n",
      "/home/kylemcmaster/.local/lib/python3.10/site-packages/ax/utils/stats/model_fit_stats.py:229: RuntimeWarning: divide by zero encountered in scalar divide\n",
      "  return float((np.max(y_obs) - min_y_obs) / min_y_obs)\n"
     ]
    },
    {
     "name": "stdout",
     "output_type": "stream",
     "text": [
      "The best parameters are: {'path_penalty': 7.769070982933044, 'position_penalty': 2.945681869983673, 'loss_penalty': 2.3631465435028076, 'score_factor': 1.9154930114746094}\n",
      "with score ({'objective': 0.6936248310047561}, {'objective': {'objective': 0.0002636204603058724}})\n"
     ]
    }
   ],
   "source": [
    "from ax.service.ax_client import AxClient\n",
    "from ax.modelbridge.registry import Models\n",
    "from ax.modelbridge.generation_strategy import GenerationStrategy, GenerationStep\n",
    "\n",
    "generation_strategy = GenerationStrategy(\n",
    "    steps=[\n",
    "        GenerationStep(model=Models.SOBOL, num_trials=10),\n",
    "        GenerationStep(model=Models.GPEI, num_trials=-1),   # GPEI for the rest of the trials\n",
    "    ]\n",
    ")\n",
    "ax_client = AxClient(generation_strategy=generation_strategy)\n",
    "ax_client.create_experiment(name='optimize Params',\n",
    "                            parameters=[\n",
    "                                {'name': 'path_penalty',\n",
    "                                    'type': 'range',\n",
    "                                    'bounds': [0.0, 9.0]},\n",
    "                                {'name': 'position_penalty',\n",
    "                                    'type': 'range',\n",
    "                                    'bounds': [0.0, 9.0]},\n",
    "                                {'name': 'loss_penalty',\n",
    "                                    'type': 'range',\n",
    "                                    'bounds': [0.0, 10.0]},\n",
    "                                {'name': 'score_factor',\n",
    "                                    'type': 'range',\n",
    "                                    'bounds': [0.0, 5.0]},\n",
    "                            ],\n",
    "                            status_quo={'path_penalty':4.266638760734974,\n",
    "                                        'position_penalty':0,\n",
    "                                        'loss_penalty':8.466460274888114,\n",
    "                                        'score_factor':2.0})\n",
    "\n",
    "for i in range(10):\n",
    "    parameters, trial_index = ax_client.get_next_trial()\n",
    "    ax_client.complete_trial(trial_index=trial_index, raw_data=perform_trial(parameters))\n",
    "\n",
    "\n",
    "for i in range(10):\n",
    "    parameters, trial_index = ax_client.get_next_trial()\n",
    "    ax_client.complete_trial(trial_index=trial_index, raw_data=perform_trial(parameters))\n",
    "\n",
    "best_parameters, metrics = ax_client.get_best_parameters()\n",
    "print(f'The best parameters are: {best_parameters}')\n",
    "print(f'with score {metrics}')"
   ]
  },
  {
   "cell_type": "code",
   "execution_count": 20,
   "metadata": {},
   "outputs": [
    {
     "name": "stderr",
     "output_type": "stream",
     "text": [
      "/home/kylemcmaster/.local/lib/python3.10/site-packages/ax/core/data.py:288: FutureWarning: The behavior of DataFrame concatenation with empty or all-NA entries is deprecated. In a future version, this will no longer exclude empty or all-NA columns when determining the result dtypes. To retain the old behavior, exclude the relevant entries before the concat operation.\n",
      "  return cls(df=pd.concat(dfs, axis=0, sort=True))\n",
      "[INFO 10-21 21:21:22] ax.service.ax_client: Generated new trial 161 with parameters {'path_penalty': 7.516301, 'position_penalty': 9.0, 'loss_penalty': 4.504579, 'score_factor': 3.217935} using model GPEI.\n",
      "[INFO 10-21 21:28:14] ax.service.ax_client: Completed trial 161 with data: {'objective': (0.62, None)}.\n"
     ]
    },
    {
     "name": "stdout",
     "output_type": "stream",
     "text": [
      "27206.24 0.62\n"
     ]
    },
    {
     "name": "stderr",
     "output_type": "stream",
     "text": [
      "/home/kylemcmaster/.local/lib/python3.10/site-packages/ax/core/data.py:288: FutureWarning: The behavior of DataFrame concatenation with empty or all-NA entries is deprecated. In a future version, this will no longer exclude empty or all-NA columns when determining the result dtypes. To retain the old behavior, exclude the relevant entries before the concat operation.\n",
      "  return cls(df=pd.concat(dfs, axis=0, sort=True))\n",
      "[INFO 10-21 21:28:19] ax.service.ax_client: Generated new trial 162 with parameters {'path_penalty': 9.0, 'position_penalty': 0.0, 'loss_penalty': 0.994676, 'score_factor': 4.428855} using model GPEI.\n",
      "[INFO 10-21 21:35:13] ax.service.ax_client: Completed trial 162 with data: {'objective': (0.56, None)}.\n"
     ]
    },
    {
     "name": "stdout",
     "output_type": "stream",
     "text": [
      "25535.76 0.56\n"
     ]
    },
    {
     "name": "stderr",
     "output_type": "stream",
     "text": [
      "/home/kylemcmaster/.local/lib/python3.10/site-packages/ax/core/data.py:288: FutureWarning: The behavior of DataFrame concatenation with empty or all-NA entries is deprecated. In a future version, this will no longer exclude empty or all-NA columns when determining the result dtypes. To retain the old behavior, exclude the relevant entries before the concat operation.\n",
      "  return cls(df=pd.concat(dfs, axis=0, sort=True))\n",
      "[INFO 10-21 21:35:18] ax.service.ax_client: Generated new trial 163 with parameters {'path_penalty': 9.0, 'position_penalty': 0.0, 'loss_penalty': 4.287498, 'score_factor': 3.534618} using model GPEI.\n",
      "[INFO 10-21 21:43:49] ax.service.ax_client: Completed trial 163 with data: {'objective': (0.78, None)}.\n"
     ]
    },
    {
     "name": "stdout",
     "output_type": "stream",
     "text": [
      "36987.2 0.78\n"
     ]
    },
    {
     "name": "stderr",
     "output_type": "stream",
     "text": [
      "/home/kylemcmaster/.local/lib/python3.10/site-packages/ax/core/data.py:288: FutureWarning: The behavior of DataFrame concatenation with empty or all-NA entries is deprecated. In a future version, this will no longer exclude empty or all-NA columns when determining the result dtypes. To retain the old behavior, exclude the relevant entries before the concat operation.\n",
      "  return cls(df=pd.concat(dfs, axis=0, sort=True))\n",
      "[INFO 10-21 21:43:53] ax.service.ax_client: Generated new trial 164 with parameters {'path_penalty': 9.0, 'position_penalty': 0.0, 'loss_penalty': 7.056467, 'score_factor': 3.626421} using model GPEI.\n",
      "[INFO 10-21 21:52:18] ax.service.ax_client: Completed trial 164 with data: {'objective': (0.76, None)}.\n"
     ]
    },
    {
     "name": "stdout",
     "output_type": "stream",
     "text": [
      "36790.08 0.76\n"
     ]
    },
    {
     "name": "stderr",
     "output_type": "stream",
     "text": [
      "/home/kylemcmaster/.local/lib/python3.10/site-packages/ax/core/data.py:288: FutureWarning: The behavior of DataFrame concatenation with empty or all-NA entries is deprecated. In a future version, this will no longer exclude empty or all-NA columns when determining the result dtypes. To retain the old behavior, exclude the relevant entries before the concat operation.\n",
      "  return cls(df=pd.concat(dfs, axis=0, sort=True))\n",
      "/home/kylemcmaster/.local/lib/python3.10/site-packages/botorch/optim/optimize.py:568: RuntimeWarning: Optimization failed in `gen_candidates_scipy` with the following warning(s):\n",
      "[OptimizationWarning('Optimization failed within `scipy.optimize.minimize` with status 2 and message ABNORMAL_TERMINATION_IN_LNSRCH.')]\n",
      "Trying again with a new set of initial conditions.\n",
      "  return _optimize_acqf_batch(opt_inputs=opt_inputs)\n",
      "/home/kylemcmaster/.local/lib/python3.10/site-packages/botorch/optim/optimize.py:568: RuntimeWarning: Optimization failed on the second try, after generating a new set of initial conditions.\n",
      "  return _optimize_acqf_batch(opt_inputs=opt_inputs)\n",
      "[INFO 10-21 21:52:27] ax.service.ax_client: Generated new trial 165 with parameters {'path_penalty': 9.0, 'position_penalty': 0.0, 'loss_penalty': 5.650821, 'score_factor': 3.366348} using model GPEI.\n",
      "[INFO 10-21 22:00:31] ax.service.ax_client: Completed trial 165 with data: {'objective': (0.8, None)}.\n"
     ]
    },
    {
     "name": "stdout",
     "output_type": "stream",
     "text": [
      "33538.56 0.8\n"
     ]
    },
    {
     "name": "stderr",
     "output_type": "stream",
     "text": [
      "/home/kylemcmaster/.local/lib/python3.10/site-packages/ax/core/data.py:288: FutureWarning: The behavior of DataFrame concatenation with empty or all-NA entries is deprecated. In a future version, this will no longer exclude empty or all-NA columns when determining the result dtypes. To retain the old behavior, exclude the relevant entries before the concat operation.\n",
      "  return cls(df=pd.concat(dfs, axis=0, sort=True))\n",
      "[INFO 10-21 22:00:34] ax.service.ax_client: Generated new trial 166 with parameters {'path_penalty': 2.403583, 'position_penalty': 9.0, 'loss_penalty': 8.292311, 'score_factor': 1.025312} using model GPEI.\n",
      "[INFO 10-21 22:06:29] ax.service.ax_client: Completed trial 166 with data: {'objective': (0.46, None)}.\n"
     ]
    },
    {
     "name": "stdout",
     "output_type": "stream",
     "text": [
      "22681.2 0.46\n"
     ]
    },
    {
     "name": "stderr",
     "output_type": "stream",
     "text": [
      "/home/kylemcmaster/.local/lib/python3.10/site-packages/ax/core/data.py:288: FutureWarning: The behavior of DataFrame concatenation with empty or all-NA entries is deprecated. In a future version, this will no longer exclude empty or all-NA columns when determining the result dtypes. To retain the old behavior, exclude the relevant entries before the concat operation.\n",
      "  return cls(df=pd.concat(dfs, axis=0, sort=True))\n",
      "[INFO 10-21 22:06:33] ax.service.ax_client: Generated new trial 167 with parameters {'path_penalty': 8.100434, 'position_penalty': 0.0, 'loss_penalty': 5.526279, 'score_factor': 3.424068} using model GPEI.\n",
      "[INFO 10-21 22:14:23] ax.service.ax_client: Completed trial 167 with data: {'objective': (0.7, None)}.\n"
     ]
    },
    {
     "name": "stdout",
     "output_type": "stream",
     "text": [
      "32136.24 0.7\n"
     ]
    },
    {
     "name": "stderr",
     "output_type": "stream",
     "text": [
      "/home/kylemcmaster/.local/lib/python3.10/site-packages/ax/core/data.py:288: FutureWarning: The behavior of DataFrame concatenation with empty or all-NA entries is deprecated. In a future version, this will no longer exclude empty or all-NA columns when determining the result dtypes. To retain the old behavior, exclude the relevant entries before the concat operation.\n",
      "  return cls(df=pd.concat(dfs, axis=0, sort=True))\n",
      "[INFO 10-21 22:14:30] ax.service.ax_client: Generated new trial 168 with parameters {'path_penalty': 9.0, 'position_penalty': 0.0, 'loss_penalty': 5.559893, 'score_factor': 3.533651} using model GPEI.\n",
      "[INFO 10-21 22:22:51] ax.service.ax_client: Completed trial 168 with data: {'objective': (0.74, None)}.\n"
     ]
    },
    {
     "name": "stdout",
     "output_type": "stream",
     "text": [
      "35777.28 0.74\n"
     ]
    },
    {
     "name": "stderr",
     "output_type": "stream",
     "text": [
      "/home/kylemcmaster/.local/lib/python3.10/site-packages/ax/core/data.py:288: FutureWarning: The behavior of DataFrame concatenation with empty or all-NA entries is deprecated. In a future version, this will no longer exclude empty or all-NA columns when determining the result dtypes. To retain the old behavior, exclude the relevant entries before the concat operation.\n",
      "  return cls(df=pd.concat(dfs, axis=0, sort=True))\n",
      "[INFO 10-21 22:22:55] ax.service.ax_client: Generated new trial 169 with parameters {'path_penalty': 4.768296, 'position_penalty': 0.0, 'loss_penalty': 10.0, 'score_factor': 5.0} using model GPEI.\n",
      "[INFO 10-21 22:28:38] ax.service.ax_client: Completed trial 169 with data: {'objective': (0.4, None)}.\n"
     ]
    },
    {
     "name": "stdout",
     "output_type": "stream",
     "text": [
      "19642.64 0.4\n"
     ]
    },
    {
     "name": "stderr",
     "output_type": "stream",
     "text": [
      "/home/kylemcmaster/.local/lib/python3.10/site-packages/ax/core/data.py:288: FutureWarning: The behavior of DataFrame concatenation with empty or all-NA entries is deprecated. In a future version, this will no longer exclude empty or all-NA columns when determining the result dtypes. To retain the old behavior, exclude the relevant entries before the concat operation.\n",
      "  return cls(df=pd.concat(dfs, axis=0, sort=True))\n",
      "[INFO 10-21 22:28:41] ax.service.ax_client: Generated new trial 170 with parameters {'path_penalty': 9.0, 'position_penalty': 7.508296, 'loss_penalty': 6.314658, 'score_factor': 3.603632} using model GPEI.\n",
      "[INFO 10-21 22:35:53] ax.service.ax_client: Completed trial 170 with data: {'objective': (0.62, None)}.\n"
     ]
    },
    {
     "name": "stdout",
     "output_type": "stream",
     "text": [
      "28912.16 0.62\n"
     ]
    },
    {
     "name": "stderr",
     "output_type": "stream",
     "text": [
      "/home/kylemcmaster/.local/lib/python3.10/site-packages/ax/core/data.py:288: FutureWarning: The behavior of DataFrame concatenation with empty or all-NA entries is deprecated. In a future version, this will no longer exclude empty or all-NA columns when determining the result dtypes. To retain the old behavior, exclude the relevant entries before the concat operation.\n",
      "  return cls(df=pd.concat(dfs, axis=0, sort=True))\n",
      "[INFO 10-21 22:35:58] ax.service.ax_client: Generated new trial 171 with parameters {'path_penalty': 4.151594, 'position_penalty': 0.0, 'loss_penalty': 2.254652, 'score_factor': 1.585998} using model GPEI.\n",
      "[INFO 10-21 22:44:06] ax.service.ax_client: Completed trial 171 with data: {'objective': (0.74, None)}.\n"
     ]
    },
    {
     "name": "stdout",
     "output_type": "stream",
     "text": [
      "36031.92 0.74\n"
     ]
    },
    {
     "name": "stderr",
     "output_type": "stream",
     "text": [
      "/home/kylemcmaster/.local/lib/python3.10/site-packages/ax/core/data.py:288: FutureWarning: The behavior of DataFrame concatenation with empty or all-NA entries is deprecated. In a future version, this will no longer exclude empty or all-NA columns when determining the result dtypes. To retain the old behavior, exclude the relevant entries before the concat operation.\n",
      "  return cls(df=pd.concat(dfs, axis=0, sort=True))\n",
      "[INFO 10-21 22:44:13] ax.service.ax_client: Generated new trial 172 with parameters {'path_penalty': 4.727959, 'position_penalty': 0.0, 'loss_penalty': 6.290022, 'score_factor': 1.645469} using model GPEI.\n",
      "[INFO 10-21 22:50:57] ax.service.ax_client: Completed trial 172 with data: {'objective': (0.62, None)}.\n"
     ]
    },
    {
     "name": "stdout",
     "output_type": "stream",
     "text": [
      "27191.44 0.62\n"
     ]
    },
    {
     "name": "stderr",
     "output_type": "stream",
     "text": [
      "/home/kylemcmaster/.local/lib/python3.10/site-packages/ax/core/data.py:288: FutureWarning: The behavior of DataFrame concatenation with empty or all-NA entries is deprecated. In a future version, this will no longer exclude empty or all-NA columns when determining the result dtypes. To retain the old behavior, exclude the relevant entries before the concat operation.\n",
      "  return cls(df=pd.concat(dfs, axis=0, sort=True))\n",
      "[INFO 10-21 22:51:02] ax.service.ax_client: Generated new trial 173 with parameters {'path_penalty': 9.0, 'position_penalty': 0.0, 'loss_penalty': 6.266726, 'score_factor': 3.244606} using model GPEI.\n",
      "[INFO 10-21 22:58:39] ax.service.ax_client: Completed trial 173 with data: {'objective': (0.74, None)}.\n"
     ]
    },
    {
     "name": "stdout",
     "output_type": "stream",
     "text": [
      "32977.76 0.74\n"
     ]
    },
    {
     "name": "stderr",
     "output_type": "stream",
     "text": [
      "/home/kylemcmaster/.local/lib/python3.10/site-packages/ax/core/data.py:288: FutureWarning: The behavior of DataFrame concatenation with empty or all-NA entries is deprecated. In a future version, this will no longer exclude empty or all-NA columns when determining the result dtypes. To retain the old behavior, exclude the relevant entries before the concat operation.\n",
      "  return cls(df=pd.concat(dfs, axis=0, sort=True))\n",
      "[INFO 10-21 22:58:44] ax.service.ax_client: Generated new trial 174 with parameters {'path_penalty': 8.353299, 'position_penalty': 0.0, 'loss_penalty': 4.834262, 'score_factor': 3.312569} using model GPEI.\n",
      "[INFO 10-21 23:06:29] ax.service.ax_client: Completed trial 174 with data: {'objective': (0.78, None)}.\n"
     ]
    },
    {
     "name": "stdout",
     "output_type": "stream",
     "text": [
      "33887.6 0.78\n"
     ]
    },
    {
     "name": "stderr",
     "output_type": "stream",
     "text": [
      "/home/kylemcmaster/.local/lib/python3.10/site-packages/ax/core/data.py:288: FutureWarning: The behavior of DataFrame concatenation with empty or all-NA entries is deprecated. In a future version, this will no longer exclude empty or all-NA columns when determining the result dtypes. To retain the old behavior, exclude the relevant entries before the concat operation.\n",
      "  return cls(df=pd.concat(dfs, axis=0, sort=True))\n",
      "[INFO 10-21 23:06:33] ax.service.ax_client: Generated new trial 175 with parameters {'path_penalty': 0.0, 'position_penalty': 0.0, 'loss_penalty': 0.0, 'score_factor': 5.0} using model GPEI.\n",
      "[INFO 10-21 23:10:05] ax.service.ax_client: Completed trial 175 with data: {'objective': (0.06, None)}.\n"
     ]
    },
    {
     "name": "stdout",
     "output_type": "stream",
     "text": [
      "10744.88 0.06\n"
     ]
    },
    {
     "name": "stderr",
     "output_type": "stream",
     "text": [
      "/home/kylemcmaster/.local/lib/python3.10/site-packages/ax/core/data.py:288: FutureWarning: The behavior of DataFrame concatenation with empty or all-NA entries is deprecated. In a future version, this will no longer exclude empty or all-NA columns when determining the result dtypes. To retain the old behavior, exclude the relevant entries before the concat operation.\n",
      "  return cls(df=pd.concat(dfs, axis=0, sort=True))\n",
      "[INFO 10-21 23:10:08] ax.service.ax_client: Generated new trial 176 with parameters {'path_penalty': 4.387738, 'position_penalty': 0.0, 'loss_penalty': 10.0, 'score_factor': 3.716145} using model GPEI.\n",
      "[INFO 10-21 23:17:14] ax.service.ax_client: Completed trial 176 with data: {'objective': (0.7, None)}.\n"
     ]
    },
    {
     "name": "stdout",
     "output_type": "stream",
     "text": [
      "29306.4 0.7\n"
     ]
    },
    {
     "name": "stderr",
     "output_type": "stream",
     "text": [
      "/home/kylemcmaster/.local/lib/python3.10/site-packages/ax/core/data.py:288: FutureWarning: The behavior of DataFrame concatenation with empty or all-NA entries is deprecated. In a future version, this will no longer exclude empty or all-NA columns when determining the result dtypes. To retain the old behavior, exclude the relevant entries before the concat operation.\n",
      "  return cls(df=pd.concat(dfs, axis=0, sort=True))\n",
      "[INFO 10-21 23:17:17] ax.service.ax_client: Generated new trial 177 with parameters {'path_penalty': 4.719495, 'position_penalty': 9.0, 'loss_penalty': 10.0, 'score_factor': 3.802641} using model GPEI.\n",
      "[INFO 10-21 23:23:54] ax.service.ax_client: Completed trial 177 with data: {'objective': (0.62, None)}.\n"
     ]
    },
    {
     "name": "stdout",
     "output_type": "stream",
     "text": [
      "26256.24 0.62\n"
     ]
    },
    {
     "name": "stderr",
     "output_type": "stream",
     "text": [
      "/home/kylemcmaster/.local/lib/python3.10/site-packages/ax/core/data.py:288: FutureWarning: The behavior of DataFrame concatenation with empty or all-NA entries is deprecated. In a future version, this will no longer exclude empty or all-NA columns when determining the result dtypes. To retain the old behavior, exclude the relevant entries before the concat operation.\n",
      "  return cls(df=pd.concat(dfs, axis=0, sort=True))\n",
      "[INFO 10-21 23:23:57] ax.service.ax_client: Generated new trial 178 with parameters {'path_penalty': 3.465898, 'position_penalty': 0.0, 'loss_penalty': 10.0, 'score_factor': 1.250712} using model GPEI.\n",
      "[INFO 10-21 23:31:20] ax.service.ax_client: Completed trial 178 with data: {'objective': (0.7, None)}.\n"
     ]
    },
    {
     "name": "stdout",
     "output_type": "stream",
     "text": [
      "33722.96 0.7\n"
     ]
    },
    {
     "name": "stderr",
     "output_type": "stream",
     "text": [
      "/home/kylemcmaster/.local/lib/python3.10/site-packages/ax/core/data.py:288: FutureWarning: The behavior of DataFrame concatenation with empty or all-NA entries is deprecated. In a future version, this will no longer exclude empty or all-NA columns when determining the result dtypes. To retain the old behavior, exclude the relevant entries before the concat operation.\n",
      "  return cls(df=pd.concat(dfs, axis=0, sort=True))\n",
      "[INFO 10-21 23:31:23] ax.service.ax_client: Generated new trial 179 with parameters {'path_penalty': 8.553347, 'position_penalty': 0.0, 'loss_penalty': 10.0, 'score_factor': 3.565665} using model GPEI.\n",
      "[INFO 10-21 23:39:21] ax.service.ax_client: Completed trial 179 with data: {'objective': (0.76, None)}.\n"
     ]
    },
    {
     "name": "stdout",
     "output_type": "stream",
     "text": [
      "35632.88 0.76\n"
     ]
    },
    {
     "name": "stderr",
     "output_type": "stream",
     "text": [
      "/home/kylemcmaster/.local/lib/python3.10/site-packages/ax/core/data.py:288: FutureWarning: The behavior of DataFrame concatenation with empty or all-NA entries is deprecated. In a future version, this will no longer exclude empty or all-NA columns when determining the result dtypes. To retain the old behavior, exclude the relevant entries before the concat operation.\n",
      "  return cls(df=pd.concat(dfs, axis=0, sort=True))\n",
      "[INFO 10-21 23:39:24] ax.service.ax_client: Generated new trial 180 with parameters {'path_penalty': 4.821364, 'position_penalty': 0.0, 'loss_penalty': 10.0, 'score_factor': 3.40736} using model GPEI.\n",
      "[INFO 10-21 23:46:46] ax.service.ax_client: Completed trial 180 with data: {'objective': (0.68, None)}.\n"
     ]
    },
    {
     "name": "stdout",
     "output_type": "stream",
     "text": [
      "31817.36 0.68\n"
     ]
    },
    {
     "name": "stderr",
     "output_type": "stream",
     "text": [
      "/home/kylemcmaster/.local/lib/python3.10/site-packages/ax/core/data.py:288: FutureWarning: The behavior of DataFrame concatenation with empty or all-NA entries is deprecated. In a future version, this will no longer exclude empty or all-NA columns when determining the result dtypes. To retain the old behavior, exclude the relevant entries before the concat operation.\n",
      "  return cls(df=pd.concat(dfs, axis=0, sort=True))\n",
      "[INFO 10-21 23:46:50] ax.service.ax_client: Generated new trial 181 with parameters {'path_penalty': 4.134927, 'position_penalty': 0.0, 'loss_penalty': 0.0, 'score_factor': 3.866494} using model GPEI.\n",
      "[INFO 10-21 23:53:04] ax.service.ax_client: Completed trial 181 with data: {'objective': (0.52, None)}.\n"
     ]
    },
    {
     "name": "stdout",
     "output_type": "stream",
     "text": [
      "22593.04 0.52\n"
     ]
    },
    {
     "name": "stderr",
     "output_type": "stream",
     "text": [
      "/home/kylemcmaster/.local/lib/python3.10/site-packages/ax/core/data.py:288: FutureWarning: The behavior of DataFrame concatenation with empty or all-NA entries is deprecated. In a future version, this will no longer exclude empty or all-NA columns when determining the result dtypes. To retain the old behavior, exclude the relevant entries before the concat operation.\n",
      "  return cls(df=pd.concat(dfs, axis=0, sort=True))\n",
      "[INFO 10-21 23:53:08] ax.service.ax_client: Generated new trial 182 with parameters {'path_penalty': 4.686658, 'position_penalty': 9.0, 'loss_penalty': 1.58561, 'score_factor': 3.517174} using model GPEI.\n",
      "[INFO 10-21 23:59:43] ax.service.ax_client: Completed trial 182 with data: {'objective': (0.58, None)}.\n"
     ]
    },
    {
     "name": "stdout",
     "output_type": "stream",
     "text": [
      "26307.6 0.58\n"
     ]
    },
    {
     "name": "stderr",
     "output_type": "stream",
     "text": [
      "/home/kylemcmaster/.local/lib/python3.10/site-packages/ax/core/data.py:288: FutureWarning: The behavior of DataFrame concatenation with empty or all-NA entries is deprecated. In a future version, this will no longer exclude empty or all-NA columns when determining the result dtypes. To retain the old behavior, exclude the relevant entries before the concat operation.\n",
      "  return cls(df=pd.concat(dfs, axis=0, sort=True))\n",
      "[INFO 10-21 23:59:49] ax.service.ax_client: Generated new trial 183 with parameters {'path_penalty': 9.0, 'position_penalty': 0.0, 'loss_penalty': 7.845835, 'score_factor': 3.494799} using model GPEI.\n",
      "[INFO 10-22 00:07:04] ax.service.ax_client: Completed trial 183 with data: {'objective': (0.64, None)}.\n"
     ]
    },
    {
     "name": "stdout",
     "output_type": "stream",
     "text": [
      "31161.92 0.64\n"
     ]
    },
    {
     "name": "stderr",
     "output_type": "stream",
     "text": [
      "/home/kylemcmaster/.local/lib/python3.10/site-packages/ax/core/data.py:288: FutureWarning: The behavior of DataFrame concatenation with empty or all-NA entries is deprecated. In a future version, this will no longer exclude empty or all-NA columns when determining the result dtypes. To retain the old behavior, exclude the relevant entries before the concat operation.\n",
      "  return cls(df=pd.concat(dfs, axis=0, sort=True))\n",
      "[INFO 10-22 00:07:09] ax.service.ax_client: Generated new trial 184 with parameters {'path_penalty': 9.0, 'position_penalty': 0.0, 'loss_penalty': 9.990328, 'score_factor': 1.682374} using model GPEI.\n",
      "[INFO 10-22 00:13:46] ax.service.ax_client: Completed trial 184 with data: {'objective': (0.68, None)}.\n"
     ]
    },
    {
     "name": "stdout",
     "output_type": "stream",
     "text": [
      "31458.64 0.68\n"
     ]
    },
    {
     "name": "stderr",
     "output_type": "stream",
     "text": [
      "/home/kylemcmaster/.local/lib/python3.10/site-packages/ax/core/data.py:288: FutureWarning: The behavior of DataFrame concatenation with empty or all-NA entries is deprecated. In a future version, this will no longer exclude empty or all-NA columns when determining the result dtypes. To retain the old behavior, exclude the relevant entries before the concat operation.\n",
      "  return cls(df=pd.concat(dfs, axis=0, sort=True))\n",
      "[INFO 10-22 00:13:50] ax.service.ax_client: Generated new trial 185 with parameters {'path_penalty': 8.277279, 'position_penalty': 0.0, 'loss_penalty': 7.067546, 'score_factor': 3.250192} using model GPEI.\n",
      "[INFO 10-22 00:21:23] ax.service.ax_client: Completed trial 185 with data: {'objective': (0.76, None)}.\n"
     ]
    },
    {
     "name": "stdout",
     "output_type": "stream",
     "text": [
      "32112.8 0.76\n"
     ]
    },
    {
     "name": "stderr",
     "output_type": "stream",
     "text": [
      "/home/kylemcmaster/.local/lib/python3.10/site-packages/ax/core/data.py:288: FutureWarning: The behavior of DataFrame concatenation with empty or all-NA entries is deprecated. In a future version, this will no longer exclude empty or all-NA columns when determining the result dtypes. To retain the old behavior, exclude the relevant entries before the concat operation.\n",
      "  return cls(df=pd.concat(dfs, axis=0, sort=True))\n",
      "[INFO 10-22 00:21:27] ax.service.ax_client: Generated new trial 186 with parameters {'path_penalty': 7.447178, 'position_penalty': 0.0, 'loss_penalty': 8.661336, 'score_factor': 1.920944} using model GPEI.\n",
      "[INFO 10-22 00:28:52] ax.service.ax_client: Completed trial 186 with data: {'objective': (0.82, None)}.\n"
     ]
    },
    {
     "name": "stdout",
     "output_type": "stream",
     "text": [
      "34952.32 0.82\n"
     ]
    },
    {
     "name": "stderr",
     "output_type": "stream",
     "text": [
      "/home/kylemcmaster/.local/lib/python3.10/site-packages/ax/core/data.py:288: FutureWarning: The behavior of DataFrame concatenation with empty or all-NA entries is deprecated. In a future version, this will no longer exclude empty or all-NA columns when determining the result dtypes. To retain the old behavior, exclude the relevant entries before the concat operation.\n",
      "  return cls(df=pd.concat(dfs, axis=0, sort=True))\n",
      "[INFO 10-22 00:28:57] ax.service.ax_client: Generated new trial 187 with parameters {'path_penalty': 4.299547, 'position_penalty': 0.195424, 'loss_penalty': 4.809256, 'score_factor': 3.230076} using model GPEI.\n",
      "[INFO 10-22 00:34:41] ax.service.ax_client: Completed trial 187 with data: {'objective': (0.48, None)}.\n"
     ]
    },
    {
     "name": "stdout",
     "output_type": "stream",
     "text": [
      "22684.56 0.48\n"
     ]
    },
    {
     "name": "stderr",
     "output_type": "stream",
     "text": [
      "/home/kylemcmaster/.local/lib/python3.10/site-packages/ax/core/data.py:288: FutureWarning: The behavior of DataFrame concatenation with empty or all-NA entries is deprecated. In a future version, this will no longer exclude empty or all-NA columns when determining the result dtypes. To retain the old behavior, exclude the relevant entries before the concat operation.\n",
      "  return cls(df=pd.concat(dfs, axis=0, sort=True))\n",
      "[INFO 10-22 00:34:46] ax.service.ax_client: Generated new trial 188 with parameters {'path_penalty': 8.755599, 'position_penalty': 0.0, 'loss_penalty': 6.900063, 'score_factor': 2.094439} using model GPEI.\n",
      "[INFO 10-22 00:43:11] ax.service.ax_client: Completed trial 188 with data: {'objective': (0.78, None)}.\n"
     ]
    },
    {
     "name": "stdout",
     "output_type": "stream",
     "text": [
      "42461.92 0.78\n"
     ]
    },
    {
     "name": "stderr",
     "output_type": "stream",
     "text": [
      "/home/kylemcmaster/.local/lib/python3.10/site-packages/ax/core/data.py:288: FutureWarning: The behavior of DataFrame concatenation with empty or all-NA entries is deprecated. In a future version, this will no longer exclude empty or all-NA columns when determining the result dtypes. To retain the old behavior, exclude the relevant entries before the concat operation.\n",
      "  return cls(df=pd.concat(dfs, axis=0, sort=True))\n",
      "[INFO 10-22 00:43:19] ax.service.ax_client: Generated new trial 189 with parameters {'path_penalty': 7.794359, 'position_penalty': 0.0, 'loss_penalty': 10.0, 'score_factor': 1.885033} using model GPEI.\n",
      "[INFO 10-22 00:50:08] ax.service.ax_client: Completed trial 189 with data: {'objective': (0.62, None)}.\n"
     ]
    },
    {
     "name": "stdout",
     "output_type": "stream",
     "text": [
      "31957.92 0.62\n"
     ]
    },
    {
     "name": "stderr",
     "output_type": "stream",
     "text": [
      "/home/kylemcmaster/.local/lib/python3.10/site-packages/ax/core/data.py:288: FutureWarning: The behavior of DataFrame concatenation with empty or all-NA entries is deprecated. In a future version, this will no longer exclude empty or all-NA columns when determining the result dtypes. To retain the old behavior, exclude the relevant entries before the concat operation.\n",
      "  return cls(df=pd.concat(dfs, axis=0, sort=True))\n",
      "[INFO 10-22 00:50:14] ax.service.ax_client: Generated new trial 190 with parameters {'path_penalty': 3.684149, 'position_penalty': 9.0, 'loss_penalty': 10.0, 'score_factor': 4.173669} using model GPEI.\n",
      "[INFO 10-22 00:54:52] ax.service.ax_client: Completed trial 190 with data: {'objective': (0.32, None)}.\n"
     ]
    },
    {
     "name": "stdout",
     "output_type": "stream",
     "text": [
      "16501.68 0.32\n"
     ]
    },
    {
     "name": "stderr",
     "output_type": "stream",
     "text": [
      "/home/kylemcmaster/.local/lib/python3.10/site-packages/ax/core/data.py:288: FutureWarning: The behavior of DataFrame concatenation with empty or all-NA entries is deprecated. In a future version, this will no longer exclude empty or all-NA columns when determining the result dtypes. To retain the old behavior, exclude the relevant entries before the concat operation.\n",
      "  return cls(df=pd.concat(dfs, axis=0, sort=True))\n",
      "[INFO 10-22 00:54:56] ax.service.ax_client: Generated new trial 191 with parameters {'path_penalty': 8.319633, 'position_penalty': 0.0, 'loss_penalty': 10.0, 'score_factor': 3.505187} using model GPEI.\n",
      "[INFO 10-22 01:02:54] ax.service.ax_client: Completed trial 191 with data: {'objective': (0.72, None)}.\n"
     ]
    },
    {
     "name": "stdout",
     "output_type": "stream",
     "text": [
      "35486.56 0.72\n"
     ]
    },
    {
     "name": "stderr",
     "output_type": "stream",
     "text": [
      "/home/kylemcmaster/.local/lib/python3.10/site-packages/ax/core/data.py:288: FutureWarning: The behavior of DataFrame concatenation with empty or all-NA entries is deprecated. In a future version, this will no longer exclude empty or all-NA columns when determining the result dtypes. To retain the old behavior, exclude the relevant entries before the concat operation.\n",
      "  return cls(df=pd.concat(dfs, axis=0, sort=True))\n",
      "[INFO 10-22 01:02:57] ax.service.ax_client: Generated new trial 192 with parameters {'path_penalty': 3.439662, 'position_penalty': 0.0, 'loss_penalty': 0.0, 'score_factor': 1.196606} using model GPEI.\n",
      "[INFO 10-22 01:09:31] ax.service.ax_client: Completed trial 192 with data: {'objective': (0.46, None)}.\n"
     ]
    },
    {
     "name": "stdout",
     "output_type": "stream",
     "text": [
      "24199.68 0.46\n"
     ]
    },
    {
     "name": "stderr",
     "output_type": "stream",
     "text": [
      "/home/kylemcmaster/.local/lib/python3.10/site-packages/ax/core/data.py:288: FutureWarning: The behavior of DataFrame concatenation with empty or all-NA entries is deprecated. In a future version, this will no longer exclude empty or all-NA columns when determining the result dtypes. To retain the old behavior, exclude the relevant entries before the concat operation.\n",
      "  return cls(df=pd.concat(dfs, axis=0, sort=True))\n",
      "[INFO 10-22 01:09:35] ax.service.ax_client: Generated new trial 193 with parameters {'path_penalty': 7.636994, 'position_penalty': 0.0, 'loss_penalty': 7.134484, 'score_factor': 3.383109} using model GPEI.\n",
      "[INFO 10-22 01:16:10] ax.service.ax_client: Completed trial 193 with data: {'objective': (0.62, None)}.\n"
     ]
    },
    {
     "name": "stdout",
     "output_type": "stream",
     "text": [
      "27054.72 0.62\n"
     ]
    },
    {
     "name": "stderr",
     "output_type": "stream",
     "text": [
      "/home/kylemcmaster/.local/lib/python3.10/site-packages/ax/core/data.py:288: FutureWarning: The behavior of DataFrame concatenation with empty or all-NA entries is deprecated. In a future version, this will no longer exclude empty or all-NA columns when determining the result dtypes. To retain the old behavior, exclude the relevant entries before the concat operation.\n",
      "  return cls(df=pd.concat(dfs, axis=0, sort=True))\n",
      "[INFO 10-22 01:16:14] ax.service.ax_client: Generated new trial 194 with parameters {'path_penalty': 9.0, 'position_penalty': 0.0, 'loss_penalty': 10.0, 'score_factor': 2.497308} using model GPEI.\n",
      "[INFO 10-22 01:24:28] ax.service.ax_client: Completed trial 194 with data: {'objective': (0.74, None)}.\n"
     ]
    },
    {
     "name": "stdout",
     "output_type": "stream",
     "text": [
      "40756.8 0.74\n"
     ]
    },
    {
     "name": "stderr",
     "output_type": "stream",
     "text": [
      "/home/kylemcmaster/.local/lib/python3.10/site-packages/ax/core/data.py:288: FutureWarning: The behavior of DataFrame concatenation with empty or all-NA entries is deprecated. In a future version, this will no longer exclude empty or all-NA columns when determining the result dtypes. To retain the old behavior, exclude the relevant entries before the concat operation.\n",
      "  return cls(df=pd.concat(dfs, axis=0, sort=True))\n",
      "[INFO 10-22 01:24:34] ax.service.ax_client: Generated new trial 195 with parameters {'path_penalty': 9.0, 'position_penalty': 0.0, 'loss_penalty': 7.688663, 'score_factor': 2.872006} using model GPEI.\n",
      "[INFO 10-22 01:31:52] ax.service.ax_client: Completed trial 195 with data: {'objective': (0.7, None)}.\n"
     ]
    },
    {
     "name": "stdout",
     "output_type": "stream",
     "text": [
      "31780.48 0.7\n"
     ]
    },
    {
     "name": "stderr",
     "output_type": "stream",
     "text": [
      "/home/kylemcmaster/.local/lib/python3.10/site-packages/ax/core/data.py:288: FutureWarning: The behavior of DataFrame concatenation with empty or all-NA entries is deprecated. In a future version, this will no longer exclude empty or all-NA columns when determining the result dtypes. To retain the old behavior, exclude the relevant entries before the concat operation.\n",
      "  return cls(df=pd.concat(dfs, axis=0, sort=True))\n",
      "[INFO 10-22 01:31:57] ax.service.ax_client: Generated new trial 196 with parameters {'path_penalty': 9.0, 'position_penalty': 0.0, 'loss_penalty': 2.511193, 'score_factor': 3.471901} using model GPEI.\n",
      "[INFO 10-22 01:39:05] ax.service.ax_client: Completed trial 196 with data: {'objective': (0.68, None)}.\n"
     ]
    },
    {
     "name": "stdout",
     "output_type": "stream",
     "text": [
      "30390.8 0.68\n"
     ]
    },
    {
     "name": "stderr",
     "output_type": "stream",
     "text": [
      "/home/kylemcmaster/.local/lib/python3.10/site-packages/ax/core/data.py:288: FutureWarning: The behavior of DataFrame concatenation with empty or all-NA entries is deprecated. In a future version, this will no longer exclude empty or all-NA columns when determining the result dtypes. To retain the old behavior, exclude the relevant entries before the concat operation.\n",
      "  return cls(df=pd.concat(dfs, axis=0, sort=True))\n",
      "[INFO 10-22 01:39:10] ax.service.ax_client: Generated new trial 197 with parameters {'path_penalty': 9.0, 'position_penalty': 0.0, 'loss_penalty': 7.787851, 'score_factor': 3.054643} using model GPEI.\n",
      "[INFO 10-22 01:45:59] ax.service.ax_client: Completed trial 197 with data: {'objective': (0.64, None)}.\n"
     ]
    },
    {
     "name": "stdout",
     "output_type": "stream",
     "text": [
      "29486.4 0.64\n"
     ]
    },
    {
     "name": "stderr",
     "output_type": "stream",
     "text": [
      "/home/kylemcmaster/.local/lib/python3.10/site-packages/ax/core/data.py:288: FutureWarning: The behavior of DataFrame concatenation with empty or all-NA entries is deprecated. In a future version, this will no longer exclude empty or all-NA columns when determining the result dtypes. To retain the old behavior, exclude the relevant entries before the concat operation.\n",
      "  return cls(df=pd.concat(dfs, axis=0, sort=True))\n",
      "[INFO 10-22 01:46:04] ax.service.ax_client: Generated new trial 198 with parameters {'path_penalty': 6.359402, 'position_penalty': 9.0, 'loss_penalty': 9.579116, 'score_factor': 1.351774} using model GPEI.\n",
      "[INFO 10-22 01:53:01] ax.service.ax_client: Completed trial 198 with data: {'objective': (0.78, None)}.\n"
     ]
    },
    {
     "name": "stdout",
     "output_type": "stream",
     "text": [
      "31576.96 0.78\n"
     ]
    },
    {
     "name": "stderr",
     "output_type": "stream",
     "text": [
      "/home/kylemcmaster/.local/lib/python3.10/site-packages/ax/core/data.py:288: FutureWarning: The behavior of DataFrame concatenation with empty or all-NA entries is deprecated. In a future version, this will no longer exclude empty or all-NA columns when determining the result dtypes. To retain the old behavior, exclude the relevant entries before the concat operation.\n",
      "  return cls(df=pd.concat(dfs, axis=0, sort=True))\n",
      "[INFO 10-22 01:53:04] ax.service.ax_client: Generated new trial 199 with parameters {'path_penalty': 5.343587, 'position_penalty': 0.0, 'loss_penalty': 10.0, 'score_factor': 3.441077} using model GPEI.\n",
      "[INFO 10-22 02:00:56] ax.service.ax_client: Completed trial 199 with data: {'objective': (0.78, None)}.\n"
     ]
    },
    {
     "name": "stdout",
     "output_type": "stream",
     "text": [
      "34229.2 0.78\n"
     ]
    },
    {
     "name": "stderr",
     "output_type": "stream",
     "text": [
      "/home/kylemcmaster/.local/lib/python3.10/site-packages/ax/core/data.py:288: FutureWarning: The behavior of DataFrame concatenation with empty or all-NA entries is deprecated. In a future version, this will no longer exclude empty or all-NA columns when determining the result dtypes. To retain the old behavior, exclude the relevant entries before the concat operation.\n",
      "  return cls(df=pd.concat(dfs, axis=0, sort=True))\n",
      "[INFO 10-22 02:01:00] ax.service.ax_client: Generated new trial 200 with parameters {'path_penalty': 6.3263, 'position_penalty': 0.0, 'loss_penalty': 10.0, 'score_factor': 1.417883} using model GPEI.\n",
      "[INFO 10-22 02:08:08] ax.service.ax_client: Completed trial 200 with data: {'objective': (0.72, None)}.\n"
     ]
    },
    {
     "name": "stdout",
     "output_type": "stream",
     "text": [
      "34114.48 0.72\n"
     ]
    },
    {
     "name": "stderr",
     "output_type": "stream",
     "text": [
      "/home/kylemcmaster/.local/lib/python3.10/site-packages/ax/core/data.py:288: FutureWarning: The behavior of DataFrame concatenation with empty or all-NA entries is deprecated. In a future version, this will no longer exclude empty or all-NA columns when determining the result dtypes. To retain the old behavior, exclude the relevant entries before the concat operation.\n",
      "  return cls(df=pd.concat(dfs, axis=0, sort=True))\n",
      "[INFO 10-22 02:08:14] ax.service.ax_client: Generated new trial 201 with parameters {'path_penalty': 5.589844, 'position_penalty': 8.90357, 'loss_penalty': 7.057769, 'score_factor': 1.473105} using model GPEI.\n",
      "[INFO 10-22 02:14:53] ax.service.ax_client: Completed trial 201 with data: {'objective': (0.6, None)}.\n"
     ]
    },
    {
     "name": "stdout",
     "output_type": "stream",
     "text": [
      "28459.68 0.6\n"
     ]
    },
    {
     "name": "stderr",
     "output_type": "stream",
     "text": [
      "/home/kylemcmaster/.local/lib/python3.10/site-packages/ax/core/data.py:288: FutureWarning: The behavior of DataFrame concatenation with empty or all-NA entries is deprecated. In a future version, this will no longer exclude empty or all-NA columns when determining the result dtypes. To retain the old behavior, exclude the relevant entries before the concat operation.\n",
      "  return cls(df=pd.concat(dfs, axis=0, sort=True))\n",
      "[INFO 10-22 02:14:56] ax.service.ax_client: Generated new trial 202 with parameters {'path_penalty': 7.53904, 'position_penalty': 9.0, 'loss_penalty': 10.0, 'score_factor': 4.96307} using model GPEI.\n",
      "[INFO 10-22 02:21:39] ax.service.ax_client: Completed trial 202 with data: {'objective': (0.62, None)}.\n"
     ]
    },
    {
     "name": "stdout",
     "output_type": "stream",
     "text": [
      "27107.52 0.62\n"
     ]
    },
    {
     "name": "stderr",
     "output_type": "stream",
     "text": [
      "/home/kylemcmaster/.local/lib/python3.10/site-packages/ax/core/data.py:288: FutureWarning: The behavior of DataFrame concatenation with empty or all-NA entries is deprecated. In a future version, this will no longer exclude empty or all-NA columns when determining the result dtypes. To retain the old behavior, exclude the relevant entries before the concat operation.\n",
      "  return cls(df=pd.concat(dfs, axis=0, sort=True))\n",
      "[INFO 10-22 02:21:45] ax.service.ax_client: Generated new trial 203 with parameters {'path_penalty': 6.260132, 'position_penalty': 0.0, 'loss_penalty': 10.0, 'score_factor': 3.316568} using model GPEI.\n",
      "[INFO 10-22 02:29:29] ax.service.ax_client: Completed trial 203 with data: {'objective': (0.74, None)}.\n"
     ]
    },
    {
     "name": "stdout",
     "output_type": "stream",
     "text": [
      "32996.56 0.74\n"
     ]
    },
    {
     "name": "stderr",
     "output_type": "stream",
     "text": [
      "/home/kylemcmaster/.local/lib/python3.10/site-packages/ax/core/data.py:288: FutureWarning: The behavior of DataFrame concatenation with empty or all-NA entries is deprecated. In a future version, this will no longer exclude empty or all-NA columns when determining the result dtypes. To retain the old behavior, exclude the relevant entries before the concat operation.\n",
      "  return cls(df=pd.concat(dfs, axis=0, sort=True))\n",
      "[INFO 10-22 02:29:33] ax.service.ax_client: Generated new trial 204 with parameters {'path_penalty': 5.127156, 'position_penalty': 9.0, 'loss_penalty': 0.0, 'score_factor': 1.593268} using model GPEI.\n",
      "[INFO 10-22 02:35:19] ax.service.ax_client: Completed trial 204 with data: {'objective': (0.48, None)}.\n"
     ]
    },
    {
     "name": "stdout",
     "output_type": "stream",
     "text": [
      "21984.88 0.48\n"
     ]
    },
    {
     "name": "stderr",
     "output_type": "stream",
     "text": [
      "/home/kylemcmaster/.local/lib/python3.10/site-packages/ax/core/data.py:288: FutureWarning: The behavior of DataFrame concatenation with empty or all-NA entries is deprecated. In a future version, this will no longer exclude empty or all-NA columns when determining the result dtypes. To retain the old behavior, exclude the relevant entries before the concat operation.\n",
      "  return cls(df=pd.concat(dfs, axis=0, sort=True))\n",
      "[INFO 10-22 02:35:23] ax.service.ax_client: Generated new trial 205 with parameters {'path_penalty': 4.313856, 'position_penalty': 0.0, 'loss_penalty': 10.0, 'score_factor': 1.066829} using model GPEI.\n",
      "[INFO 10-22 02:42:31] ax.service.ax_client: Completed trial 205 with data: {'objective': (0.7, None)}.\n"
     ]
    },
    {
     "name": "stdout",
     "output_type": "stream",
     "text": [
      "32785.36 0.7\n"
     ]
    },
    {
     "name": "stderr",
     "output_type": "stream",
     "text": [
      "/home/kylemcmaster/.local/lib/python3.10/site-packages/ax/core/data.py:288: FutureWarning: The behavior of DataFrame concatenation with empty or all-NA entries is deprecated. In a future version, this will no longer exclude empty or all-NA columns when determining the result dtypes. To retain the old behavior, exclude the relevant entries before the concat operation.\n",
      "  return cls(df=pd.concat(dfs, axis=0, sort=True))\n",
      "[INFO 10-22 02:42:39] ax.service.ax_client: Generated new trial 206 with parameters {'path_penalty': 6.56309, 'position_penalty': 0.0, 'loss_penalty': 10.0, 'score_factor': 3.557169} using model GPEI.\n",
      "[INFO 10-22 02:49:10] ax.service.ax_client: Completed trial 206 with data: {'objective': (0.54, None)}.\n"
     ]
    },
    {
     "name": "stdout",
     "output_type": "stream",
     "text": [
      "26356.32 0.54\n"
     ]
    },
    {
     "name": "stderr",
     "output_type": "stream",
     "text": [
      "/home/kylemcmaster/.local/lib/python3.10/site-packages/ax/core/data.py:288: FutureWarning: The behavior of DataFrame concatenation with empty or all-NA entries is deprecated. In a future version, this will no longer exclude empty or all-NA columns when determining the result dtypes. To retain the old behavior, exclude the relevant entries before the concat operation.\n",
      "  return cls(df=pd.concat(dfs, axis=0, sort=True))\n",
      "[INFO 10-22 02:49:14] ax.service.ax_client: Generated new trial 207 with parameters {'path_penalty': 5.348078, 'position_penalty': 0.0, 'loss_penalty': 10.0, 'score_factor': 3.726725} using model GPEI.\n",
      "[INFO 10-22 02:55:35] ax.service.ax_client: Completed trial 207 with data: {'objective': (0.64, None)}.\n"
     ]
    },
    {
     "name": "stdout",
     "output_type": "stream",
     "text": [
      "26468.88 0.64\n"
     ]
    },
    {
     "name": "stderr",
     "output_type": "stream",
     "text": [
      "/home/kylemcmaster/.local/lib/python3.10/site-packages/ax/core/data.py:288: FutureWarning: The behavior of DataFrame concatenation with empty or all-NA entries is deprecated. In a future version, this will no longer exclude empty or all-NA columns when determining the result dtypes. To retain the old behavior, exclude the relevant entries before the concat operation.\n",
      "  return cls(df=pd.concat(dfs, axis=0, sort=True))\n",
      "[INFO 10-22 02:55:40] ax.service.ax_client: Generated new trial 208 with parameters {'path_penalty': 6.688351, 'position_penalty': 9.0, 'loss_penalty': 5.254405, 'score_factor': 1.552269} using model GPEI.\n",
      "[INFO 10-22 03:02:10] ax.service.ax_client: Completed trial 208 with data: {'objective': (0.7, None)}.\n"
     ]
    },
    {
     "name": "stdout",
     "output_type": "stream",
     "text": [
      "28346.88 0.7\n"
     ]
    },
    {
     "name": "stderr",
     "output_type": "stream",
     "text": [
      "/home/kylemcmaster/.local/lib/python3.10/site-packages/ax/core/data.py:288: FutureWarning: The behavior of DataFrame concatenation with empty or all-NA entries is deprecated. In a future version, this will no longer exclude empty or all-NA columns when determining the result dtypes. To retain the old behavior, exclude the relevant entries before the concat operation.\n",
      "  return cls(df=pd.concat(dfs, axis=0, sort=True))\n",
      "[INFO 10-22 03:02:19] ax.service.ax_client: Generated new trial 209 with parameters {'path_penalty': 5.276894, 'position_penalty': 6.892272, 'loss_penalty': 10.0, 'score_factor': 1.356081} using model GPEI.\n",
      "[INFO 10-22 03:08:47] ax.service.ax_client: Completed trial 209 with data: {'objective': (0.62, None)}.\n"
     ]
    },
    {
     "name": "stdout",
     "output_type": "stream",
     "text": [
      "28950.24 0.62\n"
     ]
    },
    {
     "name": "stderr",
     "output_type": "stream",
     "text": [
      "/home/kylemcmaster/.local/lib/python3.10/site-packages/ax/core/data.py:288: FutureWarning: The behavior of DataFrame concatenation with empty or all-NA entries is deprecated. In a future version, this will no longer exclude empty or all-NA columns when determining the result dtypes. To retain the old behavior, exclude the relevant entries before the concat operation.\n",
      "  return cls(df=pd.concat(dfs, axis=0, sort=True))\n",
      "[INFO 10-22 03:08:51] ax.service.ax_client: Generated new trial 210 with parameters {'path_penalty': 6.611429, 'position_penalty': 9.0, 'loss_penalty': 9.764571, 'score_factor': 3.549429} using model GPEI.\n",
      "[INFO 10-22 03:16:00] ax.service.ax_client: Completed trial 210 with data: {'objective': (0.6, None)}.\n"
     ]
    },
    {
     "name": "stdout",
     "output_type": "stream",
     "text": [
      "26625.28 0.6\n"
     ]
    },
    {
     "name": "stderr",
     "output_type": "stream",
     "text": [
      "/home/kylemcmaster/.local/lib/python3.10/site-packages/ax/core/data.py:288: FutureWarning: The behavior of DataFrame concatenation with empty or all-NA entries is deprecated. In a future version, this will no longer exclude empty or all-NA columns when determining the result dtypes. To retain the old behavior, exclude the relevant entries before the concat operation.\n",
      "  return cls(df=pd.concat(dfs, axis=0, sort=True))\n",
      "[INFO 10-22 03:16:04] ax.service.ax_client: Generated new trial 211 with parameters {'path_penalty': 7.318793, 'position_penalty': 9.0, 'loss_penalty': 5.126654, 'score_factor': 1.849585} using model GPEI.\n",
      "[INFO 10-22 03:22:43] ax.service.ax_client: Completed trial 211 with data: {'objective': (0.66, None)}.\n"
     ]
    },
    {
     "name": "stdout",
     "output_type": "stream",
     "text": [
      "29590.0 0.66\n"
     ]
    },
    {
     "name": "stderr",
     "output_type": "stream",
     "text": [
      "/home/kylemcmaster/.local/lib/python3.10/site-packages/ax/core/data.py:288: FutureWarning: The behavior of DataFrame concatenation with empty or all-NA entries is deprecated. In a future version, this will no longer exclude empty or all-NA columns when determining the result dtypes. To retain the old behavior, exclude the relevant entries before the concat operation.\n",
      "  return cls(df=pd.concat(dfs, axis=0, sort=True))\n",
      "[INFO 10-22 03:22:49] ax.service.ax_client: Generated new trial 212 with parameters {'path_penalty': 4.78596, 'position_penalty': 7.567503, 'loss_penalty': 10.0, 'score_factor': 3.220733} using model GPEI.\n",
      "[INFO 10-22 03:29:09] ax.service.ax_client: Completed trial 212 with data: {'objective': (0.5, None)}.\n"
     ]
    },
    {
     "name": "stdout",
     "output_type": "stream",
     "text": [
      "24356.48 0.5\n"
     ]
    },
    {
     "name": "stderr",
     "output_type": "stream",
     "text": [
      "/home/kylemcmaster/.local/lib/python3.10/site-packages/ax/core/data.py:288: FutureWarning: The behavior of DataFrame concatenation with empty or all-NA entries is deprecated. In a future version, this will no longer exclude empty or all-NA columns when determining the result dtypes. To retain the old behavior, exclude the relevant entries before the concat operation.\n",
      "  return cls(df=pd.concat(dfs, axis=0, sort=True))\n",
      "[INFO 10-22 03:29:17] ax.service.ax_client: Generated new trial 213 with parameters {'path_penalty': 7.422972, 'position_penalty': 0.0, 'loss_penalty': 6.442198, 'score_factor': 1.669698} using model GPEI.\n",
      "[INFO 10-22 03:36:26] ax.service.ax_client: Completed trial 213 with data: {'objective': (0.74, None)}.\n"
     ]
    },
    {
     "name": "stdout",
     "output_type": "stream",
     "text": [
      "33879.6 0.74\n"
     ]
    },
    {
     "name": "stderr",
     "output_type": "stream",
     "text": [
      "/home/kylemcmaster/.local/lib/python3.10/site-packages/ax/core/data.py:288: FutureWarning: The behavior of DataFrame concatenation with empty or all-NA entries is deprecated. In a future version, this will no longer exclude empty or all-NA columns when determining the result dtypes. To retain the old behavior, exclude the relevant entries before the concat operation.\n",
      "  return cls(df=pd.concat(dfs, axis=0, sort=True))\n",
      "[INFO 10-22 03:36:32] ax.service.ax_client: Generated new trial 214 with parameters {'path_penalty': 4.721316, 'position_penalty': 0.0, 'loss_penalty': 10.0, 'score_factor': 1.17067} using model GPEI.\n",
      "[INFO 10-22 03:43:08] ax.service.ax_client: Completed trial 214 with data: {'objective': (0.68, None)}.\n"
     ]
    },
    {
     "name": "stdout",
     "output_type": "stream",
     "text": [
      "27774.96 0.68\n"
     ]
    },
    {
     "name": "stderr",
     "output_type": "stream",
     "text": [
      "/home/kylemcmaster/.local/lib/python3.10/site-packages/ax/core/data.py:288: FutureWarning: The behavior of DataFrame concatenation with empty or all-NA entries is deprecated. In a future version, this will no longer exclude empty or all-NA columns when determining the result dtypes. To retain the old behavior, exclude the relevant entries before the concat operation.\n",
      "  return cls(df=pd.concat(dfs, axis=0, sort=True))\n",
      "[INFO 10-22 03:43:15] ax.service.ax_client: Generated new trial 215 with parameters {'path_penalty': 7.843048, 'position_penalty': 0.0, 'loss_penalty': 8.882123, 'score_factor': 2.559781} using model GPEI.\n",
      "[INFO 10-22 03:51:08] ax.service.ax_client: Completed trial 215 with data: {'objective': (0.72, None)}.\n"
     ]
    },
    {
     "name": "stdout",
     "output_type": "stream",
     "text": [
      "35686.96 0.72\n"
     ]
    },
    {
     "name": "stderr",
     "output_type": "stream",
     "text": [
      "/home/kylemcmaster/.local/lib/python3.10/site-packages/ax/core/data.py:288: FutureWarning: The behavior of DataFrame concatenation with empty or all-NA entries is deprecated. In a future version, this will no longer exclude empty or all-NA columns when determining the result dtypes. To retain the old behavior, exclude the relevant entries before the concat operation.\n",
      "  return cls(df=pd.concat(dfs, axis=0, sort=True))\n",
      "[INFO 10-22 03:51:15] ax.service.ax_client: Generated new trial 216 with parameters {'path_penalty': 9.0, 'position_penalty': 0.0, 'loss_penalty': 10.0, 'score_factor': 2.903262} using model GPEI.\n",
      "[INFO 10-22 03:58:41] ax.service.ax_client: Completed trial 216 with data: {'objective': (0.72, None)}.\n"
     ]
    },
    {
     "name": "stdout",
     "output_type": "stream",
     "text": [
      "34099.36 0.72\n"
     ]
    },
    {
     "name": "stderr",
     "output_type": "stream",
     "text": [
      "/home/kylemcmaster/.local/lib/python3.10/site-packages/ax/core/data.py:288: FutureWarning: The behavior of DataFrame concatenation with empty or all-NA entries is deprecated. In a future version, this will no longer exclude empty or all-NA columns when determining the result dtypes. To retain the old behavior, exclude the relevant entries before the concat operation.\n",
      "  return cls(df=pd.concat(dfs, axis=0, sort=True))\n",
      "[INFO 10-22 03:58:48] ax.service.ax_client: Generated new trial 217 with parameters {'path_penalty': 9.0, 'position_penalty': 0.0, 'loss_penalty': 5.581679, 'score_factor': 1.807163} using model GPEI.\n",
      "[INFO 10-22 04:06:03] ax.service.ax_client: Completed trial 217 with data: {'objective': (0.74, None)}.\n"
     ]
    },
    {
     "name": "stdout",
     "output_type": "stream",
     "text": [
      "34426.96 0.74\n"
     ]
    },
    {
     "name": "stderr",
     "output_type": "stream",
     "text": [
      "/home/kylemcmaster/.local/lib/python3.10/site-packages/ax/core/data.py:288: FutureWarning: The behavior of DataFrame concatenation with empty or all-NA entries is deprecated. In a future version, this will no longer exclude empty or all-NA columns when determining the result dtypes. To retain the old behavior, exclude the relevant entries before the concat operation.\n",
      "  return cls(df=pd.concat(dfs, axis=0, sort=True))\n",
      "/home/kylemcmaster/.local/lib/python3.10/site-packages/botorch/optim/optimize.py:568: RuntimeWarning: Optimization failed in `gen_candidates_scipy` with the following warning(s):\n",
      "[OptimizationWarning('Optimization failed within `scipy.optimize.minimize` with status 2 and message ABNORMAL_TERMINATION_IN_LNSRCH.')]\n",
      "Trying again with a new set of initial conditions.\n",
      "  return _optimize_acqf_batch(opt_inputs=opt_inputs)\n",
      "/home/kylemcmaster/.local/lib/python3.10/site-packages/botorch/optim/optimize.py:568: RuntimeWarning: Optimization failed on the second try, after generating a new set of initial conditions.\n",
      "  return _optimize_acqf_batch(opt_inputs=opt_inputs)\n",
      "[INFO 10-22 04:06:15] ax.service.ax_client: Generated new trial 218 with parameters {'path_penalty': 7.698868, 'position_penalty': 0.0, 'loss_penalty': 6.283929, 'score_factor': 4.800086} using model GPEI.\n",
      "[INFO 10-22 04:13:03] ax.service.ax_client: Completed trial 218 with data: {'objective': (0.7, None)}.\n"
     ]
    },
    {
     "name": "stdout",
     "output_type": "stream",
     "text": [
      "27946.4 0.7\n"
     ]
    },
    {
     "name": "stderr",
     "output_type": "stream",
     "text": [
      "/home/kylemcmaster/.local/lib/python3.10/site-packages/ax/core/data.py:288: FutureWarning: The behavior of DataFrame concatenation with empty or all-NA entries is deprecated. In a future version, this will no longer exclude empty or all-NA columns when determining the result dtypes. To retain the old behavior, exclude the relevant entries before the concat operation.\n",
      "  return cls(df=pd.concat(dfs, axis=0, sort=True))\n",
      "[INFO 10-22 04:13:11] ax.service.ax_client: Generated new trial 219 with parameters {'path_penalty': 7.198084, 'position_penalty': 0.0, 'loss_penalty': 7.517054, 'score_factor': 1.773722} using model GPEI.\n",
      "[INFO 10-22 04:20:29] ax.service.ax_client: Completed trial 219 with data: {'objective': (0.76, None)}.\n"
     ]
    },
    {
     "name": "stdout",
     "output_type": "stream",
     "text": [
      "33932.0 0.76\n"
     ]
    },
    {
     "name": "stderr",
     "output_type": "stream",
     "text": [
      "/home/kylemcmaster/.local/lib/python3.10/site-packages/ax/core/data.py:288: FutureWarning: The behavior of DataFrame concatenation with empty or all-NA entries is deprecated. In a future version, this will no longer exclude empty or all-NA columns when determining the result dtypes. To retain the old behavior, exclude the relevant entries before the concat operation.\n",
      "  return cls(df=pd.concat(dfs, axis=0, sort=True))\n",
      "[INFO 10-22 04:20:34] ax.service.ax_client: Generated new trial 220 with parameters {'path_penalty': 7.751063, 'position_penalty': 0.0, 'loss_penalty': 8.355485, 'score_factor': 2.899282} using model GPEI.\n",
      "[INFO 10-22 04:27:12] ax.service.ax_client: Completed trial 220 with data: {'objective': (0.64, None)}.\n",
      "/home/kylemcmaster/.local/lib/python3.10/site-packages/ax/core/data.py:288: FutureWarning: The behavior of DataFrame concatenation with empty or all-NA entries is deprecated. In a future version, this will no longer exclude empty or all-NA columns when determining the result dtypes. To retain the old behavior, exclude the relevant entries before the concat operation.\n",
      "  return cls(df=pd.concat(dfs, axis=0, sort=True))\n",
      "[WARNING 10-22 04:27:12] ax.modelbridge.base: Status quo status_quo not present in data\n"
     ]
    },
    {
     "name": "stdout",
     "output_type": "stream",
     "text": [
      "28406.32 0.64\n",
      "The best parameters are: {'path_penalty': 3.23005488885216, 'position_penalty': 0.0, 'loss_penalty': 10.0, 'score_factor': 1.01855712728175}\n",
      "with score ({'objective': 0.723483703188145}, {'objective': {'objective': 0.0003219295932833843}})\n"
     ]
    },
    {
     "name": "stderr",
     "output_type": "stream",
     "text": [
      "/home/kylemcmaster/.local/lib/python3.10/site-packages/ax/utils/stats/model_fit_stats.py:199: RuntimeWarning: divide by zero encountered in divide\n",
      "  return float(np.mean(1.96 * 2 * se_pred / np.abs(y_obs)))\n",
      "/home/kylemcmaster/.local/lib/python3.10/site-packages/ax/utils/stats/model_fit_stats.py:229: RuntimeWarning: divide by zero encountered in scalar divide\n",
      "  return float((np.max(y_obs) - min_y_obs) / min_y_obs)\n"
     ]
    }
   ],
   "source": [
    "for i in range(60):\n",
    "    parameters, trial_index = ax_client.get_next_trial()\n",
    "    ax_client.complete_trial(trial_index=trial_index, raw_data=perform_trial(parameters))\n",
    "    \n",
    "best_parameters, metrics = ax_client.get_best_parameters()\n",
    "print(f'The best parameters are: {best_parameters}')\n",
    "print(f'with score {metrics}')"
   ]
  },
  {
   "cell_type": "code",
   "execution_count": 37,
   "metadata": {},
   "outputs": [
    {
     "name": "stdout",
     "output_type": "stream",
     "text": [
      "    arm_name metric_name  mean  sem  trial_index\n",
      "0        0_0   objective  0.70  NaN            0\n",
      "1        1_0   objective  0.24  NaN            1\n",
      "2        2_0   objective  0.40  NaN            2\n",
      "3        3_0   objective  0.62  NaN            3\n",
      "4        4_0   objective  0.60  NaN            4\n",
      "..       ...         ...   ...  ...          ...\n",
      "215    216_0   objective  0.72  NaN          216\n",
      "216    217_0   objective  0.74  NaN          217\n",
      "217    218_0   objective  0.70  NaN          218\n",
      "218    219_0   objective  0.76  NaN          219\n",
      "219    220_0   objective  0.64  NaN          220\n",
      "\n",
      "[220 rows x 5 columns]\n",
      "    arm_name metric_name  mean  sem  trial_index\n",
      "185    186_0   objective  0.82  NaN          186\n",
      "101    102_0   objective  0.82  NaN          102\n",
      "164    165_0   objective  0.80  NaN          165\n",
      "132    133_0   objective  0.80  NaN          133\n",
      "91      92_0   objective  0.80  NaN           92\n",
      "83      83_0   objective  0.80  NaN           83\n",
      "122    123_0   objective  0.80  NaN          123\n",
      "124    125_0   objective  0.80  NaN          125\n",
      "162    163_0   objective  0.78  NaN          163\n",
      "198    199_0   objective  0.78  NaN          199\n",
      "Trial(experiment_name='optimize Params', index=165, status=TrialStatus.COMPLETED, arm=Arm(name='165_0', parameters={'path_penalty': 9.0, 'position_penalty': 0.0, 'loss_penalty': 5.65082143071092, 'score_factor': 3.366347776324679}))\n"
     ]
    }
   ],
   "source": [
    "data =  ax_client.experiment.fetch_data()\n",
    "print(data.df)\n",
    "print(data.df.sort_values(by='mean', ascending=False).head(10))\n",
    "\n",
    "trial_params = ax_client.experiment.trials[165]\n",
    "print(trial_params)"
   ]
  }
 ],
 "metadata": {
  "kernelspec": {
   "display_name": "Python 3",
   "language": "python",
   "name": "python3"
  },
  "language_info": {
   "codemirror_mode": {
    "name": "ipython",
    "version": 3
   },
   "file_extension": ".py",
   "mimetype": "text/x-python",
   "name": "python",
   "nbconvert_exporter": "python",
   "pygments_lexer": "ipython3",
   "version": "3.10.12"
  }
 },
 "nbformat": 4,
 "nbformat_minor": 2
}

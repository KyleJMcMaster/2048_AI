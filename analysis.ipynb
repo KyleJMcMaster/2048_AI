{
 "cells": [
  {
   "cell_type": "markdown",
   "metadata": {},
   "source": [
    "Analyze Dataset from overnight runs"
   ]
  },
  {
   "cell_type": "code",
   "execution_count": 5,
   "metadata": {},
   "outputs": [
    {
     "name": "stdout",
     "output_type": "stream",
     "text": [
      "Number of games over 1024: 0.9848484848484849\n",
      "Number of games over 2048: 0.9090909090909091\n",
      "Number of games over 4096: 0.5151515151515151\n",
      "Number of games over 8192: 0.06060606060606061\n",
      "66\n"
     ]
    }
   ],
   "source": [
    "import pandas as pd\n",
    "\n",
    "data = pd.DataFrame([[60424, 4096],\n",
    "[76524, 4096],\n",
    "[37008, 2048],\n",
    "[65964, 4096],\n",
    "[36456, 2048],\n",
    "[3924, 256],\n",
    "[35092, 2048],\n",
    "[123296, 8192],\n",
    "[79392, 4096],\n",
    "[71724, 4096],\n",
    "[36424, 2048],\n",
    "[36116, 2048],\n",
    "[18344, 1024],\n",
    "[77152, 4096],\n",
    "[57040, 4096],\n",
    "[15072, 1024],\n",
    "[76420, 4096],\n",
    "[113608, 8192],\n",
    "[61344, 4096],\n",
    "[79848, 4096],\n",
    "[52092, 4096],\n",
    "[24988, 2048],\n",
    "[80320, 4096],\n",
    "[26460, 2048],\n",
    "[28348, 2048],\n",
    "[24016, 1024],\n",
    "[111924, 8192],\n",
    "[63596, 4096],\n",
    "[60956, 4096],\n",
    "[32592, 2048],\n",
    "[36212, 2048],\n",
    "[57040, 4096],\n",
    "[36524, 2048],\n",
    "[32348, 2048],\n",
    "[16132, 1024],\n",
    "[67820, 4096],\n",
    "[80444, 4096],\n",
    "[15840, 1024],\n",
    "[36460, 2048],\n",
    "[78552, 4096],\n",
    "[72040, 4096],\n",
    "[37204, 2048],\n",
    "[59496, 4096],\n",
    "[70104, 4096],\n",
    "[58016, 4096],\n",
    "[32656, 2048],\n",
    "[27536, 2048],\n",
    "[81744, 4096],\n",
    "[36044, 2048],\n",
    "[34944, 2048],\n",
    "[72424, 4096],\n",
    "[34872, 2048],\n",
    "[47728, 4096],\n",
    "[34840, 2048],\n",
    "[37152, 2048],\n",
    "[60636, 4096],\n",
    "[76804, 4096],\n",
    "[36156, 2048],\n",
    "[78056, 4096],\n",
    "[111888, 8192],\n",
    "[76784, 4096],\n",
    "[34328, 2048],\n",
    "[50228, 4096],\n",
    "[36848, 2048],\n",
    "[32364, 2048],\n",
    "[31480, 2048]],\n",
    "columns=['score', 'max_tile'])\n",
    "\n",
    "num_over_1024 = len(data[data['max_tile']>=1024])\n",
    "num_over_2048 = len(data[data['max_tile']>=2048])\n",
    "num_over_4096 = len(data[data['max_tile']>=4096])\n",
    "num_over_8196 = len(data[data['max_tile']>=8192])\n",
    "\n",
    "print(f'Number of games over 1024: {num_over_1024/len(data)}')\n",
    "print(f'Number of games over 2048: {num_over_2048/len(data)}')\n",
    "print(f'Number of games over 4096: {num_over_4096/len(data)}')\n",
    "print(f'Number of games over 8192: {num_over_8196/len(data)}')\n",
    "print(len(data))"
   ]
  },
  {
   "cell_type": "code",
   "execution_count": 1,
   "metadata": {},
   "outputs": [],
   "source": [
    "from Reporter import LightConcurrentReporter\n",
    "from MarkovDPAI import *\n",
    "import numpy as np\n",
    "\n",
    "def perform_trial(parameters):\n",
    "    path_penalty = parameters.get('path_penalty')\n",
    "    loss_penalty = parameters.get('loss_penalty')\n",
    "    score_factor = parameters.get('score_factor')\n",
    "\n",
    "    ai_input=ExpectiMax7(depth = 5, path_pen=path_penalty, loss_penalty=loss_penalty, score_factor=score_factor)\n",
    "    r = LightConcurrentReporter(ai_input, 50)\n",
    "    report = pd.DataFrame(r.generate_report(), columns=['score','max_tile'])\n",
    "    print(np.mean(report['score']), len(report[report['max_tile']>=2048])/50.0)\n",
    "    return len(report[report['max_tile']>=2048])/50.0"
   ]
  },
  {
   "cell_type": "code",
   "execution_count": 2,
   "metadata": {},
   "outputs": [
    {
     "name": "stderr",
     "output_type": "stream",
     "text": [
      "[WARNING 10-25 11:52:21] ax.service.utils.with_db_settings_base: Ax currently requires a sqlalchemy version below 2.0. This will be addressed in a future release. Disabling SQL storage in Ax for now, if you would like to use SQL storage please install Ax with mysql extras via `pip install ax-platform[mysql]`.\n",
      "[INFO 10-25 11:52:21] ax.service.ax_client: Starting optimization with verbose logging. To disable logging, set the `verbose_logging` argument to `False`. Note that float values in the logs are rounded to 6 decimal points.\n",
      "[INFO 10-25 11:52:21] ax.service.utils.instantiation: Inferred value type of ParameterType.FLOAT for parameter path_penalty. If that is not the expected value type, you can explicitly specify 'value_type' ('int', 'float', 'bool' or 'str') in parameter dict.\n",
      "[INFO 10-25 11:52:21] ax.service.utils.instantiation: Inferred value type of ParameterType.FLOAT for parameter loss_penalty. If that is not the expected value type, you can explicitly specify 'value_type' ('int', 'float', 'bool' or 'str') in parameter dict.\n",
      "[INFO 10-25 11:52:21] ax.service.utils.instantiation: Inferred value type of ParameterType.FLOAT for parameter score_factor. If that is not the expected value type, you can explicitly specify 'value_type' ('int', 'float', 'bool' or 'str') in parameter dict.\n",
      "[INFO 10-25 11:52:21] ax.service.utils.instantiation: Created search space: SearchSpace(parameters=[RangeParameter(name='path_penalty', parameter_type=FLOAT, range=[0.0, 10.0]), RangeParameter(name='loss_penalty', parameter_type=FLOAT, range=[0.0, 10.0]), RangeParameter(name='score_factor', parameter_type=FLOAT, range=[0.0, 5.0])], parameter_constraints=[]).\n",
      "/home/kylemcmaster/.local/lib/python3.10/site-packages/ax/modelbridge/cross_validation.py:463: UserWarning: Encountered exception in computing model fit quality: RandomModelBridge does not support prediction.\n",
      "  warn(\"Encountered exception in computing model fit quality: \" + str(e))\n",
      "[INFO 10-25 11:52:21] ax.service.ax_client: Generated new trial 0 with parameters {'path_penalty': 6.770118, 'loss_penalty': 0.663435, 'score_factor': 1.558534} using model Sobol.\n",
      "[INFO 10-25 11:53:02] ax.service.ax_client: Completed trial 0 with data: {'objective': (0.84, None)}.\n",
      "/home/kylemcmaster/.local/lib/python3.10/site-packages/ax/modelbridge/cross_validation.py:463: UserWarning: Encountered exception in computing model fit quality: RandomModelBridge does not support prediction.\n",
      "  warn(\"Encountered exception in computing model fit quality: \" + str(e))\n",
      "[INFO 10-25 11:53:02] ax.service.ax_client: Generated new trial 1 with parameters {'path_penalty': 3.357801, 'loss_penalty': 6.696227, 'score_factor': 2.835299} using model Sobol.\n"
     ]
    },
    {
     "name": "stdout",
     "output_type": "stream",
     "text": [
      "41105.04 0.84\n"
     ]
    },
    {
     "name": "stderr",
     "output_type": "stream",
     "text": [
      "[INFO 10-25 11:53:40] ax.service.ax_client: Completed trial 1 with data: {'objective': (0.84, None)}.\n",
      "/home/kylemcmaster/.local/lib/python3.10/site-packages/ax/modelbridge/cross_validation.py:463: UserWarning: Encountered exception in computing model fit quality: RandomModelBridge does not support prediction.\n",
      "  warn(\"Encountered exception in computing model fit quality: \" + str(e))\n",
      "[INFO 10-25 11:53:40] ax.service.ax_client: Generated new trial 2 with parameters {'path_penalty': 1.634202, 'loss_penalty': 3.538106, 'score_factor': 0.092499} using model Sobol.\n"
     ]
    },
    {
     "name": "stdout",
     "output_type": "stream",
     "text": [
      "36399.68 0.84\n"
     ]
    },
    {
     "name": "stderr",
     "output_type": "stream",
     "text": [
      "[INFO 10-25 11:53:51] ax.service.ax_client: Completed trial 2 with data: {'objective': (0.08, None)}.\n",
      "/home/kylemcmaster/.local/lib/python3.10/site-packages/ax/modelbridge/cross_validation.py:463: UserWarning: Encountered exception in computing model fit quality: RandomModelBridge does not support prediction.\n",
      "  warn(\"Encountered exception in computing model fit quality: \" + str(e))\n",
      "[INFO 10-25 11:53:51] ax.service.ax_client: Generated new trial 3 with parameters {'path_penalty': 8.181295, 'loss_penalty': 8.789798, 'score_factor': 4.264734} using model Sobol.\n"
     ]
    },
    {
     "name": "stdout",
     "output_type": "stream",
     "text": [
      "6659.76 0.08\n"
     ]
    },
    {
     "name": "stderr",
     "output_type": "stream",
     "text": [
      "[INFO 10-25 11:54:34] ax.service.ax_client: Completed trial 3 with data: {'objective': (0.84, None)}.\n",
      "/home/kylemcmaster/.local/lib/python3.10/site-packages/ax/modelbridge/cross_validation.py:463: UserWarning: Encountered exception in computing model fit quality: RandomModelBridge does not support prediction.\n",
      "  warn(\"Encountered exception in computing model fit quality: \" + str(e))\n",
      "[INFO 10-25 11:54:34] ax.service.ax_client: Generated new trial 4 with parameters {'path_penalty': 9.882713, 'loss_penalty': 4.366863, 'score_factor': 3.585702} using model Sobol.\n"
     ]
    },
    {
     "name": "stdout",
     "output_type": "stream",
     "text": [
      "44875.04 0.84\n"
     ]
    },
    {
     "name": "stderr",
     "output_type": "stream",
     "text": [
      "[INFO 10-25 11:55:17] ax.service.ax_client: Completed trial 4 with data: {'objective': (0.84, None)}.\n",
      "/home/kylemcmaster/.local/lib/python3.10/site-packages/ax/modelbridge/cross_validation.py:463: UserWarning: Encountered exception in computing model fit quality: RandomModelBridge does not support prediction.\n",
      "  warn(\"Encountered exception in computing model fit quality: \" + str(e))\n",
      "[INFO 10-25 11:55:17] ax.service.ax_client: Generated new trial 5 with parameters {'path_penalty': 0.170031, 'loss_penalty': 8.295466, 'score_factor': 2.059351} using model Sobol.\n"
     ]
    },
    {
     "name": "stdout",
     "output_type": "stream",
     "text": [
      "44346.08 0.84\n"
     ]
    },
    {
     "name": "stderr",
     "output_type": "stream",
     "text": [
      "[INFO 10-25 11:55:40] ax.service.ax_client: Completed trial 5 with data: {'objective': (0.3, None)}.\n",
      "/home/kylemcmaster/.local/lib/python3.10/site-packages/ax/modelbridge/cross_validation.py:463: UserWarning: Encountered exception in computing model fit quality: RandomModelBridge does not support prediction.\n",
      "  warn(\"Encountered exception in computing model fit quality: \" + str(e))\n",
      "[INFO 10-25 11:55:40] ax.service.ax_client: Generated new trial 6 with parameters {'path_penalty': 4.70613, 'loss_penalty': 1.470048, 'score_factor': 4.93949} using model Sobol.\n"
     ]
    },
    {
     "name": "stdout",
     "output_type": "stream",
     "text": [
      "18425.68 0.3\n"
     ]
    },
    {
     "name": "stderr",
     "output_type": "stream",
     "text": [
      "[INFO 10-25 11:56:15] ax.service.ax_client: Completed trial 6 with data: {'objective': (0.74, None)}.\n",
      "/home/kylemcmaster/.local/lib/python3.10/site-packages/ax/modelbridge/cross_validation.py:463: UserWarning: Encountered exception in computing model fit quality: RandomModelBridge does not support prediction.\n",
      "  warn(\"Encountered exception in computing model fit quality: \" + str(e))\n",
      "[INFO 10-25 11:56:15] ax.service.ax_client: Generated new trial 7 with parameters {'path_penalty': 5.034037, 'loss_penalty': 6.180056, 'score_factor': 0.664077} using model Sobol.\n"
     ]
    },
    {
     "name": "stdout",
     "output_type": "stream",
     "text": [
      "31503.28 0.74\n"
     ]
    },
    {
     "name": "stderr",
     "output_type": "stream",
     "text": [
      "[INFO 10-25 11:56:44] ax.service.ax_client: Completed trial 7 with data: {'objective': (0.62, None)}.\n",
      "/home/kylemcmaster/.local/lib/python3.10/site-packages/ax/modelbridge/cross_validation.py:463: UserWarning: Encountered exception in computing model fit quality: RandomModelBridge does not support prediction.\n",
      "  warn(\"Encountered exception in computing model fit quality: \" + str(e))\n",
      "[INFO 10-25 11:56:44] ax.service.ax_client: Generated new trial 8 with parameters {'path_penalty': 5.77538, 'loss_penalty': 2.724607, 'score_factor': 4.391587} using model Sobol.\n"
     ]
    },
    {
     "name": "stdout",
     "output_type": "stream",
     "text": [
      "26680.4 0.62\n"
     ]
    },
    {
     "name": "stderr",
     "output_type": "stream",
     "text": [
      "[INFO 10-25 11:57:26] ax.service.ax_client: Completed trial 8 with data: {'objective': (0.84, None)}.\n",
      "/home/kylemcmaster/.local/lib/python3.10/site-packages/ax/modelbridge/cross_validation.py:463: UserWarning: Encountered exception in computing model fit quality: RandomModelBridge does not support prediction.\n",
      "  warn(\"Encountered exception in computing model fit quality: \" + str(e))\n",
      "[INFO 10-25 11:57:26] ax.service.ax_client: Generated new trial 9 with parameters {'path_penalty': 4.198694, 'loss_penalty': 9.928052, 'score_factor': 1.215799} using model Sobol.\n"
     ]
    },
    {
     "name": "stdout",
     "output_type": "stream",
     "text": [
      "39713.84 0.84\n"
     ]
    },
    {
     "name": "stderr",
     "output_type": "stream",
     "text": [
      "[INFO 10-25 11:58:08] ax.service.ax_client: Completed trial 9 with data: {'objective': (0.86, None)}.\n"
     ]
    },
    {
     "name": "stdout",
     "output_type": "stream",
     "text": [
      "44238.56 0.86\n"
     ]
    },
    {
     "name": "stderr",
     "output_type": "stream",
     "text": [
      "[INFO 10-25 11:58:09] ax.service.ax_client: Generated new trial 10 with parameters {'path_penalty': 5.793059, 'loss_penalty': 10.0, 'score_factor': 2.537273} using model GPEI.\n",
      "[INFO 10-25 11:58:52] ax.service.ax_client: Completed trial 10 with data: {'objective': (0.9, None)}.\n"
     ]
    },
    {
     "name": "stdout",
     "output_type": "stream",
     "text": [
      "46231.36 0.9\n"
     ]
    },
    {
     "name": "stderr",
     "output_type": "stream",
     "text": [
      "[INFO 10-25 11:58:52] ax.service.ax_client: Generated new trial 11 with parameters {'path_penalty': 4.182158, 'loss_penalty': 10.0, 'score_factor': 3.256989} using model GPEI.\n",
      "[INFO 10-25 11:59:27] ax.service.ax_client: Completed trial 11 with data: {'objective': (0.68, None)}.\n"
     ]
    },
    {
     "name": "stdout",
     "output_type": "stream",
     "text": [
      "32166.08 0.68\n"
     ]
    },
    {
     "name": "stderr",
     "output_type": "stream",
     "text": [
      "[INFO 10-25 11:59:27] ax.service.ax_client: Generated new trial 12 with parameters {'path_penalty': 5.980043, 'loss_penalty': 4.668018, 'score_factor': 2.630778} using model GPEI.\n",
      "[INFO 10-25 12:00:09] ax.service.ax_client: Completed trial 12 with data: {'objective': (0.8, None)}.\n"
     ]
    },
    {
     "name": "stdout",
     "output_type": "stream",
     "text": [
      "43625.04 0.8\n"
     ]
    },
    {
     "name": "stderr",
     "output_type": "stream",
     "text": [
      "[INFO 10-25 12:00:10] ax.service.ax_client: Generated new trial 13 with parameters {'path_penalty': 6.41952, 'loss_penalty': 9.1808, 'score_factor': 1.6578} using model GPEI.\n",
      "[INFO 10-25 12:00:54] ax.service.ax_client: Completed trial 13 with data: {'objective': (0.9, None)}.\n"
     ]
    },
    {
     "name": "stdout",
     "output_type": "stream",
     "text": [
      "46806.88 0.9\n"
     ]
    },
    {
     "name": "stderr",
     "output_type": "stream",
     "text": [
      "[INFO 10-25 12:00:55] ax.service.ax_client: Generated new trial 14 with parameters {'path_penalty': 8.430685, 'loss_penalty': 0.453582, 'score_factor': 3.147962} using model GPEI.\n",
      "[INFO 10-25 12:01:41] ax.service.ax_client: Completed trial 14 with data: {'objective': (0.9, None)}.\n"
     ]
    },
    {
     "name": "stdout",
     "output_type": "stream",
     "text": [
      "48907.44 0.9\n"
     ]
    },
    {
     "name": "stderr",
     "output_type": "stream",
     "text": [
      "[INFO 10-25 12:01:42] ax.service.ax_client: Generated new trial 15 with parameters {'path_penalty': 4.439846, 'loss_penalty': 5.635659, 'score_factor': 4.268039} using model GPEI.\n",
      "[INFO 10-25 12:02:21] ax.service.ax_client: Completed trial 15 with data: {'objective': (0.72, None)}.\n"
     ]
    },
    {
     "name": "stdout",
     "output_type": "stream",
     "text": [
      "36095.04 0.72\n"
     ]
    },
    {
     "name": "stderr",
     "output_type": "stream",
     "text": [
      "[INFO 10-25 12:02:22] ax.service.ax_client: Generated new trial 16 with parameters {'path_penalty': 8.305008, 'loss_penalty': 2.421271, 'score_factor': 4.791195} using model GPEI.\n",
      "[INFO 10-25 12:02:59] ax.service.ax_client: Completed trial 16 with data: {'objective': (0.7, None)}.\n"
     ]
    },
    {
     "name": "stdout",
     "output_type": "stream",
     "text": [
      "37195.84 0.7\n"
     ]
    },
    {
     "name": "stderr",
     "output_type": "stream",
     "text": [
      "[INFO 10-25 12:03:00] ax.service.ax_client: Generated new trial 17 with parameters {'path_penalty': 4.391188, 'loss_penalty': 10.0, 'score_factor': 1.962999} using model GPEI.\n",
      "[INFO 10-25 12:03:44] ax.service.ax_client: Completed trial 17 with data: {'objective': (0.9, None)}.\n"
     ]
    },
    {
     "name": "stdout",
     "output_type": "stream",
     "text": [
      "43968.32 0.9\n"
     ]
    },
    {
     "name": "stderr",
     "output_type": "stream",
     "text": [
      "[INFO 10-25 12:03:44] ax.service.ax_client: Generated new trial 18 with parameters {'path_penalty': 6.407684, 'loss_penalty': 0.0, 'score_factor': 3.129321} using model GPEI.\n",
      "[INFO 10-25 12:04:26] ax.service.ax_client: Completed trial 18 with data: {'objective': (0.84, None)}.\n"
     ]
    },
    {
     "name": "stdout",
     "output_type": "stream",
     "text": [
      "41778.08 0.84\n"
     ]
    },
    {
     "name": "stderr",
     "output_type": "stream",
     "text": [
      "[INFO 10-25 12:04:26] ax.service.ax_client: Generated new trial 19 with parameters {'path_penalty': 8.922769, 'loss_penalty': 0.499786, 'score_factor': 1.877728} using model GPEI.\n",
      "[INFO 10-25 12:05:02] ax.service.ax_client: Completed trial 19 with data: {'objective': (0.76, None)}.\n"
     ]
    },
    {
     "name": "stdout",
     "output_type": "stream",
     "text": [
      "35003.92 0.76\n"
     ]
    },
    {
     "name": "stderr",
     "output_type": "stream",
     "text": [
      "[INFO 10-25 12:05:03] ax.service.ax_client: Generated new trial 20 with parameters {'path_penalty': 7.996282, 'loss_penalty': 10.0, 'score_factor': 2.71065} using model GPEI.\n",
      "[INFO 10-25 12:05:45] ax.service.ax_client: Completed trial 20 with data: {'objective': (0.88, None)}.\n"
     ]
    },
    {
     "name": "stdout",
     "output_type": "stream",
     "text": [
      "44617.04 0.88\n"
     ]
    },
    {
     "name": "stderr",
     "output_type": "stream",
     "text": [
      "[INFO 10-25 12:05:46] ax.service.ax_client: Generated new trial 21 with parameters {'path_penalty': 4.604738, 'loss_penalty': 0.0, 'score_factor': 1.888498} using model GPEI.\n",
      "[INFO 10-25 12:06:29] ax.service.ax_client: Completed trial 21 with data: {'objective': (0.88, None)}.\n"
     ]
    },
    {
     "name": "stdout",
     "output_type": "stream",
     "text": [
      "43674.8 0.88\n"
     ]
    },
    {
     "name": "stderr",
     "output_type": "stream",
     "text": [
      "[INFO 10-25 12:06:29] ax.service.ax_client: Generated new trial 22 with parameters {'path_penalty': 5.551958, 'loss_penalty': 10.0, 'score_factor': 1.790222} using model GPEI.\n",
      "[INFO 10-25 12:07:11] ax.service.ax_client: Completed trial 22 with data: {'objective': (0.86, None)}.\n"
     ]
    },
    {
     "name": "stdout",
     "output_type": "stream",
     "text": [
      "45300.08 0.86\n"
     ]
    },
    {
     "name": "stderr",
     "output_type": "stream",
     "text": [
      "[INFO 10-25 12:07:12] ax.service.ax_client: Generated new trial 23 with parameters {'path_penalty': 3.512798, 'loss_penalty': 10.0, 'score_factor': 1.919568} using model GPEI.\n",
      "[INFO 10-25 12:07:56] ax.service.ax_client: Completed trial 23 with data: {'objective': (0.84, None)}.\n"
     ]
    },
    {
     "name": "stdout",
     "output_type": "stream",
     "text": [
      "45104.96 0.84\n"
     ]
    },
    {
     "name": "stderr",
     "output_type": "stream",
     "text": [
      "[INFO 10-25 12:07:57] ax.service.ax_client: Generated new trial 24 with parameters {'path_penalty': 7.857938, 'loss_penalty': 10.0, 'score_factor': 3.503113} using model GPEI.\n",
      "[INFO 10-25 12:08:46] ax.service.ax_client: Completed trial 24 with data: {'objective': (0.9, None)}.\n"
     ]
    },
    {
     "name": "stdout",
     "output_type": "stream",
     "text": [
      "50049.12 0.9\n"
     ]
    },
    {
     "name": "stderr",
     "output_type": "stream",
     "text": [
      "[INFO 10-25 12:08:46] ax.service.ax_client: Generated new trial 25 with parameters {'path_penalty': 7.756163, 'loss_penalty': 0.0, 'score_factor': 3.617941} using model GPEI.\n",
      "[INFO 10-25 12:09:31] ax.service.ax_client: Completed trial 25 with data: {'objective': (0.86, None)}.\n"
     ]
    },
    {
     "name": "stdout",
     "output_type": "stream",
     "text": [
      "44580.56 0.86\n"
     ]
    },
    {
     "name": "stderr",
     "output_type": "stream",
     "text": [
      "[INFO 10-25 12:09:32] ax.service.ax_client: Generated new trial 26 with parameters {'path_penalty': 3.759131, 'loss_penalty': 0.0, 'score_factor': 2.471757} using model GPEI.\n",
      "[INFO 10-25 12:10:15] ax.service.ax_client: Completed trial 26 with data: {'objective': (0.84, None)}.\n"
     ]
    },
    {
     "name": "stdout",
     "output_type": "stream",
     "text": [
      "42074.64 0.84\n"
     ]
    },
    {
     "name": "stderr",
     "output_type": "stream",
     "text": [
      "[INFO 10-25 12:10:15] ax.service.ax_client: Generated new trial 27 with parameters {'path_penalty': 6.908189, 'loss_penalty': 10.0, 'score_factor': 2.601319} using model GPEI.\n",
      "[INFO 10-25 12:10:57] ax.service.ax_client: Completed trial 27 with data: {'objective': (0.82, None)}.\n"
     ]
    },
    {
     "name": "stdout",
     "output_type": "stream",
     "text": [
      "42287.68 0.82\n"
     ]
    },
    {
     "name": "stderr",
     "output_type": "stream",
     "text": [
      "[INFO 10-25 12:10:58] ax.service.ax_client: Generated new trial 28 with parameters {'path_penalty': 8.916608, 'loss_penalty': 10.0, 'score_factor': 3.17701} using model GPEI.\n",
      "[INFO 10-25 12:11:40] ax.service.ax_client: Completed trial 28 with data: {'objective': (0.86, None)}.\n"
     ]
    },
    {
     "name": "stdout",
     "output_type": "stream",
     "text": [
      "43966.24 0.86\n"
     ]
    },
    {
     "name": "stderr",
     "output_type": "stream",
     "text": [
      "[INFO 10-25 12:11:41] ax.service.ax_client: Generated new trial 29 with parameters {'path_penalty': 4.867849, 'loss_penalty': 10.0, 'score_factor': 1.855099} using model GPEI.\n",
      "[INFO 10-25 12:12:27] ax.service.ax_client: Completed trial 29 with data: {'objective': (0.9, None)}.\n"
     ]
    },
    {
     "name": "stdout",
     "output_type": "stream",
     "text": [
      "48900.64 0.9\n"
     ]
    },
    {
     "name": "stderr",
     "output_type": "stream",
     "text": [
      "[INFO 10-25 12:12:28] ax.service.ax_client: Generated new trial 30 with parameters {'path_penalty': 0.011484, 'loss_penalty': 0.0, 'score_factor': 5.0} using model GPEI.\n",
      "[INFO 10-25 12:12:53] ax.service.ax_client: Completed trial 30 with data: {'objective': (0.42, None)}.\n"
     ]
    },
    {
     "name": "stdout",
     "output_type": "stream",
     "text": [
      "20750.4 0.42\n"
     ]
    },
    {
     "name": "stderr",
     "output_type": "stream",
     "text": [
      "[INFO 10-25 12:12:54] ax.service.ax_client: Generated new trial 31 with parameters {'path_penalty': 10.0, 'loss_penalty': 10.0, 'score_factor': 0.0} using model GPEI.\n",
      "[INFO 10-25 12:12:57] ax.service.ax_client: Completed trial 31 with data: {'objective': (0.0, None)}.\n"
     ]
    },
    {
     "name": "stdout",
     "output_type": "stream",
     "text": [
      "2736.4 0.0\n"
     ]
    },
    {
     "name": "stderr",
     "output_type": "stream",
     "text": [
      "[INFO 10-25 12:12:58] ax.service.ax_client: Generated new trial 32 with parameters {'path_penalty': 5.223818, 'loss_penalty': 8.21407, 'score_factor': 2.131559} using model GPEI.\n",
      "[INFO 10-25 12:13:42] ax.service.ax_client: Completed trial 32 with data: {'objective': (0.82, None)}.\n"
     ]
    },
    {
     "name": "stdout",
     "output_type": "stream",
     "text": [
      "46403.84 0.82\n"
     ]
    },
    {
     "name": "stderr",
     "output_type": "stream",
     "text": [
      "[INFO 10-25 12:13:43] ax.service.ax_client: Generated new trial 33 with parameters {'path_penalty': 10.0, 'loss_penalty': 0.0, 'score_factor': 2.87691} using model GPEI.\n",
      "[INFO 10-25 12:14:26] ax.service.ax_client: Completed trial 33 with data: {'objective': (0.8, None)}.\n"
     ]
    },
    {
     "name": "stdout",
     "output_type": "stream",
     "text": [
      "46554.08 0.8\n"
     ]
    },
    {
     "name": "stderr",
     "output_type": "stream",
     "text": [
      "[INFO 10-25 12:14:27] ax.service.ax_client: Generated new trial 34 with parameters {'path_penalty': 5.207986, 'loss_penalty': 0.0, 'score_factor': 1.756456} using model GPEI.\n",
      "[INFO 10-25 12:15:06] ax.service.ax_client: Completed trial 34 with data: {'objective': (0.82, None)}.\n"
     ]
    },
    {
     "name": "stdout",
     "output_type": "stream",
     "text": [
      "39058.8 0.82\n"
     ]
    },
    {
     "name": "stderr",
     "output_type": "stream",
     "text": [
      "[INFO 10-25 12:15:07] ax.service.ax_client: Generated new trial 35 with parameters {'path_penalty': 7.802995, 'loss_penalty': 0.0, 'score_factor': 2.504175} using model GPEI.\n",
      "[INFO 10-25 12:15:48] ax.service.ax_client: Completed trial 35 with data: {'objective': (0.86, None)}.\n"
     ]
    },
    {
     "name": "stdout",
     "output_type": "stream",
     "text": [
      "41214.64 0.86\n"
     ]
    },
    {
     "name": "stderr",
     "output_type": "stream",
     "text": [
      "[INFO 10-25 12:15:49] ax.service.ax_client: Generated new trial 36 with parameters {'path_penalty': 7.157598, 'loss_penalty': 10.0, 'score_factor': 3.980693} using model GPEI.\n",
      "[INFO 10-25 12:16:34] ax.service.ax_client: Completed trial 36 with data: {'objective': (0.86, None)}.\n"
     ]
    },
    {
     "name": "stdout",
     "output_type": "stream",
     "text": [
      "48093.2 0.86\n"
     ]
    },
    {
     "name": "stderr",
     "output_type": "stream",
     "text": [
      "[INFO 10-25 12:16:35] ax.service.ax_client: Generated new trial 37 with parameters {'path_penalty': 8.505974, 'loss_penalty': 0.0, 'score_factor': 3.489745} using model GPEI.\n",
      "[INFO 10-25 12:17:17] ax.service.ax_client: Completed trial 37 with data: {'objective': (0.9, None)}.\n"
     ]
    },
    {
     "name": "stdout",
     "output_type": "stream",
     "text": [
      "43256.24 0.9\n"
     ]
    },
    {
     "name": "stderr",
     "output_type": "stream",
     "text": [
      "[INFO 10-25 12:17:18] ax.service.ax_client: Generated new trial 38 with parameters {'path_penalty': 8.468882, 'loss_penalty': 10.0, 'score_factor': 3.489288} using model GPEI.\n",
      "[INFO 10-25 12:18:03] ax.service.ax_client: Completed trial 38 with data: {'objective': (0.86, None)}.\n"
     ]
    },
    {
     "name": "stdout",
     "output_type": "stream",
     "text": [
      "43252.8 0.86\n"
     ]
    },
    {
     "name": "stderr",
     "output_type": "stream",
     "text": [
      "[INFO 10-25 12:18:04] ax.service.ax_client: Generated new trial 39 with parameters {'path_penalty': 7.135901, 'loss_penalty': 0.0, 'score_factor': 4.01846} using model GPEI.\n",
      "[INFO 10-25 12:18:46] ax.service.ax_client: Completed trial 39 with data: {'objective': (0.88, None)}.\n"
     ]
    },
    {
     "name": "stdout",
     "output_type": "stream",
     "text": [
      "41891.6 0.88\n"
     ]
    },
    {
     "name": "stderr",
     "output_type": "stream",
     "text": [
      "[INFO 10-25 12:18:47] ax.service.ax_client: Generated new trial 40 with parameters {'path_penalty': 6.333462, 'loss_penalty': 10.0, 'score_factor': 5.0} using model GPEI.\n",
      "[INFO 10-25 12:19:30] ax.service.ax_client: Completed trial 40 with data: {'objective': (0.92, None)}.\n"
     ]
    },
    {
     "name": "stdout",
     "output_type": "stream",
     "text": [
      "43976.8 0.92\n"
     ]
    },
    {
     "name": "stderr",
     "output_type": "stream",
     "text": [
      "[INFO 10-25 12:19:32] ax.service.ax_client: Generated new trial 41 with parameters {'path_penalty': 6.294007, 'loss_penalty': 0.0, 'score_factor': 5.0} using model GPEI.\n",
      "[INFO 10-25 12:20:09] ax.service.ax_client: Completed trial 41 with data: {'objective': (0.8, None)}.\n"
     ]
    },
    {
     "name": "stdout",
     "output_type": "stream",
     "text": [
      "38188.0 0.8\n"
     ]
    },
    {
     "name": "stderr",
     "output_type": "stream",
     "text": [
      "[INFO 10-25 12:20:10] ax.service.ax_client: Generated new trial 42 with parameters {'path_penalty': 6.468322, 'loss_penalty': 10.0, 'score_factor': 4.530321} using model GPEI.\n",
      "[INFO 10-25 12:20:52] ax.service.ax_client: Completed trial 42 with data: {'objective': (0.8, None)}.\n"
     ]
    },
    {
     "name": "stdout",
     "output_type": "stream",
     "text": [
      "42293.76 0.8\n"
     ]
    },
    {
     "name": "stderr",
     "output_type": "stream",
     "text": [
      "[INFO 10-25 12:20:53] ax.service.ax_client: Generated new trial 43 with parameters {'path_penalty': 8.023641, 'loss_penalty': 0.0, 'score_factor': 2.973227} using model GPEI.\n",
      "[INFO 10-25 12:21:35] ax.service.ax_client: Completed trial 43 with data: {'objective': (0.92, None)}.\n"
     ]
    },
    {
     "name": "stdout",
     "output_type": "stream",
     "text": [
      "43983.84 0.92\n"
     ]
    },
    {
     "name": "stderr",
     "output_type": "stream",
     "text": [
      "[INFO 10-25 12:21:37] ax.service.ax_client: Generated new trial 44 with parameters {'path_penalty': 7.306737, 'loss_penalty': 10.0, 'score_factor': 2.091274} using model GPEI.\n",
      "[INFO 10-25 12:22:16] ax.service.ax_client: Completed trial 44 with data: {'objective': (0.88, None)}.\n"
     ]
    },
    {
     "name": "stdout",
     "output_type": "stream",
     "text": [
      "41607.92 0.88\n"
     ]
    },
    {
     "name": "stderr",
     "output_type": "stream",
     "text": [
      "[INFO 10-25 12:22:17] ax.service.ax_client: Generated new trial 45 with parameters {'path_penalty': 4.234763, 'loss_penalty': 10.0, 'score_factor': 1.8163} using model GPEI.\n",
      "[INFO 10-25 12:23:06] ax.service.ax_client: Completed trial 45 with data: {'objective': (0.9, None)}.\n"
     ]
    },
    {
     "name": "stdout",
     "output_type": "stream",
     "text": [
      "51813.2 0.9\n"
     ]
    },
    {
     "name": "stderr",
     "output_type": "stream",
     "text": [
      "[INFO 10-25 12:23:07] ax.service.ax_client: Generated new trial 46 with parameters {'path_penalty': 8.338414, 'loss_penalty': 10.0, 'score_factor': 3.088287} using model GPEI.\n",
      "[INFO 10-25 12:23:53] ax.service.ax_client: Completed trial 46 with data: {'objective': (0.86, None)}.\n"
     ]
    },
    {
     "name": "stdout",
     "output_type": "stream",
     "text": [
      "47345.12 0.86\n"
     ]
    },
    {
     "name": "stderr",
     "output_type": "stream",
     "text": [
      "[INFO 10-25 12:23:54] ax.service.ax_client: Generated new trial 47 with parameters {'path_penalty': 3.642843, 'loss_penalty': 0.0, 'score_factor': 1.962613} using model GPEI.\n",
      "[INFO 10-25 12:24:35] ax.service.ax_client: Completed trial 47 with data: {'objective': (0.86, None)}.\n"
     ]
    },
    {
     "name": "stdout",
     "output_type": "stream",
     "text": [
      "43178.96 0.86\n"
     ]
    },
    {
     "name": "stderr",
     "output_type": "stream",
     "text": [
      "[INFO 10-25 12:24:36] ax.service.ax_client: Generated new trial 48 with parameters {'path_penalty': 8.048149, 'loss_penalty': 0.0, 'score_factor': 3.272424} using model GPEI.\n",
      "[INFO 10-25 12:25:23] ax.service.ax_client: Completed trial 48 with data: {'objective': (0.82, None)}.\n"
     ]
    },
    {
     "name": "stdout",
     "output_type": "stream",
     "text": [
      "46709.04 0.82\n"
     ]
    },
    {
     "name": "stderr",
     "output_type": "stream",
     "text": [
      "[INFO 10-25 12:25:24] ax.service.ax_client: Generated new trial 49 with parameters {'path_penalty': 7.167912, 'loss_penalty': 0.0, 'score_factor': 2.22973} using model GPEI.\n",
      "[INFO 10-25 12:26:07] ax.service.ax_client: Completed trial 49 with data: {'objective': (0.84, None)}.\n"
     ]
    },
    {
     "name": "stdout",
     "output_type": "stream",
     "text": [
      "46397.84 0.84\n"
     ]
    },
    {
     "name": "stderr",
     "output_type": "stream",
     "text": [
      "[INFO 10-25 12:26:08] ax.service.ax_client: Generated new trial 50 with parameters {'path_penalty': 8.738166, 'loss_penalty': 10.0, 'score_factor': 2.77285} using model GPEI.\n",
      "[INFO 10-25 12:26:51] ax.service.ax_client: Completed trial 50 with data: {'objective': (0.86, None)}.\n"
     ]
    },
    {
     "name": "stdout",
     "output_type": "stream",
     "text": [
      "46615.84 0.86\n"
     ]
    },
    {
     "name": "stderr",
     "output_type": "stream",
     "text": [
      "[INFO 10-25 12:26:52] ax.service.ax_client: Generated new trial 51 with parameters {'path_penalty': 4.01269, 'loss_penalty': 10.0, 'score_factor': 2.005225} using model GPEI.\n",
      "[INFO 10-25 12:27:33] ax.service.ax_client: Completed trial 51 with data: {'objective': (0.86, None)}.\n"
     ]
    },
    {
     "name": "stdout",
     "output_type": "stream",
     "text": [
      "39569.76 0.86\n"
     ]
    },
    {
     "name": "stderr",
     "output_type": "stream",
     "text": [
      "[INFO 10-25 12:27:34] ax.service.ax_client: Generated new trial 52 with parameters {'path_penalty': 8.926778, 'loss_penalty': 0.0, 'score_factor': 3.31502} using model GPEI.\n",
      "[INFO 10-25 12:28:14] ax.service.ax_client: Completed trial 52 with data: {'objective': (0.86, None)}.\n"
     ]
    },
    {
     "name": "stdout",
     "output_type": "stream",
     "text": [
      "42017.12 0.86\n"
     ]
    },
    {
     "name": "stderr",
     "output_type": "stream",
     "text": [
      "[INFO 10-25 12:28:15] ax.service.ax_client: Generated new trial 53 with parameters {'path_penalty': 8.464246, 'loss_penalty': 0.0, 'score_factor': 2.907341} using model GPEI.\n",
      "[INFO 10-25 12:28:55] ax.service.ax_client: Completed trial 53 with data: {'objective': (0.88, None)}.\n"
     ]
    },
    {
     "name": "stdout",
     "output_type": "stream",
     "text": [
      "42284.32 0.88\n"
     ]
    },
    {
     "name": "stderr",
     "output_type": "stream",
     "text": [
      "[INFO 10-25 12:28:56] ax.service.ax_client: Generated new trial 54 with parameters {'path_penalty': 4.705114, 'loss_penalty': 10.0, 'score_factor': 1.728346} using model GPEI.\n",
      "[INFO 10-25 12:29:41] ax.service.ax_client: Completed trial 54 with data: {'objective': (0.9, None)}.\n"
     ]
    },
    {
     "name": "stdout",
     "output_type": "stream",
     "text": [
      "47965.84 0.9\n"
     ]
    },
    {
     "name": "stderr",
     "output_type": "stream",
     "text": [
      "[INFO 10-25 12:29:43] ax.service.ax_client: Generated new trial 55 with parameters {'path_penalty': 6.748446, 'loss_penalty': 10.0, 'score_factor': 1.903837} using model GPEI.\n",
      "[INFO 10-25 12:30:24] ax.service.ax_client: Completed trial 55 with data: {'objective': (0.82, None)}.\n"
     ]
    },
    {
     "name": "stdout",
     "output_type": "stream",
     "text": [
      "45193.76 0.82\n"
     ]
    },
    {
     "name": "stderr",
     "output_type": "stream",
     "text": [
      "[INFO 10-25 12:30:26] ax.service.ax_client: Generated new trial 56 with parameters {'path_penalty': 4.168867, 'loss_penalty': 0.0, 'score_factor': 2.031799} using model GPEI.\n",
      "[INFO 10-25 12:31:11] ax.service.ax_client: Completed trial 56 with data: {'objective': (0.84, None)}.\n"
     ]
    },
    {
     "name": "stdout",
     "output_type": "stream",
     "text": [
      "47181.28 0.84\n"
     ]
    },
    {
     "name": "stderr",
     "output_type": "stream",
     "text": [
      "[INFO 10-25 12:31:12] ax.service.ax_client: Generated new trial 57 with parameters {'path_penalty': 7.834636, 'loss_penalty': 10.0, 'score_factor': 3.018757} using model GPEI.\n",
      "[INFO 10-25 12:31:57] ax.service.ax_client: Completed trial 57 with data: {'objective': (0.92, None)}.\n"
     ]
    },
    {
     "name": "stdout",
     "output_type": "stream",
     "text": [
      "48222.96 0.92\n"
     ]
    },
    {
     "name": "stderr",
     "output_type": "stream",
     "text": [
      "[INFO 10-25 12:31:59] ax.service.ax_client: Generated new trial 58 with parameters {'path_penalty': 7.475176, 'loss_penalty': 0.0, 'score_factor': 3.386996} using model GPEI.\n",
      "[INFO 10-25 12:32:47] ax.service.ax_client: Completed trial 58 with data: {'objective': (0.86, None)}.\n"
     ]
    },
    {
     "name": "stdout",
     "output_type": "stream",
     "text": [
      "48581.44 0.86\n"
     ]
    },
    {
     "name": "stderr",
     "output_type": "stream",
     "text": [
      "[INFO 10-25 12:32:48] ax.service.ax_client: Generated new trial 59 with parameters {'path_penalty': 4.32058, 'loss_penalty': 0.0, 'score_factor': 1.720633} using model GPEI.\n",
      "[INFO 10-25 12:33:35] ax.service.ax_client: Completed trial 59 with data: {'objective': (0.86, None)}.\n"
     ]
    },
    {
     "name": "stdout",
     "output_type": "stream",
     "text": [
      "51183.28 0.86\n"
     ]
    },
    {
     "name": "stderr",
     "output_type": "stream",
     "text": [
      "[INFO 10-25 12:33:37] ax.service.ax_client: Generated new trial 60 with parameters {'path_penalty': 5.084281, 'loss_penalty': 10.0, 'score_factor': 1.742716} using model GPEI.\n",
      "[INFO 10-25 12:34:24] ax.service.ax_client: Completed trial 60 with data: {'objective': (0.86, None)}.\n"
     ]
    },
    {
     "name": "stdout",
     "output_type": "stream",
     "text": [
      "46750.08 0.86\n"
     ]
    },
    {
     "name": "stderr",
     "output_type": "stream",
     "text": [
      "[INFO 10-25 12:34:26] ax.service.ax_client: Generated new trial 61 with parameters {'path_penalty': 10.0, 'loss_penalty': 10.0, 'score_factor': 4.023797} using model GPEI.\n",
      "[INFO 10-25 12:35:09] ax.service.ax_client: Completed trial 61 with data: {'objective': (0.88, None)}.\n"
     ]
    },
    {
     "name": "stdout",
     "output_type": "stream",
     "text": [
      "45934.48 0.88\n"
     ]
    },
    {
     "name": "stderr",
     "output_type": "stream",
     "text": [
      "[INFO 10-25 12:35:11] ax.service.ax_client: Generated new trial 62 with parameters {'path_penalty': 8.981157, 'loss_penalty': 10.0, 'score_factor': 3.569801} using model GPEI.\n",
      "[INFO 10-25 12:35:55] ax.service.ax_client: Completed trial 62 with data: {'objective': (0.8, None)}.\n"
     ]
    },
    {
     "name": "stdout",
     "output_type": "stream",
     "text": [
      "43475.44 0.8\n"
     ]
    },
    {
     "name": "stderr",
     "output_type": "stream",
     "text": [
      "[INFO 10-25 12:35:56] ax.service.ax_client: Generated new trial 63 with parameters {'path_penalty': 10.0, 'loss_penalty': 10.0, 'score_factor': 5.0} using model GPEI.\n",
      "[INFO 10-25 12:36:37] ax.service.ax_client: Completed trial 63 with data: {'objective': (0.84, None)}.\n"
     ]
    },
    {
     "name": "stdout",
     "output_type": "stream",
     "text": [
      "42438.64 0.84\n"
     ]
    },
    {
     "name": "stderr",
     "output_type": "stream",
     "text": [
      "[INFO 10-25 12:36:38] ax.service.ax_client: Generated new trial 64 with parameters {'path_penalty': 10.0, 'loss_penalty': 0.0, 'score_factor': 4.277614} using model GPEI.\n",
      "[INFO 10-25 12:37:26] ax.service.ax_client: Completed trial 64 with data: {'objective': (0.92, None)}.\n"
     ]
    },
    {
     "name": "stdout",
     "output_type": "stream",
     "text": [
      "47455.36 0.92\n"
     ]
    },
    {
     "name": "stderr",
     "output_type": "stream",
     "text": [
      "[INFO 10-25 12:37:27] ax.service.ax_client: Generated new trial 65 with parameters {'path_penalty': 10.0, 'loss_penalty': 10.0, 'score_factor': 4.351364} using model GPEI.\n",
      "[INFO 10-25 12:38:12] ax.service.ax_client: Completed trial 65 with data: {'objective': (0.9, None)}.\n"
     ]
    },
    {
     "name": "stdout",
     "output_type": "stream",
     "text": [
      "46699.92 0.9\n"
     ]
    },
    {
     "name": "stderr",
     "output_type": "stream",
     "text": [
      "[INFO 10-25 12:38:14] ax.service.ax_client: Generated new trial 66 with parameters {'path_penalty': 10.0, 'loss_penalty': 0.0, 'score_factor': 4.09188} using model GPEI.\n",
      "[INFO 10-25 12:38:57] ax.service.ax_client: Completed trial 66 with data: {'objective': (0.78, None)}.\n"
     ]
    },
    {
     "name": "stdout",
     "output_type": "stream",
     "text": [
      "44916.08 0.78\n"
     ]
    },
    {
     "name": "stderr",
     "output_type": "stream",
     "text": [
      "[INFO 10-25 12:38:58] ax.service.ax_client: Generated new trial 67 with parameters {'path_penalty': 7.114889, 'loss_penalty': 10.0, 'score_factor': 3.505517} using model GPEI.\n",
      "[INFO 10-25 12:39:42] ax.service.ax_client: Completed trial 67 with data: {'objective': (0.88, None)}.\n"
     ]
    },
    {
     "name": "stdout",
     "output_type": "stream",
     "text": [
      "46143.52 0.88\n"
     ]
    },
    {
     "name": "stderr",
     "output_type": "stream",
     "text": [
      "[INFO 10-25 12:39:43] ax.service.ax_client: Generated new trial 68 with parameters {'path_penalty': 7.488149, 'loss_penalty': 10.0, 'score_factor': 2.649047} using model GPEI.\n",
      "[INFO 10-25 12:40:28] ax.service.ax_client: Completed trial 68 with data: {'objective': (0.84, None)}.\n"
     ]
    },
    {
     "name": "stdout",
     "output_type": "stream",
     "text": [
      "47342.96 0.84\n"
     ]
    },
    {
     "name": "stderr",
     "output_type": "stream",
     "text": [
      "[INFO 10-25 12:40:30] ax.service.ax_client: Generated new trial 69 with parameters {'path_penalty': 10.0, 'loss_penalty': 10.0, 'score_factor': 4.680446} using model GPEI.\n",
      "[INFO 10-25 12:41:12] ax.service.ax_client: Completed trial 69 with data: {'objective': (0.82, None)}.\n"
     ]
    },
    {
     "name": "stdout",
     "output_type": "stream",
     "text": [
      "43934.08 0.82\n"
     ]
    },
    {
     "name": "stderr",
     "output_type": "stream",
     "text": [
      "[INFO 10-25 12:41:13] ax.service.ax_client: Generated new trial 70 with parameters {'path_penalty': 6.498558, 'loss_penalty': 10.0, 'score_factor': 4.19644} using model GPEI.\n",
      "[INFO 10-25 12:41:54] ax.service.ax_client: Completed trial 70 with data: {'objective': (0.86, None)}.\n"
     ]
    },
    {
     "name": "stdout",
     "output_type": "stream",
     "text": [
      "39651.92 0.86\n"
     ]
    },
    {
     "name": "stderr",
     "output_type": "stream",
     "text": [
      "[INFO 10-25 12:41:55] ax.service.ax_client: Generated new trial 71 with parameters {'path_penalty': 1.933064, 'loss_penalty': 10.0, 'score_factor': 3.654995} using model GPEI.\n",
      "[INFO 10-25 12:42:27] ax.service.ax_client: Completed trial 71 with data: {'objective': (0.6, None)}.\n"
     ]
    },
    {
     "name": "stdout",
     "output_type": "stream",
     "text": [
      "27011.68 0.6\n"
     ]
    },
    {
     "name": "stderr",
     "output_type": "stream",
     "text": [
      "[INFO 10-25 12:42:28] ax.service.ax_client: Generated new trial 72 with parameters {'path_penalty': 7.654363, 'loss_penalty': 0.0, 'score_factor': 2.759267} using model GPEI.\n",
      "[INFO 10-25 12:43:17] ax.service.ax_client: Completed trial 72 with data: {'objective': (0.94, None)}.\n"
     ]
    },
    {
     "name": "stdout",
     "output_type": "stream",
     "text": [
      "49908.96 0.94\n"
     ]
    },
    {
     "name": "stderr",
     "output_type": "stream",
     "text": [
      "[INFO 10-25 12:43:18] ax.service.ax_client: Generated new trial 73 with parameters {'path_penalty': 8.135, 'loss_penalty': 0.0, 'score_factor': 2.655049} using model GPEI.\n",
      "[INFO 10-25 12:44:07] ax.service.ax_client: Completed trial 73 with data: {'objective': (0.9, None)}.\n"
     ]
    },
    {
     "name": "stdout",
     "output_type": "stream",
     "text": [
      "51484.4 0.9\n"
     ]
    },
    {
     "name": "stderr",
     "output_type": "stream",
     "text": [
      "[INFO 10-25 12:44:08] ax.service.ax_client: Generated new trial 74 with parameters {'path_penalty': 7.801764, 'loss_penalty': 10.0, 'score_factor': 2.403985} using model GPEI.\n",
      "[INFO 10-25 12:44:56] ax.service.ax_client: Completed trial 74 with data: {'objective': (0.94, None)}.\n"
     ]
    },
    {
     "name": "stdout",
     "output_type": "stream",
     "text": [
      "53266.72 0.94\n"
     ]
    },
    {
     "name": "stderr",
     "output_type": "stream",
     "text": [
      "[INFO 10-25 12:44:57] ax.service.ax_client: Generated new trial 75 with parameters {'path_penalty': 7.866634, 'loss_penalty': 0.0, 'score_factor': 2.312008} using model GPEI.\n",
      "[INFO 10-25 12:45:43] ax.service.ax_client: Completed trial 75 with data: {'objective': (0.78, None)}.\n"
     ]
    },
    {
     "name": "stdout",
     "output_type": "stream",
     "text": [
      "47064.8 0.78\n"
     ]
    },
    {
     "name": "stderr",
     "output_type": "stream",
     "text": [
      "[INFO 10-25 12:45:44] ax.service.ax_client: Generated new trial 76 with parameters {'path_penalty': 7.882941, 'loss_penalty': 5.158614, 'score_factor': 2.922477} using model GPEI.\n",
      "[INFO 10-25 12:46:30] ax.service.ax_client: Completed trial 76 with data: {'objective': (0.86, None)}.\n"
     ]
    },
    {
     "name": "stdout",
     "output_type": "stream",
     "text": [
      "51890.32 0.86\n"
     ]
    },
    {
     "name": "stderr",
     "output_type": "stream",
     "text": [
      "[INFO 10-25 12:46:32] ax.service.ax_client: Generated new trial 77 with parameters {'path_penalty': 7.548481, 'loss_penalty': 0.0, 'score_factor': 3.039103} using model GPEI.\n",
      "[INFO 10-25 12:47:16] ax.service.ax_client: Completed trial 77 with data: {'objective': (0.88, None)}.\n"
     ]
    },
    {
     "name": "stdout",
     "output_type": "stream",
     "text": [
      "43869.04 0.88\n"
     ]
    },
    {
     "name": "stderr",
     "output_type": "stream",
     "text": [
      "[INFO 10-25 12:47:18] ax.service.ax_client: Generated new trial 78 with parameters {'path_penalty': 7.412264, 'loss_penalty': 10.0, 'score_factor': 3.087425} using model GPEI.\n",
      "[INFO 10-25 12:47:59] ax.service.ax_client: Completed trial 78 with data: {'objective': (0.84, None)}.\n"
     ]
    },
    {
     "name": "stdout",
     "output_type": "stream",
     "text": [
      "42286.8 0.84\n"
     ]
    },
    {
     "name": "stderr",
     "output_type": "stream",
     "text": [
      "[INFO 10-25 12:48:01] ax.service.ax_client: Generated new trial 79 with parameters {'path_penalty': 5.77702, 'loss_penalty': 10.0, 'score_factor': 5.0} using model GPEI.\n",
      "[INFO 10-25 12:48:37] ax.service.ax_client: Completed trial 79 with data: {'objective': (0.76, None)}.\n"
     ]
    },
    {
     "name": "stdout",
     "output_type": "stream",
     "text": [
      "34106.8 0.76\n"
     ]
    },
    {
     "name": "stderr",
     "output_type": "stream",
     "text": [
      "[INFO 10-25 12:48:38] ax.service.ax_client: Generated new trial 80 with parameters {'path_penalty': 6.560985, 'loss_penalty': 0.0, 'score_factor': 4.003666} using model GPEI.\n",
      "[INFO 10-25 12:49:22] ax.service.ax_client: Completed trial 80 with data: {'objective': (0.84, None)}.\n"
     ]
    },
    {
     "name": "stdout",
     "output_type": "stream",
     "text": [
      "46423.12 0.84\n"
     ]
    },
    {
     "name": "stderr",
     "output_type": "stream",
     "text": [
      "[INFO 10-25 12:49:24] ax.service.ax_client: Generated new trial 81 with parameters {'path_penalty': 6.831882, 'loss_penalty': 0.0, 'score_factor': 1.464175} using model GPEI.\n",
      "[INFO 10-25 12:50:00] ax.service.ax_client: Completed trial 81 with data: {'objective': (0.76, None)}.\n"
     ]
    },
    {
     "name": "stdout",
     "output_type": "stream",
     "text": [
      "37350.64 0.76\n"
     ]
    },
    {
     "name": "stderr",
     "output_type": "stream",
     "text": [
      "[INFO 10-25 12:50:02] ax.service.ax_client: Generated new trial 82 with parameters {'path_penalty': 4.438403, 'loss_penalty': 10.0, 'score_factor': 2.062106} using model GPEI.\n",
      "[INFO 10-25 12:50:47] ax.service.ax_client: Completed trial 82 with data: {'objective': (0.76, None)}.\n"
     ]
    },
    {
     "name": "stdout",
     "output_type": "stream",
     "text": [
      "49209.84 0.76\n"
     ]
    },
    {
     "name": "stderr",
     "output_type": "stream",
     "text": [
      "[INFO 10-25 12:50:49] ax.service.ax_client: Generated new trial 83 with parameters {'path_penalty': 10.0, 'loss_penalty': 10.0, 'score_factor': 3.711951} using model GPEI.\n",
      "[INFO 10-25 12:51:34] ax.service.ax_client: Completed trial 83 with data: {'objective': (0.88, None)}.\n"
     ]
    },
    {
     "name": "stdout",
     "output_type": "stream",
     "text": [
      "47226.56 0.88\n"
     ]
    },
    {
     "name": "stderr",
     "output_type": "stream",
     "text": [
      "[INFO 10-25 12:51:36] ax.service.ax_client: Generated new trial 84 with parameters {'path_penalty': 7.274919, 'loss_penalty': 0.0, 'score_factor': 2.614283} using model GPEI.\n",
      "[INFO 10-25 12:52:21] ax.service.ax_client: Completed trial 84 with data: {'objective': (0.86, None)}.\n"
     ]
    },
    {
     "name": "stdout",
     "output_type": "stream",
     "text": [
      "45469.12 0.86\n"
     ]
    },
    {
     "name": "stderr",
     "output_type": "stream",
     "text": [
      "[INFO 10-25 12:52:23] ax.service.ax_client: Generated new trial 85 with parameters {'path_penalty': 9.466784, 'loss_penalty': 0.0, 'score_factor': 4.067155} using model GPEI.\n",
      "[INFO 10-25 12:53:09] ax.service.ax_client: Completed trial 85 with data: {'objective': (0.84, None)}.\n"
     ]
    },
    {
     "name": "stdout",
     "output_type": "stream",
     "text": [
      "47961.12 0.84\n"
     ]
    },
    {
     "name": "stderr",
     "output_type": "stream",
     "text": [
      "[INFO 10-25 12:53:11] ax.service.ax_client: Generated new trial 86 with parameters {'path_penalty': 6.100241, 'loss_penalty': 0.0, 'score_factor': 3.844336} using model GPEI.\n",
      "[INFO 10-25 12:53:48] ax.service.ax_client: Completed trial 86 with data: {'objective': (0.7, None)}.\n"
     ]
    },
    {
     "name": "stdout",
     "output_type": "stream",
     "text": [
      "37447.76 0.7\n"
     ]
    },
    {
     "name": "stderr",
     "output_type": "stream",
     "text": [
      "[INFO 10-25 12:53:50] ax.service.ax_client: Generated new trial 87 with parameters {'path_penalty': 10.0, 'loss_penalty': 0.0, 'score_factor': 3.737374} using model GPEI.\n",
      "[INFO 10-25 12:54:33] ax.service.ax_client: Completed trial 87 with data: {'objective': (0.88, None)}.\n"
     ]
    },
    {
     "name": "stdout",
     "output_type": "stream",
     "text": [
      "43089.36 0.88\n"
     ]
    },
    {
     "name": "stderr",
     "output_type": "stream",
     "text": [
      "[INFO 10-25 12:54:35] ax.service.ax_client: Generated new trial 88 with parameters {'path_penalty': 6.569075, 'loss_penalty': 10.0, 'score_factor': 2.162686} using model GPEI.\n",
      "[INFO 10-25 12:55:15] ax.service.ax_client: Completed trial 88 with data: {'objective': (0.86, None)}.\n"
     ]
    },
    {
     "name": "stdout",
     "output_type": "stream",
     "text": [
      "42422.64 0.86\n"
     ]
    },
    {
     "name": "stderr",
     "output_type": "stream",
     "text": [
      "[INFO 10-25 12:55:17] ax.service.ax_client: Generated new trial 89 with parameters {'path_penalty': 10.0, 'loss_penalty': 10.0, 'score_factor': 3.303615} using model GPEI.\n",
      "[INFO 10-25 12:55:59] ax.service.ax_client: Completed trial 89 with data: {'objective': (0.78, None)}.\n"
     ]
    },
    {
     "name": "stdout",
     "output_type": "stream",
     "text": [
      "46350.4 0.78\n"
     ]
    },
    {
     "name": "stderr",
     "output_type": "stream",
     "text": [
      "[INFO 10-25 12:56:01] ax.service.ax_client: Generated new trial 90 with parameters {'path_penalty': 7.850436, 'loss_penalty': 10.0, 'score_factor': 2.810292} using model GPEI.\n",
      "[INFO 10-25 12:56:39] ax.service.ax_client: Completed trial 90 with data: {'objective': (0.76, None)}.\n"
     ]
    },
    {
     "name": "stdout",
     "output_type": "stream",
     "text": [
      "38170.56 0.76\n"
     ]
    },
    {
     "name": "stderr",
     "output_type": "stream",
     "text": [
      "[INFO 10-25 12:56:40] ax.service.ax_client: Generated new trial 91 with parameters {'path_penalty': 7.610476, 'loss_penalty': 10.0, 'score_factor': 4.027458} using model GPEI.\n",
      "[INFO 10-25 12:57:20] ax.service.ax_client: Completed trial 91 with data: {'objective': (0.86, None)}.\n"
     ]
    },
    {
     "name": "stdout",
     "output_type": "stream",
     "text": [
      "40617.28 0.86\n"
     ]
    },
    {
     "name": "stderr",
     "output_type": "stream",
     "text": [
      "[INFO 10-25 12:57:22] ax.service.ax_client: Generated new trial 92 with parameters {'path_penalty': 6.91897, 'loss_penalty': 10.0, 'score_factor': 5.0} using model GPEI.\n",
      "[INFO 10-25 12:58:01] ax.service.ax_client: Completed trial 92 with data: {'objective': (0.74, None)}.\n"
     ]
    },
    {
     "name": "stdout",
     "output_type": "stream",
     "text": [
      "35624.0 0.74\n"
     ]
    },
    {
     "name": "stderr",
     "output_type": "stream",
     "text": [
      "[INFO 10-25 12:58:03] ax.service.ax_client: Generated new trial 93 with parameters {'path_penalty': 9.015969, 'loss_penalty': 10.0, 'score_factor': 3.847977} using model GPEI.\n",
      "[INFO 10-25 12:58:46] ax.service.ax_client: Completed trial 93 with data: {'objective': (0.94, None)}.\n"
     ]
    },
    {
     "name": "stdout",
     "output_type": "stream",
     "text": [
      "45662.24 0.94\n"
     ]
    },
    {
     "name": "stderr",
     "output_type": "stream",
     "text": [
      "[INFO 10-25 12:58:48] ax.service.ax_client: Generated new trial 94 with parameters {'path_penalty': 8.764792, 'loss_penalty': 0.0, 'score_factor': 3.835705} using model GPEI.\n",
      "[INFO 10-25 12:59:28] ax.service.ax_client: Completed trial 94 with data: {'objective': (0.82, None)}.\n"
     ]
    },
    {
     "name": "stdout",
     "output_type": "stream",
     "text": [
      "41228.56 0.82\n"
     ]
    },
    {
     "name": "stderr",
     "output_type": "stream",
     "text": [
      "[INFO 10-25 12:59:29] ax.service.ax_client: Generated new trial 95 with parameters {'path_penalty': 5.139278, 'loss_penalty': 10.0, 'score_factor': 1.9758} using model GPEI.\n",
      "[INFO 10-25 13:00:12] ax.service.ax_client: Completed trial 95 with data: {'objective': (0.82, None)}.\n"
     ]
    },
    {
     "name": "stdout",
     "output_type": "stream",
     "text": [
      "44390.16 0.82\n"
     ]
    },
    {
     "name": "stderr",
     "output_type": "stream",
     "text": [
      "[INFO 10-25 13:00:13] ax.service.ax_client: Generated new trial 96 with parameters {'path_penalty': 9.575047, 'loss_penalty': 10.0, 'score_factor': 4.027958} using model GPEI.\n",
      "[INFO 10-25 13:00:56] ax.service.ax_client: Completed trial 96 with data: {'objective': (0.82, None)}.\n"
     ]
    },
    {
     "name": "stdout",
     "output_type": "stream",
     "text": [
      "44619.68 0.82\n"
     ]
    },
    {
     "name": "stderr",
     "output_type": "stream",
     "text": [
      "[INFO 10-25 13:00:58] ax.service.ax_client: Generated new trial 97 with parameters {'path_penalty': 8.071435, 'loss_penalty': 10.0, 'score_factor': 3.23754} using model GPEI.\n",
      "[INFO 10-25 13:01:38] ax.service.ax_client: Completed trial 97 with data: {'objective': (0.82, None)}.\n"
     ]
    },
    {
     "name": "stdout",
     "output_type": "stream",
     "text": [
      "40782.0 0.82\n"
     ]
    },
    {
     "name": "stderr",
     "output_type": "stream",
     "text": [
      "[INFO 10-25 13:01:39] ax.service.ax_client: Generated new trial 98 with parameters {'path_penalty': 3.958666, 'loss_penalty': 10.0, 'score_factor': 1.797519} using model GPEI.\n",
      "[INFO 10-25 13:02:28] ax.service.ax_client: Completed trial 98 with data: {'objective': (0.9, None)}.\n"
     ]
    },
    {
     "name": "stdout",
     "output_type": "stream",
     "text": [
      "49468.16 0.9\n"
     ]
    },
    {
     "name": "stderr",
     "output_type": "stream",
     "text": [
      "[INFO 10-25 13:02:30] ax.service.ax_client: Generated new trial 99 with parameters {'path_penalty': 10.0, 'loss_penalty': 0.0, 'score_factor': 5.0} using model GPEI.\n",
      "[INFO 10-25 13:03:16] ax.service.ax_client: Completed trial 99 with data: {'objective': (0.94, None)}.\n"
     ]
    },
    {
     "name": "stdout",
     "output_type": "stream",
     "text": [
      "44111.36 0.94\n"
     ]
    },
    {
     "name": "stderr",
     "output_type": "stream",
     "text": [
      "[INFO 10-25 13:03:18] ax.service.ax_client: Generated new trial 100 with parameters {'path_penalty': 6.229595, 'loss_penalty': 0.0, 'score_factor': 2.21423} using model GPEI.\n",
      "[INFO 10-25 13:04:04] ax.service.ax_client: Completed trial 100 with data: {'objective': (0.86, None)}.\n"
     ]
    },
    {
     "name": "stdout",
     "output_type": "stream",
     "text": [
      "50866.32 0.86\n"
     ]
    },
    {
     "name": "stderr",
     "output_type": "stream",
     "text": [
      "[INFO 10-25 13:04:06] ax.service.ax_client: Generated new trial 101 with parameters {'path_penalty': 10.0, 'loss_penalty': 0.0, 'score_factor': 4.577183} using model GPEI.\n",
      "[INFO 10-25 13:04:45] ax.service.ax_client: Completed trial 101 with data: {'objective': (0.8, None)}.\n"
     ]
    },
    {
     "name": "stdout",
     "output_type": "stream",
     "text": [
      "38489.44 0.8\n"
     ]
    },
    {
     "name": "stderr",
     "output_type": "stream",
     "text": [
      "[INFO 10-25 13:04:47] ax.service.ax_client: Generated new trial 102 with parameters {'path_penalty': 3.432149, 'loss_penalty': 10.0, 'score_factor': 2.16296} using model GPEI.\n",
      "[INFO 10-25 13:05:25] ax.service.ax_client: Completed trial 102 with data: {'objective': (0.8, None)}.\n"
     ]
    },
    {
     "name": "stdout",
     "output_type": "stream",
     "text": [
      "38345.84 0.8\n"
     ]
    },
    {
     "name": "stderr",
     "output_type": "stream",
     "text": [
      "[INFO 10-25 13:05:27] ax.service.ax_client: Generated new trial 103 with parameters {'path_penalty': 4.737096, 'loss_penalty': 0.0, 'score_factor': 1.653468} using model GPEI.\n",
      "[INFO 10-25 13:06:10] ax.service.ax_client: Completed trial 103 with data: {'objective': (0.86, None)}.\n"
     ]
    },
    {
     "name": "stdout",
     "output_type": "stream",
     "text": [
      "45680.64 0.86\n"
     ]
    },
    {
     "name": "stderr",
     "output_type": "stream",
     "text": [
      "[INFO 10-25 13:06:12] ax.service.ax_client: Generated new trial 104 with parameters {'path_penalty': 4.862235, 'loss_penalty': 10.0, 'score_factor': 1.529694} using model GPEI.\n",
      "[INFO 10-25 13:06:57] ax.service.ax_client: Completed trial 104 with data: {'objective': (0.92, None)}.\n"
     ]
    },
    {
     "name": "stdout",
     "output_type": "stream",
     "text": [
      "50327.84 0.92\n"
     ]
    },
    {
     "name": "stderr",
     "output_type": "stream",
     "text": [
      "[INFO 10-25 13:06:59] ax.service.ax_client: Generated new trial 105 with parameters {'path_penalty': 4.405038, 'loss_penalty': 10.0, 'score_factor': 1.696838} using model GPEI.\n",
      "[INFO 10-25 13:07:43] ax.service.ax_client: Completed trial 105 with data: {'objective': (0.9, None)}.\n"
     ]
    },
    {
     "name": "stdout",
     "output_type": "stream",
     "text": [
      "45937.36 0.9\n"
     ]
    },
    {
     "name": "stderr",
     "output_type": "stream",
     "text": [
      "[INFO 10-25 13:07:45] ax.service.ax_client: Generated new trial 106 with parameters {'path_penalty': 3.141374, 'loss_penalty': 10.0, 'score_factor': 5.0} using model GPEI.\n",
      "[INFO 10-25 13:08:17] ax.service.ax_client: Completed trial 106 with data: {'objective': (0.58, None)}.\n"
     ]
    },
    {
     "name": "stdout",
     "output_type": "stream",
     "text": [
      "27575.04 0.58\n"
     ]
    },
    {
     "name": "stderr",
     "output_type": "stream",
     "text": [
      "[INFO 10-25 13:08:18] ax.service.ax_client: Generated new trial 107 with parameters {'path_penalty': 4.538137, 'loss_penalty': 10.0, 'score_factor': 1.830727} using model GPEI.\n",
      "[INFO 10-25 13:09:04] ax.service.ax_client: Completed trial 107 with data: {'objective': (0.9, None)}.\n"
     ]
    },
    {
     "name": "stdout",
     "output_type": "stream",
     "text": [
      "46982.48 0.9\n"
     ]
    },
    {
     "name": "stderr",
     "output_type": "stream",
     "text": [
      "[INFO 10-25 13:09:07] ax.service.ax_client: Generated new trial 108 with parameters {'path_penalty': 9.215333, 'loss_penalty': 1.100342, 'score_factor': 5.0} using model GPEI.\n",
      "[INFO 10-25 13:09:49] ax.service.ax_client: Completed trial 108 with data: {'objective': (0.9, None)}.\n"
     ]
    },
    {
     "name": "stdout",
     "output_type": "stream",
     "text": [
      "43096.24 0.9\n"
     ]
    },
    {
     "name": "stderr",
     "output_type": "stream",
     "text": [
      "[INFO 10-25 13:09:51] ax.service.ax_client: Generated new trial 109 with parameters {'path_penalty': 9.14172, 'loss_penalty': 7.018821, 'score_factor': 4.509579} using model GPEI.\n",
      "[INFO 10-25 13:10:34] ax.service.ax_client: Completed trial 109 with data: {'objective': (0.92, None)}.\n"
     ]
    },
    {
     "name": "stdout",
     "output_type": "stream",
     "text": [
      "44787.84 0.92\n",
      "The best parameters are: {'path_penalty': 4.538136591937287, 'loss_penalty': 10.0, 'score_factor': 1.8307266539837497}\n",
      "with score ({'objective': 0.8791024169040762}, {'objective': {'objective': 0.00013430486593813665}})\n"
     ]
    },
    {
     "name": "stderr",
     "output_type": "stream",
     "text": [
      "/home/kylemcmaster/.local/lib/python3.10/site-packages/ax/utils/stats/model_fit_stats.py:199: RuntimeWarning: divide by zero encountered in divide\n",
      "  return float(np.mean(1.96 * 2 * se_pred / np.abs(y_obs)))\n",
      "/home/kylemcmaster/.local/lib/python3.10/site-packages/ax/utils/stats/model_fit_stats.py:229: RuntimeWarning: divide by zero encountered in scalar divide\n",
      "  return float((np.max(y_obs) - min_y_obs) / min_y_obs)\n"
     ]
    }
   ],
   "source": [
    "import pandas as pd\n",
    "from ax.service.ax_client import AxClient\n",
    "from ax.modelbridge.registry import Models\n",
    "from ax.modelbridge.generation_strategy import GenerationStrategy, GenerationStep\n",
    "\n",
    "generation_strategy = GenerationStrategy(\n",
    "    steps=[\n",
    "        GenerationStep(model=Models.SOBOL, num_trials=10),\n",
    "        GenerationStep(model=Models.GPEI, num_trials=-1),   # GPEI for the rest of the trials\n",
    "    ]\n",
    ")\n",
    "ax_client = AxClient(generation_strategy=generation_strategy)\n",
    "# ax_client = AxClient()\n",
    "ax_client.create_experiment(name='optimize Params',\n",
    "                            parameters=[\n",
    "                                {'name': 'path_penalty',\n",
    "                                    'type': 'range',\n",
    "                                    'bounds': [0.0, 10.0]},\n",
    "                                {'name': 'loss_penalty',\n",
    "                                    'type': 'range',\n",
    "                                    'bounds': [0.0, 10.0]},\n",
    "                                {'name': 'score_factor',\n",
    "                                    'type': 'range',\n",
    "                                    'bounds': [0.0, 5.0]},\n",
    "                            ],\n",
    ")\n",
    "\n",
    "for i in range(10):\n",
    "    parameters, trial_index = ax_client.get_next_trial()\n",
    "    ax_client.complete_trial(trial_index=trial_index, raw_data=perform_trial(parameters))\n",
    "\n",
    "\n",
    "for i in range(100):\n",
    "    parameters, trial_index = ax_client.get_next_trial()\n",
    "    ax_client.complete_trial(trial_index=trial_index, raw_data=perform_trial(parameters))\n",
    "\n",
    "best_parameters, metrics = ax_client.get_best_parameters()\n",
    "print(f'The best parameters are: {best_parameters}')\n",
    "print(f'with score {metrics}')"
   ]
  },
  {
   "cell_type": "code",
   "execution_count": 15,
   "metadata": {},
   "outputs": [
    {
     "name": "stderr",
     "output_type": "stream",
     "text": [
      "/home/kylemcmaster/.local/lib/python3.10/site-packages/botorch/optim/optimize.py:568: RuntimeWarning: Optimization failed in `gen_candidates_scipy` with the following warning(s):\n",
      "[NumericalWarning('A not p.d., added jitter of 1.0e-08 to the diagonal'), OptimizationWarning('Optimization failed within `scipy.optimize.minimize` with status 2 and message ABNORMAL_TERMINATION_IN_LNSRCH.'), NumericalWarning('A not p.d., added jitter of 1.0e-08 to the diagonal')]\n",
      "Trying again with a new set of initial conditions.\n",
      "  return _optimize_acqf_batch(opt_inputs=opt_inputs)\n",
      "/home/kylemcmaster/.local/lib/python3.10/site-packages/botorch/optim/optimize.py:568: RuntimeWarning: Optimization failed on the second try, after generating a new set of initial conditions.\n",
      "  return _optimize_acqf_batch(opt_inputs=opt_inputs)\n",
      "[INFO 10-25 14:40:15] ax.service.ax_client: Generated new trial 170 with parameters {'path_penalty': 8.569364, 'loss_penalty': 10.0, 'score_factor': 3.368086} using model GPEI.\n",
      "[INFO 10-25 14:40:57] ax.service.ax_client: Completed trial 170 with data: {'objective': (0.9, None)}.\n"
     ]
    },
    {
     "name": "stdout",
     "output_type": "stream",
     "text": [
      "43704.0 0.9\n"
     ]
    },
    {
     "name": "stderr",
     "output_type": "stream",
     "text": [
      "[INFO 10-25 14:41:01] ax.service.ax_client: Generated new trial 171 with parameters {'path_penalty': 8.225801, 'loss_penalty': 6.057868, 'score_factor': 2.202495} using model GPEI.\n",
      "[INFO 10-25 14:41:41] ax.service.ax_client: Completed trial 171 with data: {'objective': (0.84, None)}.\n"
     ]
    },
    {
     "name": "stdout",
     "output_type": "stream",
     "text": [
      "38925.92 0.84\n"
     ]
    },
    {
     "name": "stderr",
     "output_type": "stream",
     "text": [
      "/home/kylemcmaster/.local/lib/python3.10/site-packages/botorch/optim/optimize.py:568: RuntimeWarning: Optimization failed in `gen_candidates_scipy` with the following warning(s):\n",
      "[OptimizationWarning('Optimization failed within `scipy.optimize.minimize` with status 2 and message ABNORMAL_TERMINATION_IN_LNSRCH.'), OptimizationWarning('Optimization failed within `scipy.optimize.minimize` with status 2 and message ABNORMAL_TERMINATION_IN_LNSRCH.'), OptimizationWarning('Optimization failed within `scipy.optimize.minimize` with status 2 and message ABNORMAL_TERMINATION_IN_LNSRCH.')]\n",
      "Trying again with a new set of initial conditions.\n",
      "  return _optimize_acqf_batch(opt_inputs=opt_inputs)\n",
      "/home/kylemcmaster/.local/lib/python3.10/site-packages/botorch/optim/optimize.py:568: RuntimeWarning: Optimization failed on the second try, after generating a new set of initial conditions.\n",
      "  return _optimize_acqf_batch(opt_inputs=opt_inputs)\n",
      "[INFO 10-25 14:41:46] ax.service.ax_client: Generated new trial 172 with parameters {'path_penalty': 4.279822, 'loss_penalty': 0.0, 'score_factor': 2.004791} using model GPEI.\n",
      "[INFO 10-25 14:42:30] ax.service.ax_client: Completed trial 172 with data: {'objective': (0.84, None)}.\n"
     ]
    },
    {
     "name": "stdout",
     "output_type": "stream",
     "text": [
      "45325.28 0.84\n"
     ]
    },
    {
     "name": "stderr",
     "output_type": "stream",
     "text": [
      "/home/kylemcmaster/.local/lib/python3.10/site-packages/botorch/optim/optimize.py:568: RuntimeWarning: Optimization failed in `gen_candidates_scipy` with the following warning(s):\n",
      "[NumericalWarning('A not p.d., added jitter of 1.0e-08 to the diagonal'), NumericalWarning('A not p.d., added jitter of 1.0e-08 to the diagonal'), OptimizationWarning('Optimization failed within `scipy.optimize.minimize` with status 2 and message ABNORMAL_TERMINATION_IN_LNSRCH.'), NumericalWarning('A not p.d., added jitter of 1.0e-08 to the diagonal'), OptimizationWarning('Optimization failed within `scipy.optimize.minimize` with status 2 and message ABNORMAL_TERMINATION_IN_LNSRCH.')]\n",
      "Trying again with a new set of initial conditions.\n",
      "  return _optimize_acqf_batch(opt_inputs=opt_inputs)\n",
      "/home/kylemcmaster/.local/lib/python3.10/site-packages/botorch/optim/optimize.py:568: RuntimeWarning: Optimization failed on the second try, after generating a new set of initial conditions.\n",
      "  return _optimize_acqf_batch(opt_inputs=opt_inputs)\n",
      "[INFO 10-25 14:42:36] ax.service.ax_client: Generated new trial 173 with parameters {'path_penalty': 4.390092, 'loss_penalty': 0.0, 'score_factor': 1.482353} using model GPEI.\n",
      "[INFO 10-25 14:43:15] ax.service.ax_client: Completed trial 173 with data: {'objective': (0.78, None)}.\n"
     ]
    },
    {
     "name": "stdout",
     "output_type": "stream",
     "text": [
      "41769.12 0.78\n"
     ]
    },
    {
     "name": "stderr",
     "output_type": "stream",
     "text": [
      "/home/kylemcmaster/.local/lib/python3.10/site-packages/botorch/optim/optimize.py:568: RuntimeWarning: Optimization failed in `gen_candidates_scipy` with the following warning(s):\n",
      "[OptimizationWarning('Optimization failed within `scipy.optimize.minimize` with status 2 and message ABNORMAL_TERMINATION_IN_LNSRCH.'), NumericalWarning('A not p.d., added jitter of 1.0e-08 to the diagonal')]\n",
      "Trying again with a new set of initial conditions.\n",
      "  return _optimize_acqf_batch(opt_inputs=opt_inputs)\n",
      "/home/kylemcmaster/.local/lib/python3.10/site-packages/botorch/optim/optimize.py:568: RuntimeWarning: Optimization failed on the second try, after generating a new set of initial conditions.\n",
      "  return _optimize_acqf_batch(opt_inputs=opt_inputs)\n",
      "[INFO 10-25 14:43:21] ax.service.ax_client: Generated new trial 174 with parameters {'path_penalty': 6.434925, 'loss_penalty': 10.0, 'score_factor': 1.867651} using model GPEI.\n",
      "[INFO 10-25 14:44:11] ax.service.ax_client: Completed trial 174 with data: {'objective': (0.9, None)}.\n"
     ]
    },
    {
     "name": "stdout",
     "output_type": "stream",
     "text": [
      "48846.16 0.9\n"
     ]
    },
    {
     "name": "stderr",
     "output_type": "stream",
     "text": [
      "/home/kylemcmaster/.local/lib/python3.10/site-packages/botorch/optim/optimize.py:568: RuntimeWarning: Optimization failed in `gen_candidates_scipy` with the following warning(s):\n",
      "[OptimizationWarning('Optimization failed within `scipy.optimize.minimize` with status 2 and message ABNORMAL_TERMINATION_IN_LNSRCH.'), OptimizationWarning('Optimization failed within `scipy.optimize.minimize` with status 2 and message ABNORMAL_TERMINATION_IN_LNSRCH.')]\n",
      "Trying again with a new set of initial conditions.\n",
      "  return _optimize_acqf_batch(opt_inputs=opt_inputs)\n",
      "/home/kylemcmaster/.local/lib/python3.10/site-packages/botorch/optim/optimize.py:568: RuntimeWarning: Optimization failed on the second try, after generating a new set of initial conditions.\n",
      "  return _optimize_acqf_batch(opt_inputs=opt_inputs)\n",
      "[INFO 10-25 14:44:19] ax.service.ax_client: Generated new trial 175 with parameters {'path_penalty': 8.668614, 'loss_penalty': 10.0, 'score_factor': 3.547909} using model GPEI.\n",
      "[INFO 10-25 14:45:06] ax.service.ax_client: Completed trial 175 with data: {'objective': (0.84, None)}.\n"
     ]
    },
    {
     "name": "stdout",
     "output_type": "stream",
     "text": [
      "47217.6 0.84\n"
     ]
    },
    {
     "name": "stderr",
     "output_type": "stream",
     "text": [
      "/home/kylemcmaster/.local/lib/python3.10/site-packages/botorch/optim/optimize.py:568: RuntimeWarning: Optimization failed in `gen_candidates_scipy` with the following warning(s):\n",
      "[NumericalWarning('A not p.d., added jitter of 1.0e-08 to the diagonal'), OptimizationWarning('Optimization failed within `scipy.optimize.minimize` with status 2 and message ABNORMAL_TERMINATION_IN_LNSRCH.'), NumericalWarning('A not p.d., added jitter of 1.0e-08 to the diagonal'), OptimizationWarning('Optimization failed within `scipy.optimize.minimize` with status 2 and message ABNORMAL_TERMINATION_IN_LNSRCH.'), OptimizationWarning('Optimization failed within `scipy.optimize.minimize` with status 2 and message ABNORMAL_TERMINATION_IN_LNSRCH.')]\n",
      "Trying again with a new set of initial conditions.\n",
      "  return _optimize_acqf_batch(opt_inputs=opt_inputs)\n",
      "[INFO 10-25 14:45:13] ax.service.ax_client: Generated new trial 176 with parameters {'path_penalty': 9.459553, 'loss_penalty': 10.0, 'score_factor': 4.194901} using model GPEI.\n",
      "[INFO 10-25 14:45:59] ax.service.ax_client: Completed trial 176 with data: {'objective': (0.84, None)}.\n"
     ]
    },
    {
     "name": "stdout",
     "output_type": "stream",
     "text": [
      "47215.84 0.84\n"
     ]
    },
    {
     "name": "stderr",
     "output_type": "stream",
     "text": [
      "/home/kylemcmaster/.local/lib/python3.10/site-packages/linear_operator/utils/cholesky.py:40: NumericalWarning: A not p.d., added jitter of 1.0e-08 to the diagonal\n",
      "  warnings.warn(\n",
      "/home/kylemcmaster/.local/lib/python3.10/site-packages/botorch/optim/optimize.py:568: RuntimeWarning: Optimization failed in `gen_candidates_scipy` with the following warning(s):\n",
      "[OptimizationWarning('Optimization failed within `scipy.optimize.minimize` with status 2 and message ABNORMAL_TERMINATION_IN_LNSRCH.'), OptimizationWarning('Optimization failed within `scipy.optimize.minimize` with status 2 and message ABNORMAL_TERMINATION_IN_LNSRCH.')]\n",
      "Trying again with a new set of initial conditions.\n",
      "  return _optimize_acqf_batch(opt_inputs=opt_inputs)\n",
      "/home/kylemcmaster/.local/lib/python3.10/site-packages/botorch/optim/optimize.py:568: RuntimeWarning: Optimization failed on the second try, after generating a new set of initial conditions.\n",
      "  return _optimize_acqf_batch(opt_inputs=opt_inputs)\n",
      "[INFO 10-25 14:46:06] ax.service.ax_client: Generated new trial 177 with parameters {'path_penalty': 5.963236, 'loss_penalty': 10.0, 'score_factor': 1.98119} using model GPEI.\n",
      "[INFO 10-25 14:46:52] ax.service.ax_client: Completed trial 177 with data: {'objective': (0.82, None)}.\n"
     ]
    },
    {
     "name": "stdout",
     "output_type": "stream",
     "text": [
      "44305.2 0.82\n"
     ]
    },
    {
     "name": "stderr",
     "output_type": "stream",
     "text": [
      "/home/kylemcmaster/.local/lib/python3.10/site-packages/botorch/optim/optimize.py:568: RuntimeWarning: Optimization failed in `gen_candidates_scipy` with the following warning(s):\n",
      "[OptimizationWarning('Optimization failed within `scipy.optimize.minimize` with status 2 and message ABNORMAL_TERMINATION_IN_LNSRCH.'), OptimizationWarning('Optimization failed within `scipy.optimize.minimize` with status 2 and message ABNORMAL_TERMINATION_IN_LNSRCH.'), OptimizationWarning('Optimization failed within `scipy.optimize.minimize` with status 2 and message ABNORMAL_TERMINATION_IN_LNSRCH.')]\n",
      "Trying again with a new set of initial conditions.\n",
      "  return _optimize_acqf_batch(opt_inputs=opt_inputs)\n",
      "/home/kylemcmaster/.local/lib/python3.10/site-packages/botorch/optim/optimize.py:568: RuntimeWarning: Optimization failed on the second try, after generating a new set of initial conditions.\n",
      "  return _optimize_acqf_batch(opt_inputs=opt_inputs)\n",
      "[INFO 10-25 14:46:59] ax.service.ax_client: Generated new trial 178 with parameters {'path_penalty': 8.587729, 'loss_penalty': 10.0, 'score_factor': 3.08973} using model GPEI.\n",
      "[INFO 10-25 14:47:46] ax.service.ax_client: Completed trial 178 with data: {'objective': (0.9, None)}.\n"
     ]
    },
    {
     "name": "stdout",
     "output_type": "stream",
     "text": [
      "46050.48 0.9\n"
     ]
    },
    {
     "name": "stderr",
     "output_type": "stream",
     "text": [
      "/home/kylemcmaster/.local/lib/python3.10/site-packages/botorch/optim/optimize.py:568: RuntimeWarning: Optimization failed in `gen_candidates_scipy` with the following warning(s):\n",
      "[NumericalWarning('A not p.d., added jitter of 1.0e-08 to the diagonal'), NumericalWarning('A not p.d., added jitter of 1.0e-08 to the diagonal'), OptimizationWarning('Optimization failed within `scipy.optimize.minimize` with status 2 and message ABNORMAL_TERMINATION_IN_LNSRCH.'), NumericalWarning('A not p.d., added jitter of 1.0e-08 to the diagonal'), NumericalWarning('A not p.d., added jitter of 1.0e-08 to the diagonal'), OptimizationWarning('Optimization failed within `scipy.optimize.minimize` with status 2 and message ABNORMAL_TERMINATION_IN_LNSRCH.')]\n",
      "Trying again with a new set of initial conditions.\n",
      "  return _optimize_acqf_batch(opt_inputs=opt_inputs)\n",
      "/home/kylemcmaster/.local/lib/python3.10/site-packages/botorch/optim/optimize.py:568: RuntimeWarning: Optimization failed on the second try, after generating a new set of initial conditions.\n",
      "  return _optimize_acqf_batch(opt_inputs=opt_inputs)\n",
      "[INFO 10-25 14:47:51] ax.service.ax_client: Generated new trial 179 with parameters {'path_penalty': 8.422916, 'loss_penalty': 10.0, 'score_factor': 2.855187} using model GPEI.\n",
      "[INFO 10-25 14:48:36] ax.service.ax_client: Completed trial 179 with data: {'objective': (0.86, None)}.\n"
     ]
    },
    {
     "name": "stdout",
     "output_type": "stream",
     "text": [
      "46021.52 0.86\n"
     ]
    },
    {
     "name": "stderr",
     "output_type": "stream",
     "text": [
      "/home/kylemcmaster/.local/lib/python3.10/site-packages/botorch/optim/optimize.py:568: RuntimeWarning: Optimization failed in `gen_candidates_scipy` with the following warning(s):\n",
      "[OptimizationWarning('Optimization failed within `scipy.optimize.minimize` with status 2 and message ABNORMAL_TERMINATION_IN_LNSRCH.')]\n",
      "Trying again with a new set of initial conditions.\n",
      "  return _optimize_acqf_batch(opt_inputs=opt_inputs)\n",
      "/home/kylemcmaster/.local/lib/python3.10/site-packages/botorch/optim/optimize.py:568: RuntimeWarning: Optimization failed on the second try, after generating a new set of initial conditions.\n",
      "  return _optimize_acqf_batch(opt_inputs=opt_inputs)\n",
      "[INFO 10-25 14:48:44] ax.service.ax_client: Generated new trial 180 with parameters {'path_penalty': 3.128452, 'loss_penalty': 10.0, 'score_factor': 2.508715} using model GPEI.\n",
      "[INFO 10-25 14:49:24] ax.service.ax_client: Completed trial 180 with data: {'objective': (0.82, None)}.\n"
     ]
    },
    {
     "name": "stdout",
     "output_type": "stream",
     "text": [
      "36220.96 0.82\n"
     ]
    },
    {
     "name": "stderr",
     "output_type": "stream",
     "text": [
      "/home/kylemcmaster/.local/lib/python3.10/site-packages/botorch/optim/optimize.py:568: RuntimeWarning: Optimization failed in `gen_candidates_scipy` with the following warning(s):\n",
      "[NumericalWarning('A not p.d., added jitter of 1.0e-08 to the diagonal'), OptimizationWarning('Optimization failed within `scipy.optimize.minimize` with status 2 and message ABNORMAL_TERMINATION_IN_LNSRCH.'), NumericalWarning('A not p.d., added jitter of 1.0e-08 to the diagonal')]\n",
      "Trying again with a new set of initial conditions.\n",
      "  return _optimize_acqf_batch(opt_inputs=opt_inputs)\n",
      "/home/kylemcmaster/.local/lib/python3.10/site-packages/botorch/optim/optimize.py:568: RuntimeWarning: Optimization failed on the second try, after generating a new set of initial conditions.\n",
      "  return _optimize_acqf_batch(opt_inputs=opt_inputs)\n",
      "[INFO 10-25 14:49:31] ax.service.ax_client: Generated new trial 181 with parameters {'path_penalty': 6.908878, 'loss_penalty': 0.0, 'score_factor': 2.54275} using model GPEI.\n",
      "[INFO 10-25 14:50:18] ax.service.ax_client: Completed trial 181 with data: {'objective': (0.84, None)}.\n"
     ]
    },
    {
     "name": "stdout",
     "output_type": "stream",
     "text": [
      "46381.2 0.84\n"
     ]
    },
    {
     "name": "stderr",
     "output_type": "stream",
     "text": [
      "/home/kylemcmaster/.local/lib/python3.10/site-packages/linear_operator/utils/cholesky.py:40: NumericalWarning: A not p.d., added jitter of 1.0e-08 to the diagonal\n",
      "  warnings.warn(\n",
      "/home/kylemcmaster/.local/lib/python3.10/site-packages/botorch/optim/optimize.py:568: RuntimeWarning: Optimization failed in `gen_candidates_scipy` with the following warning(s):\n",
      "[OptimizationWarning('Optimization failed within `scipy.optimize.minimize` with status 2 and message ABNORMAL_TERMINATION_IN_LNSRCH.'), OptimizationWarning('Optimization failed within `scipy.optimize.minimize` with status 2 and message ABNORMAL_TERMINATION_IN_LNSRCH.'), NumericalWarning('A not p.d., added jitter of 1.0e-08 to the diagonal'), OptimizationWarning('Optimization failed within `scipy.optimize.minimize` with status 2 and message ABNORMAL_TERMINATION_IN_LNSRCH.')]\n",
      "Trying again with a new set of initial conditions.\n",
      "  return _optimize_acqf_batch(opt_inputs=opt_inputs)\n",
      "/home/kylemcmaster/.local/lib/python3.10/site-packages/botorch/optim/optimize.py:568: RuntimeWarning: Optimization failed on the second try, after generating a new set of initial conditions.\n",
      "  return _optimize_acqf_batch(opt_inputs=opt_inputs)\n",
      "[INFO 10-25 14:50:25] ax.service.ax_client: Generated new trial 182 with parameters {'path_penalty': 10.0, 'loss_penalty': 10.0, 'score_factor': 4.812473} using model GPEI.\n",
      "[INFO 10-25 14:51:13] ax.service.ax_client: Completed trial 182 with data: {'objective': (0.86, None)}.\n"
     ]
    },
    {
     "name": "stdout",
     "output_type": "stream",
     "text": [
      "45956.08 0.86\n"
     ]
    },
    {
     "name": "stderr",
     "output_type": "stream",
     "text": [
      "/home/kylemcmaster/.local/lib/python3.10/site-packages/linear_operator/utils/cholesky.py:40: NumericalWarning: A not p.d., added jitter of 1.0e-08 to the diagonal\n",
      "  warnings.warn(\n",
      "/home/kylemcmaster/.local/lib/python3.10/site-packages/botorch/optim/optimize.py:568: RuntimeWarning: Optimization failed in `gen_candidates_scipy` with the following warning(s):\n",
      "[NumericalWarning('A not p.d., added jitter of 1.0e-08 to the diagonal'), NumericalWarning('A not p.d., added jitter of 1.0e-08 to the diagonal'), OptimizationWarning('Optimization failed within `scipy.optimize.minimize` with status 2 and message ABNORMAL_TERMINATION_IN_LNSRCH.'), NumericalWarning('A not p.d., added jitter of 1.0e-08 to the diagonal')]\n",
      "Trying again with a new set of initial conditions.\n",
      "  return _optimize_acqf_batch(opt_inputs=opt_inputs)\n",
      "/home/kylemcmaster/.local/lib/python3.10/site-packages/botorch/optim/optimize.py:568: RuntimeWarning: Optimization failed on the second try, after generating a new set of initial conditions.\n",
      "  return _optimize_acqf_batch(opt_inputs=opt_inputs)\n",
      "[INFO 10-25 14:51:19] ax.service.ax_client: Generated new trial 183 with parameters {'path_penalty': 9.237837, 'loss_penalty': 8.087062, 'score_factor': 4.862477} using model GPEI.\n",
      "[INFO 10-25 14:52:04] ax.service.ax_client: Completed trial 183 with data: {'objective': (0.9, None)}.\n"
     ]
    },
    {
     "name": "stdout",
     "output_type": "stream",
     "text": [
      "44848.08 0.9\n"
     ]
    },
    {
     "name": "stderr",
     "output_type": "stream",
     "text": [
      "/home/kylemcmaster/.local/lib/python3.10/site-packages/linear_operator/utils/cholesky.py:40: NumericalWarning: A not p.d., added jitter of 1.0e-08 to the diagonal\n",
      "  warnings.warn(\n",
      "/home/kylemcmaster/.local/lib/python3.10/site-packages/botorch/optim/optimize.py:568: RuntimeWarning: Optimization failed in `gen_candidates_scipy` with the following warning(s):\n",
      "[OptimizationWarning('Optimization failed within `scipy.optimize.minimize` with status 2 and message ABNORMAL_TERMINATION_IN_LNSRCH.'), NumericalWarning('A not p.d., added jitter of 1.0e-08 to the diagonal')]\n",
      "Trying again with a new set of initial conditions.\n",
      "  return _optimize_acqf_batch(opt_inputs=opt_inputs)\n",
      "/home/kylemcmaster/.local/lib/python3.10/site-packages/botorch/optim/optimize.py:568: RuntimeWarning: Optimization failed on the second try, after generating a new set of initial conditions.\n",
      "  return _optimize_acqf_batch(opt_inputs=opt_inputs)\n",
      "[INFO 10-25 14:52:10] ax.service.ax_client: Generated new trial 184 with parameters {'path_penalty': 9.12676, 'loss_penalty': 0.0, 'score_factor': 4.036277} using model GPEI.\n",
      "[INFO 10-25 14:52:55] ax.service.ax_client: Completed trial 184 with data: {'objective': (0.84, None)}.\n"
     ]
    },
    {
     "name": "stdout",
     "output_type": "stream",
     "text": [
      "44395.84 0.84\n"
     ]
    },
    {
     "name": "stderr",
     "output_type": "stream",
     "text": [
      "/home/kylemcmaster/.local/lib/python3.10/site-packages/linear_operator/utils/cholesky.py:40: NumericalWarning: A not p.d., added jitter of 1.0e-08 to the diagonal\n",
      "  warnings.warn(\n",
      "/home/kylemcmaster/.local/lib/python3.10/site-packages/botorch/optim/optimize.py:568: RuntimeWarning: Optimization failed in `gen_candidates_scipy` with the following warning(s):\n",
      "[NumericalWarning('A not p.d., added jitter of 1.0e-08 to the diagonal'), OptimizationWarning('Optimization failed within `scipy.optimize.minimize` with status 2 and message ABNORMAL_TERMINATION_IN_LNSRCH.'), NumericalWarning('A not p.d., added jitter of 1.0e-08 to the diagonal'), OptimizationWarning('Optimization failed within `scipy.optimize.minimize` with status 2 and message ABNORMAL_TERMINATION_IN_LNSRCH.'), OptimizationWarning('Optimization failed within `scipy.optimize.minimize` with status 2 and message ABNORMAL_TERMINATION_IN_LNSRCH.')]\n",
      "Trying again with a new set of initial conditions.\n",
      "  return _optimize_acqf_batch(opt_inputs=opt_inputs)\n",
      "/home/kylemcmaster/.local/lib/python3.10/site-packages/botorch/optim/optimize.py:568: RuntimeWarning: Optimization failed on the second try, after generating a new set of initial conditions.\n",
      "  return _optimize_acqf_batch(opt_inputs=opt_inputs)\n",
      "[INFO 10-25 14:53:02] ax.service.ax_client: Generated new trial 185 with parameters {'path_penalty': 10.0, 'loss_penalty': 0.0, 'score_factor': 4.867115} using model GPEI.\n",
      "[INFO 10-25 14:53:49] ax.service.ax_client: Completed trial 185 with data: {'objective': (0.9, None)}.\n"
     ]
    },
    {
     "name": "stdout",
     "output_type": "stream",
     "text": [
      "46179.6 0.9\n"
     ]
    },
    {
     "name": "stderr",
     "output_type": "stream",
     "text": [
      "/home/kylemcmaster/.local/lib/python3.10/site-packages/linear_operator/utils/cholesky.py:40: NumericalWarning: A not p.d., added jitter of 1.0e-08 to the diagonal\n",
      "  warnings.warn(\n",
      "/home/kylemcmaster/.local/lib/python3.10/site-packages/botorch/optim/optimize.py:568: RuntimeWarning: Optimization failed in `gen_candidates_scipy` with the following warning(s):\n",
      "[OptimizationWarning('Optimization failed within `scipy.optimize.minimize` with status 2 and message ABNORMAL_TERMINATION_IN_LNSRCH.'), NumericalWarning('A not p.d., added jitter of 1.0e-08 to the diagonal'), NumericalWarning('A not p.d., added jitter of 1.0e-08 to the diagonal')]\n",
      "Trying again with a new set of initial conditions.\n",
      "  return _optimize_acqf_batch(opt_inputs=opt_inputs)\n",
      "/home/kylemcmaster/.local/lib/python3.10/site-packages/botorch/optim/optimize.py:568: RuntimeWarning: Optimization failed on the second try, after generating a new set of initial conditions.\n",
      "  return _optimize_acqf_batch(opt_inputs=opt_inputs)\n",
      "[INFO 10-25 14:53:56] ax.service.ax_client: Generated new trial 186 with parameters {'path_penalty': 9.788838, 'loss_penalty': 0.0, 'score_factor': 4.718468} using model GPEI.\n",
      "[INFO 10-25 14:54:42] ax.service.ax_client: Completed trial 186 with data: {'objective': (0.86, None)}.\n"
     ]
    },
    {
     "name": "stdout",
     "output_type": "stream",
     "text": [
      "43622.08 0.86\n"
     ]
    },
    {
     "name": "stderr",
     "output_type": "stream",
     "text": [
      "/home/kylemcmaster/.local/lib/python3.10/site-packages/linear_operator/utils/cholesky.py:40: NumericalWarning: A not p.d., added jitter of 1.0e-08 to the diagonal\n",
      "  warnings.warn(\n",
      "/home/kylemcmaster/.local/lib/python3.10/site-packages/botorch/optim/optimize.py:568: RuntimeWarning: Optimization failed in `gen_candidates_scipy` with the following warning(s):\n",
      "[OptimizationWarning('Optimization failed within `scipy.optimize.minimize` with status 2 and message ABNORMAL_TERMINATION_IN_LNSRCH.'), OptimizationWarning('Optimization failed within `scipy.optimize.minimize` with status 2 and message ABNORMAL_TERMINATION_IN_LNSRCH.'), OptimizationWarning('Optimization failed within `scipy.optimize.minimize` with status 2 and message ABNORMAL_TERMINATION_IN_LNSRCH.'), NumericalWarning('A not p.d., added jitter of 1.0e-08 to the diagonal'), OptimizationWarning('Optimization failed within `scipy.optimize.minimize` with status 2 and message ABNORMAL_TERMINATION_IN_LNSRCH.')]\n",
      "Trying again with a new set of initial conditions.\n",
      "  return _optimize_acqf_batch(opt_inputs=opt_inputs)\n",
      "/home/kylemcmaster/.local/lib/python3.10/site-packages/botorch/optim/optimize.py:568: RuntimeWarning: Optimization failed on the second try, after generating a new set of initial conditions.\n",
      "  return _optimize_acqf_batch(opt_inputs=opt_inputs)\n",
      "[INFO 10-25 14:54:49] ax.service.ax_client: Generated new trial 187 with parameters {'path_penalty': 9.801583, 'loss_penalty': 10.0, 'score_factor': 5.0} using model GPEI.\n",
      "[INFO 10-25 14:55:33] ax.service.ax_client: Completed trial 187 with data: {'objective': (0.9, None)}.\n"
     ]
    },
    {
     "name": "stdout",
     "output_type": "stream",
     "text": [
      "45328.32 0.9\n"
     ]
    },
    {
     "name": "stderr",
     "output_type": "stream",
     "text": [
      "/home/kylemcmaster/.local/lib/python3.10/site-packages/botorch/optim/optimize.py:568: RuntimeWarning: Optimization failed in `gen_candidates_scipy` with the following warning(s):\n",
      "[NumericalWarning('A not p.d., added jitter of 1.0e-08 to the diagonal'), OptimizationWarning('Optimization failed within `scipy.optimize.minimize` with status 2 and message ABNORMAL_TERMINATION_IN_LNSRCH.'), NumericalWarning('A not p.d., added jitter of 1.0e-08 to the diagonal'), OptimizationWarning('Optimization failed within `scipy.optimize.minimize` with status 2 and message ABNORMAL_TERMINATION_IN_LNSRCH.'), NumericalWarning('A not p.d., added jitter of 1.0e-08 to the diagonal'), OptimizationWarning('Optimization failed within `scipy.optimize.minimize` with status 2 and message ABNORMAL_TERMINATION_IN_LNSRCH.')]\n",
      "Trying again with a new set of initial conditions.\n",
      "  return _optimize_acqf_batch(opt_inputs=opt_inputs)\n",
      "/home/kylemcmaster/.local/lib/python3.10/site-packages/botorch/optim/optimize.py:568: RuntimeWarning: Optimization failed on the second try, after generating a new set of initial conditions.\n",
      "  return _optimize_acqf_batch(opt_inputs=opt_inputs)\n",
      "[INFO 10-25 14:55:40] ax.service.ax_client: Generated new trial 188 with parameters {'path_penalty': 9.777523, 'loss_penalty': 0.0, 'score_factor': 5.0} using model GPEI.\n",
      "[INFO 10-25 14:56:22] ax.service.ax_client: Completed trial 188 with data: {'objective': (0.84, None)}.\n"
     ]
    },
    {
     "name": "stdout",
     "output_type": "stream",
     "text": [
      "38531.44 0.84\n"
     ]
    },
    {
     "name": "stderr",
     "output_type": "stream",
     "text": [
      "/home/kylemcmaster/.local/lib/python3.10/site-packages/linear_operator/utils/cholesky.py:40: NumericalWarning: A not p.d., added jitter of 1.0e-08 to the diagonal\n",
      "  warnings.warn(\n",
      "/home/kylemcmaster/.local/lib/python3.10/site-packages/botorch/optim/optimize.py:568: RuntimeWarning: Optimization failed in `gen_candidates_scipy` with the following warning(s):\n",
      "[NumericalWarning('A not p.d., added jitter of 1.0e-08 to the diagonal'), OptimizationWarning('Optimization failed within `scipy.optimize.minimize` with status 2 and message ABNORMAL_TERMINATION_IN_LNSRCH.'), NumericalWarning('A not p.d., added jitter of 1.0e-08 to the diagonal'), NumericalWarning('A not p.d., added jitter of 1.0e-08 to the diagonal'), NumericalWarning('A not p.d., added jitter of 1.0e-08 to the diagonal'), OptimizationWarning('Optimization failed within `scipy.optimize.minimize` with status 2 and message ABNORMAL_TERMINATION_IN_LNSRCH.')]\n",
      "Trying again with a new set of initial conditions.\n",
      "  return _optimize_acqf_batch(opt_inputs=opt_inputs)\n",
      "/home/kylemcmaster/.local/lib/python3.10/site-packages/botorch/optim/optimize.py:568: RuntimeWarning: Optimization failed on the second try, after generating a new set of initial conditions.\n",
      "  return _optimize_acqf_batch(opt_inputs=opt_inputs)\n",
      "[INFO 10-25 14:56:29] ax.service.ax_client: Generated new trial 189 with parameters {'path_penalty': 9.67487, 'loss_penalty': 10.0, 'score_factor': 4.693911} using model GPEI.\n",
      "[INFO 10-25 14:57:10] ax.service.ax_client: Completed trial 189 with data: {'objective': (0.82, None)}.\n"
     ]
    },
    {
     "name": "stdout",
     "output_type": "stream",
     "text": [
      "41947.04 0.82\n"
     ]
    },
    {
     "name": "stderr",
     "output_type": "stream",
     "text": [
      "/home/kylemcmaster/.local/lib/python3.10/site-packages/linear_operator/utils/cholesky.py:40: NumericalWarning: A not p.d., added jitter of 1.0e-08 to the diagonal\n",
      "  warnings.warn(\n",
      "/home/kylemcmaster/.local/lib/python3.10/site-packages/botorch/optim/optimize.py:568: RuntimeWarning: Optimization failed in `gen_candidates_scipy` with the following warning(s):\n",
      "[NumericalWarning('A not p.d., added jitter of 1.0e-08 to the diagonal'), OptimizationWarning('Optimization failed within `scipy.optimize.minimize` with status 2 and message ABNORMAL_TERMINATION_IN_LNSRCH.')]\n",
      "Trying again with a new set of initial conditions.\n",
      "  return _optimize_acqf_batch(opt_inputs=opt_inputs)\n",
      "/home/kylemcmaster/.local/lib/python3.10/site-packages/botorch/optim/optimize.py:568: RuntimeWarning: Optimization failed on the second try, after generating a new set of initial conditions.\n",
      "  return _optimize_acqf_batch(opt_inputs=opt_inputs)\n",
      "[INFO 10-25 14:57:17] ax.service.ax_client: Generated new trial 190 with parameters {'path_penalty': 4.150587, 'loss_penalty': 0.0, 'score_factor': 1.751881} using model GPEI.\n",
      "[INFO 10-25 14:58:01] ax.service.ax_client: Completed trial 190 with data: {'objective': (0.94, None)}.\n"
     ]
    },
    {
     "name": "stdout",
     "output_type": "stream",
     "text": [
      "45501.52 0.94\n"
     ]
    },
    {
     "name": "stderr",
     "output_type": "stream",
     "text": [
      "/home/kylemcmaster/.local/lib/python3.10/site-packages/linear_operator/utils/cholesky.py:40: NumericalWarning: A not p.d., added jitter of 1.0e-08 to the diagonal\n",
      "  warnings.warn(\n",
      "/home/kylemcmaster/.local/lib/python3.10/site-packages/botorch/optim/optimize.py:568: RuntimeWarning: Optimization failed in `gen_candidates_scipy` with the following warning(s):\n",
      "[NumericalWarning('A not p.d., added jitter of 1.0e-08 to the diagonal'), OptimizationWarning('Optimization failed within `scipy.optimize.minimize` with status 2 and message ABNORMAL_TERMINATION_IN_LNSRCH.'), NumericalWarning('A not p.d., added jitter of 1.0e-08 to the diagonal'), NumericalWarning('A not p.d., added jitter of 1.0e-08 to the diagonal')]\n",
      "Trying again with a new set of initial conditions.\n",
      "  return _optimize_acqf_batch(opt_inputs=opt_inputs)\n",
      "/home/kylemcmaster/.local/lib/python3.10/site-packages/botorch/optim/optimize.py:568: RuntimeWarning: Optimization failed on the second try, after generating a new set of initial conditions.\n",
      "  return _optimize_acqf_batch(opt_inputs=opt_inputs)\n",
      "[INFO 10-25 14:58:09] ax.service.ax_client: Generated new trial 191 with parameters {'path_penalty': 8.825747, 'loss_penalty': 10.0, 'score_factor': 3.330614} using model GPEI.\n",
      "[INFO 10-25 14:58:53] ax.service.ax_client: Completed trial 191 with data: {'objective': (0.82, None)}.\n"
     ]
    },
    {
     "name": "stdout",
     "output_type": "stream",
     "text": [
      "44037.6 0.82\n"
     ]
    },
    {
     "name": "stderr",
     "output_type": "stream",
     "text": [
      "/home/kylemcmaster/.local/lib/python3.10/site-packages/linear_operator/utils/cholesky.py:40: NumericalWarning: A not p.d., added jitter of 1.0e-08 to the diagonal\n",
      "  warnings.warn(\n",
      "/home/kylemcmaster/.local/lib/python3.10/site-packages/botorch/optim/optimize.py:568: RuntimeWarning: Optimization failed in `gen_candidates_scipy` with the following warning(s):\n",
      "[NumericalWarning('A not p.d., added jitter of 1.0e-08 to the diagonal'), OptimizationWarning('Optimization failed within `scipy.optimize.minimize` with status 2 and message ABNORMAL_TERMINATION_IN_LNSRCH.'), NumericalWarning('A not p.d., added jitter of 1.0e-08 to the diagonal'), OptimizationWarning('Optimization failed within `scipy.optimize.minimize` with status 2 and message ABNORMAL_TERMINATION_IN_LNSRCH.'), NumericalWarning('A not p.d., added jitter of 1.0e-08 to the diagonal')]\n",
      "Trying again with a new set of initial conditions.\n",
      "  return _optimize_acqf_batch(opt_inputs=opt_inputs)\n",
      "/home/kylemcmaster/.local/lib/python3.10/site-packages/botorch/optim/optimize.py:568: RuntimeWarning: Optimization failed on the second try, after generating a new set of initial conditions.\n",
      "  return _optimize_acqf_batch(opt_inputs=opt_inputs)\n",
      "[INFO 10-25 14:58:59] ax.service.ax_client: Generated new trial 192 with parameters {'path_penalty': 4.907373, 'loss_penalty': 0.0, 'score_factor': 1.870113} using model GPEI.\n",
      "[INFO 10-25 14:59:39] ax.service.ax_client: Completed trial 192 with data: {'objective': (0.84, None)}.\n"
     ]
    },
    {
     "name": "stdout",
     "output_type": "stream",
     "text": [
      "38460.64 0.84\n"
     ]
    },
    {
     "name": "stderr",
     "output_type": "stream",
     "text": [
      "/home/kylemcmaster/.local/lib/python3.10/site-packages/linear_operator/utils/cholesky.py:40: NumericalWarning: A not p.d., added jitter of 1.0e-08 to the diagonal\n",
      "  warnings.warn(\n",
      "/home/kylemcmaster/.local/lib/python3.10/site-packages/botorch/optim/optimize.py:568: RuntimeWarning: Optimization failed in `gen_candidates_scipy` with the following warning(s):\n",
      "[NumericalWarning('A not p.d., added jitter of 1.0e-08 to the diagonal'), NumericalWarning('A not p.d., added jitter of 1.0e-08 to the diagonal'), OptimizationWarning('Optimization failed within `scipy.optimize.minimize` with status 2 and message ABNORMAL_TERMINATION_IN_LNSRCH.')]\n",
      "Trying again with a new set of initial conditions.\n",
      "  return _optimize_acqf_batch(opt_inputs=opt_inputs)\n",
      "/home/kylemcmaster/.local/lib/python3.10/site-packages/botorch/optim/optimize.py:568: RuntimeWarning: Optimization failed on the second try, after generating a new set of initial conditions.\n",
      "  return _optimize_acqf_batch(opt_inputs=opt_inputs)\n",
      "[INFO 10-25 14:59:46] ax.service.ax_client: Generated new trial 193 with parameters {'path_penalty': 7.661556, 'loss_penalty': 10.0, 'score_factor': 3.265662} using model GPEI.\n",
      "[INFO 10-25 15:00:30] ax.service.ax_client: Completed trial 193 with data: {'objective': (0.8, None)}.\n"
     ]
    },
    {
     "name": "stdout",
     "output_type": "stream",
     "text": [
      "44612.96 0.8\n"
     ]
    },
    {
     "name": "stderr",
     "output_type": "stream",
     "text": [
      "/home/kylemcmaster/.local/lib/python3.10/site-packages/linear_operator/utils/cholesky.py:40: NumericalWarning: A not p.d., added jitter of 1.0e-08 to the diagonal\n",
      "  warnings.warn(\n",
      "/home/kylemcmaster/.local/lib/python3.10/site-packages/botorch/optim/optimize.py:568: RuntimeWarning: Optimization failed in `gen_candidates_scipy` with the following warning(s):\n",
      "[NumericalWarning('A not p.d., added jitter of 1.0e-08 to the diagonal'), NumericalWarning('A not p.d., added jitter of 1.0e-08 to the diagonal'), NumericalWarning('A not p.d., added jitter of 1.0e-08 to the diagonal'), OptimizationWarning('Optimization failed within `scipy.optimize.minimize` with status 2 and message ABNORMAL_TERMINATION_IN_LNSRCH.')]\n",
      "Trying again with a new set of initial conditions.\n",
      "  return _optimize_acqf_batch(opt_inputs=opt_inputs)\n",
      "/home/kylemcmaster/.local/lib/python3.10/site-packages/botorch/optim/optimize.py:568: RuntimeWarning: Optimization failed on the second try, after generating a new set of initial conditions.\n",
      "  return _optimize_acqf_batch(opt_inputs=opt_inputs)\n",
      "[INFO 10-25 15:00:37] ax.service.ax_client: Generated new trial 194 with parameters {'path_penalty': 6.994927, 'loss_penalty': 0.0, 'score_factor': 2.430599} using model GPEI.\n",
      "[INFO 10-25 15:01:19] ax.service.ax_client: Completed trial 194 with data: {'objective': (0.82, None)}.\n"
     ]
    },
    {
     "name": "stdout",
     "output_type": "stream",
     "text": [
      "42518.56 0.82\n"
     ]
    },
    {
     "name": "stderr",
     "output_type": "stream",
     "text": [
      "/home/kylemcmaster/.local/lib/python3.10/site-packages/linear_operator/utils/cholesky.py:40: NumericalWarning: A not p.d., added jitter of 1.0e-08 to the diagonal\n",
      "  warnings.warn(\n",
      "/home/kylemcmaster/.local/lib/python3.10/site-packages/botorch/optim/optimize.py:568: RuntimeWarning: Optimization failed in `gen_candidates_scipy` with the following warning(s):\n",
      "[OptimizationWarning('Optimization failed within `scipy.optimize.minimize` with status 2 and message ABNORMAL_TERMINATION_IN_LNSRCH.'), OptimizationWarning('Optimization failed within `scipy.optimize.minimize` with status 2 and message ABNORMAL_TERMINATION_IN_LNSRCH.'), OptimizationWarning('Optimization failed within `scipy.optimize.minimize` with status 2 and message ABNORMAL_TERMINATION_IN_LNSRCH.')]\n",
      "Trying again with a new set of initial conditions.\n",
      "  return _optimize_acqf_batch(opt_inputs=opt_inputs)\n",
      "/home/kylemcmaster/.local/lib/python3.10/site-packages/botorch/optim/optimize.py:568: RuntimeWarning: Optimization failed on the second try, after generating a new set of initial conditions.\n",
      "  return _optimize_acqf_batch(opt_inputs=opt_inputs)\n",
      "[INFO 10-25 15:01:27] ax.service.ax_client: Generated new trial 195 with parameters {'path_penalty': 6.980932, 'loss_penalty': 0.0, 'score_factor': 4.048316} using model GPEI.\n",
      "[INFO 10-25 15:02:10] ax.service.ax_client: Completed trial 195 with data: {'objective': (0.9, None)}.\n"
     ]
    },
    {
     "name": "stdout",
     "output_type": "stream",
     "text": [
      "42325.76 0.9\n"
     ]
    },
    {
     "name": "stderr",
     "output_type": "stream",
     "text": [
      "/home/kylemcmaster/.local/lib/python3.10/site-packages/linear_operator/utils/cholesky.py:40: NumericalWarning: A not p.d., added jitter of 1.0e-08 to the diagonal\n",
      "  warnings.warn(\n",
      "/home/kylemcmaster/.local/lib/python3.10/site-packages/botorch/optim/optimize.py:568: RuntimeWarning: Optimization failed in `gen_candidates_scipy` with the following warning(s):\n",
      "[OptimizationWarning('Optimization failed within `scipy.optimize.minimize` with status 2 and message ABNORMAL_TERMINATION_IN_LNSRCH.'), OptimizationWarning('Optimization failed within `scipy.optimize.minimize` with status 2 and message ABNORMAL_TERMINATION_IN_LNSRCH.'), NumericalWarning('A not p.d., added jitter of 1.0e-08 to the diagonal'), OptimizationWarning('Optimization failed within `scipy.optimize.minimize` with status 2 and message ABNORMAL_TERMINATION_IN_LNSRCH.'), OptimizationWarning('Optimization failed within `scipy.optimize.minimize` with status 2 and message ABNORMAL_TERMINATION_IN_LNSRCH.')]\n",
      "Trying again with a new set of initial conditions.\n",
      "  return _optimize_acqf_batch(opt_inputs=opt_inputs)\n",
      "/home/kylemcmaster/.local/lib/python3.10/site-packages/botorch/optim/optimize.py:568: RuntimeWarning: Optimization failed on the second try, after generating a new set of initial conditions.\n",
      "  return _optimize_acqf_batch(opt_inputs=opt_inputs)\n",
      "[INFO 10-25 15:02:17] ax.service.ax_client: Generated new trial 196 with parameters {'path_penalty': 5.422151, 'loss_penalty': 10.0, 'score_factor': 1.673629} using model GPEI.\n",
      "[INFO 10-25 15:02:59] ax.service.ax_client: Completed trial 196 with data: {'objective': (0.82, None)}.\n"
     ]
    },
    {
     "name": "stdout",
     "output_type": "stream",
     "text": [
      "43013.2 0.82\n"
     ]
    },
    {
     "name": "stderr",
     "output_type": "stream",
     "text": [
      "/home/kylemcmaster/.local/lib/python3.10/site-packages/linear_operator/utils/cholesky.py:40: NumericalWarning: A not p.d., added jitter of 1.0e-08 to the diagonal\n",
      "  warnings.warn(\n",
      "/home/kylemcmaster/.local/lib/python3.10/site-packages/botorch/optim/optimize.py:568: RuntimeWarning: Optimization failed in `gen_candidates_scipy` with the following warning(s):\n",
      "[NumericalWarning('A not p.d., added jitter of 1.0e-08 to the diagonal'), OptimizationWarning('Optimization failed within `scipy.optimize.minimize` with status 2 and message ABNORMAL_TERMINATION_IN_LNSRCH.'), OptimizationWarning('Optimization failed within `scipy.optimize.minimize` with status 2 and message ABNORMAL_TERMINATION_IN_LNSRCH.'), NumericalWarning('A not p.d., added jitter of 1.0e-08 to the diagonal'), OptimizationWarning('Optimization failed within `scipy.optimize.minimize` with status 2 and message ABNORMAL_TERMINATION_IN_LNSRCH.')]\n",
      "Trying again with a new set of initial conditions.\n",
      "  return _optimize_acqf_batch(opt_inputs=opt_inputs)\n",
      "/home/kylemcmaster/.local/lib/python3.10/site-packages/botorch/optim/optimize.py:568: RuntimeWarning: Optimization failed on the second try, after generating a new set of initial conditions.\n",
      "  return _optimize_acqf_batch(opt_inputs=opt_inputs)\n",
      "/home/kylemcmaster/.local/lib/python3.10/site-packages/linear_operator/utils/cholesky.py:40: NumericalWarning: A not p.d., added jitter of 1.0e-08 to the diagonal\n",
      "  warnings.warn(\n",
      "[INFO 10-25 15:03:07] ax.service.ax_client: Generated new trial 197 with parameters {'path_penalty': 8.080778, 'loss_penalty': 10.0, 'score_factor': 3.854559} using model GPEI.\n",
      "[INFO 10-25 15:03:50] ax.service.ax_client: Completed trial 197 with data: {'objective': (0.9, None)}.\n"
     ]
    },
    {
     "name": "stdout",
     "output_type": "stream",
     "text": [
      "44407.52 0.9\n"
     ]
    },
    {
     "name": "stderr",
     "output_type": "stream",
     "text": [
      "/home/kylemcmaster/.local/lib/python3.10/site-packages/linear_operator/utils/cholesky.py:40: NumericalWarning: A not p.d., added jitter of 1.0e-08 to the diagonal\n",
      "  warnings.warn(\n",
      "/home/kylemcmaster/.local/lib/python3.10/site-packages/botorch/optim/optimize.py:568: RuntimeWarning: Optimization failed in `gen_candidates_scipy` with the following warning(s):\n",
      "[NumericalWarning('A not p.d., added jitter of 1.0e-08 to the diagonal'), OptimizationWarning('Optimization failed within `scipy.optimize.minimize` with status 2 and message ABNORMAL_TERMINATION_IN_LNSRCH.'), NumericalWarning('A not p.d., added jitter of 1.0e-08 to the diagonal'), OptimizationWarning('Optimization failed within `scipy.optimize.minimize` with status 2 and message ABNORMAL_TERMINATION_IN_LNSRCH.'), NumericalWarning('A not p.d., added jitter of 1.0e-08 to the diagonal'), NumericalWarning('A not p.d., added jitter of 1.0e-08 to the diagonal')]\n",
      "Trying again with a new set of initial conditions.\n",
      "  return _optimize_acqf_batch(opt_inputs=opt_inputs)\n",
      "/home/kylemcmaster/.local/lib/python3.10/site-packages/botorch/optim/optimize.py:568: RuntimeWarning: Optimization failed on the second try, after generating a new set of initial conditions.\n",
      "  return _optimize_acqf_batch(opt_inputs=opt_inputs)\n",
      "[INFO 10-25 15:03:58] ax.service.ax_client: Generated new trial 198 with parameters {'path_penalty': 8.235771, 'loss_penalty': 0.0, 'score_factor': 3.368975} using model GPEI.\n",
      "[INFO 10-25 15:04:44] ax.service.ax_client: Completed trial 198 with data: {'objective': (0.92, None)}.\n"
     ]
    },
    {
     "name": "stdout",
     "output_type": "stream",
     "text": [
      "44893.84 0.92\n"
     ]
    },
    {
     "name": "stderr",
     "output_type": "stream",
     "text": [
      "/home/kylemcmaster/.local/lib/python3.10/site-packages/linear_operator/utils/cholesky.py:40: NumericalWarning: A not p.d., added jitter of 1.0e-08 to the diagonal\n",
      "  warnings.warn(\n",
      "/home/kylemcmaster/.local/lib/python3.10/site-packages/botorch/optim/optimize.py:568: RuntimeWarning: Optimization failed in `gen_candidates_scipy` with the following warning(s):\n",
      "[OptimizationWarning('Optimization failed within `scipy.optimize.minimize` with status 2 and message ABNORMAL_TERMINATION_IN_LNSRCH.')]\n",
      "Trying again with a new set of initial conditions.\n",
      "  return _optimize_acqf_batch(opt_inputs=opt_inputs)\n",
      "/home/kylemcmaster/.local/lib/python3.10/site-packages/botorch/optim/optimize.py:568: RuntimeWarning: Optimization failed on the second try, after generating a new set of initial conditions.\n",
      "  return _optimize_acqf_batch(opt_inputs=opt_inputs)\n",
      "[INFO 10-25 15:04:52] ax.service.ax_client: Generated new trial 199 with parameters {'path_penalty': 8.788826, 'loss_penalty': 0.0, 'score_factor': 2.667405} using model GPEI.\n",
      "[INFO 10-25 15:05:39] ax.service.ax_client: Completed trial 199 with data: {'objective': (0.88, None)}.\n"
     ]
    },
    {
     "name": "stdout",
     "output_type": "stream",
     "text": [
      "49692.4 0.88\n",
      "The best parameters are: {'path_penalty': 8.235771190206512, 'loss_penalty': 0.0, 'score_factor': 3.368975309680944}\n",
      "with score ({'objective': 0.8783361040228629}, {'objective': {'objective': 6.678842355076609e-05}})\n"
     ]
    },
    {
     "name": "stderr",
     "output_type": "stream",
     "text": [
      "/home/kylemcmaster/.local/lib/python3.10/site-packages/ax/utils/stats/model_fit_stats.py:199: RuntimeWarning: divide by zero encountered in divide\n",
      "  return float(np.mean(1.96 * 2 * se_pred / np.abs(y_obs)))\n",
      "/home/kylemcmaster/.local/lib/python3.10/site-packages/ax/utils/stats/model_fit_stats.py:229: RuntimeWarning: divide by zero encountered in scalar divide\n",
      "  return float((np.max(y_obs) - min_y_obs) / min_y_obs)\n"
     ]
    }
   ],
   "source": [
    "for i in range(30):\n",
    "    parameters, trial_index = ax_client.get_next_trial()\n",
    "    ax_client.complete_trial(trial_index=trial_index, raw_data=perform_trial(parameters))\n",
    "    \n",
    "best_parameters, metrics = ax_client.get_best_parameters()\n",
    "print(f'The best parameters are: {best_parameters}')\n",
    "print(f'with score {metrics}')"
   ]
  },
  {
   "cell_type": "code",
   "execution_count": 14,
   "metadata": {},
   "outputs": [
    {
     "name": "stdout",
     "output_type": "stream",
     "text": [
      "The best parameters are: {'path_penalty': 8.505974119306348, 'loss_penalty': 0.0, 'score_factor': 3.4897451874552705}\n",
      "with score ({'objective': 0.8776559915826968}, {'objective': {'objective': 8.207984467722268e-05}})\n",
      "    arm_name metric_name  mean  sem  trial_index\n",
      "0        0_0   objective  0.84  NaN            0\n",
      "1        1_0   objective  0.84  NaN            1\n",
      "2        2_0   objective  0.08  NaN            2\n",
      "3        3_0   objective  0.84  NaN            3\n",
      "4        4_0   objective  0.84  NaN            4\n",
      "..       ...         ...   ...  ...          ...\n",
      "165    165_0   objective  0.86  NaN          165\n",
      "166    166_0   objective  0.94  NaN          166\n",
      "167    167_0   objective  0.90  NaN          167\n",
      "168    168_0   objective  0.84  NaN          168\n",
      "169    169_0   objective  0.86  NaN          169\n",
      "\n",
      "[170 rows x 5 columns]\n",
      "    arm_name metric_name  mean  sem  trial_index\n",
      "166    166_0   objective  0.94  NaN          166\n",
      "99      99_0   objective  0.94  NaN           99\n",
      "72      72_0   objective  0.94  NaN           72\n",
      "162    162_0   objective  0.94  NaN          162\n",
      "93      93_0   objective  0.94  NaN           93\n",
      "74      74_0   objective  0.94  NaN           74\n",
      "151    151_0   objective  0.92  NaN          151\n",
      "153    153_0   objective  0.92  NaN          153\n",
      "152    152_0   objective  0.92  NaN          152\n",
      "132    132_0   objective  0.92  NaN          132\n",
      "Trial(experiment_name='optimize Params', index=132, status=TrialStatus.COMPLETED, arm=Arm(name='132_0', parameters={'path_penalty': 8.126499527257977, 'loss_penalty': 0.0, 'score_factor': 3.5562750202257085}))\n"
     ]
    },
    {
     "name": "stderr",
     "output_type": "stream",
     "text": [
      "/home/kylemcmaster/.local/lib/python3.10/site-packages/ax/utils/stats/model_fit_stats.py:199: RuntimeWarning: divide by zero encountered in divide\n",
      "  return float(np.mean(1.96 * 2 * se_pred / np.abs(y_obs)))\n",
      "/home/kylemcmaster/.local/lib/python3.10/site-packages/ax/utils/stats/model_fit_stats.py:229: RuntimeWarning: divide by zero encountered in scalar divide\n",
      "  return float((np.max(y_obs) - min_y_obs) / min_y_obs)\n"
     ]
    }
   ],
   "source": [
    "best_parameters, metrics = ax_client.get_best_parameters()\n",
    "print(f'The best parameters are: {best_parameters}')\n",
    "print(f'with score {metrics}')\n",
    "\n",
    "data =  ax_client.experiment.fetch_data()\n",
    "print(data.df)\n",
    "print(data.df.sort_values(by='mean', ascending=False).head(10))\n",
    "\n",
    "trial_params = ax_client.experiment.trials[132]\n",
    "print(trial_params)"
   ]
  }
 ],
 "metadata": {
  "kernelspec": {
   "display_name": "Python 3",
   "language": "python",
   "name": "python3"
  },
  "language_info": {
   "codemirror_mode": {
    "name": "ipython",
    "version": 3
   },
   "file_extension": ".py",
   "mimetype": "text/x-python",
   "name": "python",
   "nbconvert_exporter": "python",
   "pygments_lexer": "ipython3",
   "version": "3.10.12"
  }
 },
 "nbformat": 4,
 "nbformat_minor": 2
}
